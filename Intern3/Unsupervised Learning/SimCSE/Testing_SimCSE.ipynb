{
 "cells": [
  {
   "cell_type": "code",
   "execution_count": 1,
   "metadata": {},
   "outputs": [
    {
     "name": "stderr",
     "output_type": "stream",
     "text": [
      "2022-08-22 16:25:06.448116: I tensorflow/core/util/util.cc:169] oneDNN custom operations are on. You may see slightly different numerical results due to floating-point round-off errors from different computation orders. To turn them off, set the environment variable `TF_ENABLE_ONEDNN_OPTS=0`.\n"
     ]
    }
   ],
   "source": [
    "import pickle \n",
    "import pandas as pd\n",
    "import spacy\n",
    "from tqdm.auto import tqdm\n",
    "from sklearn.metrics.pairwise import cosine_similarity\n",
    "from tqdm.notebook import tqdm\n",
    "tqdm.pandas()\n",
    "import re\n",
    "import transformers\n",
    "from sentence_transformers import SentenceTransformer, util\n",
    "import nltk\n",
    "from nltk import tokenize\n",
    "import pickle\n",
    "import urllib.request as requests\n",
    "import json\n",
    "import statistics\n",
    "import torch\n",
    "from collections import defaultdict\n",
    "import copy\n",
    "import math\n",
    "import os\n",
    "import random\n",
    "import numpy as np\n",
    "import nltk\n",
    "import pandas as pd\n",
    "from sentence_transformers import InputExample, SentenceTransformer, LoggingHandler\n",
    "from sentence_transformers import models, util, datasets, evaluation, losses\n",
    "from sentence_transformers.evaluation import EmbeddingSimilarityEvaluator\n",
    "import torch\n",
    "from torch.utils.data import DataLoader"
   ]
  },
  {
   "cell_type": "code",
   "execution_count": 2,
   "metadata": {},
   "outputs": [],
   "source": [
    "pathtosave=os.getcwd()\n",
    "\n",
    "pathtosave=pathtosave + \"/models/SimCSE/\""
   ]
  },
  {
   "cell_type": "code",
   "execution_count": 3,
   "metadata": {},
   "outputs": [],
   "source": [
    "model = SentenceTransformer(pathtosave)\n",
    "\n",
    "df=pd.read_csv('gmo_to_uniqueId.csv')\n",
    "materialID=df['lastRunJob'].to_list()\n",
    "\n",
    "with open('New_PreProcessed_segmented.pkl', 'rb') as f:\n",
    "    newmetalist=pickle.load(f)\n",
    "\n",
    "sampled_datadf=pd.read_csv(\"Sampled_Adword_Labeled.csv\")\n",
    "\n",
    "#For Normal process with target labels only\n",
    "\n",
    "df1=pd.read_csv('ChildAdwordTargetDatabase.csv')    \n",
    "target_dict=dict(zip(df1['Name'], df1.index))"
   ]
  },
  {
   "cell_type": "code",
   "execution_count": 4,
   "metadata": {},
   "outputs": [],
   "source": [
    "def clean(text):\n",
    "    text=text.lower()\n",
    "    text=text.replace(\"(\", \"\")\n",
    "    text=text.replace(\")\", \"\")\n",
    "    text=text.replace(\";\", \"\")\n",
    "    text=text.replace(\",\", \"\")\n",
    "    text=text.replace(\"+\", \"\")\n",
    "    text=text.replace(\".\", \"\")\n",
    "    text=text.replace(\"&\", \"\")\n",
    "    return text"
   ]
  },
  {
   "cell_type": "code",
   "execution_count": null,
   "metadata": {},
   "outputs": [],
   "source": [
    "# def process_text(text):\n",
    "#     #doc = self.nlp(unicode(text.lower()))\n",
    "#     text=text.replace('\\\\n', ' ')\n",
    "#     doc = nlp(text.lower())\n",
    "#     result = []\n",
    "#     for token in doc:\n",
    "#         if token.text in nlp.Defaults.stop_words:\n",
    "#             continue\n",
    "#         if token.is_punct:\n",
    "#             continue\n",
    "#         if token.lemma_ == '-PRON-':\n",
    "#             continue\n",
    "#         result.append(token.lemma_)\n",
    "#     return nlp(\" \".join(result))"
   ]
  },
  {
   "cell_type": "code",
   "execution_count": 5,
   "metadata": {},
   "outputs": [
    {
     "data": {
      "text/html": [
       "<div>\n",
       "<style scoped>\n",
       "    .dataframe tbody tr th:only-of-type {\n",
       "        vertical-align: middle;\n",
       "    }\n",
       "\n",
       "    .dataframe tbody tr th {\n",
       "        vertical-align: top;\n",
       "    }\n",
       "\n",
       "    .dataframe thead th {\n",
       "        text-align: right;\n",
       "    }\n",
       "</style>\n",
       "<table border=\"1\" class=\"dataframe\">\n",
       "  <thead>\n",
       "    <tr style=\"text-align: right;\">\n",
       "      <th></th>\n",
       "      <th>Unnamed: 0</th>\n",
       "      <th>Name</th>\n",
       "      <th>info</th>\n",
       "    </tr>\n",
       "  </thead>\n",
       "  <tbody>\n",
       "    <tr>\n",
       "      <th>0</th>\n",
       "      <td>0</td>\n",
       "      <td>Automotive</td>\n",
       "      <td>Automotive Crossover Hatchback Microcar Off-Ro...</td>\n",
       "    </tr>\n",
       "    <tr>\n",
       "      <th>1</th>\n",
       "      <td>1</td>\n",
       "      <td>Books and Literature</td>\n",
       "      <td>Books and Literature Art and Photography Books...</td>\n",
       "    </tr>\n",
       "    <tr>\n",
       "      <th>2</th>\n",
       "      <td>2</td>\n",
       "      <td>Business and Finance</td>\n",
       "      <td>Business and Finance Business Business Account...</td>\n",
       "    </tr>\n",
       "    <tr>\n",
       "      <th>3</th>\n",
       "      <td>3</td>\n",
       "      <td>Education</td>\n",
       "      <td>Education College Education Primary Education ...</td>\n",
       "    </tr>\n",
       "    <tr>\n",
       "      <th>4</th>\n",
       "      <td>4</td>\n",
       "      <td>Events and Attractions</td>\n",
       "      <td>Events and Attractions Fashion Events Malls &amp; ...</td>\n",
       "    </tr>\n",
       "  </tbody>\n",
       "</table>\n",
       "</div>"
      ],
      "text/plain": [
       "   Unnamed: 0                    Name  \\\n",
       "0           0              Automotive   \n",
       "1           1    Books and Literature   \n",
       "2           2    Business and Finance   \n",
       "3           3               Education   \n",
       "4           4  Events and Attractions   \n",
       "\n",
       "                                                info  \n",
       "0  Automotive Crossover Hatchback Microcar Off-Ro...  \n",
       "1  Books and Literature Art and Photography Books...  \n",
       "2  Business and Finance Business Business Account...  \n",
       "3  Education College Education Primary Education ...  \n",
       "4  Events and Attractions Fashion Events Malls & ...  "
      ]
     },
     "execution_count": 5,
     "metadata": {},
     "output_type": "execute_result"
    }
   ],
   "source": [
    "df1.head()"
   ]
  },
  {
   "cell_type": "code",
   "execution_count": 6,
   "metadata": {},
   "outputs": [],
   "source": [
    "\n",
    "# df1['Combined']=df1['Name'] #+' '+df1['info']\n",
    "# df1['Combined1']=df1['Name'] +' '+df1['info']\n",
    "# df1['Combined1'].apply(clean)\n",
    "# df1['Combined1'].apply(process_text)\n",
    "# df1['Combined'].apply(clean)\n",
    "\n",
    "df1['info']=df1['info'].apply(clean)\n",
    "#df1['info']=df1['info'].apply(process_text)\n",
    "targetlist=df1['Name'].to_list()\n",
    "# targetlistcalc=df1['Combined1'].to_list()\n",
    "targetlistchild=df1['info']"
   ]
  },
  {
   "cell_type": "code",
   "execution_count": 7,
   "metadata": {},
   "outputs": [
    {
     "name": "stdout",
     "output_type": "stream",
     "text": [
      "0     automotive crossover hatchback microcar off-ro...\n",
      "1     books and literature art and photography books...\n",
      "2     business and finance business business account...\n",
      "3     education college education primary education ...\n",
      "4     events and attractions fashion events malls  s...\n",
      "5     family and relationships dating parenting sing...\n",
      "6     fine art costume dance design digital arts fin...\n",
      "7     food  drink alcoholic beverages world cuisines...\n",
      "8     healthy living fitness and exercise wellness c...\n",
      "9     hobbies  interests musical instruments games a...\n",
      "10    home  garden gardening remodeling  constructio...\n",
      "11    medical health diseases and conditions allergi...\n",
      "12    movies action and adventure movies romance mov...\n",
      "13    music and audio adult contemporary music soft ...\n",
      "14    pets birds cats dogs large animals reptiles fi...\n",
      "15    pop culture celebrity deaths celebrity familie...\n",
      "16    real estate apartments retail property hotel p...\n",
      "17    religion  spirituality agnosticism spiritualit...\n",
      "18    science space and astronomy biological science...\n",
      "19    shopping flower shopping grocery shopping holi...\n",
      "20    sports american football boxing cheerleading c...\n",
      "21    style  fashion beauty natural and organic beau...\n",
      "22    technology  computing consumer electronics art...\n",
      "23    television animation tv soap opera tv special ...\n",
      "24    travel travel accessories travel locations afr...\n",
      "25    video gaming console games esports mobile game...\n",
      "26    careers apprenticeships career advice career p...\n",
      "27    news and politics crime disasters internationa...\n",
      "28    personal finance consumer banking financial as...\n",
      "Name: info, dtype: object\n"
     ]
    }
   ],
   "source": [
    "print(targetlistchild)"
   ]
  },
  {
   "cell_type": "code",
   "execution_count": 8,
   "metadata": {},
   "outputs": [
    {
     "data": {
      "text/html": [
       "<div>\n",
       "<style scoped>\n",
       "    .dataframe tbody tr th:only-of-type {\n",
       "        vertical-align: middle;\n",
       "    }\n",
       "\n",
       "    .dataframe tbody tr th {\n",
       "        vertical-align: top;\n",
       "    }\n",
       "\n",
       "    .dataframe thead th {\n",
       "        text-align: right;\n",
       "    }\n",
       "</style>\n",
       "<table border=\"1\" class=\"dataframe\">\n",
       "  <thead>\n",
       "    <tr style=\"text-align: right;\">\n",
       "      <th></th>\n",
       "      <th>Unnamed: 0.1</th>\n",
       "      <th>Unnamed: 0</th>\n",
       "      <th>materialId</th>\n",
       "      <th>lastRunJob</th>\n",
       "      <th>materialtitle</th>\n",
       "      <th>seriestitle</th>\n",
       "      <th>AssetCC</th>\n",
       "      <th>adword</th>\n",
       "    </tr>\n",
       "  </thead>\n",
       "  <tbody>\n",
       "    <tr>\n",
       "      <th>0</th>\n",
       "      <td>3</td>\n",
       "      <td>3</td>\n",
       "      <td>GMO_00000000001313_01</td>\n",
       "      <td>FILE_MAF_20220211T205601Z_GMO_00000000001313_01</td>\n",
       "      <td>FULL HEARTS (EDITED)</td>\n",
       "      <td>friday night lights</td>\n",
       "      <td>Is something happening\\nbetween you and Riggin...</td>\n",
       "      <td>Sports</td>\n",
       "    </tr>\n",
       "    <tr>\n",
       "      <th>1</th>\n",
       "      <td>6</td>\n",
       "      <td>6</td>\n",
       "      <td>GMO_00000000001534_01</td>\n",
       "      <td>FILE_MAF_20220211T205607Z_GMO_00000000001534_01</td>\n",
       "      <td>MAY THE BEST MAN WIN (EDITED)</td>\n",
       "      <td>friday night lights</td>\n",
       "      <td>BE HONEST WITH YOURSELF\\nFOR TWO SECONDS AND T...</td>\n",
       "      <td>Sports</td>\n",
       "    </tr>\n",
       "    <tr>\n",
       "      <th>2</th>\n",
       "      <td>7</td>\n",
       "      <td>7</td>\n",
       "      <td>GMO_00000000001577_01</td>\n",
       "      <td>FILE_MAF_20210727T231031Z_GMO_00000000001577_01</td>\n",
       "      <td>GAVIN VOLURE</td>\n",
       "      <td>30 rock</td>\n",
       "      <td>WE'RE AT A PARTY, LEMON,\\nTRY TO LOOSEN UP A L...</td>\n",
       "      <td>Television</td>\n",
       "    </tr>\n",
       "    <tr>\n",
       "      <th>3</th>\n",
       "      <td>8</td>\n",
       "      <td>8</td>\n",
       "      <td>GMO_00000000001585_01</td>\n",
       "      <td>FILE_MAF_20210727T231030Z_GMO_00000000001585_01</td>\n",
       "      <td>DO-OVER</td>\n",
       "      <td>30 rock</td>\n",
       "      <td>[bossa nova music] ♪ LLO, PUSSYCAT! (male voic...</td>\n",
       "      <td>Television</td>\n",
       "    </tr>\n",
       "    <tr>\n",
       "      <th>4</th>\n",
       "      <td>9</td>\n",
       "      <td>9</td>\n",
       "      <td>GMO_00000000001598_01</td>\n",
       "      <td>FILE_MAF_20210727T231031Z_GMO_00000000001598_01</td>\n",
       "      <td>CUTBACKS</td>\n",
       "      <td>30 rock</td>\n",
       "      <td>[cheers] &gt;&gt; WHOO!\\n&gt;&gt; WHOO! &gt;&gt; OKAY, GUYS, I J...</td>\n",
       "      <td>Television</td>\n",
       "    </tr>\n",
       "  </tbody>\n",
       "</table>\n",
       "</div>"
      ],
      "text/plain": [
       "   Unnamed: 0.1  Unnamed: 0             materialId  \\\n",
       "0             3           3  GMO_00000000001313_01   \n",
       "1             6           6  GMO_00000000001534_01   \n",
       "2             7           7  GMO_00000000001577_01   \n",
       "3             8           8  GMO_00000000001585_01   \n",
       "4             9           9  GMO_00000000001598_01   \n",
       "\n",
       "                                        lastRunJob  \\\n",
       "0  FILE_MAF_20220211T205601Z_GMO_00000000001313_01   \n",
       "1  FILE_MAF_20220211T205607Z_GMO_00000000001534_01   \n",
       "2  FILE_MAF_20210727T231031Z_GMO_00000000001577_01   \n",
       "3  FILE_MAF_20210727T231030Z_GMO_00000000001585_01   \n",
       "4  FILE_MAF_20210727T231031Z_GMO_00000000001598_01   \n",
       "\n",
       "                   materialtitle          seriestitle  \\\n",
       "0           FULL HEARTS (EDITED)  friday night lights   \n",
       "1  MAY THE BEST MAN WIN (EDITED)  friday night lights   \n",
       "2                   GAVIN VOLURE              30 rock   \n",
       "3                        DO-OVER              30 rock   \n",
       "4                       CUTBACKS              30 rock   \n",
       "\n",
       "                                             AssetCC      adword  \n",
       "0  Is something happening\\nbetween you and Riggin...      Sports  \n",
       "1  BE HONEST WITH YOURSELF\\nFOR TWO SECONDS AND T...      Sports  \n",
       "2  WE'RE AT A PARTY, LEMON,\\nTRY TO LOOSEN UP A L...  Television  \n",
       "3  [bossa nova music] ♪ LLO, PUSSYCAT! (male voic...  Television  \n",
       "4  [cheers] >> WHOO!\\n>> WHOO! >> OKAY, GUYS, I J...  Television  "
      ]
     },
     "execution_count": 8,
     "metadata": {},
     "output_type": "execute_result"
    }
   ],
   "source": [
    "truthdatadf=pd.read_csv('AdwordLabeledDatabase.csv')\n",
    "truthdatadf.head()"
   ]
  },
  {
   "cell_type": "code",
   "execution_count": 9,
   "metadata": {},
   "outputs": [],
   "source": [
    "def getadword(episode, truthdatadf):\n",
    "    for i in range(len(truthdatadf.lastRunJob)):\n",
    "        if episode == truthdatadf.lastRunJob[i]:\n",
    "            return truthdatadf.adword[i]"
   ]
  },
  {
   "cell_type": "code",
   "execution_count": null,
   "metadata": {},
   "outputs": [],
   "source": [
    "# temp=targetlistcalc[27]\n",
    "# temp=temp.replace('*News business use case needs to be scoped by NBCU - priority TBD', '')\n",
    "# targetlistcalc[27]=temp"
   ]
  },
  {
   "cell_type": "code",
   "execution_count": 10,
   "metadata": {},
   "outputs": [
    {
     "data": {
      "text/html": [
       "<div>\n",
       "<style scoped>\n",
       "    .dataframe tbody tr th:only-of-type {\n",
       "        vertical-align: middle;\n",
       "    }\n",
       "\n",
       "    .dataframe tbody tr th {\n",
       "        vertical-align: top;\n",
       "    }\n",
       "\n",
       "    .dataframe thead th {\n",
       "        text-align: right;\n",
       "    }\n",
       "</style>\n",
       "<table border=\"1\" class=\"dataframe\">\n",
       "  <thead>\n",
       "    <tr style=\"text-align: right;\">\n",
       "      <th></th>\n",
       "      <th>Unnamed: 0.1</th>\n",
       "      <th>Unnamed: 0</th>\n",
       "      <th>materialId</th>\n",
       "      <th>lastRunJob</th>\n",
       "      <th>materialtitle</th>\n",
       "      <th>seriestitle</th>\n",
       "      <th>AssetCC</th>\n",
       "      <th>adword</th>\n",
       "    </tr>\n",
       "  </thead>\n",
       "  <tbody>\n",
       "    <tr>\n",
       "      <th>0</th>\n",
       "      <td>665</td>\n",
       "      <td>665</td>\n",
       "      <td>GMO_00000000040741_01</td>\n",
       "      <td>FILE_MAF_20210731T020535Z_GMO_00000000040741_01</td>\n",
       "      <td>I KNEW YOU WHEN</td>\n",
       "      <td>friday night lights</td>\n",
       "      <td>LKS, IS IS SLAMMIN' SAMMY MEADE,\\nFO [radio]\\n...</td>\n",
       "      <td>Sports</td>\n",
       "    </tr>\n",
       "    <tr>\n",
       "      <th>1</th>\n",
       "      <td>8244</td>\n",
       "      <td>8244</td>\n",
       "      <td>GMO_00000000370441_01</td>\n",
       "      <td>FILE_MAF_20220215T090159Z_GMO_00000000370441_01</td>\n",
       "      <td>Make Up or Break Up?</td>\n",
       "      <td>total bellas</td>\n",
       "      <td>&gt;&gt; NIKKI: Yeah! Welcome to Paris! Tonight on t...</td>\n",
       "      <td>Sports</td>\n",
       "    </tr>\n",
       "    <tr>\n",
       "      <th>2</th>\n",
       "      <td>678</td>\n",
       "      <td>678</td>\n",
       "      <td>GMO_00000000039091_01</td>\n",
       "      <td>FILE_MAF_20220213T121447Z_GMO_00000000039091_01</td>\n",
       "      <td>HOMECOMING (EDITED)</td>\n",
       "      <td>friday night lights</td>\n",
       "      <td>What's after\\nhigh school, Brian? Me and Mack ...</td>\n",
       "      <td>Sports</td>\n",
       "    </tr>\n",
       "    <tr>\n",
       "      <th>3</th>\n",
       "      <td>777</td>\n",
       "      <td>777</td>\n",
       "      <td>GMO_00000000039094_01</td>\n",
       "      <td>FILE_MAF_20220213T173625Z_GMO_00000000039094_01</td>\n",
       "      <td>NEVERMIND (EDITED)</td>\n",
       "      <td>friday night lights</td>\n",
       "      <td>Here's to God in ten years from now, Street, g...</td>\n",
       "      <td>Sports</td>\n",
       "    </tr>\n",
       "    <tr>\n",
       "      <th>4</th>\n",
       "      <td>679</td>\n",
       "      <td>679</td>\n",
       "      <td>GMO_00000000039095_01</td>\n",
       "      <td>FILE_MAF_20220213T173619Z_GMO_00000000039095_01</td>\n",
       "      <td>WHAT TO DO WHILE YOU'RE WAITING (EDITED)</td>\n",
       "      <td>friday night lights</td>\n",
       "      <td>Dad? You're home! Hello, Brian. Waverly? Damn,...</td>\n",
       "      <td>Sports</td>\n",
       "    </tr>\n",
       "  </tbody>\n",
       "</table>\n",
       "</div>"
      ],
      "text/plain": [
       "   Unnamed: 0.1  Unnamed: 0             materialId  \\\n",
       "0           665         665  GMO_00000000040741_01   \n",
       "1          8244        8244  GMO_00000000370441_01   \n",
       "2           678         678  GMO_00000000039091_01   \n",
       "3           777         777  GMO_00000000039094_01   \n",
       "4           679         679  GMO_00000000039095_01   \n",
       "\n",
       "                                        lastRunJob  \\\n",
       "0  FILE_MAF_20210731T020535Z_GMO_00000000040741_01   \n",
       "1  FILE_MAF_20220215T090159Z_GMO_00000000370441_01   \n",
       "2  FILE_MAF_20220213T121447Z_GMO_00000000039091_01   \n",
       "3  FILE_MAF_20220213T173625Z_GMO_00000000039094_01   \n",
       "4  FILE_MAF_20220213T173619Z_GMO_00000000039095_01   \n",
       "\n",
       "                              materialtitle          seriestitle  \\\n",
       "0                           I KNEW YOU WHEN  friday night lights   \n",
       "1                      Make Up or Break Up?         total bellas   \n",
       "2                       HOMECOMING (EDITED)  friday night lights   \n",
       "3                        NEVERMIND (EDITED)  friday night lights   \n",
       "4  WHAT TO DO WHILE YOU'RE WAITING (EDITED)  friday night lights   \n",
       "\n",
       "                                             AssetCC  adword  \n",
       "0  LKS, IS IS SLAMMIN' SAMMY MEADE,\\nFO [radio]\\n...  Sports  \n",
       "1  >> NIKKI: Yeah! Welcome to Paris! Tonight on t...  Sports  \n",
       "2  What's after\\nhigh school, Brian? Me and Mack ...  Sports  \n",
       "3  Here's to God in ten years from now, Street, g...  Sports  \n",
       "4  Dad? You're home! Hello, Brian. Waverly? Damn,...  Sports  "
      ]
     },
     "execution_count": 10,
     "metadata": {},
     "output_type": "execute_result"
    }
   ],
   "source": [
    "sampled_datadf.head()"
   ]
  },
  {
   "cell_type": "code",
   "execution_count": 11,
   "metadata": {},
   "outputs": [],
   "source": [
    "listofepisodes=sampled_datadf['lastRunJob'].to_list()"
   ]
  },
  {
   "cell_type": "code",
   "execution_count": null,
   "metadata": {},
   "outputs": [],
   "source": [
    "#listofepisodes=['FILE_MAF_20220211T205601Z_GMO_00000000001313_01', 'FILE_MAF_20220211T205607Z_GMO_00000000001534_01', 'FILE_MAF_20210727T231031Z_GMO_00000000001577_01' ]"
   ]
  },
  {
   "cell_type": "code",
   "execution_count": 12,
   "metadata": {},
   "outputs": [],
   "source": [
    "def keydict(dataframe, targetlist):\n",
    "    d=defaultdict(list)\n",
    "    for target in targetlist:\n",
    "        minidf=dataframe.loc[dataframe['adword']==target]\n",
    "        minilist=minidf['lastRunJob'].to_list()\n",
    "        d[target]=minilist\n",
    "    \n",
    "    return d\n",
    "\n"
   ]
  },
  {
   "cell_type": "code",
   "execution_count": 13,
   "metadata": {},
   "outputs": [
    {
     "name": "stdout",
     "output_type": "stream",
     "text": [
      "defaultdict(<class 'list'>, {'Automotive': ['FILE_MAF_20211223T065128Z_GMO_00000000002584_01', 'FILE_MAF_20211223T064615Z_GMO_00000000106986_01', 'FILE_MAF_20211223T064819Z_GMO_00000000002709_01', 'FILE_MAF_20211222T231607Z_GMO_00000000294982_01', 'FILE_MAF_20211222T214634Z_GMO_00000000029298_01', 'FILE_MAF_20211222T214941Z_GMO_00000000121162_01', 'FILE_MAF_20211222T230805Z_GMO_00000000273733_01', 'FILE_MAF_20211223T065125Z_GMO_00000000027759_01', 'FILE_MAF_20211223T065130Z_GMO_00000000002708_01', 'FILE_MAF_20211223T063010Z_GMO_00000000002843_01', 'FILE_MAF_20211223T064314Z_GMO_00000000029163_01', 'FILE_MAF_20211222T214633Z_GMO_00000000027597_01', 'FILE_MAF_20211223T065127Z_GMO_00000000002637_01', 'FILE_MAF_20211223T065129Z_GMO_00000000009448_01', 'FILE_MAF_20211223T064919Z_GMO_00000000002707_01', 'FILE_MAF_20211222T214633Z_GMO_00000000027055_01', 'FILE_MAF_20211223T065126Z_GMO_00000000002685_01', 'FILE_MAF_20211223T065020Z_GMO_00000000009009_01', 'FILE_MAF_20211223T061005Z_GMO_00000000113301_01', 'FILE_MAF_20211222T174857Z_GMO_00000000334049_01'], 'Books and Literature': ['FILE_MAF_20210729T092828Z_GMO_00000000044326_01', 'FILE_MAF_20210730T234421Z_GMO_00000000044076_01', 'FILE_MAF_20210805T164954Z_GMO_00000000044095_01', 'FILE_MAF_20210802T172724Z_GMO_00000000142561_01', 'FILE_MAF_20210803T004745Z_GMO_00000000044086_01', 'FILE_MAF_20210730T233513Z_GMO_00000000044080_01', 'FILE_MAF_20210802T172722Z_GMO_00000000142565_01', 'FILE_MAF_20210802T164609Z_GMO_00000000044398_01', 'FILE_MAF_20210729T120911Z_GMO_00000000044348_01', 'FILE_MAF_20210729T073646Z_GMO_00000000044249_01', 'FILE_MAF_20210729T073651Z_GMO_00000000044264_01', 'FILE_MAF_20210729T075657Z_GMO_00000000044301_01', 'FILE_MAF_20210729T074455Z_GMO_00000000044309_01', 'FILE_MAF_20210729T074052Z_GMO_00000000044294_01', 'FILE_MAF_20210730T172125Z_GMO_00000000044284_01', 'FILE_MAF_20210730T225100Z_GMO_00000000044066_01', 'FILE_MAF_20210729T083302Z_GMO_00000000044265_01', 'FILE_MAF_20210730T172335Z_GMO_00000000044277_01', 'FILE_MAF_20210730T233617Z_GMO_00000000044072_01', 'FILE_MAF_20210729T093648Z_GMO_00000000044308_01'], 'Business and Finance': ['FILE_MAF_20210803T150810Z_GMO_00000000108698_01', 'FILE_MAF_20210728T183011Z_GMO_00000000007353_01', 'FILE_MAF_20210728T185221Z_GMO_00000000007414_01', 'FILE_MAF_20210727T231449Z_GMO_00000000001716_01', 'FILE_MAF_20210728T202741Z_GMO_00000000007597_01', 'FILE_MAF_20210728T181505Z_GMO_00000000007230_01', 'FILE_MAF_20210728T163741Z_GMO_00000000007105_01', 'FILE_MAF_20210728T163639Z_GMO_00000000007100_01', 'FILE_MAF_20210728T181503Z_GMO_00000000007187_01', 'FILE_MAF_20210727T231237Z_GMO_00000000001660_01', 'FILE_MAF_20210728T163637Z_GMO_00000000007042_01', 'FILE_MAF_20210727T231247Z_GMO_00000000001712_01', 'FILE_MAF_20210728T183513Z_GMO_00000000007330_01', 'FILE_MAF_20210802T225506Z_GMO_00000000007502_01', 'FILE_MAF_20210728T163134Z_GMO_00000000007137_01', 'FILE_MAF_20210728T185222Z_GMO_00000000007421_01', 'FILE_MAF_20210807T072438Z_GMO_00000000007432_01', 'FILE_MAF_20210728T162831Z_GMO_00000000007007_01', 'FILE_MAF_20210728T185223Z_GMO_00000000007423_01', 'FILE_MAF_20210802T225204Z_GMO_00000000007468_01'], 'Education': ['FILE_MAF_20220321T225325Z_GMO_00000000354810_01', 'FILE_MAF_20220321T225326Z_GMO_00000000354808_01', 'FILE_MAF_20220321T225326Z_GMO_00000000354809_01', 'FILE_MAF_20220321T225327Z_GMO_00000000354807_01', 'FILE_MAF_20220321T225328Z_GMO_00000000354812_01', 'FILE_MAF_20220321T225329Z_GMO_00000000354811_01', 'FILE_MAF_20220505T091718Z_GMO_00000000354813_01', 'FILE_MAF_20220505T091718Z_GMO_00000000354814_01', 'FILE_MAF_20220505T091720Z_GMO_00000000354815_01', 'FILE_MAF_20220505T224819Z_GMO_00000000354816_01'], 'Events and Attractions': ['FILE_MAF_20210824T160507Z_GMO_00000000305067_01', 'FILE_MAF_20210730T172125Z_GMO_00000000384803_01', 'FILE_MAF_20210824T160504Z_GMO_00000000305061_01', 'FILE_MAF_20220214T004858Z_GMO_00000000116407_01', 'FILE_MAF_20220213T003335Z_GMO_00000000010677_01', 'FILE_MAF_20210825T012852Z_GMO_00000000348725_01', 'FILE_MAF_20220214T211212Z_GMO_00000000284516_01', 'FILE_MAF_20210825T013302Z_GMO_00000000348723_01', 'FILE_MAF_20220212T231617Z_GMO_00000000010675_01', 'FILE_MAF_20210825T013158Z_GMO_00000000338679_01', 'FILE_MAF_20220214T211213Z_GMO_00000000195852_01', 'FILE_MAF_20210825T013307Z_GMO_00000000359730_01', 'FILE_MAF_20210825T013409Z_GMO_00000000359729_01', 'FILE_MAF_20220214T211534Z_GMO_00000000284515_01', 'FILE_MAF_20220215T035934Z_GMO_00000000327844_01', 'FILE_MAF_20220213T185815Z_GMO_00000000048836_01', 'FILE_MAF_20220215T013221Z_GMO_00000000287847_01', 'FILE_MAF_20210825T012651Z_GMO_00000000348720_01', 'FILE_MAF_20210824T160506Z_GMO_00000000305064_01', 'FILE_MAF_20220213T215316Z_GMO_00000000116411_01'], 'Family and Relationships': ['FILE_MAF_20211106T220217Z_GMO_00000000124439_01', 'FILE_MAF_20210803T024232Z_GMO_00000000346786_01', 'FILE_MAF_20211107T155428Z_GMO_00000000144867_01', 'FILE_MAF_20210730T235041Z_GMO_00000000346774_01', 'FILE_MAF_20211107T173012Z_GMO_00000000144871_01', 'FILE_MAF_20211109T073412Z_GMO_00000000012360_01', 'FILE_MAF_20211109T073414Z_GMO_00000000286853_01', 'FILE_MAF_20211104T120605Z_GMO_00000000365313_01', 'FILE_MAF_20211105T085433Z_GMO_00000000144877_01', 'FILE_MAF_20211104T114856Z_GMO_00000000354181_01', 'FILE_MAF_20210729T234914Z_GMO_00000000346776_01', 'FILE_MAF_20210729T235115Z_GMO_00000000346783_01', 'FILE_MAF_20211104T094412Z_GMO_00000000012365_01', 'FILE_MAF_20211106T220336Z_GMO_00000000285127_01', 'FILE_MAF_20211106T220331Z_GMO_00000000012363_01', 'FILE_MAF_20211109T073419Z_GMO_00000000283501_01', 'FILE_MAF_20211106T234819Z_GMO_00000000039636_01', 'FILE_MAF_20211106T231656Z_GMO_00000000017733_01', 'FILE_MAF_20211106T220215Z_GMO_00000000012323_01', 'FILE_MAF_20211104T080633Z_GMO_00000000017731_01'], 'Fine Art': [], 'Food & Drink': ['FILE_MAF_20220213T092945Z_GMO_00000000031461_01', 'FILE_MAF_20220213T185507Z_GMO_00000000045335_01', 'FILE_MAF_20220212T143407Z_GMO_00000000002223_01', 'FILE_MAF_20210824T142520Z_GMO_00000000294157_01', 'FILE_MAF_20210824T142522Z_GMO_00000000294142_01', 'FILE_MAF_20220212T183925Z_GMO_00000000006948_01', 'FILE_MAF_20210824T200155Z_GMO_00000000294191_01', 'FILE_MAF_20220213T182741Z_GMO_00000000041022_01', 'FILE_MAF_20210824T142517Z_GMO_00000000294126_01', 'FILE_MAF_20220213T184755Z_GMO_00000000041020_01', 'FILE_MAF_20210824T142521Z_GMO_00000000294128_01', 'FILE_MAF_20220212T194452Z_GMO_00000000007405_01', 'FILE_MAF_20220214T043101Z_GMO_00000000201223_01', 'FILE_MAF_20220213T010346Z_GMO_00000000014850_01', 'FILE_MAF_20210824T153450Z_GMO_00000000294170_01', 'FILE_MAF_20210825T013057Z_GMO_00000000391127_01', 'FILE_MAF_20220212T223751Z_GMO_00000000009281_01', 'FILE_MAF_20220212T183523Z_GMO_00000000006936_01', 'FILE_MAF_20210824T195853Z_GMO_00000000294185_01', 'FILE_MAF_20220214T050523Z_GMO_00000000201227_01'], 'Healthy Living': [], 'Hobbies & Interests': ['FILE_MAF_20220215T083954Z_GMO_00000000390302_01', 'FILE_MAF_20220215T092105Z_GMO_00000000390300_01', 'FILE_MAF_20220215T092413Z_GMO_00000000390299_01', 'FILE_MAF_20220215T092415Z_GMO_00000000390294_01', 'FILE_MAF_20220215T092416Z_GMO_00000000390295_01', 'FILE_MAF_20220215T092417Z_GMO_00000000390297_01', 'FILE_MAF_20220215T092521Z_GMO_00000000390293_01', 'FILE_MAF_20220215T092524Z_GMO_00000000390296_01', 'FILE_MAF_20220215T092524Z_GMO_00000000390298_01', 'FILE_MAF_20220215T092524Z_GMO_00000000390301_01'], 'Home & Garden': [], 'Medical Health': ['FILE_MAF_20211222T135839Z_GMO_00000000092418_01', 'FILE_MAF_20211105T221833Z_GMO_00000000338784_01', 'FILE_MAF_20220213T071506Z_GMO_00000000027584_01', 'FILE_MAF_20220213T075121Z_GMO_00000000029125_01', 'FILE_MAF_20211222T061241Z_GMO_00000000295406_01', 'FILE_MAF_20220215T013220Z_GMO_00000000283931_01', 'FILE_MAF_20210824T153451Z_GMO_00000000293441_01', 'FILE_MAF_20220212T223748Z_GMO_00000000009123_01', 'FILE_MAF_20220213T080123Z_GMO_00000000029577_01', 'FILE_MAF_20210728T202844Z_GMO_00000000007758_01', 'FILE_MAF_20210728T202436Z_GMO_00000000007731_01', 'FILE_MAF_20211222T061240Z_GMO_00000000326287_01', 'FILE_MAF_20211222T183052Z_GMO_00000000007458_01', 'FILE_MAF_20211222T144359Z_GMO_00000000112815_01', 'FILE_MAF_20211224T154509Z_GMO_00000000196872_01', 'FILE_MAF_20210824T173626Z_GMO_00000000308191_01', 'FILE_MAF_20210729T030521Z_GMO_00000000022500_01', 'FILE_MAF_20211222T061243Z_GMO_00000000295412_01', 'FILE_MAF_20220215T035936Z_GMO_00000000332332_01', 'FILE_MAF_20211222T061137Z_GMO_00000000326260_01'], 'Movies': [], 'Music and Audio': ['FILE_MAF_20210809T200440Z_GMO_00000000292342_01', 'FILE_MAF_20211106T201721Z_GMO_00000000298262_01', 'FILE_MAF_20211106T183220Z_GMO_00000000298260_01', 'FILE_MAF_20220214T005215Z_GMO_00000000137236_01', 'FILE_MAF_20211103T115536Z_GMO_00000000298267_01', 'FILE_MAF_20210809T200239Z_GMO_00000000330183_01', 'FILE_MAF_20211103T115539Z_GMO_00000000345588_01', 'FILE_MAF_20220214T042555Z_GMO_00000000137222_01', 'FILE_MAF_20211107T173011Z_GMO_00000000298266_01', 'FILE_MAF_20211103T121545Z_GMO_00000000345592_01', 'FILE_MAF_20220510T214825Z_GMO_00000000398885_01', 'FILE_MAF_20210809T203754Z_GMO_00000000330186_01', 'FILE_MAF_20211107T155324Z_GMO_00000000298271_01', 'FILE_MAF_20211103T121645Z_GMO_00000000345597_01', 'FILE_MAF_20210805T224731Z_GMO_00000000284486_01', 'FILE_MAF_20220214T042351Z_GMO_00000000137227_01', 'FILE_MAF_20220510T214825Z_GMO_00000000398887_01', 'FILE_MAF_20220214T042858Z_GMO_00000000137235_01', 'FILE_MAF_20211106T183218Z_GMO_00000000298269_01', 'FILE_MAF_20211103T115532Z_GMO_00000000298270_01'], 'Pets': ['FILE_MAF_20210729T150937Z_GMO_00000000321414_01', 'FILE_MAF_20210729T170339Z_GMO_00000000321975_01', 'FILE_MAF_20210729T180703Z_GMO_00000000321965_01', 'FILE_MAF_20210729T123329Z_GMO_00000000321263_01', 'FILE_MAF_20210729T150935Z_GMO_00000000321408_01', 'FILE_MAF_20210730T073924Z_GMO_00000000321284_01', 'FILE_MAF_20210729T122424Z_GMO_00000000321241_01', 'FILE_MAF_20210729T145919Z_GMO_00000000321470_01', 'FILE_MAF_20210730T073920Z_GMO_00000000321247_01', 'FILE_MAF_20210730T075043Z_GMO_00000000321462_01', 'FILE_MAF_20210729T150932Z_GMO_00000000321386_01', 'FILE_MAF_20210730T073918Z_GMO_00000000321446_01', 'FILE_MAF_20210730T054034Z_GMO_00000000321280_01', 'FILE_MAF_20210729T123027Z_GMO_00000000321243_01', 'FILE_MAF_20210729T155156Z_GMO_00000000321426_01', 'FILE_MAF_20210729T144305Z_GMO_00000000321323_01', 'FILE_MAF_20210730T074533Z_GMO_00000000321287_01', 'FILE_MAF_20210729T122420Z_GMO_00000000321236_01', 'FILE_MAF_20210730T054142Z_GMO_00000000321277_01', 'FILE_MAF_20210729T163608Z_GMO_00000000321442_01'], 'Pop Culture': [], 'Real Estate': ['FILE_MAF_20210824T164918Z_GMO_00000000316807_01', 'FILE_MAF_20220214T042348Z_GMO_00000000153023_01', 'FILE_MAF_20220213T185405Z_GMO_00000000045315_01', 'FILE_MAF_20220212T165146Z_GMO_00000000002833_01', 'FILE_MAF_20210825T012645Z_GMO_00000000399606_01', 'FILE_MAF_20210824T151133Z_GMO_00000000284944_01', 'FILE_MAF_20220211T201452Z_GMO_00000000001224_01', 'FILE_MAF_20220213T173624Z_GMO_00000000039557_01', 'FILE_MAF_20220213T093448Z_GMO_00000000031317_01', 'FILE_MAF_20210825T013053Z_GMO_00000000282347_01', 'FILE_MAF_20220214T042350Z_GMO_00000000153025_01', 'FILE_MAF_20220213T184757Z_GMO_00000000045313_01', 'FILE_MAF_20210825T002729Z_GMO_00000000316811_01', 'FILE_MAF_20220213T011913Z_GMO_00000000014807_01', 'FILE_MAF_20220213T120945Z_GMO_00000000038934_01', 'FILE_MAF_20220213T120643Z_GMO_00000000038929_01', 'FILE_MAF_20210824T160508Z_GMO_00000000316809_01', 'FILE_MAF_20220213T173621Z_GMO_00000000039352_01', 'FILE_MAF_20210825T012646Z_GMO_00000000338857_01', 'FILE_MAF_20220213T173626Z_GMO_00000000039366_01'], 'Religion & Spirituality': ['FILE_MAF_20211223T143223Z_GMO_00000000343629_01', 'FILE_MAF_20211223T143227Z_GMO_00000000343625_01', 'FILE_MAF_20211223T143428Z_GMO_00000000343676_01', 'FILE_MAF_20211223T202630Z_GMO_00000000343584_01', 'FILE_MAF_20211223T143221Z_GMO_00000000343596_01', 'FILE_MAF_20211223T143225Z_GMO_00000000343640_01', 'FILE_MAF_20211223T143222Z_GMO_00000000343627_01', 'FILE_MAF_20211223T143428Z_GMO_00000000343630_01', 'FILE_MAF_20211225T005508Z_GMO_00000000343642_01', 'FILE_MAF_20211223T143837Z_GMO_00000000343639_01', 'FILE_MAF_20211223T143226Z_GMO_00000000343655_01', 'FILE_MAF_20211223T144047Z_GMO_00000000343663_01', 'FILE_MAF_20211223T053255Z_GMO_00000000343736_01', 'FILE_MAF_20211223T143830Z_GMO_00000000343664_01', 'FILE_MAF_20211223T143839Z_GMO_00000000343669_01', 'FILE_MAF_20211223T143942Z_GMO_00000000343636_01', 'FILE_MAF_20211223T144046Z_GMO_00000000343687_01', 'FILE_MAF_20211223T143836Z_GMO_00000000343635_01', 'FILE_MAF_20211223T144046Z_GMO_00000000343727_01', 'FILE_MAF_20211223T143219Z_GMO_00000000343595_01'], 'Science': ['FILE_MAF_20210802T172723Z_GMO_00000000001586_01', 'FILE_MAF_20210807T072434Z_GMO_00000000001821_01', 'FILE_MAF_20210802T173334Z_GMO_00000000001690_01', 'FILE_MAF_20220212T194614Z_GMO_00000000007318_01', 'FILE_MAF_20210802T173331Z_GMO_00000000136975_01', 'FILE_MAF_20210802T172927Z_GMO_00000000001576_01', 'FILE_MAF_20220212T184828Z_GMO_00000000007284_01', 'FILE_MAF_20220213T011356Z_GMO_00000000014862_01', 'FILE_MAF_20210807T072432Z_GMO_00000000001718_01', 'FILE_MAF_20210802T173446Z_GMO_00000000001721_01', 'FILE_MAF_20220213T011914Z_GMO_00000000014814_01', 'FILE_MAF_20210802T172725Z_GMO_00000000001589_01', 'FILE_MAF_20220212T185028Z_GMO_00000000007263_01', 'FILE_MAF_20210802T173448Z_GMO_00000000136973_01', 'FILE_MAF_20210802T164558Z_GMO_00000000001554_01', 'FILE_MAF_20220213T010346Z_GMO_00000000014872_01', 'FILE_MAF_20220213T011915Z_GMO_00000000014864_01', 'FILE_MAF_20220213T011403Z_GMO_00000000014870_01', 'FILE_MAF_20210802T173027Z_GMO_00000000001744_01', 'FILE_MAF_20210802T173336Z_GMO_00000000001801_01'], 'Shopping': ['FILE_MAF_20211116T134039Z_GMO_00000000341646_01', 'FILE_MAF_20211103T100330Z_GMO_00000000341649_01', 'FILE_MAF_20211105T221618Z_GMO_00000000341638_01', 'FILE_MAF_20211105T221829Z_GMO_00000000121675_01', 'FILE_MAF_20211103T092107Z_GMO_00000000273413_01', 'FILE_MAF_20211105T221619Z_GMO_00000000273407_01', 'FILE_MAF_20211116T134036Z_GMO_00000000341644_01', 'FILE_MAF_20211105T221413Z_GMO_00000000273414_01', 'FILE_MAF_20211105T221622Z_GMO_00000000296346_01', 'FILE_MAF_20211105T085331Z_GMO_00000000121678_01', 'FILE_MAF_20211103T100337Z_GMO_00000000341651_01', 'FILE_MAF_20211105T100759Z_GMO_00000000273410_01', 'FILE_MAF_20211105T221725Z_GMO_00000000296347_01', 'FILE_MAF_20211105T221827Z_GMO_00000000341639_01', 'FILE_MAF_20211103T092109Z_GMO_00000000341636_01', 'FILE_MAF_20211105T221830Z_GMO_00000000273412_01', 'FILE_MAF_20211105T221616Z_GMO_00000000296350_01', 'FILE_MAF_20211103T092105Z_GMO_00000000273408_01', 'FILE_MAF_20211103T092113Z_GMO_00000000296345_01', 'FILE_MAF_20211105T111151Z_GMO_00000000121681_01'], 'Sports': ['FILE_MAF_20210731T020535Z_GMO_00000000040741_01', 'FILE_MAF_20220215T090159Z_GMO_00000000370441_01', 'FILE_MAF_20220213T121447Z_GMO_00000000039091_01', 'FILE_MAF_20220213T173625Z_GMO_00000000039094_01', 'FILE_MAF_20220213T173619Z_GMO_00000000039095_01', 'FILE_MAF_20211105T221830Z_GMO_00000000326366_01', 'FILE_MAF_20210807T072641Z_GMO_00000000015471_01', 'FILE_MAF_20210825T010736Z_GMO_00000000324078_01', 'FILE_MAF_20210731T060326Z_GMO_00000000040739_01', 'FILE_MAF_20210825T013302Z_GMO_00000000338183_01', 'FILE_MAF_20220214T043211Z_GMO_00000000287895_01', 'FILE_MAF_20210731T020638Z_GMO_00000000040762_01', 'FILE_MAF_20211103T115529Z_GMO_00000000326367_01', 'FILE_MAF_20210810T131055Z_GMO_00000000015470_01', 'FILE_MAF_20220215T082050Z_GMO_00000000370434_01', 'FILE_MAF_20210729T030527Z_GMO_00000000039099_01', 'FILE_MAF_20210825T013306Z_GMO_00000000360252_01', 'FILE_MAF_20220215T013014Z_GMO_00000000287891_01', 'FILE_MAF_20210809T195832Z_GMO_00000000019745_01', 'FILE_MAF_20210729T030534Z_GMO_00000000039104_01'], 'Style & Fashion': ['FILE_MAF_20220215T012405Z_GMO_00000000293218_01', 'FILE_MAF_20210825T013303Z_GMO_00000000293206_01', 'FILE_MAF_20220214T234142Z_GMO_00000000293212_01', 'FILE_MAF_20220215T013014Z_GMO_00000000312910_01', 'FILE_MAF_20220215T025352Z_GMO_00000000293217_01', 'FILE_MAF_20220215T013018Z_GMO_00000000312922_01', 'FILE_MAF_20220215T035309Z_GMO_00000000293215_01', 'FILE_MAF_20220215T005855Z_GMO_00000000293216_01', 'FILE_MAF_20220215T092412Z_GMO_00000000364158_01', 'FILE_MAF_20220215T092413Z_GMO_00000000364160_01', 'FILE_MAF_20220215T013219Z_GMO_00000000312912_01', 'FILE_MAF_20220215T071837Z_GMO_00000000364166_01', 'FILE_MAF_20220214T231527Z_GMO_00000000312919_01', 'FILE_MAF_20210824T195751Z_GMO_00000000320273_01', 'FILE_MAF_20210824T153449Z_GMO_00000000293211_01', 'FILE_MAF_20220215T092523Z_GMO_00000000410890_01', 'FILE_MAF_20220215T071532Z_GMO_00000000364163_01', 'FILE_MAF_20220215T013225Z_GMO_00000000293209_01', 'FILE_MAF_20220215T035928Z_GMO_00000000312917_01', 'FILE_MAF_20210825T002730Z_GMO_00000000312918_01'], 'Technology & Computing': ['FILE_MAF_20220213T011912Z_GMO_00000000022391_01', 'FILE_MAF_20210809T184702Z_GMO_00000000171498_01', 'FILE_MAF_20220213T184756Z_GMO_00000000047423_01', 'FILE_MAF_20220213T185304Z_GMO_00000000047422_01', 'FILE_MAF_20210806T020741Z_GMO_00000000049044_01', 'FILE_MAF_20220213T185709Z_GMO_00000000047424_01', 'FILE_MAF_20220213T185303Z_GMO_00000000047420_01', 'FILE_MAF_20210809T200548Z_GMO_00000000171492_01', 'FILE_MAF_20210806T042833Z_GMO_00000000049038_01', 'FILE_MAF_20220213T031236Z_GMO_00000000022390_01', 'FILE_MAF_20210809T184656Z_GMO_00000000171499_01', 'FILE_MAF_20220213T184650Z_GMO_00000000047418_01', 'FILE_MAF_20220213T031737Z_GMO_00000000022392_01', 'FILE_MAF_20220213T011911Z_GMO_00000000022389_01', 'FILE_MAF_20210806T001903Z_GMO_00000000049043_01', 'FILE_MAF_20210806T020742Z_GMO_00000000296778_01', 'FILE_MAF_20210809T221817Z_GMO_00000000171493_01', 'FILE_MAF_20220213T071459Z_GMO_00000000022396_01', 'FILE_MAF_20220213T185202Z_GMO_00000000047427_01', 'FILE_MAF_20220213T005945Z_GMO_00000000012039_01'], 'Television': ['FILE_MAF_20210727T231034Z_GMO_00000000001600_01', 'FILE_MAF_20210730T044004Z_GMO_00000000040639_01', 'FILE_MAF_20210727T231033Z_GMO_00000000001596_01', 'FILE_MAF_20210728T184114Z_GMO_00000000007266_01', 'FILE_MAF_20210727T231240Z_GMO_00000000001631_01', 'FILE_MAF_20210729T043217Z_GMO_00000000040629_01', 'FILE_MAF_20210729T024311Z_GMO_00000000040665_01', 'FILE_MAF_20210729T030645Z_GMO_00000000040646_01', 'FILE_MAF_20210729T004341Z_GMO_00000000028385_01', 'FILE_MAF_20210729T033955Z_GMO_00000000040667_01', 'FILE_MAF_20210729T043320Z_GMO_00000000040619_01', 'FILE_MAF_20210729T004129Z_GMO_00000000028368_01', 'FILE_MAF_20210729T040359Z_GMO_00000000028384_01', 'FILE_MAF_20210729T025615Z_GMO_00000000040663_01', 'FILE_MAF_20210730T040956Z_GMO_00000000001634_01', 'FILE_MAF_20210727T231245Z_GMO_00000000001653_01', 'FILE_MAF_20210729T035057Z_GMO_00000000040631_01', 'FILE_MAF_20210729T043427Z_GMO_00000000040614_01', 'FILE_MAF_20210729T024008Z_GMO_00000000040660_01', 'FILE_MAF_20210727T231238Z_GMO_00000000001594_01'], 'Travel': ['FILE_MAF_20220213T185059Z_GMO_00000000044111_01', 'FILE_MAF_20220215T035715Z_GMO_00000000320875_01', 'FILE_MAF_20210824T150833Z_GMO_00000000033323_01', 'FILE_MAF_20220213T090940Z_GMO_00000000032052_01', 'FILE_MAF_20220215T071423Z_GMO_00000000353679_01', 'FILE_MAF_20220215T035307Z_GMO_00000000325452_01', 'FILE_MAF_20220213T184655Z_GMO_00000000047492_01', 'FILE_MAF_20220213T215210Z_GMO_00000000115135_01', 'FILE_MAF_20220212T161334Z_GMO_00000000002504_01', 'FILE_MAF_20220214T042454Z_GMO_00000000150172_01', 'FILE_MAF_20220215T092308Z_GMO_00000000362620_01', 'FILE_MAF_20210812T204402Z_GMO_00000000351581_01', 'FILE_MAF_20220215T013012Z_GMO_00000000279146_01', 'FILE_MAF_20220215T012707Z_GMO_00000000288641_01', 'FILE_MAF_20220213T093757Z_GMO_00000000031571_01', 'FILE_MAF_20220214T043107Z_GMO_00000000177644_01', 'FILE_MAF_20220510T222032Z_GMO_00000000393597_01', 'FILE_MAF_20220215T035514Z_GMO_00000000320574_01', 'FILE_MAF_20210824T142523Z_GMO_00000000027747_01', 'FILE_MAF_20220212T160932Z_GMO_00000000002487_01'], 'Video Gaming': [], 'Careers': [], 'News and Politics': [], 'Personal Finance': []})\n"
     ]
    }
   ],
   "source": [
    "targetkey_filelist=keydict(sampled_datadf, targetlist)\n",
    "print(targetkey_filelist)"
   ]
  },
  {
   "cell_type": "code",
   "execution_count": null,
   "metadata": {},
   "outputs": [],
   "source": [
    "# #NRS bulk with top 1 save to file regular\n",
    "# dict_to_save=defaultdict(list)\n",
    "# for target in tqdm(targetlist):\n",
    "#     scores=[]\n",
    "#     for ep in tqdm(listofepisodes):\n",
    "#         index=materialID.index(ep)\n",
    "#         groundtruth=getadword(ep,truthdatadf)\n",
    "#         # if groundtruth in target_dict:\n",
    "#         #         x=target_dict[groundtruth]\n",
    "#         x=target_dict[target]\n",
    "#         #print(groundtruth)\n",
    "#         print(x)\n",
    "#         segmentscore=[]\n",
    "#         for i in range(len(newmetalist[index])):\n",
    "#             if len(newmetalist[index][i])==0:\n",
    "#                 continue\n",
    "#             emb1=model.encode(newmetalist[index][i]) #, convert_to_tensor=True)\n",
    "#             emb2=model.encode(targetlist) #, convert_to_tensor=True)\n",
    "#             cos_sim=util.cos_sim(emb1,emb2)\n",
    "\n",
    "#             #For OG Class\n",
    "#             MaxAggregation = {}\n",
    "#             for i in range(cos_sim.shape[1]):\n",
    "#                 all_sentence_combinations=[]\n",
    "#                 for j in range(cos_sim.shape[0]):\n",
    "#                     all_sentence_combinations.append([cos_sim[j][i], j, i])\n",
    "#                 all_sentence_combinations = sorted(all_sentence_combinations, key=lambda x: x[0], reverse=True)\n",
    "#                 MaxAggregation[i]=all_sentence_combinations[0]\n",
    "                \n",
    "\n",
    "#             segmentscore.append(MaxAggregation[x][0])\n",
    "\n",
    "            \n",
    "                    \n",
    "#         avg=(sum(segmentscore)/len(segmentscore))\n",
    "#         scores.append(avg)\n",
    "        \n",
    "#     print(scores)\n",
    "#     dict_to_save[target]=scores"
   ]
  },
  {
   "cell_type": "code",
   "execution_count": null,
   "metadata": {},
   "outputs": [],
   "source": [
    "# with open('NRS_top1_regular.pkl', 'wb') as f:\n",
    "#     pickle.dump(dict_to_save, f)\n"
   ]
  },
  {
   "cell_type": "code",
   "execution_count": null,
   "metadata": {},
   "outputs": [],
   "source": [
    "# with open('NRS_top1_regular.pkl', 'rb') as f:\n",
    "#     NRS_dict=pickle.load(f)\n"
   ]
  },
  {
   "cell_type": "code",
   "execution_count": 14,
   "metadata": {},
   "outputs": [],
   "source": [
    "def get_key(val):\n",
    "    for key, value in target_dict.items():\n",
    "         if val == value:\n",
    "             return key\n",
    " \n",
    "    return \"key doesn't exist\""
   ]
  },
  {
   "cell_type": "code",
   "execution_count": 15,
   "metadata": {},
   "outputs": [
    {
     "data": {
      "application/vnd.jupyter.widget-view+json": {
       "model_id": "4b206a8744f04e85a0c17f971613030d",
       "version_major": 2,
       "version_minor": 0
      },
      "text/plain": [
       "  0%|          | 0/29 [00:00<?, ?it/s]"
      ]
     },
     "metadata": {},
     "output_type": "display_data"
    },
    {
     "data": {
      "application/vnd.jupyter.widget-view+json": {
       "model_id": "5c3435352ca24cc9af69535073a0009e",
       "version_major": 2,
       "version_minor": 0
      },
      "text/plain": [
       "  0%|          | 0/20 [00:00<?, ?it/s]"
      ]
     },
     "metadata": {},
     "output_type": "display_data"
    },
    {
     "data": {
      "application/vnd.jupyter.widget-view+json": {
       "model_id": "6cc79172eaeb45f38dbf97d9a7c15996",
       "version_major": 2,
       "version_minor": 0
      },
      "text/plain": [
       "  0%|          | 0/20 [00:00<?, ?it/s]"
      ]
     },
     "metadata": {},
     "output_type": "display_data"
    },
    {
     "data": {
      "application/vnd.jupyter.widget-view+json": {
       "model_id": "73e4899f1f8c4c6ba613c586708b48bd",
       "version_major": 2,
       "version_minor": 0
      },
      "text/plain": [
       "  0%|          | 0/20 [00:00<?, ?it/s]"
      ]
     },
     "metadata": {},
     "output_type": "display_data"
    },
    {
     "data": {
      "application/vnd.jupyter.widget-view+json": {
       "model_id": "e7c4f86a67b94090a3f0c8d259f535cf",
       "version_major": 2,
       "version_minor": 0
      },
      "text/plain": [
       "  0%|          | 0/10 [00:00<?, ?it/s]"
      ]
     },
     "metadata": {},
     "output_type": "display_data"
    },
    {
     "data": {
      "application/vnd.jupyter.widget-view+json": {
       "model_id": "34026a7961f04474873dfd797b840696",
       "version_major": 2,
       "version_minor": 0
      },
      "text/plain": [
       "  0%|          | 0/20 [00:00<?, ?it/s]"
      ]
     },
     "metadata": {},
     "output_type": "display_data"
    },
    {
     "data": {
      "application/vnd.jupyter.widget-view+json": {
       "model_id": "d3d8106a1b4149d2a1f1e667d3544147",
       "version_major": 2,
       "version_minor": 0
      },
      "text/plain": [
       "  0%|          | 0/20 [00:00<?, ?it/s]"
      ]
     },
     "metadata": {},
     "output_type": "display_data"
    },
    {
     "data": {
      "application/vnd.jupyter.widget-view+json": {
       "model_id": "1c142ef1f48f419b95f88f6ea30e3c02",
       "version_major": 2,
       "version_minor": 0
      },
      "text/plain": [
       "  0%|          | 0/20 [00:00<?, ?it/s]"
      ]
     },
     "metadata": {},
     "output_type": "display_data"
    },
    {
     "data": {
      "application/vnd.jupyter.widget-view+json": {
       "model_id": "cbf0746e7eca4fc0947d781a9de37cd1",
       "version_major": 2,
       "version_minor": 0
      },
      "text/plain": [
       "  0%|          | 0/10 [00:00<?, ?it/s]"
      ]
     },
     "metadata": {},
     "output_type": "display_data"
    },
    {
     "data": {
      "application/vnd.jupyter.widget-view+json": {
       "model_id": "a43d857f33b444aaa63f747023e1387d",
       "version_major": 2,
       "version_minor": 0
      },
      "text/plain": [
       "  0%|          | 0/20 [00:00<?, ?it/s]"
      ]
     },
     "metadata": {},
     "output_type": "display_data"
    },
    {
     "data": {
      "application/vnd.jupyter.widget-view+json": {
       "model_id": "52989740bbee48a08f1d18e2306f67f5",
       "version_major": 2,
       "version_minor": 0
      },
      "text/plain": [
       "  0%|          | 0/20 [00:00<?, ?it/s]"
      ]
     },
     "metadata": {},
     "output_type": "display_data"
    },
    {
     "data": {
      "application/vnd.jupyter.widget-view+json": {
       "model_id": "bb59d6fe909342f88ee3ed9b32e506d8",
       "version_major": 2,
       "version_minor": 0
      },
      "text/plain": [
       "  0%|          | 0/20 [00:00<?, ?it/s]"
      ]
     },
     "metadata": {},
     "output_type": "display_data"
    },
    {
     "data": {
      "application/vnd.jupyter.widget-view+json": {
       "model_id": "5c325283bb4a4485959369e191f78d3c",
       "version_major": 2,
       "version_minor": 0
      },
      "text/plain": [
       "  0%|          | 0/20 [00:00<?, ?it/s]"
      ]
     },
     "metadata": {},
     "output_type": "display_data"
    },
    {
     "data": {
      "application/vnd.jupyter.widget-view+json": {
       "model_id": "d5c9c2009a834ff8b1347ab8b943f324",
       "version_major": 2,
       "version_minor": 0
      },
      "text/plain": [
       "  0%|          | 0/20 [00:00<?, ?it/s]"
      ]
     },
     "metadata": {},
     "output_type": "display_data"
    },
    {
     "data": {
      "application/vnd.jupyter.widget-view+json": {
       "model_id": "600a9a62f0ef425391297bd23b6e1636",
       "version_major": 2,
       "version_minor": 0
      },
      "text/plain": [
       "  0%|          | 0/20 [00:00<?, ?it/s]"
      ]
     },
     "metadata": {},
     "output_type": "display_data"
    },
    {
     "data": {
      "application/vnd.jupyter.widget-view+json": {
       "model_id": "8a422883f3e74ceb8e780a3f4dc182b6",
       "version_major": 2,
       "version_minor": 0
      },
      "text/plain": [
       "  0%|          | 0/20 [00:00<?, ?it/s]"
      ]
     },
     "metadata": {},
     "output_type": "display_data"
    },
    {
     "data": {
      "application/vnd.jupyter.widget-view+json": {
       "model_id": "7b538fdd8dbd47fc8419b1f0b402ce22",
       "version_major": 2,
       "version_minor": 0
      },
      "text/plain": [
       "  0%|          | 0/20 [00:00<?, ?it/s]"
      ]
     },
     "metadata": {},
     "output_type": "display_data"
    },
    {
     "data": {
      "application/vnd.jupyter.widget-view+json": {
       "model_id": "2df77f8395ce406ab706c9a8f51f8d8a",
       "version_major": 2,
       "version_minor": 0
      },
      "text/plain": [
       "  0%|          | 0/20 [00:00<?, ?it/s]"
      ]
     },
     "metadata": {},
     "output_type": "display_data"
    },
    {
     "data": {
      "application/vnd.jupyter.widget-view+json": {
       "model_id": "8b4add564f3347d28cff25706f0914c3",
       "version_major": 2,
       "version_minor": 0
      },
      "text/plain": [
       "  0%|          | 0/20 [00:00<?, ?it/s]"
      ]
     },
     "metadata": {},
     "output_type": "display_data"
    },
    {
     "data": {
      "application/vnd.jupyter.widget-view+json": {
       "model_id": "a60c69996aae425b8959511ba4711727",
       "version_major": 2,
       "version_minor": 0
      },
      "text/plain": [
       "  0%|          | 0/20 [00:00<?, ?it/s]"
      ]
     },
     "metadata": {},
     "output_type": "display_data"
    },
    {
     "data": {
      "application/vnd.jupyter.widget-view+json": {
       "model_id": "7816c3eee722418a96d4d38d7ab35d3d",
       "version_major": 2,
       "version_minor": 0
      },
      "text/plain": [
       "  0%|          | 0/20 [00:00<?, ?it/s]"
      ]
     },
     "metadata": {},
     "output_type": "display_data"
    }
   ],
   "source": [
    "#Relevance calculation per episode top1\n",
    "dictofrelevance=copy.deepcopy(targetkey_filelist)\n",
    "for key, value in tqdm(targetkey_filelist.items()): #for each IAB Label\n",
    "    if len(targetkey_filelist[key])==0:\n",
    "        continue\n",
    "    for i in tqdm(range(len(targetkey_filelist[key]))): #for each File\n",
    "        index=materialID.index(targetkey_filelist[key][i])\n",
    "        x=target_dict[key] #Index of the target label\n",
    "        MaxAggregation=defaultdict(list)\n",
    "\n",
    "        for l in range(len(newmetalist[index])): #For each Segment\n",
    "            # print(len(newmetalist[index]))\n",
    "            if len(newmetalist[index][l])==0: \n",
    "                continue\n",
    "            emb1=model.encode(newmetalist[index][l]) #, convert_to_tensor=True)\n",
    "            emb2=model.encode(targetlistchild) #, convert_to_tensor=True)\n",
    "            cos_sim=util.cos_sim(emb1,emb2)\n",
    "\n",
    "        #Add all pairs to a list with their cosine similarity score\n",
    "        \n",
    "            for k in range(cos_sim.shape[1]):\n",
    "                all_sentence_combinations=[]\n",
    "                for j in range(cos_sim.shape[0]):\n",
    "                    all_sentence_combinations.append([cos_sim[j][k], j, k])\n",
    "                all_sentence_combinations = sorted(all_sentence_combinations, key=lambda x: x[0], reverse=True)\n",
    "                MaxAggregation[k].append(all_sentence_combinations[0])\n",
    "    \n",
    "     \n",
    "        dictofrelevance[key][i]={dictofrelevance[key][i]:MaxAggregation}\n",
    "     \n",
    "\n",
    "with open('Relevance_SimCSE.pkl', 'wb') as f:\n",
    "    pickle.dump(dictofrelevance, f)   \n",
    " \n",
    "        #RS and NRS for OG Class\n",
    "\n",
    "        # RSlist=MaxAggregation[x]\n",
    "        # score=[]\n",
    "        # for s in RSlist:\n",
    "        #     score.append(s[0])\n",
    "\n",
    "        # rs=sum(score)/len(score)\n",
    "\n",
    "        # NRSlist=NRS_dict[key]\n",
    "        # nrsdenom=sum(NRSlist)-rs/len(NRSlist)\n",
    "\n",
    "        # NRS=rs/nrsdenom\n",
    "\n",
    "        \n",
    "        # #RS and ClassPredicted for Predicted Class\n",
    "\n",
    "        # order=[]\n",
    "        # for key in MaxAggregation.keys():\n",
    "        #     l=MaxAggregation[key]\n",
    "        #     summ=[]\n",
    "        #     for val in l:\n",
    "        #         summ.append(val[0])\n",
    "        #     order.append(sum(summ))\n",
    "        \n",
    "        \n",
    "        # max_val=max(order)\n",
    "        # max_index=order.index(max_val)\n",
    "        # ClassPredicted=get_key(max_index)\n",
    "\n",
    "        # RSlistss=MaxAggregation[max_index]\n",
    "        # scoress=[]\n",
    "        # for s in RSlistss:\n",
    "        #     scoress.append(s[0])\n",
    "\n",
    "        # RS_CP=sum(scoress)/len(scoress)\n",
    "\n",
    "        # d={targetkey_filelist[key][i]:{'NRS': NRS, \"Class_Predicted\": ClassPredicted, \"RS_CP\": RS_CP, \"RS_OG\": rs }}\n",
    "\n",
    "        \n",
    "\n",
    "\n",
    "        \n",
    "\n",
    "\n",
    "        \n",
    "\n",
    "    "
   ]
  },
  {
   "cell_type": "code",
   "execution_count": null,
   "metadata": {},
   "outputs": [],
   "source": []
  },
  {
   "cell_type": "code",
   "execution_count": 16,
   "metadata": {},
   "outputs": [],
   "source": [
    "with open('Relevance_SimCSE.pkl', 'rb') as f:\n",
    "     Relevance_dict=pickle.load(f)"
   ]
  },
  {
   "cell_type": "code",
   "execution_count": 17,
   "metadata": {},
   "outputs": [],
   "source": [
    "#Def Top1 Agg\n",
    "def segmentcombiner(dic): #for segments to final dic of relevance scores\n",
    "    dic1=copy.deepcopy(dic)\n",
    "    filename=list(dic1.keys())[0]\n",
    "    defdict=dic1[filename]\n",
    "    for k,v in defdict.items():\n",
    "        RSlist=defdict[k]\n",
    "        score=[]\n",
    "        for s in RSlist:\n",
    "            score.append(s[0])\n",
    "\n",
    "        rs=sum(score)/len(score)\n",
    "        defdict[k]=rs\n",
    "    d={filename:defdict}\n",
    "    return d\n",
    "    \n"
   ]
  },
  {
   "cell_type": "code",
   "execution_count": null,
   "metadata": {},
   "outputs": [],
   "source": [
    "#Def Top3 and Harm Agg\n",
    "# def segmentcombinertop3Harm(dic): #for segments to final dic of relevance scores\n",
    "#     dic1=copy.deepcopy(dic)\n",
    "#     filename=list(dic1.keys())[0]\n",
    "#     defdict=dic1[filename]\n",
    "#     for k,v in defdict.items():\n",
    "#         RSlist=defdict[k][0]\n",
    "#         score=[]\n",
    "#         for s in RSlist:\n",
    "#             score.append(s[0])\n",
    "\n",
    "#         rs=sum(score)/len(score)\n",
    "#         defdict[k]=rs\n",
    "#     d={filename:defdict}\n",
    "#     return d"
   ]
  },
  {
   "cell_type": "code",
   "execution_count": null,
   "metadata": {},
   "outputs": [],
   "source": [
    "# with open('Relevance_regular.pkl', 'rb') as f:\n",
    "#      Relevance_dict=pickle.load(f)"
   ]
  },
  {
   "cell_type": "code",
   "execution_count": 19,
   "metadata": {},
   "outputs": [
    {
     "data": {
      "application/vnd.jupyter.widget-view+json": {
       "model_id": "d15d980b662940be957b5b424b345cd8",
       "version_major": 2,
       "version_minor": 0
      },
      "text/plain": [
       "  0%|          | 0/29 [00:00<?, ?it/s]"
      ]
     },
     "metadata": {},
     "output_type": "display_data"
    },
    {
     "data": {
      "application/vnd.jupyter.widget-view+json": {
       "model_id": "80186a41991b42c59ca4fc6a8f608e50",
       "version_major": 2,
       "version_minor": 0
      },
      "text/plain": [
       "  0%|          | 0/29 [00:00<?, ?it/s]"
      ]
     },
     "metadata": {},
     "output_type": "display_data"
    },
    {
     "data": {
      "application/vnd.jupyter.widget-view+json": {
       "model_id": "dd20fb32093f4487b1130ea7ed21e750",
       "version_major": 2,
       "version_minor": 0
      },
      "text/plain": [
       "  0%|          | 0/29 [00:00<?, ?it/s]"
      ]
     },
     "metadata": {},
     "output_type": "display_data"
    },
    {
     "data": {
      "application/vnd.jupyter.widget-view+json": {
       "model_id": "3e81b7081e1c4abba8d2c1c29abb14fd",
       "version_major": 2,
       "version_minor": 0
      },
      "text/plain": [
       "  0%|          | 0/29 [00:00<?, ?it/s]"
      ]
     },
     "metadata": {},
     "output_type": "display_data"
    },
    {
     "data": {
      "application/vnd.jupyter.widget-view+json": {
       "model_id": "d7742c1c78b944bea0d0199dd96d41e8",
       "version_major": 2,
       "version_minor": 0
      },
      "text/plain": [
       "  0%|          | 0/29 [00:00<?, ?it/s]"
      ]
     },
     "metadata": {},
     "output_type": "display_data"
    },
    {
     "data": {
      "application/vnd.jupyter.widget-view+json": {
       "model_id": "b239f38c7ebb4998abe724b7763c3366",
       "version_major": 2,
       "version_minor": 0
      },
      "text/plain": [
       "  0%|          | 0/29 [00:00<?, ?it/s]"
      ]
     },
     "metadata": {},
     "output_type": "display_data"
    },
    {
     "data": {
      "application/vnd.jupyter.widget-view+json": {
       "model_id": "40e61a94c33c4e2bb4add8652db3cb82",
       "version_major": 2,
       "version_minor": 0
      },
      "text/plain": [
       "  0%|          | 0/29 [00:00<?, ?it/s]"
      ]
     },
     "metadata": {},
     "output_type": "display_data"
    },
    {
     "data": {
      "application/vnd.jupyter.widget-view+json": {
       "model_id": "222e39ffb06848d68ac74bcfb5cca9ac",
       "version_major": 2,
       "version_minor": 0
      },
      "text/plain": [
       "  0%|          | 0/29 [00:00<?, ?it/s]"
      ]
     },
     "metadata": {},
     "output_type": "display_data"
    },
    {
     "data": {
      "application/vnd.jupyter.widget-view+json": {
       "model_id": "816e761c62f84ca59e727f1fd45c82c3",
       "version_major": 2,
       "version_minor": 0
      },
      "text/plain": [
       "  0%|          | 0/29 [00:00<?, ?it/s]"
      ]
     },
     "metadata": {},
     "output_type": "display_data"
    },
    {
     "data": {
      "application/vnd.jupyter.widget-view+json": {
       "model_id": "ce1bb0ac03174ce3aedc1c485edd7a1a",
       "version_major": 2,
       "version_minor": 0
      },
      "text/plain": [
       "  0%|          | 0/29 [00:00<?, ?it/s]"
      ]
     },
     "metadata": {},
     "output_type": "display_data"
    },
    {
     "data": {
      "application/vnd.jupyter.widget-view+json": {
       "model_id": "3480f23bbd1c4d41ab7ab7e6490df39f",
       "version_major": 2,
       "version_minor": 0
      },
      "text/plain": [
       "  0%|          | 0/29 [00:00<?, ?it/s]"
      ]
     },
     "metadata": {},
     "output_type": "display_data"
    },
    {
     "data": {
      "application/vnd.jupyter.widget-view+json": {
       "model_id": "69e791cf09974bed9c5672c8980606ea",
       "version_major": 2,
       "version_minor": 0
      },
      "text/plain": [
       "  0%|          | 0/29 [00:00<?, ?it/s]"
      ]
     },
     "metadata": {},
     "output_type": "display_data"
    },
    {
     "data": {
      "application/vnd.jupyter.widget-view+json": {
       "model_id": "9cbbbd39b8114eb09733e52f4e9fcec1",
       "version_major": 2,
       "version_minor": 0
      },
      "text/plain": [
       "  0%|          | 0/29 [00:00<?, ?it/s]"
      ]
     },
     "metadata": {},
     "output_type": "display_data"
    },
    {
     "data": {
      "application/vnd.jupyter.widget-view+json": {
       "model_id": "d63c31cc8ea94413a414b299916e6d40",
       "version_major": 2,
       "version_minor": 0
      },
      "text/plain": [
       "  0%|          | 0/29 [00:00<?, ?it/s]"
      ]
     },
     "metadata": {},
     "output_type": "display_data"
    },
    {
     "data": {
      "application/vnd.jupyter.widget-view+json": {
       "model_id": "d15c9f1af7014516975a0fcb852941b5",
       "version_major": 2,
       "version_minor": 0
      },
      "text/plain": [
       "  0%|          | 0/29 [00:00<?, ?it/s]"
      ]
     },
     "metadata": {},
     "output_type": "display_data"
    },
    {
     "data": {
      "application/vnd.jupyter.widget-view+json": {
       "model_id": "6ab720407ae54cdbaf84c1f05df15c18",
       "version_major": 2,
       "version_minor": 0
      },
      "text/plain": [
       "  0%|          | 0/29 [00:00<?, ?it/s]"
      ]
     },
     "metadata": {},
     "output_type": "display_data"
    },
    {
     "data": {
      "application/vnd.jupyter.widget-view+json": {
       "model_id": "d5ffe5510cd542eab8f7757aab360746",
       "version_major": 2,
       "version_minor": 0
      },
      "text/plain": [
       "  0%|          | 0/29 [00:00<?, ?it/s]"
      ]
     },
     "metadata": {},
     "output_type": "display_data"
    },
    {
     "data": {
      "application/vnd.jupyter.widget-view+json": {
       "model_id": "ecc2fcd787054cdba774e735cc144138",
       "version_major": 2,
       "version_minor": 0
      },
      "text/plain": [
       "  0%|          | 0/29 [00:00<?, ?it/s]"
      ]
     },
     "metadata": {},
     "output_type": "display_data"
    },
    {
     "data": {
      "application/vnd.jupyter.widget-view+json": {
       "model_id": "ce3963cb29d24cf0bf0f91f2d5468523",
       "version_major": 2,
       "version_minor": 0
      },
      "text/plain": [
       "  0%|          | 0/29 [00:00<?, ?it/s]"
      ]
     },
     "metadata": {},
     "output_type": "display_data"
    },
    {
     "data": {
      "application/vnd.jupyter.widget-view+json": {
       "model_id": "9255f98d467d4e778a8997c68846a559",
       "version_major": 2,
       "version_minor": 0
      },
      "text/plain": [
       "  0%|          | 0/29 [00:00<?, ?it/s]"
      ]
     },
     "metadata": {},
     "output_type": "display_data"
    },
    {
     "data": {
      "application/vnd.jupyter.widget-view+json": {
       "model_id": "b3720c637e76478bb2879a0dc7cd227d",
       "version_major": 2,
       "version_minor": 0
      },
      "text/plain": [
       "  0%|          | 0/29 [00:00<?, ?it/s]"
      ]
     },
     "metadata": {},
     "output_type": "display_data"
    },
    {
     "name": "stdout",
     "output_type": "stream",
     "text": [
      "{'Automotive': 1.1038001837779903, 'Books and Literature': 0.9926491622200283, 'Business and Finance': 1.0290048029361425, 'Education': 1.154467638061618, 'Events and Attractions': 1.05181891492986, 'Family and Relationships': 1.0694728664272874, 'Food & Drink': 1.3894025419101697, 'Hobbies & Interests': 1.0105054261463595, 'Medical Health': 1.2543368182165826, 'Music and Audio': 1.0292899132398017, 'Pets': 1.0265670032065435, 'Real Estate': 1.5735022311513598, 'Religion & Spirituality': 1.0518353315076476, 'Science': 0.9281737516857087, 'Shopping': 0.9714797868249403, 'Sports': 1.0712163236442018, 'Style & Fashion': 1.4987482757123105, 'Technology & Computing': 1.3425803722028316, 'Television': 1.0144864459966496, 'Travel': 1.1898603374097056}\n",
      "None\n"
     ]
    }
   ],
   "source": [
    "print(NRS(Relevance_dict))"
   ]
  },
  {
   "cell_type": "code",
   "execution_count": null,
   "metadata": {},
   "outputs": [],
   "source": []
  },
  {
   "cell_type": "code",
   "execution_count": 18,
   "metadata": {},
   "outputs": [],
   "source": [
    "#Def NRS for top1 \n",
    "def NRS(dict):\n",
    "    d={}\n",
    "    for k,v in tqdm(dict.items()):#for each label\n",
    "        if len(dict[k]) == 0:\n",
    "            continue\n",
    "        d1={}\n",
    "        for target in tqdm(targetlist): #for each topic\n",
    "            scoreforfiles=[]\n",
    "            if len(dict[target]) == 0:\n",
    "                continue\n",
    "            for i in range(len(dict[k])): #for each file in label\n",
    "                x=target_dict[target]\n",
    "                combinedsegments=segmentcombiner(dict[k][i])\n",
    "                key=list(combinedsegments.keys())[0]\n",
    "                scoreforfiles.append(float(combinedsegments[key][x])) #combine segments \n",
    "            avg=sum(scoreforfiles)/len(scoreforfiles)\n",
    "            d1[target]=avg\n",
    "        d[k]=d1\n",
    "\n",
    "    finaldict={}\n",
    "    for k,v in d.items():\n",
    "        numerator=d[k][k]\n",
    "        denominator=[]\n",
    "        for kk,vv in d.items():\n",
    "            denominator.append(d[kk][k])\n",
    "        avgdenominator=(sum(denominator)-numerator)/(len(denominator)-1)\n",
    "        NRS=numerator/avgdenominator\n",
    "        finaldict[k]=NRS\n",
    "    print(finaldict)\n",
    "\n",
    "\n",
    "            \n",
    "        "
   ]
  },
  {
   "cell_type": "code",
   "execution_count": null,
   "metadata": {},
   "outputs": [],
   "source": [
    "print(RSMetrics(Relevance_dict))"
   ]
  },
  {
   "cell_type": "code",
   "execution_count": null,
   "metadata": {},
   "outputs": [],
   "source": [
    "#Def RS at 0.15, 0.20, 0.35 and Mean RS \n",
    "def RSMetrics(dict):\n",
    "    d={}\n",
    "    for k,v in tqdm(dict.items()): #for each label\n",
    "        if len(dict[k]) == 0:\n",
    "            continue\n",
    "        scoreforfiles=[]\n",
    "        for i in range(len(dict[k])): #for each file in label\n",
    "            x=target_dict[k]\n",
    "            combinedsegments=segmentcombiner(dict[k][i])\n",
    "            key=list(combinedsegments.keys())[0]\n",
    "            scoreforfiles.append(round(float(combinedsegments[key][x]),2))\n",
    "        rs15=[]\n",
    "        rs20=[]\n",
    "        rs35=[]\n",
    "        for item in scoreforfiles:\n",
    "            if item >= 0.15:\n",
    "                rs15.append(item)\n",
    "            if item >= 0.20:\n",
    "                rs20.append(item)\n",
    "            if item >= 0.35:\n",
    "                rs35.append(item)\n",
    "\n",
    "        RS15=(len(rs15)/len(scoreforfiles))*100\n",
    "        RS20=(len(rs20)/len(scoreforfiles))*100\n",
    "        RS35=(len(rs35)/len(scoreforfiles))*100\n",
    "        d1={\"RS15\":RS15, \"RS20\": RS20, \"RS35\": RS35}\n",
    "        d[k]=d1\n",
    "    \n",
    "    return d\n",
    "        \n",
    "    \n"
   ]
  },
  {
   "cell_type": "code",
   "execution_count": null,
   "metadata": {},
   "outputs": [],
   "source": [
    "#Def RS at 0.15, 0.20, 0.35 and Mean RS \n",
    "def RSMetricsHM(dict):\n",
    "    d={}\n",
    "    for k,v in tqdm(dict.items()): #for each label\n",
    "        if len(dict[k]) == 0:\n",
    "            continue\n",
    "        scoreforfiles=[]\n",
    "        for i in range(len(dict[k])): #for each file in label\n",
    "            x=target_dict[k]\n",
    "            combinedsegments=segmentcombiner(dict[k][i])\n",
    "            key=list(combinedsegments.keys())[0]\n",
    "            ll=(dict[k][i][key][x])\n",
    "            lll=[]\n",
    "            for score in ll:\n",
    "                print(score[1])\n",
    "                lll.append(score[1][0][2])\n",
    "            avg=sum(lll)/len(ll)\n",
    "            scoreforfiles.append(round(float(avg),2))\n",
    "        rs15=[]\n",
    "        rs20=[]\n",
    "        rs35=[]\n",
    "        for item in scoreforfiles:\n",
    "            if item >= 0.15:\n",
    "                rs15.append(item)\n",
    "            if item >= 0.20:\n",
    "                rs20.append(item)\n",
    "            if item >= 0.35:\n",
    "                rs35.append(item)\n",
    "\n",
    "        RS15=(len(rs15)/len(scoreforfiles))*100\n",
    "        RS20=(len(rs20)/len(scoreforfiles))*100\n",
    "        RS35=(len(rs35)/len(scoreforfiles))*100\n",
    "        d1={\"RS15\":RS15, \"RS20\": RS20, \"RS35\": RS35}\n",
    "        d[k]=d1\n",
    "    \n",
    "    return d\n",
    "        "
   ]
  },
  {
   "cell_type": "code",
   "execution_count": null,
   "metadata": {},
   "outputs": [],
   "source": [
    "print(Prediction(Relevance_dict))"
   ]
  },
  {
   "cell_type": "code",
   "execution_count": 20,
   "metadata": {},
   "outputs": [],
   "source": [
    "#Def Predicted Class and RS of Class\n",
    "def Prediction(dict):\n",
    "    d={}\n",
    "    for k,v in tqdm(dict.items()): #for each label\n",
    "        if len(dict[k]) == 0:\n",
    "            continue\n",
    "        d1={}\n",
    "        for i in range(len(dict[k])): #for each file in label\n",
    "            combinedsegments=segmentcombiner(dict[k][i])\n",
    "            key=list(combinedsegments.keys())[0]\n",
    "            order=[]\n",
    "            for kk in combinedsegments[key].keys():\n",
    "                l=combinedsegments[key][kk]\n",
    "                order.append(l)\n",
    "            max_val=max(order)\n",
    "            max_index=order.index(max_val)\n",
    "            ClassPredicted=get_key(max_index)\n",
    "            RS_CP=combinedsegments[key][max_index]\n",
    "            d2={'ClassPredicted': ClassPredicted, 'RS_CP': RS_CP }\n",
    "            d1[key]=d2\n",
    "        d[k]=d1\n",
    "\n",
    "    return d\n",
    "\n",
    "            # \n",
    "            # scoreforfiles.append(float(combinedsegments[key][x]0))\n",
    "\n",
    "            # order=[]\n",
    "            # for key in MaxAggregation.keys():\n",
    "            #     l=MaxAggregation[key]\n",
    "            #     summ=[]\n",
    "            #     for val in l:\n",
    "            #         summ.append(val[0])\n",
    "            #     order.append(sum(summ))\n",
    "            \n",
    "            \n",
    "            # max_val=max(order)\n",
    "            # max_index=order.index(max_val)\n",
    "            # ClassPredicted=get_key(max_index)\n",
    "\n",
    "            # RSlistss=MaxAggregation[max_index]\n",
    "            # scoress=[]\n",
    "            # for s in RSlistss:\n",
    "            #     scoress.append(s[0])\n",
    "\n",
    "            # RS_CP=sum(scoress)/len(scoress)\n",
    "    "
   ]
  },
  {
   "cell_type": "code",
   "execution_count": 22,
   "metadata": {},
   "outputs": [
    {
     "data": {
      "application/vnd.jupyter.widget-view+json": {
       "model_id": "b4374f6d8853473891a3c3a14ca59d95",
       "version_major": 2,
       "version_minor": 0
      },
      "text/plain": [
       "  0%|          | 0/29 [00:00<?, ?it/s]"
      ]
     },
     "metadata": {},
     "output_type": "display_data"
    },
    {
     "name": "stdout",
     "output_type": "stream",
     "text": [
      "({'Automotive': 0.0, 'Books and Literature': 5.0, 'Business and Finance': 15.0, 'Education': 20.0, 'Events and Attractions': 0.0, 'Family and Relationships': 45.0, 'Food & Drink': 65.0, 'Hobbies & Interests': 0.0, 'Medical Health': 60.0, 'Music and Audio': 25.0, 'Pets': 15.0, 'Real Estate': 90.0, 'Religion & Spirituality': 15.0, 'Science': 0.0, 'Shopping': 5.0, 'Sports': 15.0, 'Style & Fashion': 100.0, 'Technology & Computing': 0.0, 'Television': 0.0, 'Travel': 5.0}, 24.0)\n"
     ]
    }
   ],
   "source": [
    "print(mAP(Relevance_dict))"
   ]
  },
  {
   "cell_type": "code",
   "execution_count": 21,
   "metadata": {},
   "outputs": [],
   "source": [
    "#Def mAP\n",
    "def mAP(dic):\n",
    "    res=Prediction(dic)\n",
    "    d={}\n",
    "    mAP=[]\n",
    "    for k,v in res.items():\n",
    "        classes=[]\n",
    "        truth=[]\n",
    "\n",
    "        for kk,vv in res[k].items():\n",
    "            ClassPred=res[k][kk]['ClassPredicted']\n",
    "            if ClassPred==k:\n",
    "                classes.append(ClassPred)\n",
    "            truth.append(k)\n",
    "        precision=(len(classes)/len(truth))*100\n",
    "        mAP.append(precision)\n",
    "        d[k]=precision\n",
    "    mAPfinal=sum(mAP)/len(mAP)\n",
    "    return(d,mAPfinal)\n",
    "  \n",
    "\n",
    "\n"
   ]
  },
  {
   "cell_type": "code",
   "execution_count": null,
   "metadata": {},
   "outputs": [],
   "source": [
    "Relevance_dict.items()"
   ]
  },
  {
   "cell_type": "code",
   "execution_count": 78,
   "metadata": {},
   "outputs": [],
   "source": [
    "def topksentences(dict):\n",
    "    d=defaultdict(list)\n",
    "    for k,v in tqdm(dict.items()):#for each label\n",
    "        if len(dict[k]) == 0:\n",
    "            continue\n",
    "        d1={}\n",
    "        scoreforfiles=[]\n",
    " \n",
    "        for i in range(len(dict[k])): #for each file in label\n",
    "            x=target_dict[k]\n",
    "            seg_rel=copy.deepcopy(dict[k][i])\n",
    "            filename=list(seg_rel.keys())[0]\n",
    "            defdict=seg_rel[filename]\n",
    "            segments=defdict[x]\n",
    "            for count,seg in enumerate(segments):\n",
    "                seg.append(filename)\n",
    "                seg.append(count)                \n",
    "                scoreforfiles.append(seg)\n",
    "        sort=sorted(scoreforfiles, key=lambda x: x[0], reverse=True)\n",
    "        Final=sort[0:20]\n",
    "        \n",
    "        for items in Final:\n",
    "            index=materialID.index(items[3])\n",
    "            try:\n",
    "                items.append(newmetalist[index][items[4]][items[1]])\n",
    "            except Exception as e:\n",
    "                print(e)\n",
    "                print(index,items[4],items[1])\n",
    "                continue\n",
    "        print(Final)\n",
    "        ff=[]\n",
    "        for f in Final:\n",
    "            ff.append(f[5])\n",
    "    \n",
    "        d[k].append(ff)\n",
    "    \n",
    "        \n",
    "\n",
    "                \n",
    "                "
   ]
  },
  {
   "cell_type": "code",
   "execution_count": 58,
   "metadata": {},
   "outputs": [
    {
     "name": "stdout",
     "output_type": "stream",
     "text": [
      "5659\n"
     ]
    }
   ],
   "source": [
    "index=materialID.index('FILE_MAF_20211223T065129Z_GMO_00000000009448_01')\n",
    "print(index)"
   ]
  },
  {
   "cell_type": "code",
   "execution_count": 79,
   "metadata": {},
   "outputs": [
    {
     "data": {
      "application/vnd.jupyter.widget-view+json": {
       "model_id": "08e87bde8e5e4117b495c038a991c800",
       "version_major": 2,
       "version_minor": 0
      },
      "text/plain": [
       "  0%|          | 0/29 [00:00<?, ?it/s]"
      ]
     },
     "metadata": {},
     "output_type": "display_data"
    },
    {
     "name": "stdout",
     "output_type": "stream",
     "text": [
      "[[tensor(0.4367), 420, 0, 'FILE_MAF_20211223T065129Z_GMO_00000000009448_01', 1, 'the most successful new segment of the food service industry today food truck .'], [tensor(0.3451), 91, 0, 'FILE_MAF_20211223T061005Z_GMO_00000000113301_01', 1, 'it will have a rental tag in the front windshield and one of those license plate border .'], [tensor(0.3004), 40, 0, 'FILE_MAF_20211223T064314Z_GMO_00000000029163_01', 1, 'alarm sound   truck 81 squad 3 ambulance 61 . single vehicle accident .'], [tensor(0.2938), 423, 0, 'FILE_MAF_20211223T064819Z_GMO_00000000002709_01', 0, 'this be one of they .'], [tensor(0.2903), 63, 0, 'FILE_MAF_20211222T231607Z_GMO_00000000294982_01', 4, 'for example it feature an ergonomic nonslip grip and it be make from a lightweight alloy develop for formula 1 racing .'], [tensor(0.2886), 42, 0, 'FILE_MAF_20211222T174857Z_GMO_00000000334049_01', 0, 'alarm blare   truck 81 ambulance 61 . car accident .'], [tensor(0.2794), 378, 0, 'FILE_MAF_20211223T064919Z_GMO_00000000002707_01', 1, 'alarm blare   engine 51 . truck 81 . squad 3 .   cool shark .'], [tensor(0.2783), 66, 0, 'FILE_MAF_20211223T065127Z_GMO_00000000002637_01', 1, 'alarm blare woman truck 81 squad 3 ambulance 61 . person trap .'], [tensor(0.2713), 52, 0, 'FILE_MAF_20211222T230805Z_GMO_00000000273733_01', 2, 'door opening door close   hey take a look at the boat this morning .'], [tensor(0.2700), 78, 0, 'FILE_MAF_20211223T064615Z_GMO_00000000106986_01', 1, 'station alert   engine 51 truck 81 ambulance 61 possible drowning .'], [tensor(0.2694), 120, 0, 'FILE_MAF_20211223T065130Z_GMO_00000000002708_01', 1, 'rice aunt francine she get it in her head that she need a little convertible mustang for her later year .'], [tensor(0.2623), 61, 0, 'FILE_MAF_20211222T230805Z_GMO_00000000273733_01', 0, 'vehicle accident .'], [tensor(0.2599), 160, 0, 'FILE_MAF_20211223T065125Z_GMO_00000000027759_01', 1, 'siren wail indistinct radio chatter   cruz severide 360 that building for stability .'], [tensor(0.2593), 33, 0, 'FILE_MAF_20211222T214634Z_GMO_00000000029298_01', 2, 'the cadillac of table tennis paddle .'], [tensor(0.2556), 74, 0, 'FILE_MAF_20211223T064615Z_GMO_00000000106986_01', 4, 'with who station alert   truck 81 squad 3 battalion 25 ambulance 61 house collapse .'], [tensor(0.2503), 72, 0, 'FILE_MAF_20211223T064314Z_GMO_00000000029163_01', 4, 'alarm sound   engine 51 truck 81 squad 3 ambulance 61 . house fire 871 carver drive .'], [tensor(0.2495), 97, 0, 'FILE_MAF_20211222T214634Z_GMO_00000000029298_01', 5, 'mustang belong to a kelly   severide .'], [tensor(0.2482), 63, 0, 'FILE_MAF_20211223T065129Z_GMO_00000000009448_01', 0, 'alarm sound   ambulance 61 truck 81 squad three boat accident 22nd and canal .'], [tensor(0.2481), 77, 0, 'FILE_MAF_20211223T065127Z_GMO_00000000002637_01', 3, 'alarm blare woman engine 51 truck 81 squad 3 ambulance 61 battalion 25 . structure fire .'], [tensor(0.2473), 104, 0, 'FILE_MAF_20211222T230805Z_GMO_00000000273733_01', 3, 'cb radio static   ambulance 61 truck 81 engine 51 squad 3 ...   report I again I do not care .']]\n",
      "list index out of range\n",
      "2994 0 60\n",
      "list index out of range\n",
      "2372 1 153\n",
      "list index out of range\n",
      "2802 0 39\n",
      "list index out of range\n",
      "835 1 5\n",
      "list index out of range\n",
      "903 1 103\n",
      "list index out of range\n",
      "2540 1 108\n",
      "list index out of range\n",
      "2540 3 140\n",
      "list index out of range\n",
      "810 3 211\n",
      "list index out of range\n",
      "823 0 48\n",
      "[[tensor(0.4880), 215, 1, 'FILE_MAF_20210802T164609Z_GMO_00000000044398_01', 0, 'care to make a wish   I could use a dozen more novel by j.b . fletcher .'], [tensor(0.4199), 60, 1, 'FILE_MAF_20210803T004745Z_GMO_00000000044086_01', 0], [tensor(0.4119), 34, 1, 'FILE_MAF_20210730T233513Z_GMO_00000000044080_01', 2, 'thank I like it myself .'], [tensor(0.3976), 35, 1, 'FILE_MAF_20210729T074052Z_GMO_00000000044294_01', 1, 'well it be only a matter of time .'], [tensor(0.3837), 153, 1, 'FILE_MAF_20210730T234421Z_GMO_00000000044076_01', 1], [tensor(0.3688), 105, 1, 'FILE_MAF_20210729T083302Z_GMO_00000000044265_01', 4, 'I see .'], [tensor(0.3532), 39, 1, 'FILE_MAF_20210802T172722Z_GMO_00000000142565_01', 0], [tensor(0.3471), 132, 1, 'FILE_MAF_20210730T233617Z_GMO_00000000044072_01', 4, 'uh please come inside .'], [tensor(0.3437), 5, 1, 'FILE_MAF_20210729T083302Z_GMO_00000000044265_01', 1], [tensor(0.3373), 19, 1, 'FILE_MAF_20210729T073646Z_GMO_00000000044249_01', 2, 'bud say I be real clumsy not much good for anything .'], [tensor(0.3352), 103, 1, 'FILE_MAF_20210729T092828Z_GMO_00000000044326_01', 1], [tensor(0.3345), 51, 1, 'FILE_MAF_20210729T074455Z_GMO_00000000044309_01', 2, 'now I be make the change you request when mr . greenstreet happen to stop by my bench .'], [tensor(0.3343), 100, 1, 'FILE_MAF_20210729T120911Z_GMO_00000000044348_01', 3, 'they will lower the ceiling put in their fluorescent light paint over the mural and start peddle their lowend schlock .'], [tensor(0.3324), 108, 1, 'FILE_MAF_20210730T233513Z_GMO_00000000044080_01', 1], [tensor(0.3305), 18, 1, 'FILE_MAF_20210729T120911Z_GMO_00000000044348_01', 1, 'that much can be liquid tomorrow .'], [tensor(0.3222), 79, 1, 'FILE_MAF_20210729T075657Z_GMO_00000000044301_01', 3, 'let he go henry .'], [tensor(0.3194), 140, 1, 'FILE_MAF_20210730T233513Z_GMO_00000000044080_01', 3], [tensor(0.3170), 211, 1, 'FILE_MAF_20210729T073651Z_GMO_00000000044264_01', 3], [tensor(0.3168), 48, 1, 'FILE_MAF_20210729T074455Z_GMO_00000000044309_01', 0], [tensor(0.3164), 21, 1, 'FILE_MAF_20210805T164954Z_GMO_00000000044095_01', 2, 'I have four day to finish thisthis book .']]\n",
      "list index out of range\n",
      "322 0 78\n",
      "list index out of range\n",
      "301 0 94\n",
      "list index out of range\n",
      "264 1 97\n",
      "[[tensor(0.4932), 78, 2, 'FILE_MAF_20210728T183513Z_GMO_00000000007330_01', 0], [tensor(0.4504), 5, 2, 'FILE_MAF_20210728T163639Z_GMO_00000000007100_01', 2, 'salesman and profit center .'], [tensor(0.4347), 51, 2, 'FILE_MAF_20210728T163639Z_GMO_00000000007100_01', 0, 'I have a test for business school tomorrow night .'], [tensor(0.4207), 94, 2, 'FILE_MAF_20210728T181505Z_GMO_00000000007230_01', 0], [tensor(0.4152), 75, 2, 'FILE_MAF_20210727T231237Z_GMO_00000000001660_01', 0, \"the company 's top salesman and the creator of computron .\"], [tensor(0.4146), 97, 2, 'FILE_MAF_20210728T163741Z_GMO_00000000007105_01', 1], [tensor(0.4086), 99, 2, 'FILE_MAF_20210728T163639Z_GMO_00000000007100_01', 1, 'now one importantlife preserver in business be it support .'], [tensor(0.4071), 67, 2, 'FILE_MAF_20210727T231237Z_GMO_00000000001660_01', 1, 'what be that what kind of stuff be that   it be um it be a company evaluation form .'], [tensor(0.4062), 75, 2, 'FILE_MAF_20210803T150810Z_GMO_00000000108698_01', 1, 'what do we sell um ... do not matter .'], [tensor(0.3985), 76, 2, 'FILE_MAF_20210728T163134Z_GMO_00000000007137_01', 2, 'h&r block come on I mean I do not even know what they do . \"'], [tensor(0.3888), 56, 2, 'FILE_MAF_20210802T225204Z_GMO_00000000007468_01', 1, 'accounting department listen up .'], [tensor(0.3812), 56, 2, 'FILE_MAF_20210728T162831Z_GMO_00000000007007_01', 0, 'the warehouse world .'], [tensor(0.3774), 81, 2, 'FILE_MAF_20210727T231449Z_GMO_00000000001716_01', 2, 'I talk to corporate .'], [tensor(0.3774), 81, 2, 'FILE_MAF_20210727T231449Z_GMO_00000000001716_01', 3, 'I talk to corporate .'], [tensor(0.3725), 29, 2, 'FILE_MAF_20210728T181505Z_GMO_00000000007230_01', 1, 'everybody in here stat .'], [tensor(0.3723), 7, 2, 'FILE_MAF_20210728T183513Z_GMO_00000000007330_01', 2, 'I get cold foot a few day before and ...'], [tensor(0.3643), 17, 2, 'FILE_MAF_20210728T185222Z_GMO_00000000007421_01', 2, 'the economic downturn have be difficult recently force the closure of both camden and yonkers to be follow soon by what other branch for $ 500000 be it \" a \" scranton all murmur \" b \" buffalo \" c \" utica   what   or \" d \" toothbrush   I will say \" b \" buffalo final answer   that be correct   what be he talk about all chatter   scream   how do you know that   david wallace tell I   david be this true   okay everyone we be at a picnic today .'], [tensor(0.3627), 33, 2, 'FILE_MAF_20210728T185221Z_GMO_00000000007414_01', 2, 'it be a workplace .'], [tensor(0.3627), 33, 2, 'FILE_MAF_20210728T185221Z_GMO_00000000007414_01', 3, 'it be a workplace .'], [tensor(0.3609), 18, 2, 'FILE_MAF_20210728T162831Z_GMO_00000000007007_01', 2, 'the head of accounting .']]\n",
      "[[tensor(0.3674), 65, 3, 'FILE_MAF_20220321T225327Z_GMO_00000000354807_01', 3, 'belair academy huh man this place be like a college .'], [tensor(0.3428), 157, 3, 'FILE_MAF_20220321T225326Z_GMO_00000000354808_01', 2, 'it be your school your domain .'], [tensor(0.3317), 61, 3, 'FILE_MAF_20220321T225326Z_GMO_00000000354808_01', 0, \"there ' boarding school military academy .\"], [tensor(0.3306), 77, 3, 'FILE_MAF_20220505T091718Z_GMO_00000000354813_01', 0, 'it be one of the good school in the country .'], [tensor(0.3225), 192, 3, 'FILE_MAF_20220321T225326Z_GMO_00000000354808_01', 1, 'class do they offer   a few I think .'], [tensor(0.3162), 147, 3, 'FILE_MAF_20220321T225325Z_GMO_00000000354810_01', 2, 'I be a teacher there .'], [tensor(0.3148), 10, 3, 'FILE_MAF_20220321T225325Z_GMO_00000000354810_01', 0, 'mom and dad say that you be out here for a well education .'], [tensor(0.3148), 365, 3, 'FILE_MAF_20220321T225327Z_GMO_00000000354807_01', 1, 'mom and dad say that you be out here for a well education .'], [tensor(0.3005), 26, 3, 'FILE_MAF_20220321T225327Z_GMO_00000000354807_01', 4, 'I be at belair academy on scholarship .'], [tensor(0.2952), 47, 3, 'FILE_MAF_20220505T091718Z_GMO_00000000354814_01', 3, 'you would have to go on a lecture tour curate a travel exhibit .'], [tensor(0.2586), 21, 3, 'FILE_MAF_20220321T225325Z_GMO_00000000354810_01', 1, 'my cooking tutorial have high engagement level and I be average about eight percent monthly growth in follower .'], [tensor(0.2519), 7, 3, 'FILE_MAF_20220505T091718Z_GMO_00000000354813_01', 4, 'you leave two or three job internship .'], [tensor(0.2510), 118, 3, 'FILE_MAF_20220321T225329Z_GMO_00000000354811_01', 1, 'oh what be this jawn belair academy .'], [tensor(0.2472), 77, 3, 'FILE_MAF_20220321T225326Z_GMO_00000000354809_01', 1, 'we be not student .'], [tensor(0.2369), 64, 3, 'FILE_MAF_20220505T091720Z_GMO_00000000354815_01', 4, \"and once I got start I just want to do it more and more and so now my perspective after all of these year be that my work can resonate out in the world without I have to define it on anyone else 's term .\"], [tensor(0.2280), 12, 3, 'FILE_MAF_20220321T225326Z_GMO_00000000354809_01', 3, 'okay but all work and no play    put you head of the class and help you crush the competition   just try to have a little fun .'], [tensor(0.2272), 74, 3, 'FILE_MAF_20220505T091718Z_GMO_00000000354814_01', 4, 'I be not go to a new school .'], [tensor(0.2226), 17, 3, 'FILE_MAF_20220321T225326Z_GMO_00000000354808_01', 3, 'right like decide to be an art history teacher instead of actually be an artist .'], [tensor(0.2220), 4, 3, 'FILE_MAF_20220321T225326Z_GMO_00000000354809_01', 4, 'uh yeah so after I graduate high school I just get tired of teacher tell I how to think about shit that I do not care about so after two semester I pull a good old kanye and ... drop out of college .'], [tensor(0.2182), 67, 3, 'FILE_MAF_20220321T225328Z_GMO_00000000354812_01', 3, 'hu that be my alma mater .']]\n",
      "[[tensor(0.4869), 119, 4, 'FILE_MAF_20220215T013221Z_GMO_00000000287847_01', 0, 'typically we just do gala and rent out a venue .'], [tensor(0.4794), 41, 4, 'FILE_MAF_20220214T211213Z_GMO_00000000195852_01', 5, 'first gay pride .'], [tensor(0.4621), 114, 4, 'FILE_MAF_20210825T013409Z_GMO_00000000359729_01', 0, 'so we find this beautiful venue in jersey city .'], [tensor(0.4619), 107, 4, 'FILE_MAF_20220213T185815Z_GMO_00000000048836_01', 2, \"anyway we have an award ceremony ... chuckle rock music   oh we should 've get water bottle .\"], [tensor(0.4617), 80, 4, 'FILE_MAF_20220214T211534Z_GMO_00000000284515_01', 3, 'although I be not work the event my job be to make sure that my client have really great exposure and more exposure for they mean more money for I . I be go to do a tequila soda .'], [tensor(0.4584), 44, 4, 'FILE_MAF_20220213T003335Z_GMO_00000000010677_01', 3, \"there be a bunch of brand at the st . barth 's party that be look for press coverage .\"], [tensor(0.4487), 122, 4, 'FILE_MAF_20220214T211212Z_GMO_00000000284516_01', 1, \"and of course we 've get an amazing theme party .\"], [tensor(0.4350), 24, 4, 'FILE_MAF_20220213T215316Z_GMO_00000000116411_01', 0, 'this be the most outrageous birthday party in the history of mankind .'], [tensor(0.4210), 12, 4, 'FILE_MAF_20210825T013409Z_GMO_00000000359729_01', 5, 'it be a celebration that end in an explosion .'], [tensor(0.4144), 8, 4, 'FILE_MAF_20220213T003335Z_GMO_00000000010677_01', 0, 'I be go to a wedding .'], [tensor(0.4128), 117, 4, 'FILE_MAF_20220213T003335Z_GMO_00000000010677_01', 2, \"the st . barth 's party be an annual event that be one of the hot ticket in the hampton .\"], [tensor(0.4069), 108, 4, 'FILE_MAF_20220214T211534Z_GMO_00000000284515_01', 0, 'it be the saint barts party .'], [tensor(0.4046), 27, 4, 'FILE_MAF_20220213T215316Z_GMO_00000000116411_01', 4, 'we want you to have a good time .'], [tensor(0.4032), 46, 4, 'FILE_MAF_20220214T211534Z_GMO_00000000284515_01', 2, \"all right the saint barts party be on every new yorkers ' social calendar in the hampton and you dress as if you be go to saint bart but you do not have to get on a plane .\"], [tensor(0.3956), 73, 4, 'FILE_MAF_20220212T231617Z_GMO_00000000010675_01', 0, 'friday we have our family come out here .'], [tensor(0.3907), 15, 4, 'FILE_MAF_20220215T013221Z_GMO_00000000287847_01', 1, 'I throw event that be my job .'], [tensor(0.3907), 66, 4, 'FILE_MAF_20220213T185815Z_GMO_00000000048836_01', 1, 'that be why you work your ass off to go and enjoy these thing .'], [tensor(0.3867), 65, 4, 'FILE_MAF_20210825T013307Z_GMO_00000000359730_01', 4, 'laughter   we gather here today to celebrate the practice wedding of kyle and amanda .'], [tensor(0.3854), 163, 4, 'FILE_MAF_20220214T211213Z_GMO_00000000195852_01', 0, 'the new york city gay pride parade be on sunday .'], [tensor(0.3804), 2, 4, 'FILE_MAF_20220213T185815Z_GMO_00000000048836_01', 0, 'my group of friend we go to montauk .']]\n",
      "[[tensor(0.4423), 163, 5, 'FILE_MAF_20211107T155428Z_GMO_00000000144867_01', 1, 'it be on all the foster parent blog .'], [tensor(0.4168), 29, 5, 'FILE_MAF_20211106T231656Z_GMO_00000000017733_01', 5, 'laughter I think the good thing for a parent be spend my time with my kid .'], [tensor(0.4145), 62, 5, 'FILE_MAF_20211109T073412Z_GMO_00000000012360_01', 1, 'number one date site for baby boomer and senior . \"'], [tensor(0.3894), 116, 5, 'FILE_MAF_20210729T235115Z_GMO_00000000346783_01', 6, 'my family adopt a little girl .'], [tensor(0.3817), 147, 5, 'FILE_MAF_20211109T073414Z_GMO_00000000286853_01', 2, 'and it be just ... it be a lot hard to filter through stuff when it be this public and when I give birth the following day .'], [tensor(0.3810), 15, 5, 'FILE_MAF_20211107T173012Z_GMO_00000000144871_01', 1, 'kate : give the good fatherly advice .'], [tensor(0.3765), 50, 5, 'FILE_MAF_20211106T220336Z_GMO_00000000285127_01', 5, 'kris : as much as I want to be in control of this whole situation I think I have decide to let my kid worry about it when the time come .'], [tensor(0.3762), 12, 5, 'FILE_MAF_20211107T155428Z_GMO_00000000144867_01', 2, 'so what do we do in most of the blog I read the kid be a bit more responsive .'], [tensor(0.3700), 135, 5, 'FILE_MAF_20211106T234819Z_GMO_00000000039636_01', 0, 'scott and I be you know do our good to be good parent together and remain a family even though we be not together .'], [tensor(0.3700), 106, 5, 'FILE_MAF_20210730T235041Z_GMO_00000000346774_01', 4, 'something your generation have such trouble with .'], [tensor(0.3673), 116, 5, 'FILE_MAF_20210729T234914Z_GMO_00000000346776_01', 3, \"I love rose 's definition of ordinary life dancing and shopping and see one 's friend .\"], [tensor(0.3636), 141, 5, 'FILE_MAF_20211104T120605Z_GMO_00000000365313_01', 1, 'you know when you have kid you want to save they and make sure that everything be go to be okay .'], [tensor(0.3603), 110, 5, 'FILE_MAF_20211104T120605Z_GMO_00000000365313_01', 0, 'phone ring hello hi mom .'], [tensor(0.3597), 26, 5, 'FILE_MAF_20210730T235041Z_GMO_00000000346774_01', 2, 'mother should love their child .'], [tensor(0.3589), 48, 5, 'FILE_MAF_20211104T080633Z_GMO_00000000017731_01', 1, 'everyone need a little bit of their privacy .'], [tensor(0.3510), 6, 5, 'FILE_MAF_20211107T155428Z_GMO_00000000144867_01', 0, 'what if we get a kid that have serious issue that we be not prepared for I be worried .'], [tensor(0.3472), 8, 5, 'FILE_MAF_20211109T073419Z_GMO_00000000283501_01', 3, 'two dad who love you .'], [tensor(0.3459), 25, 5, 'FILE_MAF_20211107T173012Z_GMO_00000000144871_01', 4, 'when you make a commitment to a child you get to stick to it .'], [tensor(0.3416), 55, 5, 'FILE_MAF_20211107T155428Z_GMO_00000000144867_01', 4, 'chuckle what do you want so um who be in charge here your mom and dad like who make all the rule they both do but ... mom .'], [tensor(0.3391), 21, 5, 'FILE_MAF_20211109T073419Z_GMO_00000000283501_01', 0, 'dad and the boy excited about today your father your brother everybody so very excited about today .']]\n",
      "[[tensor(0.5783), 133, 7, 'FILE_MAF_20220213T010346Z_GMO_00000000014850_01', 1, 'an area of food that our consumer really relate to be food that they use to love as a child with a grownup appeal .'], [tensor(0.5360), 141, 7, 'FILE_MAF_20220213T184755Z_GMO_00000000041020_01', 1, 'you know I love food travel history and this challenge will bring all those thing together .'], [tensor(0.5222), 83, 7, 'FILE_MAF_20220213T184755Z_GMO_00000000041020_01', 3, 'everything be about fine dining .'], [tensor(0.5110), 30, 7, 'FILE_MAF_20220212T183523Z_GMO_00000000006936_01', 2, 'it be simply good food .'], [tensor(0.5083), 0, 7, 'FILE_MAF_20220213T182741Z_GMO_00000000041022_01', 4, '  in the culinary world .'], [tensor(0.5030), 93, 7, 'FILE_MAF_20220212T143407Z_GMO_00000000002223_01', 1, 'we cook with ingredient .'], [tensor(0.5004), 82, 7, 'FILE_MAF_20220212T183925Z_GMO_00000000006948_01', 2, 'I mean the food be do .'], [tensor(0.4889), 40, 7, 'FILE_MAF_20220213T010346Z_GMO_00000000014850_01', 2, 'actually you know try to make it the four food group .'], [tensor(0.4879), 117, 7, 'FILE_MAF_20220213T092945Z_GMO_00000000031461_01', 1, 'd its ingredient the love for the land an have really make I focus on the food .'], [tensor(0.4844), 176, 7, 'FILE_MAF_20220212T183925Z_GMO_00000000006948_01', 0, 'it be not a food lecture .'], [tensor(0.4822), 118, 7, 'FILE_MAF_20210825T013057Z_GMO_00000000391127_01', 1, 'you want to talk about seasonal food this be it .'], [tensor(0.4733), 95, 7, 'FILE_MAF_20220214T043101Z_GMO_00000000201223_01', 1, 'chef please help I welcome james beard awardwinning chef and restaurateur and author ... nancy silverton .'], [tensor(0.4643), 51, 7, 'FILE_MAF_20220214T043101Z_GMO_00000000201223_01', 0, 'laughter   I travel a lot for work but when I go to different city I always want to try the food that local eat and that usually happen around 3:00 in the morning when I wrap and usually the food be hearty and I go to city where they do not count calorie .'], [tensor(0.4580), 104, 7, 'FILE_MAF_20220212T183523Z_GMO_00000000006936_01', 0, 'andrea I really encourage people to eat food that do not have chemical .'], [tensor(0.4533), 48, 7, 'FILE_MAF_20220213T184755Z_GMO_00000000041020_01', 4, 'chef tonight we have the chance to eat across some of the great time period in history .'], [tensor(0.4430), 61, 7, 'FILE_MAF_20220212T143407Z_GMO_00000000002223_01', 4, 'you manage to weave in a combination of thing that you see along the way plus your own personal approach to food and I think that work out really well for you .'], [tensor(0.4428), 127, 7, 'FILE_MAF_20220213T185507Z_GMO_00000000045335_01', 3, 'different idea about food .'], [tensor(0.4428), 127, 7, 'FILE_MAF_20220213T185507Z_GMO_00000000045335_01', 4, 'different idea about food .'], [tensor(0.4345), 58, 7, 'FILE_MAF_20220212T223751Z_GMO_00000000009281_01', 2, 'the point of the challenge be not to just fall back on food that you be comfortable making .'], [tensor(0.4307), 36, 7, 'FILE_MAF_20220213T185507Z_GMO_00000000045335_01', 0, 'fullcontact cooking .']]\n",
      "[[tensor(0.4290), 11, 9, 'FILE_MAF_20220215T092524Z_GMO_00000000390298_01', 4, 'why you love what you do .'], [tensor(0.3987), 194, 9, 'FILE_MAF_20220215T092417Z_GMO_00000000390297_01', 0, 'their personal conduct social medium history finance .'], [tensor(0.3896), 29, 9, 'FILE_MAF_20220215T092521Z_GMO_00000000390293_01', 5, 'so tell I about you or what magazine I can read that will tell I all about you .'], [tensor(0.3853), 7, 9, 'FILE_MAF_20220215T092524Z_GMO_00000000390301_01', 0, 'atmospheric music   housekeeping find this .'], [tensor(0.3740), 77, 9, 'FILE_MAF_20220215T092415Z_GMO_00000000390294_01', 3, 'this be your thing .'], [tensor(0.3720), 117, 9, 'FILE_MAF_20220215T092413Z_GMO_00000000390299_01', 1, 'you help people .'], [tensor(0.3653), 66, 9, 'FILE_MAF_20220215T092524Z_GMO_00000000390298_01', 0, 'life I love be make music with my friend tune .'], [tensor(0.3519), 118, 9, 'FILE_MAF_20220215T092524Z_GMO_00000000390296_01', 2, 'laughter chatter I mean what you be do here be thank you .'], [tensor(0.3476), 6, 9, 'FILE_MAF_20220215T083954Z_GMO_00000000390302_01', 3, 'that passion lead I to nursing school .'], [tensor(0.3337), 58, 9, 'FILE_MAF_20220215T092105Z_GMO_00000000390300_01', 2, 'I can be a mom and a lawyer .'], [tensor(0.3333), 60, 9, 'FILE_MAF_20220215T092413Z_GMO_00000000390299_01', 2, 'I go away to college .'], [tensor(0.3302), 83, 9, 'FILE_MAF_20220215T092417Z_GMO_00000000390297_01', 1, 'I actually stay home and write the whole time .'], [tensor(0.3282), 14, 9, 'FILE_MAF_20220215T092413Z_GMO_00000000390299_01', 4, 'light piano music   jenny   yes .'], [tensor(0.3187), 23, 9, 'FILE_MAF_20220215T092105Z_GMO_00000000390300_01', 3, 'yeah it be something I learn about in therapy .'], [tensor(0.3126), 24, 9, 'FILE_MAF_20220215T092413Z_GMO_00000000390299_01', 0, 'oh you know what I have a connection at a music conservatory .'], [tensor(0.3077), 167, 9, 'FILE_MAF_20220215T083954Z_GMO_00000000390302_01', 0, 'idea : you know that podcast I be produce with tedd calvin   mmhmm .'], [tensor(0.3076), 45, 9, 'FILE_MAF_20220215T092416Z_GMO_00000000390295_01', 4, 'so I be not completely emptyhanded .'], [tensor(0.3072), 59, 9, 'FILE_MAF_20220215T092521Z_GMO_00000000390293_01', 1, 'ii write they up myself .'], [tensor(0.3035), 193, 9, 'FILE_MAF_20220215T092416Z_GMO_00000000390295_01', 0, 'do not say hipster .'], [tensor(0.3008), 98, 9, 'FILE_MAF_20220215T092417Z_GMO_00000000390297_01', 2, \"the world 's only grammywinne babysitter .\"]]\n",
      "[[tensor(0.5115), 12, 11, 'FILE_MAF_20211222T135839Z_GMO_00000000092418_01', 6, 'our patient be relate .'], [tensor(0.5051), 82, 11, 'FILE_MAF_20220213T075121Z_GMO_00000000029125_01', 1, 'epidemiology .'], [tensor(0.4960), 42, 11, 'FILE_MAF_20211222T183052Z_GMO_00000000007458_01', 4, 'it be between cancer and autoimmune .'], [tensor(0.4874), 80, 11, 'FILE_MAF_20211222T061243Z_GMO_00000000295412_01', 4, 'your medical record .'], [tensor(0.4865), 57, 11, 'FILE_MAF_20220213T071506Z_GMO_00000000027584_01', 4, 'there be doctor there .'], [tensor(0.4712), 38, 11, 'FILE_MAF_20220213T075121Z_GMO_00000000029125_01', 0, 'dr . man income trauma 3 . alarm blare   61 yearold male bp 14090 fever 101 .   cough   call it in himself but could hardly breathe by the time we get there .'], [tensor(0.4652), 13, 11, 'FILE_MAF_20211222T061240Z_GMO_00000000326287_01', 1, 'we be a hospital with patient who depend on we every day .'], [tensor(0.4607), 59, 11, 'FILE_MAF_20220213T075121Z_GMO_00000000029125_01', 2, 'any history of autoimmune disorder or cancer in the family   nada .'], [tensor(0.4605), 45, 11, 'FILE_MAF_20220213T080123Z_GMO_00000000029577_01', 3, 'I see patient on a regular basis .'], [tensor(0.4527), 77, 11, 'FILE_MAF_20211222T061241Z_GMO_00000000295406_01', 0, 'I want to know everything because I be willing to bet that if I can improve your quality of life then our patient will get well care .'], [tensor(0.4469), 78, 11, 'FILE_MAF_20211222T061241Z_GMO_00000000295406_01', 1, 'you people do not know anything about health care .'], [tensor(0.4455), 32, 11, 'FILE_MAF_20211105T221833Z_GMO_00000000338784_01', 3, 'she be a performer an opera singer and she be forego medical advice to audition to singcarmen .'], [tensor(0.4449), 139, 11, 'FILE_MAF_20220215T013220Z_GMO_00000000283931_01', 4, 'people come to the emergency department for all kind of contagious thing .'], [tensor(0.4442), 173, 11, 'FILE_MAF_20211224T154509Z_GMO_00000000196872_01', 0, 'so just tell I what you need what your patient need and I do not care if it be not cover I do not care if the board say no let us get into some trouble .'], [tensor(0.4403), 55, 11, 'FILE_MAF_20211105T221833Z_GMO_00000000338784_01', 4, 'do not it all matter the patient the doctor you do not you matter   I know how to do this job .'], [tensor(0.4354), 88, 11, 'FILE_MAF_20211222T183052Z_GMO_00000000007458_01', 3, 'I have a patient .'], [tensor(0.4345), 1, 11, 'FILE_MAF_20211222T144359Z_GMO_00000000112815_01', 1, 'it be good to see you in the hospital as a patient if not as a doctor .'], [tensor(0.4281), 1, 11, 'FILE_MAF_20220213T071506Z_GMO_00000000027584_01', 2, 'dr . halstead dr . man this be robin charles the new member of our epidemiology department .'], [tensor(0.4246), 58, 11, 'FILE_MAF_20211222T061137Z_GMO_00000000326260_01', 4, 'now they have a job that come with healthcare .'], [tensor(0.4209), 4, 11, 'FILE_MAF_20211222T135839Z_GMO_00000000092418_01', 4, 'otherwise a lot more people would be sick .']]\n",
      "[[tensor(0.5474), 7, 13, 'FILE_MAF_20220510T214825Z_GMO_00000000398887_01', 0, 'pop music all : tune .'], [tensor(0.4641), 0, 13, 'FILE_MAF_20211106T183220Z_GMO_00000000298260_01', 0, '  pop music play   tune .'], [tensor(0.4510), 97, 13, 'FILE_MAF_20220510T214825Z_GMO_00000000398885_01', 1, \"tense music disappoint   what be our secret to everlasting love   tony c. 's bail bond in fort thomas arizona   familyowne and faithbase it be your onestop shop for all your bailrelate need .\"], [tensor(0.4475), 67, 13, 'FILE_MAF_20211103T121545Z_GMO_00000000345592_01', 1, 'rock music   hey guy .'], [tensor(0.4301), 33, 13, 'FILE_MAF_20220510T214825Z_GMO_00000000398885_01', 0, 'camera shutter click upbeat pop music all : tune .'], [tensor(0.4208), 113, 13, 'FILE_MAF_20211103T121545Z_GMO_00000000345592_01', 3, 'anything from \" now that be what I call music \" volume 11 through 18 . and also some of 19 .   cool .'], [tensor(0.4194), 112, 13, 'FILE_MAF_20211103T121645Z_GMO_00000000345597_01', 2, \"I just listen to too much top 40 radio which remind I we get to get you like a spotify account or something 'cause you be clearly not get enough music in your life .\"], [tensor(0.4176), 28, 13, 'FILE_MAF_20211107T155324Z_GMO_00000000298271_01', 5, 'song end dance music resume   there be your stuff .'], [tensor(0.4147), 38, 13, 'FILE_MAF_20220510T214825Z_GMO_00000000398887_01', 2, 'dramatic music   what that do not come out for like a week .'], [tensor(0.4125), 1, 13, 'FILE_MAF_20210809T200239Z_GMO_00000000330183_01', 0, 'can you describe music okay .'], [tensor(0.4091), 127, 13, 'FILE_MAF_20211103T115539Z_GMO_00000000345588_01', 4, 'if you actually think about it ... soul music'], [tensor(0.4071), 0, 13, 'FILE_MAF_20211103T115536Z_GMO_00000000298267_01', 0, '   heroic music on tv     sniffle    sniffle    be you cry   what I be not allow to get a little emotional at a superhero movie life be lose zoey .'], [tensor(0.4021), 61, 13, 'FILE_MAF_20220214T042555Z_GMO_00000000137222_01', 1, 'I be go to ask you   these be some hiphop term .'], [tensor(0.4020), 44, 13, 'FILE_MAF_20220214T005215Z_GMO_00000000137236_01', 5, 'music continue   let us do a little something else .'], [tensor(0.4007), 50, 13, 'FILE_MAF_20211106T201721Z_GMO_00000000298262_01', 0, 'about some useless information tune .'], [tensor(0.3992), 64, 13, 'FILE_MAF_20211103T121645Z_GMO_00000000345597_01', 3, 'I call it \" mo \\'s exquisite playlist . \"'], [tensor(0.3958), 0, 13, 'FILE_MAF_20211103T121545Z_GMO_00000000345592_01', 0, '  . . ambient music tune .'], [tensor(0.3942), 44, 13, 'FILE_MAF_20220510T214825Z_GMO_00000000398887_01', 1, 'quirky music   oh .'], [tensor(0.3938), 77, 13, 'FILE_MAF_20211103T121645Z_GMO_00000000345597_01', 4, 'um ... soft music   hey we should grab coffee sometime .'], [tensor(0.3865), 95, 13, 'FILE_MAF_20211106T183218Z_GMO_00000000298269_01', 0, 'people write song tune .']]\n",
      "[[tensor(0.3652), 54, 14, 'FILE_MAF_20210729T123329Z_GMO_00000000321263_01', 2, 'what I buy he for you .'], [tensor(0.3382), 32, 14, 'FILE_MAF_20210729T123329Z_GMO_00000000321263_01', 0, \"I be shop for dad 's present .\"], [tensor(0.3309), 130, 14, 'FILE_MAF_20210729T150932Z_GMO_00000000321386_01', 2, 'we will find you something .'], [tensor(0.3258), 110, 14, 'FILE_MAF_20210729T123329Z_GMO_00000000321263_01', 1, \"I 've get some shopping to do .\"], [tensor(0.3116), 59, 14, 'FILE_MAF_20210730T054142Z_GMO_00000000321277_01', 3, 'something you leave at the house .'], [tensor(0.3051), 19, 14, 'FILE_MAF_20210730T073924Z_GMO_00000000321284_01', 0, 'I need to go to notion and try to find something for calvin the security guard .'], [tensor(0.2955), 33, 14, 'FILE_MAF_20210729T144305Z_GMO_00000000321323_01', 3, 'guess what I have .'], [tensor(0.2919), 74, 14, 'FILE_MAF_20210730T073918Z_GMO_00000000321446_01', 1, 'um say listen be everything still there well there be a nice gold pen a set of car key a date book .'], [tensor(0.2913), 17, 14, 'FILE_MAF_20210729T180703Z_GMO_00000000321965_01', 1, 'so what do you have in store for frederick this visit well we be go to go whale watch the planetarium and roz be help I arrange a tour of microsoft .'], [tensor(0.2869), 85, 14, 'FILE_MAF_20210729T150935Z_GMO_00000000321408_01', 0, 'drugstore .'], [tensor(0.2769), 53, 14, 'FILE_MAF_20210730T074533Z_GMO_00000000321287_01', 1, 'and the ferret .'], [tensor(0.2764), 68, 14, 'FILE_MAF_20210729T144305Z_GMO_00000000321323_01', 1, 'who know what you pick up in that flea trap .'], [tensor(0.2748), 23, 14, 'FILE_MAF_20210729T144305Z_GMO_00000000321323_01', 4, 'kennel .'], [tensor(0.2737), 25, 14, 'FILE_MAF_20210729T150937Z_GMO_00000000321414_01', 0, \"whatever happen to feed our soul look for example I recently purchase a painting by one of this country 's premier artist .\"], [tensor(0.2734), 27, 14, 'FILE_MAF_20210729T150932Z_GMO_00000000321386_01', 0, 'uh my usual please .'], [tensor(0.2696), 32, 14, 'FILE_MAF_20210729T123027Z_GMO_00000000321243_01', 0, 'be there no other service you could have perform the only other option be visit old people in a retirement home .'], [tensor(0.2689), 11, 14, 'FILE_MAF_20210729T145919Z_GMO_00000000321470_01', 1, 'it be tax deductible thank you .'], [tensor(0.2670), 46, 14, 'FILE_MAF_20210729T123329Z_GMO_00000000321263_01', 3, 'start a ranch .'], [tensor(0.2643), 22, 14, 'FILE_MAF_20210729T150935Z_GMO_00000000321408_01', 3, 'you sure you do not want any the label say it be \" famously spreadable . \"'], [tensor(0.2621), 161, 14, 'FILE_MAF_20210729T163608Z_GMO_00000000321442_01', 2, 'it be for her nurse .']]\n",
      "[[tensor(0.5788), 21, 16, 'FILE_MAF_20210824T164918Z_GMO_00000000316807_01', 4, 'as the market continue to change you have to adapt and think outside the box to market these property .'], [tensor(0.5787), 94, 16, 'FILE_MAF_20220213T173621Z_GMO_00000000039352_01', 0, 'we be developer and so there be other property .'], [tensor(0.5717), 77, 16, 'FILE_MAF_20220213T011913Z_GMO_00000000014807_01', 4, 'be it go to get the property sell   well if I could answer that question I would be god because I could tell the future .'], [tensor(0.5486), 109, 16, 'FILE_MAF_20210824T151133Z_GMO_00000000284944_01', 2, 'look I know it be a little low than he probably want ...   come on .'], [tensor(0.5459), 2, 16, 'FILE_MAF_20210825T012646Z_GMO_00000000338857_01', 3, 'and real estate be still a great place to put your money .'], [tensor(0.5324), 108, 16, 'FILE_MAF_20210825T002729Z_GMO_00000000316811_01', 2, 'we sell real estate .'], [tensor(0.5286), 2, 16, 'FILE_MAF_20220213T011913Z_GMO_00000000014807_01', 2, 'we just get a brandnew property and we get to talk about how we be go to market it and not just local but global .'], [tensor(0.5125), 41, 16, 'FILE_MAF_20220213T120643Z_GMO_00000000038929_01', 1, 'you know real estate be like a swedish snowball .'], [tensor(0.5051), 125, 16, 'FILE_MAF_20220213T173626Z_GMO_00000000039366_01', 0, 'it be a condominium .'], [tensor(0.5001), 79, 16, 'FILE_MAF_20220211T201452Z_GMO_00000000001224_01', 2, 'you can sell real estate anywhere .'], [tensor(0.4971), 20, 16, 'FILE_MAF_20220213T173626Z_GMO_00000000039366_01', 4, 'we be look at property .'], [tensor(0.4960), 57, 16, 'FILE_MAF_20220213T173624Z_GMO_00000000039557_01', 1, 'we get this amazing property with incredible view .'], [tensor(0.4953), 159, 16, 'FILE_MAF_20220213T173621Z_GMO_00000000039352_01', 4, 'be itis it a condominium building   no it be   be it a big townhouse   yeah that we be work on .'], [tensor(0.4939), 133, 16, 'FILE_MAF_20220213T011913Z_GMO_00000000014807_01', 1, 'equinox for example be a true content partnership create lifestyle content that drive traffic to the website of the faring property .'], [tensor(0.4938), 15, 16, 'FILE_MAF_20220212T165146Z_GMO_00000000002833_01', 1, 'some luxury residence in this area have trade for more than $ 10000 a foot .'], [tensor(0.4827), 140, 16, 'FILE_MAF_20210825T013053Z_GMO_00000000282347_01', 3, 'you want to maybe do business in california and miami and aspen .'], [tensor(0.4798), 74, 16, 'FILE_MAF_20220214T042350Z_GMO_00000000153025_01', 3, 'we have release on the market the first two : the second floor and we have the garden residence which be the one that we be stand here now .'], [tensor(0.4789), 106, 16, 'FILE_MAF_20220212T165146Z_GMO_00000000002833_01', 0, 'roger be a commercial realestate developer .'], [tensor(0.4772), 102, 16, 'FILE_MAF_20220213T173624Z_GMO_00000000039557_01', 4, 'look we sell real estate .'], [tensor(0.4743), 29, 16, 'FILE_MAF_20210825T013053Z_GMO_00000000282347_01', 0, 'I put the \" real \" in real estate .']]\n",
      "[[tensor(0.3929), 34, 17, 'FILE_MAF_20211223T143221Z_GMO_00000000343596_01', 3, 'equal distance from the five spiritual element .'], [tensor(0.3854), 31, 17, 'FILE_MAF_20211223T143221Z_GMO_00000000343596_01', 1, 'metaphysicist believe the land to be what they call a spiritual nexus .'], [tensor(0.3713), 121, 17, 'FILE_MAF_20211225T005508Z_GMO_00000000343642_01', 2, 'it be the supernatural one that we be concerned about .'], [tensor(0.3484), 22, 17, 'FILE_MAF_20211223T143226Z_GMO_00000000343655_01', 0, 'the star be on the side of good not evil .'], [tensor(0.3439), 51, 17, 'FILE_MAF_20211223T143222Z_GMO_00000000343627_01', 4, 'what about our distinct lack of a high priestess would you please just letmeworry about that .'], [tensor(0.3413), 16, 17, 'FILE_MAF_20211223T144046Z_GMO_00000000343727_01', 0, \"come on ... it doesn'’t change the ten year I spend learn who they really be or why people fight they off for thousand of year before we .\"], [tensor(0.3376), 55, 17, 'FILE_MAF_20211223T143221Z_GMO_00000000343596_01', 2, 'it be mythology really but it be believe that when a geographical point be equidistant to the five spiritual element it be a place of great power .'], [tensor(0.3366), 87, 17, 'FILE_MAF_20211223T143223Z_GMO_00000000343629_01', 2, 'your ignorance be your destiny .'], [tensor(0.3342), 21, 17, 'FILE_MAF_20211223T144046Z_GMO_00000000343727_01', 1, 'which make we for well or bad fundamental to the grand design .'], [tensor(0.3317), 84, 17, 'FILE_MAF_20211223T143223Z_GMO_00000000343629_01', 1, 'I think that they send we here and that be what leo be try to tell we .'], [tensor(0.3289), 92, 17, 'FILE_MAF_20211223T143221Z_GMO_00000000343596_01', 4, 'it be that spiritual nexus thing .'], [tensor(0.3221), 33, 17, 'FILE_MAF_20211223T143428Z_GMO_00000000343676_01', 1, 'I go to find out why I have not get a premonition in the last few month .'], [tensor(0.3204), 18, 17, 'FILE_MAF_20211223T143428Z_GMO_00000000343630_01', 2, 'wow 6000 year of conflict and that be it these guy be serious underachiever .'], [tensor(0.3179), 5, 17, 'FILE_MAF_20211223T143428Z_GMO_00000000343676_01', 2, 'we come from sister tradition witch and gypsy .'], [tensor(0.3154), 61, 17, 'FILE_MAF_20211223T143836Z_GMO_00000000343635_01', 1, 'my feeling for our father be in the past which mean they really have no place in the present .'], [tensor(0.3148), 85, 17, 'FILE_MAF_20211223T143227Z_GMO_00000000343625_01', 1, 'if there be anything you want to know it be not exactly about know .'], [tensor(0.3139), 48, 17, 'FILE_MAF_20211223T144047Z_GMO_00000000343663_01', 3, 'if there be one belief that you and I still have in common it be that magic happen for a reason .'], [tensor(0.3126), 90, 17, 'FILE_MAF_20211223T143225Z_GMO_00000000343640_01', 2, 'it do not matter .'], [tensor(0.3126), 120, 17, 'FILE_MAF_20211223T143837Z_GMO_00000000343639_01', 1, 'it do not matter .'], [tensor(0.3126), 48, 17, 'FILE_MAF_20211223T143942Z_GMO_00000000343636_01', 4, 'it do not matter .']]\n",
      "[[tensor(0.4509), 33, 18, 'FILE_MAF_20220213T011356Z_GMO_00000000014862_01', 1, 'it be the sort of cuttingedge science we use to talk about late into the night .'], [tensor(0.4261), 1, 18, 'FILE_MAF_20220212T184828Z_GMO_00000000007284_01', 0, 'chandra the world need to know about my finding that be all that be important it be one thing to publish a book in the comfort of the university it be another to leave everything behind chase a theory that be pure fantasy mohinder the earth spin at 1000 mile an hour as we desperately try to keep from be throw off .'], [tensor(0.4247), 80, 18, 'FILE_MAF_20220213T011403Z_GMO_00000000014870_01', 4, 'I be a scientist .'], [tensor(0.4104), 21, 18, 'FILE_MAF_20210802T164558Z_GMO_00000000001554_01', 0, 'I know a scientist .'], [tensor(0.3777), 8, 18, 'FILE_MAF_20220212T185028Z_GMO_00000000007263_01', 4, 'biology be suppose to be our destiny .'], [tensor(0.3746), 35, 18, 'FILE_MAF_20220212T194614Z_GMO_00000000007318_01', 1, 'you be the scientist .'], [tensor(0.3679), 70, 18, 'FILE_MAF_20210802T172723Z_GMO_00000000001586_01', 5, 'except air and the vacuum of space .'], [tensor(0.3578), 62, 18, 'FILE_MAF_20210802T173027Z_GMO_00000000001744_01', 2, 'why not   because this be where it start how I become the master of time and space .'], [tensor(0.3493), 56, 18, 'FILE_MAF_20210802T173446Z_GMO_00000000001721_01', 2, 'how could I possibly know all the word topillar of the earth orcatch22   I do not know maybe you read it somewhere and it be in your subconscious .'], [tensor(0.3435), 55, 18, 'FILE_MAF_20220213T010346Z_GMO_00000000014872_01', 1, 'I be a geneticist .'], [tensor(0.3322), 19, 18, 'FILE_MAF_20220213T011914Z_GMO_00000000014814_01', 1, 'so I go to the library to see if I could find anything on human flight .'], [tensor(0.3048), 13, 18, 'FILE_MAF_20210802T173336Z_GMO_00000000001801_01', 5, 'you want I to go in there for a reason why you know something and you be not tell I what it be .'], [tensor(0.3048), 55, 18, 'FILE_MAF_20210807T072432Z_GMO_00000000001718_01', 3, 'clown college .'], [tensor(0.2989), 57, 18, 'FILE_MAF_20210807T072432Z_GMO_00000000001718_01', 2, 'and do not worry .'], [tensor(0.2950), 10, 18, 'FILE_MAF_20220213T011915Z_GMO_00000000014864_01', 3, 'anything interesting nothing predictive if that be what you be ask .'], [tensor(0.2943), 25, 18, 'FILE_MAF_20220213T011403Z_GMO_00000000014870_01', 1, 'and there be other too like I who discover theirs .'], [tensor(0.2868), 43, 18, 'FILE_MAF_20220213T011915Z_GMO_00000000014864_01', 1, 'these be two newset of footprint .'], [tensor(0.2861), 20, 18, 'FILE_MAF_20210802T173334Z_GMO_00000000001690_01', 3, 'well there be so much space .'], [tensor(0.2765), 36, 18, 'FILE_MAF_20210802T173448Z_GMO_00000000136973_01', 2, 'what you see up there all of it it be all true .'], [tensor(0.2762), 25, 18, 'FILE_MAF_20220213T011914Z_GMO_00000000014814_01', 5, \"like the earth itself it know only the hard fact of life 's struggle with death .\"]]\n",
      "[[tensor(0.5002), 5, 19, 'FILE_MAF_20211105T221827Z_GMO_00000000341639_01', 3, 'what   these be not grocery .'], [tensor(0.4897), 91, 19, 'FILE_MAF_20211105T221829Z_GMO_00000000121675_01', 3, 'anything in the store .'], [tensor(0.4550), 23, 19, 'FILE_MAF_20211105T221830Z_GMO_00000000273412_01', 4, 'esh flower $ 5.99 and up .'], [tensor(0.4528), 14, 19, 'FILE_MAF_20211103T100337Z_GMO_00000000341651_01', 4, 'what   do you not like the flower   they be on sale .'], [tensor(0.4478), 30, 19, 'FILE_MAF_20211105T221830Z_GMO_00000000273412_01', 0, 'ile you shop .'], [tensor(0.4409), 35, 19, 'FILE_MAF_20211103T092109Z_GMO_00000000341636_01', 3, 'it be like a friend and family discount .'], [tensor(0.4232), 50, 19, 'FILE_MAF_20211105T221413Z_GMO_00000000273414_01', 3, 'where do you want them stuff   I do not know .'], [tensor(0.4155), 38, 19, 'FILE_MAF_20211105T221827Z_GMO_00000000341639_01', 2, 'like a restocking fee .'], [tensor(0.4064), 107, 19, 'FILE_MAF_20211116T134036Z_GMO_00000000341644_01', 5, 'what be you go to buy   something special for you .'], [tensor(0.3929), 34, 19, 'FILE_MAF_20211116T134039Z_GMO_00000000341646_01', 2, 'what else you get   I do not know .'], [tensor(0.3904), 35, 19, 'FILE_MAF_20211103T092113Z_GMO_00000000296345_01', 2, 'they have gift and   you sell my clock my ancestor bring that across the country in a covered wagon .'], [tensor(0.3884), 64, 19, 'FILE_MAF_20211105T085331Z_GMO_00000000121678_01', 2, 'what do that do   well then we can sit and watch and see who do not show up to shop .'], [tensor(0.3802), 105, 19, 'FILE_MAF_20211105T085331Z_GMO_00000000121678_01', 1, 'gasps I be sorry could you ... could you say that one more time but slowly with feel   we get a lot of shopper .'], [tensor(0.3763), 67, 19, 'FILE_MAF_20211105T221619Z_GMO_00000000273407_01', 3, 'oh my god   sigh I get a breakfast thingy cheese plate travel mug a maroon 5 holiday cd and red velvet fraps .'], [tensor(0.3708), 82, 19, 'FILE_MAF_20211105T221616Z_GMO_00000000296350_01', 1, 'cash tip leftover birthday cake full control of the jukebox   there be a scholarship for bowling   she be real good .'], [tensor(0.3689), 21, 19, 'FILE_MAF_20211105T221827Z_GMO_00000000341639_01', 5, 'it be for your collection .'], [tensor(0.3650), 74, 19, 'FILE_MAF_20211105T100759Z_GMO_00000000273410_01', 3, 'I have a few idea .'], [tensor(0.3648), 73, 19, 'FILE_MAF_20211103T092105Z_GMO_00000000273408_01', 4, \"I have tarp and coverall from paint emma 's nursery .\"], [tensor(0.3629), 14, 19, 'FILE_MAF_20211105T221616Z_GMO_00000000296350_01', 2, 'order anything you want .'], [tensor(0.3587), 91, 19, 'FILE_MAF_20211105T221830Z_GMO_00000000273412_01', 2, 'you get I a mall .']]\n",
      "list index out of range\n",
      "699 0 4\n",
      "[[tensor(0.4460), 44, 20, 'FILE_MAF_20220213T173619Z_GMO_00000000039095_01', 3, 'talk about a whole mess of stuff besides football .'], [tensor(0.3996), 27, 20, 'FILE_MAF_20210729T030534Z_GMO_00000000039104_01', 1, 'do you hear I uhhuh .'], [tensor(0.3598), 97, 20, 'FILE_MAF_20220215T013014Z_GMO_00000000287891_01', 4, 'and we go wrestle in australia next week .'], [tensor(0.3523), 54, 20, 'FILE_MAF_20210825T013306Z_GMO_00000000360252_01', 1, 'well you know spin class and cycling be two different thing in the world .'], [tensor(0.3520), 4, 20, 'FILE_MAF_20210729T030534Z_GMO_00000000039104_01', 0], [tensor(0.3506), 77, 20, 'FILE_MAF_20211105T221830Z_GMO_00000000326366_01', 2, 'what   some next generation athletetype thing .'], [tensor(0.3289), 48, 20, 'FILE_MAF_20210729T030527Z_GMO_00000000039099_01', 3, 'there be hundred of player across the country .'], [tensor(0.3222), 101, 20, 'FILE_MAF_20220214T043211Z_GMO_00000000287895_01', 5, 'captioning sponsor by bunimmurray production caption by medium access group at wgbh access.wgbh.org'], [tensor(0.3163), 20, 20, 'FILE_MAF_20210825T010736Z_GMO_00000000324078_01', 5, 'upbeat music indistinct chatter   cheer we be all all : cheer .'], [tensor(0.3125), 54, 20, 'FILE_MAF_20210729T030527Z_GMO_00000000039099_01', 4, 'the booster club take a vote and I can not think of any idea right now .'], [tensor(0.3107), 94, 20, 'FILE_MAF_20210807T072641Z_GMO_00000000015471_01', 4, 'oldschool football .'], [tensor(0.3083), 83, 20, 'FILE_MAF_20220213T121447Z_GMO_00000000039091_01', 3, 'laughter as far as the physical skill go do not I get what it take from what I see today it look pretty good .'], [tensor(0.3056), 58, 20, 'FILE_MAF_20210731T020535Z_GMO_00000000040741_01', 5, 'pitch to riggin .'], [tensor(0.2993), 41, 20, 'FILE_MAF_20211105T221830Z_GMO_00000000326366_01', 0, 'wrestling be in my blood .'], [tensor(0.2982), 0, 20, 'FILE_MAF_20220215T082050Z_GMO_00000000370434_01', 0, '   music   I will bet you a thousand .'], [tensor(0.2976), 67, 20, 'FILE_MAF_20210809T195832Z_GMO_00000000019745_01', 1, 'matter of fact some of the boy even play basketball .'], [tensor(0.2964), 35, 20, 'FILE_MAF_20220215T090159Z_GMO_00000000370441_01', 4, 'so I be think maybe we could do like masquerade ball .'], [tensor(0.2939), 0, 20, 'FILE_MAF_20220215T082050Z_GMO_00000000370434_01', 3, '   music   wow it be huge here .'], [tensor(0.2913), 24, 20, 'FILE_MAF_20220214T043211Z_GMO_00000000287895_01', 0, \"the firstever allwomen ' ’s payperview event .\"], [tensor(0.2908), 28, 20, 'FILE_MAF_20210809T195832Z_GMO_00000000019745_01', 2, 'I do not see why we can not look at something else beyond football especially because it be not just an opportunity for I . this be an opportunity for our family .']]\n",
      "[[tensor(0.6513), 17, 21, 'FILE_MAF_20220214T231527Z_GMO_00000000312919_01', 5, '\\'s \" fashionable 50 list .'], [tensor(0.5708), 3, 21, 'FILE_MAF_20220215T071532Z_GMO_00000000364163_01', 8, 'the winner of this challenge bring the good out of their accessory and have a cohesive beautiful and contemporary look .'], [tensor(0.5656), 22, 21, 'FILE_MAF_20220215T092413Z_GMO_00000000364160_01', 0, 'at stake for the winner a quarter of a million dollar supply by pilot frixion erasable pen a feature in \" elle \" magazine and a careerchange mentorship with the council of fashion designer of america .'], [tensor(0.5483), 17, 21, 'FILE_MAF_20210825T002730Z_GMO_00000000312918_01', 0, 'moan in relief    at stake for the winner a quarter of a million dollar courtesy of bluprint a feature in \" elle \" magazine $ 50000 supply by pilot frixion erasable pen and a careerchange mentorship at the council of fashion designer of america .'], [tensor(0.5457), 42, 21, 'FILE_MAF_20220215T092412Z_GMO_00000000364158_01', 7, 'almost like high fashion and sportswear .'], [tensor(0.5446), 18, 21, 'FILE_MAF_20220215T071837Z_GMO_00000000364166_01', 0, 'at stake for the winner a quarter of a million dollar supply by pilot frixion erasable pen a feature in \\' elle \" magazine and a careerchange mentorship with the council of fashion designer of america .'], [tensor(0.5388), 40, 21, 'FILE_MAF_20210825T013303Z_GMO_00000000293206_01', 1, 'chuckle    it be about how fashion make you feel beyond just how you look wear it .'], [tensor(0.5334), 50, 21, 'FILE_MAF_20220215T071532Z_GMO_00000000364163_01', 0, 'luxury headwear .'], [tensor(0.5171), 59, 21, 'FILE_MAF_20220215T035309Z_GMO_00000000293215_01', 0, 'what do you stand for   fashion have come to represent powerful social and political movement throughout history .'], [tensor(0.5116), 61, 21, 'FILE_MAF_20210824T153449Z_GMO_00000000293211_01', 7, 'we ask they to come up with something that be functional and fashionable .'], [tensor(0.5106), 44, 21, 'FILE_MAF_20210825T013303Z_GMO_00000000293206_01', 7, \"what I take from that image be the strong confident woman and I develop it to be a modern woman 's taste have the structure have the detail .\"], [tensor(0.5102), 16, 21, 'FILE_MAF_20220215T013014Z_GMO_00000000312910_01', 0, 'a feature in \" elle \" magazine $ 50000 supply by pilot frixion erasable pen and a careerchange mentorship with the council of fashion designer of america .'], [tensor(0.5102), 13, 21, 'FILE_MAF_20220215T013018Z_GMO_00000000312922_01', 0, 'a feature in \" elle \" magazine $ 50000 supply by pilot frixion erasable pen and a careerchange mentorship with the council of fashion designer of america .'], [tensor(0.5102), 24, 21, 'FILE_MAF_20220215T013219Z_GMO_00000000312912_01', 0, 'a feature in \" elle \" magazine $ 50000 supply by pilot frixion erasable pen and a careerchange mentorship with the council of fashion designer of america .'], [tensor(0.5102), 16, 21, 'FILE_MAF_20220214T231527Z_GMO_00000000312919_01', 0, 'a feature in \" elle \" magazine $ 50000 supply by pilot frixion erasable pen and a careerchange mentorship with the council of fashion designer of america .'], [tensor(0.5102), 16, 21, 'FILE_MAF_20210824T195751Z_GMO_00000000320273_01', 0, 'a feature in \" elle \" magazine $ 50000 supply by pilot frixion erasable pen and a careerchange mentorship with the council of fashion designer of america .'], [tensor(0.5102), 18, 21, 'FILE_MAF_20220215T035928Z_GMO_00000000312917_01', 0, 'a feature in \" elle \" magazine $ 50000 supply by pilot frixion erasable pen and a careerchange mentorship with the council of fashion designer of america .'], [tensor(0.5094), 86, 21, 'FILE_MAF_20220215T092413Z_GMO_00000000364160_01', 7, 'fashion for I the thing that succeed so much be thing that be just on the border of go really bad .'], [tensor(0.5030), 94, 21, 'FILE_MAF_20220215T013225Z_GMO_00000000293209_01', 8, 'your challenge be to create luxury streetwear .'], [tensor(0.5029), 44, 21, 'FILE_MAF_20220215T092523Z_GMO_00000000410890_01', 4, 'streetwear be very youthoriented .']]\n",
      "[[tensor(0.4657), 247, 22, 'FILE_MAF_20220213T011911Z_GMO_00000000022389_01', 0, 'I be senior vice president technology .'], [tensor(0.4488), 379, 22, 'FILE_MAF_20220213T005945Z_GMO_00000000012039_01', 0, 'I be chief technology officer .'], [tensor(0.4445), 320, 22, 'FILE_MAF_20220213T185202Z_GMO_00000000047427_01', 0, 'I be talk about your computer your access to the internet your television your phone .'], [tensor(0.4197), 11, 22, 'FILE_MAF_20220213T031737Z_GMO_00000000022392_01', 0, 'I need you to do something for I . our new chief technology officer scott knowles .'], [tensor(0.4134), 556, 22, 'FILE_MAF_20220213T184650Z_GMO_00000000047418_01', 2, 'I be open a store computer .'], [tensor(0.4106), 168, 22, 'FILE_MAF_20220213T185304Z_GMO_00000000047422_01', 0, 'we be still look into internet .'], [tensor(0.4064), 513, 22, 'FILE_MAF_20220213T011912Z_GMO_00000000022391_01', 0, 'he be one of the good computer engineer they have .'], [tensor(0.4029), 14, 22, 'FILE_MAF_20220213T031236Z_GMO_00000000022390_01', 0, 'reverse warn beep tyrell my approach within our business unit be to first invest in new technology and develop prototype in order to understand the technology potential because despite the recent success of our cyber security team our company currently still have 72 potential hacker vulnerability in our primary and secon oh wait .'], [tensor(0.3869), 369, 22, 'FILE_MAF_20210806T001903Z_GMO_00000000049043_01', 0, 'the future .'], [tensor(0.3795), 91, 22, 'FILE_MAF_20210806T042833Z_GMO_00000000049038_01', 0, 'phone too .'], [tensor(0.3700), 21, 22, 'FILE_MAF_20210806T020741Z_GMO_00000000049044_01', 0, \"it be go to be it for I . dramatic music allsafe officially open its door in ' 04 . we have a relatively small roster but that way our client have unprecedented access our undivided attention   all those be standard e corp expect from any vendor we hire .\"], [tensor(0.3663), 403, 22, 'FILE_MAF_20210809T200548Z_GMO_00000000171492_01', 0, 'nothing can rock the boat now as my project have not yet ship .'], [tensor(0.3618), 237, 22, 'FILE_MAF_20220213T185709Z_GMO_00000000047424_01', 0, 'communication ... be good for my line of work .'], [tensor(0.3367), 154, 22, 'FILE_MAF_20220213T071459Z_GMO_00000000022396_01', 1, 'google .'], [tensor(0.3322), 19, 22, 'FILE_MAF_20210809T221817Z_GMO_00000000171493_01', 0, 'and along with our purchase agreement we be also willing to offer your government a discount on tech licensing fee .'], [tensor(0.3256), 370, 22, 'FILE_MAF_20220213T184756Z_GMO_00000000047423_01', 0, 'cell phone buzz   I can not tell you how much I appreciate this .'], [tensor(0.3234), 289, 22, 'FILE_MAF_20210809T184656Z_GMO_00000000171499_01', 0, 'to download al e despicable individual and if you would like to meet th r profit who have coopte your life fo come meet they now in person cipriani .'], [tensor(0.3136), 81, 22, 'FILE_MAF_20220213T185303Z_GMO_00000000047420_01', 0, 'e corp google at&t uber apple verizon facebook mpanies have be complicit all 23 of these list co operation berenstain .'], [tensor(0.2998), 17, 22, 'FILE_MAF_20210809T184702Z_GMO_00000000171498_01', 0, 'it be go to help we .'], [tensor(0.2764), 64, 22, 'FILE_MAF_20220213T184650Z_GMO_00000000047418_01', 1, 'sigh nick of time huh deo game music play electronic vi   what I can feel your bug eye on I . audience laugh   can I see your game boy   no way you be not allow .']]\n",
      "list index out of range\n",
      "21 1 121\n",
      "list index out of range\n",
      "605 1 79\n",
      "[[tensor(0.6516), 78, 23, 'FILE_MAF_20210729T035057Z_GMO_00000000040631_01', 0, 'if I know anything about television be a hit .'], [tensor(0.4936), 22, 23, 'FILE_MAF_20210729T043320Z_GMO_00000000040619_01', 1, 'so much of television be really not fit for child or christians or the elderly .'], [tensor(0.4606), 28, 23, 'FILE_MAF_20210729T040359Z_GMO_00000000028384_01', 2, 'he be on partner track at dewey .'], [tensor(0.4400), 127, 23, 'FILE_MAF_20210728T184114Z_GMO_00000000007266_01', 1, 'the tv have over 100 channel for god sake .'], [tensor(0.4233), 58, 23, 'FILE_MAF_20210729T035057Z_GMO_00000000040631_01', 2, 'this tv nonsense be suppose to be my stepping stone and instead it be my gravestone .'], [tensor(0.4166), 2, 23, 'FILE_MAF_20210729T025615Z_GMO_00000000040663_01', 0, '30 rock ...   previously on   it all come down to florida .'], [tensor(0.3953), 66, 23, 'FILE_MAF_20210729T030645Z_GMO_00000000040646_01', 2, 'the phone internet tv that be all we .'], [tensor(0.3951), 121, 23, 'FILE_MAF_20210727T231034Z_GMO_00000000001600_01', 1], [tensor(0.3941), 7, 23, 'FILE_MAF_20210729T043217Z_GMO_00000000040629_01', 3, 'sigh   thank you to matt daman rachel dratch bill hader jon hamm julia louisdreyfus garrett neff chris parnell everyone at nbc .'], [tensor(0.3917), 16, 23, 'FILE_MAF_20210730T044004Z_GMO_00000000040639_01', 0, 'al housewife of new york .'], [tensor(0.3840), 144, 23, 'FILE_MAF_20210729T024008Z_GMO_00000000040660_01', 1, 'this five show a week thing be bonkers .'], [tensor(0.3792), 69, 23, 'FILE_MAF_20210729T035057Z_GMO_00000000040631_01', 1, 'what what about the show   everyone evacuate immediately .'], [tensor(0.3680), 36, 23, 'FILE_MAF_20210729T024008Z_GMO_00000000040660_01', 0, 'rating spike for so no political stuff .'], [tensor(0.3495), 15, 23, 'FILE_MAF_20210729T024008Z_GMO_00000000040660_01', 3, 'do not worry about the show .'], [tensor(0.3491), 79, 23, 'FILE_MAF_20210729T004341Z_GMO_00000000028385_01', 1], [tensor(0.3488), 64, 23, 'FILE_MAF_20210729T004129Z_GMO_00000000028368_01', 1, 'hello gentleman .'], [tensor(0.3482), 64, 23, 'FILE_MAF_20210729T043217Z_GMO_00000000040629_01', 0, 'oh happy day be my favorite show   yeah happy day be a be a great show .'], [tensor(0.3370), 50, 23, 'FILE_MAF_20210729T024008Z_GMO_00000000040660_01', 2, \"and you goose nbc 's rating .\"], [tensor(0.3361), 17, 23, 'FILE_MAF_20210730T040956Z_GMO_00000000001634_01', 1, 'you remember that when a man buy you an expensive meal .'], [tensor(0.3356), 93, 23, 'FILE_MAF_20210727T231245Z_GMO_00000000001653_01', 2, 'so let us turn the tv off .']]\n",
      "[[tensor(0.5029), 61, 24, 'FILE_MAF_20220212T161334Z_GMO_00000000002504_01', 1, 'itinerary request .'], [tensor(0.4709), 142, 24, 'FILE_MAF_20220215T013012Z_GMO_00000000279146_01', 3, 'if you find something in new zealand I would love to come over .'], [tensor(0.4677), 50, 24, 'FILE_MAF_20210824T142523Z_GMO_00000000027747_01', 4, 'we be on this trip to see the world .'], [tensor(0.4564), 71, 24, 'FILE_MAF_20210824T150833Z_GMO_00000000033323_01', 0, 'bucket list check .'], [tensor(0.4303), 130, 24, 'FILE_MAF_20220213T215210Z_GMO_00000000115135_01', 0, 'I backpack central america by myself spend four month in kauai off the grid so yachting be just convenient for my nomadic lifestyle .'], [tensor(0.4268), 20, 24, 'FILE_MAF_20220215T035307Z_GMO_00000000325452_01', 1, 'jet ski be go to happen jacuzzi jacuzzi you can go use it right now if you want .'], [tensor(0.4184), 39, 24, 'FILE_MAF_20220215T013012Z_GMO_00000000279146_01', 4, \"we 've get tahitian food and music .\"], [tensor(0.4103), 35, 24, 'FILE_MAF_20210824T142523Z_GMO_00000000027747_01', 0, 'I would like to go on an adventure .'], [tensor(0.4088), 4, 24, 'FILE_MAF_20220213T184655Z_GMO_00000000047492_01', 0, 'cruise ship be the walmart and yacht be the neiman marcus .'], [tensor(0.4084), 50, 24, 'FILE_MAF_20220213T090940Z_GMO_00000000032052_01', 0, 'kate what be our itinerary   we be go to have a beach picnic .'], [tensor(0.3981), 104, 24, 'FILE_MAF_20220213T215210Z_GMO_00000000115135_01', 1, 'he be a big adventure junkie .'], [tensor(0.3949), 113, 24, 'FILE_MAF_20220213T184655Z_GMO_00000000047492_01', 2, 'these guest be on a yacht with wonderful service and a beautiful setting .'], [tensor(0.3826), 98, 24, 'FILE_MAF_20220215T035514Z_GMO_00000000320574_01', 3, 'be you still keen to go to new zealand for school holiday because I need to get our plane ticket .'], [tensor(0.3812), 126, 24, 'FILE_MAF_20220215T013012Z_GMO_00000000279146_01', 5, 'but be in tahiti make yachting feel new again for I and I think it be our good season ever .'], [tensor(0.3762), 5, 24, 'FILE_MAF_20220213T185059Z_GMO_00000000044111_01', 1, 'not only be we in the british virgin island not only do we have like a day off we get to go and spend the day on a catamaran where we be not work we be getting serve the drink and we get to lounge .'], [tensor(0.3682), 186, 24, 'FILE_MAF_20220214T043107Z_GMO_00000000177644_01', 1, 'tahiti baby whew go girl love it .'], [tensor(0.3662), 8, 24, 'FILE_MAF_20220212T161334Z_GMO_00000000002504_01', 3, \"whoo what be up   so how do you get into yachting   my cousin have do it for about ten year nine year in the ' 90 .   yeah   and always send we postcard .\"], [tensor(0.3593), 60, 24, 'FILE_MAF_20220215T013012Z_GMO_00000000279146_01', 1, 'in the caribbean I just spend my youth snorkeling find cool treasure .'], [tensor(0.3592), 147, 24, 'FILE_MAF_20220213T093757Z_GMO_00000000031571_01', 0, 'where do you want to go   all over .'], [tensor(0.3578), 35, 24, 'FILE_MAF_20210812T204402Z_GMO_00000000351581_01', 3, 'I be go to do a walk through the boat so you can see you accommodation for the next couple of day .']]\n"
     ]
    }
   ],
   "source": [
    "topksentences(Relevance_dict)"
   ]
  }
 ],
 "metadata": {
  "kernelspec": {
   "display_name": "Python 3.9.12 ('base')",
   "language": "python",
   "name": "python3"
  },
  "language_info": {
   "codemirror_mode": {
    "name": "ipython",
    "version": 3
   },
   "file_extension": ".py",
   "mimetype": "text/x-python",
   "name": "python",
   "nbconvert_exporter": "python",
   "pygments_lexer": "ipython3",
   "version": "3.10.4"
  },
  "orig_nbformat": 4,
  "vscode": {
   "interpreter": {
    "hash": "4f8fa3e926face00369008f823e0a800506eaa9d6c726ba0fbe6c8d0f6896eaa"
   }
  }
 },
 "nbformat": 4,
 "nbformat_minor": 2
}
