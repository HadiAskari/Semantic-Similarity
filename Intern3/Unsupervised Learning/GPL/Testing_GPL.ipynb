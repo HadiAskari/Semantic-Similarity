{
 "cells": [
  {
   "cell_type": "code",
   "execution_count": 4,
   "metadata": {},
   "outputs": [
    {
     "name": "stderr",
     "output_type": "stream",
     "text": [
      "2022-08-21 23:31:31.345780: I tensorflow/core/util/util.cc:169] oneDNN custom operations are on. You may see slightly different numerical results due to floating-point round-off errors from different computation orders. To turn them off, set the environment variable `TF_ENABLE_ONEDNN_OPTS=0`.\n"
     ]
    }
   ],
   "source": [
    "import pickle \n",
    "import pandas as pd\n",
    "import spacy\n",
    "from tqdm.auto import tqdm\n",
    "from sklearn.metrics.pairwise import cosine_similarity\n",
    "from tqdm.notebook import tqdm\n",
    "tqdm.pandas()\n",
    "import re\n",
    "import transformers\n",
    "from sentence_transformers import SentenceTransformer, util\n",
    "import nltk\n",
    "from nltk import tokenize\n",
    "import pickle\n",
    "import urllib.request as requests\n",
    "import json\n",
    "import statistics\n",
    "import torch\n",
    "from collections import defaultdict\n",
    "import copy\n",
    "import math\n",
    "import os\n",
    "import spacy"
   ]
  },
  {
   "cell_type": "code",
   "execution_count": 3,
   "metadata": {},
   "outputs": [],
   "source": [
    "pathtosave=os.getcwd()\n",
    "\n",
    "pathtosave=pathtosave + \"/models/GPL/\""
   ]
  },
  {
   "cell_type": "code",
   "execution_count": 3,
   "metadata": {},
   "outputs": [],
   "source": [
    "model = SentenceTransformer(pathtosave)\n",
    "\n",
    "df=pd.read_csv('gmo_to_uniqueId.csv')\n",
    "materialID=df['lastRunJob'].to_list()\n",
    "\n",
    "with open('PreProcessed_segmented.pkl', 'rb') as f:\n",
    "    newmetalist=pickle.load(f)\n",
    "\n",
    "sampled_datadf=pd.read_csv(\"Sampled_Adword_Labeled.csv\")\n",
    "\n",
    "#For Normal process with target labels only\n",
    "\n",
    "df1=pd.read_csv('ChildAdwordTargetDatabase.csv')    \n",
    "target_dict=dict(zip(df1['Name'], df1.index))"
   ]
  },
  {
   "cell_type": "code",
   "execution_count": null,
   "metadata": {},
   "outputs": [],
   "source": []
  },
  {
   "cell_type": "code",
   "execution_count": 4,
   "metadata": {},
   "outputs": [],
   "source": [
    "def clean(text):\n",
    "    text=text.lower()\n",
    "    text=text.replace(\"(\", \"\")\n",
    "    text=text.replace(\")\", \"\")\n",
    "    text=text.replace(\";\", \"\")\n",
    "    text=text.replace(\",\", \"\")\n",
    "    text=text.replace(\"+\", \"\")\n",
    "    text=text.replace(\".\", \"\")\n",
    "    text=text.replace(\"&\", \"\")\n",
    "    return text"
   ]
  },
  {
   "cell_type": "code",
   "execution_count": 5,
   "metadata": {},
   "outputs": [
    {
     "name": "stdout",
     "output_type": "stream",
     "text": [
      "   Unnamed: 0                    Name  \\\n",
      "0           0              Automotive   \n",
      "1           1    Books and Literature   \n",
      "2           2    Business and Finance   \n",
      "3           3               Education   \n",
      "4           4  Events and Attractions   \n",
      "\n",
      "                                                info  \n",
      "0  Automotive Crossover Hatchback Microcar Off-Ro...  \n",
      "1  Books and Literature Art and Photography Books...  \n",
      "2  Business and Finance Business Business Account...  \n",
      "3  Education College Education Primary Education ...  \n",
      "4  Events and Attractions Fashion Events Malls & ...  \n"
     ]
    }
   ],
   "source": [
    "print(df1.head())"
   ]
  },
  {
   "cell_type": "code",
   "execution_count": 6,
   "metadata": {},
   "outputs": [],
   "source": [
    "df1['info']=df1['info'].apply(clean)\n",
    "targetlist=df1['Name'].to_list()\n",
    "targetlistchild=df1['info']"
   ]
  },
  {
   "cell_type": "code",
   "execution_count": 7,
   "metadata": {},
   "outputs": [
    {
     "name": "stdout",
     "output_type": "stream",
     "text": [
      "0     automotive crossover hatchback microcar off-ro...\n",
      "1     books and literature art and photography books...\n",
      "2     business and finance business business account...\n",
      "3     education college education primary education ...\n",
      "4     events and attractions fashion events malls  s...\n",
      "5     family and relationships dating parenting sing...\n",
      "6     fine art costume dance design digital arts fin...\n",
      "7     food  drink alcoholic beverages world cuisines...\n",
      "8     healthy living fitness and exercise wellness c...\n",
      "9     hobbies  interests musical instruments games a...\n",
      "10    home  garden gardening remodeling  constructio...\n",
      "11    medical health diseases and conditions allergi...\n",
      "12    movies action and adventure movies romance mov...\n",
      "13    music and audio adult contemporary music soft ...\n",
      "14    pets birds cats dogs large animals reptiles fi...\n",
      "15    pop culture celebrity deaths celebrity familie...\n",
      "16    real estate apartments retail property hotel p...\n",
      "17    religion  spirituality agnosticism spiritualit...\n",
      "18    science space and astronomy biological science...\n",
      "19    shopping flower shopping grocery shopping holi...\n",
      "20    sports american football boxing cheerleading c...\n",
      "21    style  fashion beauty natural and organic beau...\n",
      "22    technology  computing consumer electronics art...\n",
      "23    television animation tv soap opera tv special ...\n",
      "24    travel travel accessories travel locations afr...\n",
      "25    video gaming console games esports mobile game...\n",
      "26    careers apprenticeships career advice career p...\n",
      "27    news and politics crime disasters internationa...\n",
      "28    personal finance consumer banking financial as...\n",
      "Name: info, dtype: object\n"
     ]
    }
   ],
   "source": [
    "print(targetlistchild)"
   ]
  },
  {
   "cell_type": "code",
   "execution_count": 8,
   "metadata": {},
   "outputs": [
    {
     "data": {
      "text/html": [
       "<div>\n",
       "<style scoped>\n",
       "    .dataframe tbody tr th:only-of-type {\n",
       "        vertical-align: middle;\n",
       "    }\n",
       "\n",
       "    .dataframe tbody tr th {\n",
       "        vertical-align: top;\n",
       "    }\n",
       "\n",
       "    .dataframe thead th {\n",
       "        text-align: right;\n",
       "    }\n",
       "</style>\n",
       "<table border=\"1\" class=\"dataframe\">\n",
       "  <thead>\n",
       "    <tr style=\"text-align: right;\">\n",
       "      <th></th>\n",
       "      <th>Unnamed: 0.1</th>\n",
       "      <th>Unnamed: 0</th>\n",
       "      <th>materialId</th>\n",
       "      <th>lastRunJob</th>\n",
       "      <th>materialtitle</th>\n",
       "      <th>seriestitle</th>\n",
       "      <th>AssetCC</th>\n",
       "      <th>adword</th>\n",
       "    </tr>\n",
       "  </thead>\n",
       "  <tbody>\n",
       "    <tr>\n",
       "      <th>0</th>\n",
       "      <td>3</td>\n",
       "      <td>3</td>\n",
       "      <td>GMO_00000000001313_01</td>\n",
       "      <td>FILE_MAF_20220211T205601Z_GMO_00000000001313_01</td>\n",
       "      <td>FULL HEARTS (EDITED)</td>\n",
       "      <td>friday night lights</td>\n",
       "      <td>Is something happening\\nbetween you and Riggin...</td>\n",
       "      <td>Sports</td>\n",
       "    </tr>\n",
       "    <tr>\n",
       "      <th>1</th>\n",
       "      <td>6</td>\n",
       "      <td>6</td>\n",
       "      <td>GMO_00000000001534_01</td>\n",
       "      <td>FILE_MAF_20220211T205607Z_GMO_00000000001534_01</td>\n",
       "      <td>MAY THE BEST MAN WIN (EDITED)</td>\n",
       "      <td>friday night lights</td>\n",
       "      <td>BE HONEST WITH YOURSELF\\nFOR TWO SECONDS AND T...</td>\n",
       "      <td>Sports</td>\n",
       "    </tr>\n",
       "    <tr>\n",
       "      <th>2</th>\n",
       "      <td>7</td>\n",
       "      <td>7</td>\n",
       "      <td>GMO_00000000001577_01</td>\n",
       "      <td>FILE_MAF_20210727T231031Z_GMO_00000000001577_01</td>\n",
       "      <td>GAVIN VOLURE</td>\n",
       "      <td>30 rock</td>\n",
       "      <td>WE'RE AT A PARTY, LEMON,\\nTRY TO LOOSEN UP A L...</td>\n",
       "      <td>Television</td>\n",
       "    </tr>\n",
       "    <tr>\n",
       "      <th>3</th>\n",
       "      <td>8</td>\n",
       "      <td>8</td>\n",
       "      <td>GMO_00000000001585_01</td>\n",
       "      <td>FILE_MAF_20210727T231030Z_GMO_00000000001585_01</td>\n",
       "      <td>DO-OVER</td>\n",
       "      <td>30 rock</td>\n",
       "      <td>[bossa nova music] ♪ LLO, PUSSYCAT! (male voic...</td>\n",
       "      <td>Television</td>\n",
       "    </tr>\n",
       "    <tr>\n",
       "      <th>4</th>\n",
       "      <td>9</td>\n",
       "      <td>9</td>\n",
       "      <td>GMO_00000000001598_01</td>\n",
       "      <td>FILE_MAF_20210727T231031Z_GMO_00000000001598_01</td>\n",
       "      <td>CUTBACKS</td>\n",
       "      <td>30 rock</td>\n",
       "      <td>[cheers] &gt;&gt; WHOO!\\n&gt;&gt; WHOO! &gt;&gt; OKAY, GUYS, I J...</td>\n",
       "      <td>Television</td>\n",
       "    </tr>\n",
       "  </tbody>\n",
       "</table>\n",
       "</div>"
      ],
      "text/plain": [
       "   Unnamed: 0.1  Unnamed: 0             materialId  \\\n",
       "0             3           3  GMO_00000000001313_01   \n",
       "1             6           6  GMO_00000000001534_01   \n",
       "2             7           7  GMO_00000000001577_01   \n",
       "3             8           8  GMO_00000000001585_01   \n",
       "4             9           9  GMO_00000000001598_01   \n",
       "\n",
       "                                        lastRunJob  \\\n",
       "0  FILE_MAF_20220211T205601Z_GMO_00000000001313_01   \n",
       "1  FILE_MAF_20220211T205607Z_GMO_00000000001534_01   \n",
       "2  FILE_MAF_20210727T231031Z_GMO_00000000001577_01   \n",
       "3  FILE_MAF_20210727T231030Z_GMO_00000000001585_01   \n",
       "4  FILE_MAF_20210727T231031Z_GMO_00000000001598_01   \n",
       "\n",
       "                   materialtitle          seriestitle  \\\n",
       "0           FULL HEARTS (EDITED)  friday night lights   \n",
       "1  MAY THE BEST MAN WIN (EDITED)  friday night lights   \n",
       "2                   GAVIN VOLURE              30 rock   \n",
       "3                        DO-OVER              30 rock   \n",
       "4                       CUTBACKS              30 rock   \n",
       "\n",
       "                                             AssetCC      adword  \n",
       "0  Is something happening\\nbetween you and Riggin...      Sports  \n",
       "1  BE HONEST WITH YOURSELF\\nFOR TWO SECONDS AND T...      Sports  \n",
       "2  WE'RE AT A PARTY, LEMON,\\nTRY TO LOOSEN UP A L...  Television  \n",
       "3  [bossa nova music] ♪ LLO, PUSSYCAT! (male voic...  Television  \n",
       "4  [cheers] >> WHOO!\\n>> WHOO! >> OKAY, GUYS, I J...  Television  "
      ]
     },
     "execution_count": 8,
     "metadata": {},
     "output_type": "execute_result"
    }
   ],
   "source": [
    "truthdatadf=pd.read_csv('AdwordLabeledDatabase.csv')\n",
    "truthdatadf.head()"
   ]
  },
  {
   "cell_type": "code",
   "execution_count": 9,
   "metadata": {},
   "outputs": [],
   "source": [
    "def getadword(episode, truthdatadf):\n",
    "    for i in range(len(truthdatadf.lastRunJob)):\n",
    "        if episode == truthdatadf.lastRunJob[i]:\n",
    "            return truthdatadf.adword[i]"
   ]
  },
  {
   "cell_type": "code",
   "execution_count": 10,
   "metadata": {},
   "outputs": [
    {
     "data": {
      "text/html": [
       "<div>\n",
       "<style scoped>\n",
       "    .dataframe tbody tr th:only-of-type {\n",
       "        vertical-align: middle;\n",
       "    }\n",
       "\n",
       "    .dataframe tbody tr th {\n",
       "        vertical-align: top;\n",
       "    }\n",
       "\n",
       "    .dataframe thead th {\n",
       "        text-align: right;\n",
       "    }\n",
       "</style>\n",
       "<table border=\"1\" class=\"dataframe\">\n",
       "  <thead>\n",
       "    <tr style=\"text-align: right;\">\n",
       "      <th></th>\n",
       "      <th>Unnamed: 0.1</th>\n",
       "      <th>Unnamed: 0</th>\n",
       "      <th>materialId</th>\n",
       "      <th>lastRunJob</th>\n",
       "      <th>materialtitle</th>\n",
       "      <th>seriestitle</th>\n",
       "      <th>AssetCC</th>\n",
       "      <th>adword</th>\n",
       "    </tr>\n",
       "  </thead>\n",
       "  <tbody>\n",
       "    <tr>\n",
       "      <th>0</th>\n",
       "      <td>665</td>\n",
       "      <td>665</td>\n",
       "      <td>GMO_00000000040741_01</td>\n",
       "      <td>FILE_MAF_20210731T020535Z_GMO_00000000040741_01</td>\n",
       "      <td>I KNEW YOU WHEN</td>\n",
       "      <td>friday night lights</td>\n",
       "      <td>LKS, IS IS SLAMMIN' SAMMY MEADE,\\nFO [radio]\\n...</td>\n",
       "      <td>Sports</td>\n",
       "    </tr>\n",
       "    <tr>\n",
       "      <th>1</th>\n",
       "      <td>8244</td>\n",
       "      <td>8244</td>\n",
       "      <td>GMO_00000000370441_01</td>\n",
       "      <td>FILE_MAF_20220215T090159Z_GMO_00000000370441_01</td>\n",
       "      <td>Make Up or Break Up?</td>\n",
       "      <td>total bellas</td>\n",
       "      <td>&gt;&gt; NIKKI: Yeah! Welcome to Paris! Tonight on t...</td>\n",
       "      <td>Sports</td>\n",
       "    </tr>\n",
       "    <tr>\n",
       "      <th>2</th>\n",
       "      <td>678</td>\n",
       "      <td>678</td>\n",
       "      <td>GMO_00000000039091_01</td>\n",
       "      <td>FILE_MAF_20220213T121447Z_GMO_00000000039091_01</td>\n",
       "      <td>HOMECOMING (EDITED)</td>\n",
       "      <td>friday night lights</td>\n",
       "      <td>What's after\\nhigh school, Brian? Me and Mack ...</td>\n",
       "      <td>Sports</td>\n",
       "    </tr>\n",
       "    <tr>\n",
       "      <th>3</th>\n",
       "      <td>777</td>\n",
       "      <td>777</td>\n",
       "      <td>GMO_00000000039094_01</td>\n",
       "      <td>FILE_MAF_20220213T173625Z_GMO_00000000039094_01</td>\n",
       "      <td>NEVERMIND (EDITED)</td>\n",
       "      <td>friday night lights</td>\n",
       "      <td>Here's to God in ten years from now, Street, g...</td>\n",
       "      <td>Sports</td>\n",
       "    </tr>\n",
       "    <tr>\n",
       "      <th>4</th>\n",
       "      <td>679</td>\n",
       "      <td>679</td>\n",
       "      <td>GMO_00000000039095_01</td>\n",
       "      <td>FILE_MAF_20220213T173619Z_GMO_00000000039095_01</td>\n",
       "      <td>WHAT TO DO WHILE YOU'RE WAITING (EDITED)</td>\n",
       "      <td>friday night lights</td>\n",
       "      <td>Dad? You're home! Hello, Brian. Waverly? Damn,...</td>\n",
       "      <td>Sports</td>\n",
       "    </tr>\n",
       "  </tbody>\n",
       "</table>\n",
       "</div>"
      ],
      "text/plain": [
       "   Unnamed: 0.1  Unnamed: 0             materialId  \\\n",
       "0           665         665  GMO_00000000040741_01   \n",
       "1          8244        8244  GMO_00000000370441_01   \n",
       "2           678         678  GMO_00000000039091_01   \n",
       "3           777         777  GMO_00000000039094_01   \n",
       "4           679         679  GMO_00000000039095_01   \n",
       "\n",
       "                                        lastRunJob  \\\n",
       "0  FILE_MAF_20210731T020535Z_GMO_00000000040741_01   \n",
       "1  FILE_MAF_20220215T090159Z_GMO_00000000370441_01   \n",
       "2  FILE_MAF_20220213T121447Z_GMO_00000000039091_01   \n",
       "3  FILE_MAF_20220213T173625Z_GMO_00000000039094_01   \n",
       "4  FILE_MAF_20220213T173619Z_GMO_00000000039095_01   \n",
       "\n",
       "                              materialtitle          seriestitle  \\\n",
       "0                           I KNEW YOU WHEN  friday night lights   \n",
       "1                      Make Up or Break Up?         total bellas   \n",
       "2                       HOMECOMING (EDITED)  friday night lights   \n",
       "3                        NEVERMIND (EDITED)  friday night lights   \n",
       "4  WHAT TO DO WHILE YOU'RE WAITING (EDITED)  friday night lights   \n",
       "\n",
       "                                             AssetCC  adword  \n",
       "0  LKS, IS IS SLAMMIN' SAMMY MEADE,\\nFO [radio]\\n...  Sports  \n",
       "1  >> NIKKI: Yeah! Welcome to Paris! Tonight on t...  Sports  \n",
       "2  What's after\\nhigh school, Brian? Me and Mack ...  Sports  \n",
       "3  Here's to God in ten years from now, Street, g...  Sports  \n",
       "4  Dad? You're home! Hello, Brian. Waverly? Damn,...  Sports  "
      ]
     },
     "execution_count": 10,
     "metadata": {},
     "output_type": "execute_result"
    }
   ],
   "source": [
    "sampled_datadf.head()"
   ]
  },
  {
   "cell_type": "code",
   "execution_count": 11,
   "metadata": {},
   "outputs": [
    {
     "data": {
      "text/plain": [
       "380"
      ]
     },
     "execution_count": 11,
     "metadata": {},
     "output_type": "execute_result"
    }
   ],
   "source": [
    "listofepisodes=sampled_datadf['lastRunJob'].to_list()\n",
    "len(listofepisodes)"
   ]
  },
  {
   "cell_type": "code",
   "execution_count": null,
   "metadata": {},
   "outputs": [],
   "source": [
    "#listofepisodes=['FILE_MAF_20220211T205601Z_GMO_00000000001313_01', 'FILE_MAF_20220211T205607Z_GMO_00000000001534_01', 'FILE_MAF_20210727T231031Z_GMO_00000000001577_01' ]"
   ]
  },
  {
   "cell_type": "code",
   "execution_count": 12,
   "metadata": {},
   "outputs": [],
   "source": [
    "def keydict(dataframe, targetlist):\n",
    "    d=defaultdict(list)\n",
    "    for target in targetlist:\n",
    "        minidf=dataframe.loc[dataframe['adword']==target]\n",
    "        minilist=minidf['lastRunJob'].to_list()\n",
    "        d[target]=minilist\n",
    "    \n",
    "    return d\n",
    "\n"
   ]
  },
  {
   "cell_type": "code",
   "execution_count": 13,
   "metadata": {},
   "outputs": [
    {
     "name": "stdout",
     "output_type": "stream",
     "text": [
      "defaultdict(<class 'list'>, {'Automotive': ['FILE_MAF_20211223T065128Z_GMO_00000000002584_01', 'FILE_MAF_20211223T064615Z_GMO_00000000106986_01', 'FILE_MAF_20211223T064819Z_GMO_00000000002709_01', 'FILE_MAF_20211222T231607Z_GMO_00000000294982_01', 'FILE_MAF_20211222T214634Z_GMO_00000000029298_01', 'FILE_MAF_20211222T214941Z_GMO_00000000121162_01', 'FILE_MAF_20211222T230805Z_GMO_00000000273733_01', 'FILE_MAF_20211223T065125Z_GMO_00000000027759_01', 'FILE_MAF_20211223T065130Z_GMO_00000000002708_01', 'FILE_MAF_20211223T063010Z_GMO_00000000002843_01', 'FILE_MAF_20211223T064314Z_GMO_00000000029163_01', 'FILE_MAF_20211222T214633Z_GMO_00000000027597_01', 'FILE_MAF_20211223T065127Z_GMO_00000000002637_01', 'FILE_MAF_20211223T065129Z_GMO_00000000009448_01', 'FILE_MAF_20211223T064919Z_GMO_00000000002707_01', 'FILE_MAF_20211222T214633Z_GMO_00000000027055_01', 'FILE_MAF_20211223T065126Z_GMO_00000000002685_01', 'FILE_MAF_20211223T065020Z_GMO_00000000009009_01', 'FILE_MAF_20211223T061005Z_GMO_00000000113301_01', 'FILE_MAF_20211222T174857Z_GMO_00000000334049_01'], 'Books and Literature': ['FILE_MAF_20210729T092828Z_GMO_00000000044326_01', 'FILE_MAF_20210730T234421Z_GMO_00000000044076_01', 'FILE_MAF_20210805T164954Z_GMO_00000000044095_01', 'FILE_MAF_20210802T172724Z_GMO_00000000142561_01', 'FILE_MAF_20210803T004745Z_GMO_00000000044086_01', 'FILE_MAF_20210730T233513Z_GMO_00000000044080_01', 'FILE_MAF_20210802T172722Z_GMO_00000000142565_01', 'FILE_MAF_20210802T164609Z_GMO_00000000044398_01', 'FILE_MAF_20210729T120911Z_GMO_00000000044348_01', 'FILE_MAF_20210729T073646Z_GMO_00000000044249_01', 'FILE_MAF_20210729T073651Z_GMO_00000000044264_01', 'FILE_MAF_20210729T075657Z_GMO_00000000044301_01', 'FILE_MAF_20210729T074455Z_GMO_00000000044309_01', 'FILE_MAF_20210729T074052Z_GMO_00000000044294_01', 'FILE_MAF_20210730T172125Z_GMO_00000000044284_01', 'FILE_MAF_20210730T225100Z_GMO_00000000044066_01', 'FILE_MAF_20210729T083302Z_GMO_00000000044265_01', 'FILE_MAF_20210730T172335Z_GMO_00000000044277_01', 'FILE_MAF_20210730T233617Z_GMO_00000000044072_01', 'FILE_MAF_20210729T093648Z_GMO_00000000044308_01'], 'Business and Finance': ['FILE_MAF_20210803T150810Z_GMO_00000000108698_01', 'FILE_MAF_20210728T183011Z_GMO_00000000007353_01', 'FILE_MAF_20210728T185221Z_GMO_00000000007414_01', 'FILE_MAF_20210727T231449Z_GMO_00000000001716_01', 'FILE_MAF_20210728T202741Z_GMO_00000000007597_01', 'FILE_MAF_20210728T181505Z_GMO_00000000007230_01', 'FILE_MAF_20210728T163741Z_GMO_00000000007105_01', 'FILE_MAF_20210728T163639Z_GMO_00000000007100_01', 'FILE_MAF_20210728T181503Z_GMO_00000000007187_01', 'FILE_MAF_20210727T231237Z_GMO_00000000001660_01', 'FILE_MAF_20210728T163637Z_GMO_00000000007042_01', 'FILE_MAF_20210727T231247Z_GMO_00000000001712_01', 'FILE_MAF_20210728T183513Z_GMO_00000000007330_01', 'FILE_MAF_20210802T225506Z_GMO_00000000007502_01', 'FILE_MAF_20210728T163134Z_GMO_00000000007137_01', 'FILE_MAF_20210728T185222Z_GMO_00000000007421_01', 'FILE_MAF_20210807T072438Z_GMO_00000000007432_01', 'FILE_MAF_20210728T162831Z_GMO_00000000007007_01', 'FILE_MAF_20210728T185223Z_GMO_00000000007423_01', 'FILE_MAF_20210802T225204Z_GMO_00000000007468_01'], 'Education': ['FILE_MAF_20220321T225325Z_GMO_00000000354810_01', 'FILE_MAF_20220321T225326Z_GMO_00000000354808_01', 'FILE_MAF_20220321T225326Z_GMO_00000000354809_01', 'FILE_MAF_20220321T225327Z_GMO_00000000354807_01', 'FILE_MAF_20220321T225328Z_GMO_00000000354812_01', 'FILE_MAF_20220321T225329Z_GMO_00000000354811_01', 'FILE_MAF_20220505T091718Z_GMO_00000000354813_01', 'FILE_MAF_20220505T091718Z_GMO_00000000354814_01', 'FILE_MAF_20220505T091720Z_GMO_00000000354815_01', 'FILE_MAF_20220505T224819Z_GMO_00000000354816_01'], 'Events and Attractions': ['FILE_MAF_20210824T160507Z_GMO_00000000305067_01', 'FILE_MAF_20210730T172125Z_GMO_00000000384803_01', 'FILE_MAF_20210824T160504Z_GMO_00000000305061_01', 'FILE_MAF_20220214T004858Z_GMO_00000000116407_01', 'FILE_MAF_20220213T003335Z_GMO_00000000010677_01', 'FILE_MAF_20210825T012852Z_GMO_00000000348725_01', 'FILE_MAF_20220214T211212Z_GMO_00000000284516_01', 'FILE_MAF_20210825T013302Z_GMO_00000000348723_01', 'FILE_MAF_20220212T231617Z_GMO_00000000010675_01', 'FILE_MAF_20210825T013158Z_GMO_00000000338679_01', 'FILE_MAF_20220214T211213Z_GMO_00000000195852_01', 'FILE_MAF_20210825T013307Z_GMO_00000000359730_01', 'FILE_MAF_20210825T013409Z_GMO_00000000359729_01', 'FILE_MAF_20220214T211534Z_GMO_00000000284515_01', 'FILE_MAF_20220215T035934Z_GMO_00000000327844_01', 'FILE_MAF_20220213T185815Z_GMO_00000000048836_01', 'FILE_MAF_20220215T013221Z_GMO_00000000287847_01', 'FILE_MAF_20210825T012651Z_GMO_00000000348720_01', 'FILE_MAF_20210824T160506Z_GMO_00000000305064_01', 'FILE_MAF_20220213T215316Z_GMO_00000000116411_01'], 'Family and Relationships': ['FILE_MAF_20211106T220217Z_GMO_00000000124439_01', 'FILE_MAF_20210803T024232Z_GMO_00000000346786_01', 'FILE_MAF_20211107T155428Z_GMO_00000000144867_01', 'FILE_MAF_20210730T235041Z_GMO_00000000346774_01', 'FILE_MAF_20211107T173012Z_GMO_00000000144871_01', 'FILE_MAF_20211109T073412Z_GMO_00000000012360_01', 'FILE_MAF_20211109T073414Z_GMO_00000000286853_01', 'FILE_MAF_20211104T120605Z_GMO_00000000365313_01', 'FILE_MAF_20211105T085433Z_GMO_00000000144877_01', 'FILE_MAF_20211104T114856Z_GMO_00000000354181_01', 'FILE_MAF_20210729T234914Z_GMO_00000000346776_01', 'FILE_MAF_20210729T235115Z_GMO_00000000346783_01', 'FILE_MAF_20211104T094412Z_GMO_00000000012365_01', 'FILE_MAF_20211106T220336Z_GMO_00000000285127_01', 'FILE_MAF_20211106T220331Z_GMO_00000000012363_01', 'FILE_MAF_20211109T073419Z_GMO_00000000283501_01', 'FILE_MAF_20211106T234819Z_GMO_00000000039636_01', 'FILE_MAF_20211106T231656Z_GMO_00000000017733_01', 'FILE_MAF_20211106T220215Z_GMO_00000000012323_01', 'FILE_MAF_20211104T080633Z_GMO_00000000017731_01'], 'Fine Art': [], 'Food & Drink': ['FILE_MAF_20220213T092945Z_GMO_00000000031461_01', 'FILE_MAF_20220213T185507Z_GMO_00000000045335_01', 'FILE_MAF_20220212T143407Z_GMO_00000000002223_01', 'FILE_MAF_20210824T142520Z_GMO_00000000294157_01', 'FILE_MAF_20210824T142522Z_GMO_00000000294142_01', 'FILE_MAF_20220212T183925Z_GMO_00000000006948_01', 'FILE_MAF_20210824T200155Z_GMO_00000000294191_01', 'FILE_MAF_20220213T182741Z_GMO_00000000041022_01', 'FILE_MAF_20210824T142517Z_GMO_00000000294126_01', 'FILE_MAF_20220213T184755Z_GMO_00000000041020_01', 'FILE_MAF_20210824T142521Z_GMO_00000000294128_01', 'FILE_MAF_20220212T194452Z_GMO_00000000007405_01', 'FILE_MAF_20220214T043101Z_GMO_00000000201223_01', 'FILE_MAF_20220213T010346Z_GMO_00000000014850_01', 'FILE_MAF_20210824T153450Z_GMO_00000000294170_01', 'FILE_MAF_20210825T013057Z_GMO_00000000391127_01', 'FILE_MAF_20220212T223751Z_GMO_00000000009281_01', 'FILE_MAF_20220212T183523Z_GMO_00000000006936_01', 'FILE_MAF_20210824T195853Z_GMO_00000000294185_01', 'FILE_MAF_20220214T050523Z_GMO_00000000201227_01'], 'Healthy Living': [], 'Hobbies & Interests': ['FILE_MAF_20220215T083954Z_GMO_00000000390302_01', 'FILE_MAF_20220215T092105Z_GMO_00000000390300_01', 'FILE_MAF_20220215T092413Z_GMO_00000000390299_01', 'FILE_MAF_20220215T092415Z_GMO_00000000390294_01', 'FILE_MAF_20220215T092416Z_GMO_00000000390295_01', 'FILE_MAF_20220215T092417Z_GMO_00000000390297_01', 'FILE_MAF_20220215T092521Z_GMO_00000000390293_01', 'FILE_MAF_20220215T092524Z_GMO_00000000390296_01', 'FILE_MAF_20220215T092524Z_GMO_00000000390298_01', 'FILE_MAF_20220215T092524Z_GMO_00000000390301_01'], 'Home & Garden': [], 'Medical Health': ['FILE_MAF_20211222T135839Z_GMO_00000000092418_01', 'FILE_MAF_20211105T221833Z_GMO_00000000338784_01', 'FILE_MAF_20220213T071506Z_GMO_00000000027584_01', 'FILE_MAF_20220213T075121Z_GMO_00000000029125_01', 'FILE_MAF_20211222T061241Z_GMO_00000000295406_01', 'FILE_MAF_20220215T013220Z_GMO_00000000283931_01', 'FILE_MAF_20210824T153451Z_GMO_00000000293441_01', 'FILE_MAF_20220212T223748Z_GMO_00000000009123_01', 'FILE_MAF_20220213T080123Z_GMO_00000000029577_01', 'FILE_MAF_20210728T202844Z_GMO_00000000007758_01', 'FILE_MAF_20210728T202436Z_GMO_00000000007731_01', 'FILE_MAF_20211222T061240Z_GMO_00000000326287_01', 'FILE_MAF_20211222T183052Z_GMO_00000000007458_01', 'FILE_MAF_20211222T144359Z_GMO_00000000112815_01', 'FILE_MAF_20211224T154509Z_GMO_00000000196872_01', 'FILE_MAF_20210824T173626Z_GMO_00000000308191_01', 'FILE_MAF_20210729T030521Z_GMO_00000000022500_01', 'FILE_MAF_20211222T061243Z_GMO_00000000295412_01', 'FILE_MAF_20220215T035936Z_GMO_00000000332332_01', 'FILE_MAF_20211222T061137Z_GMO_00000000326260_01'], 'Movies': [], 'Music and Audio': ['FILE_MAF_20210809T200440Z_GMO_00000000292342_01', 'FILE_MAF_20211106T201721Z_GMO_00000000298262_01', 'FILE_MAF_20211106T183220Z_GMO_00000000298260_01', 'FILE_MAF_20220214T005215Z_GMO_00000000137236_01', 'FILE_MAF_20211103T115536Z_GMO_00000000298267_01', 'FILE_MAF_20210809T200239Z_GMO_00000000330183_01', 'FILE_MAF_20211103T115539Z_GMO_00000000345588_01', 'FILE_MAF_20220214T042555Z_GMO_00000000137222_01', 'FILE_MAF_20211107T173011Z_GMO_00000000298266_01', 'FILE_MAF_20211103T121545Z_GMO_00000000345592_01', 'FILE_MAF_20220510T214825Z_GMO_00000000398885_01', 'FILE_MAF_20210809T203754Z_GMO_00000000330186_01', 'FILE_MAF_20211107T155324Z_GMO_00000000298271_01', 'FILE_MAF_20211103T121645Z_GMO_00000000345597_01', 'FILE_MAF_20210805T224731Z_GMO_00000000284486_01', 'FILE_MAF_20220214T042351Z_GMO_00000000137227_01', 'FILE_MAF_20220510T214825Z_GMO_00000000398887_01', 'FILE_MAF_20220214T042858Z_GMO_00000000137235_01', 'FILE_MAF_20211106T183218Z_GMO_00000000298269_01', 'FILE_MAF_20211103T115532Z_GMO_00000000298270_01'], 'Pets': ['FILE_MAF_20210729T150937Z_GMO_00000000321414_01', 'FILE_MAF_20210729T170339Z_GMO_00000000321975_01', 'FILE_MAF_20210729T180703Z_GMO_00000000321965_01', 'FILE_MAF_20210729T123329Z_GMO_00000000321263_01', 'FILE_MAF_20210729T150935Z_GMO_00000000321408_01', 'FILE_MAF_20210730T073924Z_GMO_00000000321284_01', 'FILE_MAF_20210729T122424Z_GMO_00000000321241_01', 'FILE_MAF_20210729T145919Z_GMO_00000000321470_01', 'FILE_MAF_20210730T073920Z_GMO_00000000321247_01', 'FILE_MAF_20210730T075043Z_GMO_00000000321462_01', 'FILE_MAF_20210729T150932Z_GMO_00000000321386_01', 'FILE_MAF_20210730T073918Z_GMO_00000000321446_01', 'FILE_MAF_20210730T054034Z_GMO_00000000321280_01', 'FILE_MAF_20210729T123027Z_GMO_00000000321243_01', 'FILE_MAF_20210729T155156Z_GMO_00000000321426_01', 'FILE_MAF_20210729T144305Z_GMO_00000000321323_01', 'FILE_MAF_20210730T074533Z_GMO_00000000321287_01', 'FILE_MAF_20210729T122420Z_GMO_00000000321236_01', 'FILE_MAF_20210730T054142Z_GMO_00000000321277_01', 'FILE_MAF_20210729T163608Z_GMO_00000000321442_01'], 'Pop Culture': [], 'Real Estate': ['FILE_MAF_20210824T164918Z_GMO_00000000316807_01', 'FILE_MAF_20220214T042348Z_GMO_00000000153023_01', 'FILE_MAF_20220213T185405Z_GMO_00000000045315_01', 'FILE_MAF_20220212T165146Z_GMO_00000000002833_01', 'FILE_MAF_20210825T012645Z_GMO_00000000399606_01', 'FILE_MAF_20210824T151133Z_GMO_00000000284944_01', 'FILE_MAF_20220211T201452Z_GMO_00000000001224_01', 'FILE_MAF_20220213T173624Z_GMO_00000000039557_01', 'FILE_MAF_20220213T093448Z_GMO_00000000031317_01', 'FILE_MAF_20210825T013053Z_GMO_00000000282347_01', 'FILE_MAF_20220214T042350Z_GMO_00000000153025_01', 'FILE_MAF_20220213T184757Z_GMO_00000000045313_01', 'FILE_MAF_20210825T002729Z_GMO_00000000316811_01', 'FILE_MAF_20220213T011913Z_GMO_00000000014807_01', 'FILE_MAF_20220213T120945Z_GMO_00000000038934_01', 'FILE_MAF_20220213T120643Z_GMO_00000000038929_01', 'FILE_MAF_20210824T160508Z_GMO_00000000316809_01', 'FILE_MAF_20220213T173621Z_GMO_00000000039352_01', 'FILE_MAF_20210825T012646Z_GMO_00000000338857_01', 'FILE_MAF_20220213T173626Z_GMO_00000000039366_01'], 'Religion & Spirituality': ['FILE_MAF_20211223T143223Z_GMO_00000000343629_01', 'FILE_MAF_20211223T143227Z_GMO_00000000343625_01', 'FILE_MAF_20211223T143428Z_GMO_00000000343676_01', 'FILE_MAF_20211223T202630Z_GMO_00000000343584_01', 'FILE_MAF_20211223T143221Z_GMO_00000000343596_01', 'FILE_MAF_20211223T143225Z_GMO_00000000343640_01', 'FILE_MAF_20211223T143222Z_GMO_00000000343627_01', 'FILE_MAF_20211223T143428Z_GMO_00000000343630_01', 'FILE_MAF_20211225T005508Z_GMO_00000000343642_01', 'FILE_MAF_20211223T143837Z_GMO_00000000343639_01', 'FILE_MAF_20211223T143226Z_GMO_00000000343655_01', 'FILE_MAF_20211223T144047Z_GMO_00000000343663_01', 'FILE_MAF_20211223T053255Z_GMO_00000000343736_01', 'FILE_MAF_20211223T143830Z_GMO_00000000343664_01', 'FILE_MAF_20211223T143839Z_GMO_00000000343669_01', 'FILE_MAF_20211223T143942Z_GMO_00000000343636_01', 'FILE_MAF_20211223T144046Z_GMO_00000000343687_01', 'FILE_MAF_20211223T143836Z_GMO_00000000343635_01', 'FILE_MAF_20211223T144046Z_GMO_00000000343727_01', 'FILE_MAF_20211223T143219Z_GMO_00000000343595_01'], 'Science': ['FILE_MAF_20210802T172723Z_GMO_00000000001586_01', 'FILE_MAF_20210807T072434Z_GMO_00000000001821_01', 'FILE_MAF_20210802T173334Z_GMO_00000000001690_01', 'FILE_MAF_20220212T194614Z_GMO_00000000007318_01', 'FILE_MAF_20210802T173331Z_GMO_00000000136975_01', 'FILE_MAF_20210802T172927Z_GMO_00000000001576_01', 'FILE_MAF_20220212T184828Z_GMO_00000000007284_01', 'FILE_MAF_20220213T011356Z_GMO_00000000014862_01', 'FILE_MAF_20210807T072432Z_GMO_00000000001718_01', 'FILE_MAF_20210802T173446Z_GMO_00000000001721_01', 'FILE_MAF_20220213T011914Z_GMO_00000000014814_01', 'FILE_MAF_20210802T172725Z_GMO_00000000001589_01', 'FILE_MAF_20220212T185028Z_GMO_00000000007263_01', 'FILE_MAF_20210802T173448Z_GMO_00000000136973_01', 'FILE_MAF_20210802T164558Z_GMO_00000000001554_01', 'FILE_MAF_20220213T010346Z_GMO_00000000014872_01', 'FILE_MAF_20220213T011915Z_GMO_00000000014864_01', 'FILE_MAF_20220213T011403Z_GMO_00000000014870_01', 'FILE_MAF_20210802T173027Z_GMO_00000000001744_01', 'FILE_MAF_20210802T173336Z_GMO_00000000001801_01'], 'Shopping': ['FILE_MAF_20211116T134039Z_GMO_00000000341646_01', 'FILE_MAF_20211103T100330Z_GMO_00000000341649_01', 'FILE_MAF_20211105T221618Z_GMO_00000000341638_01', 'FILE_MAF_20211105T221829Z_GMO_00000000121675_01', 'FILE_MAF_20211103T092107Z_GMO_00000000273413_01', 'FILE_MAF_20211105T221619Z_GMO_00000000273407_01', 'FILE_MAF_20211116T134036Z_GMO_00000000341644_01', 'FILE_MAF_20211105T221413Z_GMO_00000000273414_01', 'FILE_MAF_20211105T221622Z_GMO_00000000296346_01', 'FILE_MAF_20211105T085331Z_GMO_00000000121678_01', 'FILE_MAF_20211103T100337Z_GMO_00000000341651_01', 'FILE_MAF_20211105T100759Z_GMO_00000000273410_01', 'FILE_MAF_20211105T221725Z_GMO_00000000296347_01', 'FILE_MAF_20211105T221827Z_GMO_00000000341639_01', 'FILE_MAF_20211103T092109Z_GMO_00000000341636_01', 'FILE_MAF_20211105T221830Z_GMO_00000000273412_01', 'FILE_MAF_20211105T221616Z_GMO_00000000296350_01', 'FILE_MAF_20211103T092105Z_GMO_00000000273408_01', 'FILE_MAF_20211103T092113Z_GMO_00000000296345_01', 'FILE_MAF_20211105T111151Z_GMO_00000000121681_01'], 'Sports': ['FILE_MAF_20210731T020535Z_GMO_00000000040741_01', 'FILE_MAF_20220215T090159Z_GMO_00000000370441_01', 'FILE_MAF_20220213T121447Z_GMO_00000000039091_01', 'FILE_MAF_20220213T173625Z_GMO_00000000039094_01', 'FILE_MAF_20220213T173619Z_GMO_00000000039095_01', 'FILE_MAF_20211105T221830Z_GMO_00000000326366_01', 'FILE_MAF_20210807T072641Z_GMO_00000000015471_01', 'FILE_MAF_20210825T010736Z_GMO_00000000324078_01', 'FILE_MAF_20210731T060326Z_GMO_00000000040739_01', 'FILE_MAF_20210825T013302Z_GMO_00000000338183_01', 'FILE_MAF_20220214T043211Z_GMO_00000000287895_01', 'FILE_MAF_20210731T020638Z_GMO_00000000040762_01', 'FILE_MAF_20211103T115529Z_GMO_00000000326367_01', 'FILE_MAF_20210810T131055Z_GMO_00000000015470_01', 'FILE_MAF_20220215T082050Z_GMO_00000000370434_01', 'FILE_MAF_20210729T030527Z_GMO_00000000039099_01', 'FILE_MAF_20210825T013306Z_GMO_00000000360252_01', 'FILE_MAF_20220215T013014Z_GMO_00000000287891_01', 'FILE_MAF_20210809T195832Z_GMO_00000000019745_01', 'FILE_MAF_20210729T030534Z_GMO_00000000039104_01'], 'Style & Fashion': ['FILE_MAF_20220215T012405Z_GMO_00000000293218_01', 'FILE_MAF_20210825T013303Z_GMO_00000000293206_01', 'FILE_MAF_20220214T234142Z_GMO_00000000293212_01', 'FILE_MAF_20220215T013014Z_GMO_00000000312910_01', 'FILE_MAF_20220215T025352Z_GMO_00000000293217_01', 'FILE_MAF_20220215T013018Z_GMO_00000000312922_01', 'FILE_MAF_20220215T035309Z_GMO_00000000293215_01', 'FILE_MAF_20220215T005855Z_GMO_00000000293216_01', 'FILE_MAF_20220215T092412Z_GMO_00000000364158_01', 'FILE_MAF_20220215T092413Z_GMO_00000000364160_01', 'FILE_MAF_20220215T013219Z_GMO_00000000312912_01', 'FILE_MAF_20220215T071837Z_GMO_00000000364166_01', 'FILE_MAF_20220214T231527Z_GMO_00000000312919_01', 'FILE_MAF_20210824T195751Z_GMO_00000000320273_01', 'FILE_MAF_20210824T153449Z_GMO_00000000293211_01', 'FILE_MAF_20220215T092523Z_GMO_00000000410890_01', 'FILE_MAF_20220215T071532Z_GMO_00000000364163_01', 'FILE_MAF_20220215T013225Z_GMO_00000000293209_01', 'FILE_MAF_20220215T035928Z_GMO_00000000312917_01', 'FILE_MAF_20210825T002730Z_GMO_00000000312918_01'], 'Technology & Computing': ['FILE_MAF_20220213T011912Z_GMO_00000000022391_01', 'FILE_MAF_20210809T184702Z_GMO_00000000171498_01', 'FILE_MAF_20220213T184756Z_GMO_00000000047423_01', 'FILE_MAF_20220213T185304Z_GMO_00000000047422_01', 'FILE_MAF_20210806T020741Z_GMO_00000000049044_01', 'FILE_MAF_20220213T185709Z_GMO_00000000047424_01', 'FILE_MAF_20220213T185303Z_GMO_00000000047420_01', 'FILE_MAF_20210809T200548Z_GMO_00000000171492_01', 'FILE_MAF_20210806T042833Z_GMO_00000000049038_01', 'FILE_MAF_20220213T031236Z_GMO_00000000022390_01', 'FILE_MAF_20210809T184656Z_GMO_00000000171499_01', 'FILE_MAF_20220213T184650Z_GMO_00000000047418_01', 'FILE_MAF_20220213T031737Z_GMO_00000000022392_01', 'FILE_MAF_20220213T011911Z_GMO_00000000022389_01', 'FILE_MAF_20210806T001903Z_GMO_00000000049043_01', 'FILE_MAF_20210806T020742Z_GMO_00000000296778_01', 'FILE_MAF_20210809T221817Z_GMO_00000000171493_01', 'FILE_MAF_20220213T071459Z_GMO_00000000022396_01', 'FILE_MAF_20220213T185202Z_GMO_00000000047427_01', 'FILE_MAF_20220213T005945Z_GMO_00000000012039_01'], 'Television': ['FILE_MAF_20210727T231034Z_GMO_00000000001600_01', 'FILE_MAF_20210730T044004Z_GMO_00000000040639_01', 'FILE_MAF_20210727T231033Z_GMO_00000000001596_01', 'FILE_MAF_20210728T184114Z_GMO_00000000007266_01', 'FILE_MAF_20210727T231240Z_GMO_00000000001631_01', 'FILE_MAF_20210729T043217Z_GMO_00000000040629_01', 'FILE_MAF_20210729T024311Z_GMO_00000000040665_01', 'FILE_MAF_20210729T030645Z_GMO_00000000040646_01', 'FILE_MAF_20210729T004341Z_GMO_00000000028385_01', 'FILE_MAF_20210729T033955Z_GMO_00000000040667_01', 'FILE_MAF_20210729T043320Z_GMO_00000000040619_01', 'FILE_MAF_20210729T004129Z_GMO_00000000028368_01', 'FILE_MAF_20210729T040359Z_GMO_00000000028384_01', 'FILE_MAF_20210729T025615Z_GMO_00000000040663_01', 'FILE_MAF_20210730T040956Z_GMO_00000000001634_01', 'FILE_MAF_20210727T231245Z_GMO_00000000001653_01', 'FILE_MAF_20210729T035057Z_GMO_00000000040631_01', 'FILE_MAF_20210729T043427Z_GMO_00000000040614_01', 'FILE_MAF_20210729T024008Z_GMO_00000000040660_01', 'FILE_MAF_20210727T231238Z_GMO_00000000001594_01'], 'Travel': ['FILE_MAF_20220213T185059Z_GMO_00000000044111_01', 'FILE_MAF_20220215T035715Z_GMO_00000000320875_01', 'FILE_MAF_20210824T150833Z_GMO_00000000033323_01', 'FILE_MAF_20220213T090940Z_GMO_00000000032052_01', 'FILE_MAF_20220215T071423Z_GMO_00000000353679_01', 'FILE_MAF_20220215T035307Z_GMO_00000000325452_01', 'FILE_MAF_20220213T184655Z_GMO_00000000047492_01', 'FILE_MAF_20220213T215210Z_GMO_00000000115135_01', 'FILE_MAF_20220212T161334Z_GMO_00000000002504_01', 'FILE_MAF_20220214T042454Z_GMO_00000000150172_01', 'FILE_MAF_20220215T092308Z_GMO_00000000362620_01', 'FILE_MAF_20210812T204402Z_GMO_00000000351581_01', 'FILE_MAF_20220215T013012Z_GMO_00000000279146_01', 'FILE_MAF_20220215T012707Z_GMO_00000000288641_01', 'FILE_MAF_20220213T093757Z_GMO_00000000031571_01', 'FILE_MAF_20220214T043107Z_GMO_00000000177644_01', 'FILE_MAF_20220510T222032Z_GMO_00000000393597_01', 'FILE_MAF_20220215T035514Z_GMO_00000000320574_01', 'FILE_MAF_20210824T142523Z_GMO_00000000027747_01', 'FILE_MAF_20220212T160932Z_GMO_00000000002487_01'], 'Video Gaming': [], 'Careers': [], 'News and Politics': [], 'Personal Finance': []})\n"
     ]
    }
   ],
   "source": [
    "targetkey_filelist=keydict(sampled_datadf, targetlist)\n",
    "print(targetkey_filelist)\n",
    "\n"
   ]
  },
  {
   "cell_type": "code",
   "execution_count": null,
   "metadata": {},
   "outputs": [],
   "source": [
    "# #NRS bulk with top 1 save to file regular\n",
    "# dict_to_save=defaultdict(list)\n",
    "# for target in tqdm(targetlist):\n",
    "#     scores=[]\n",
    "#     for ep in tqdm(listofepisodes):\n",
    "#         index=materialID.index(ep)\n",
    "#         groundtruth=getadword(ep,truthdatadf)\n",
    "#         # if groundtruth in target_dict:\n",
    "#         #         x=target_dict[groundtruth]\n",
    "#         x=target_dict[target]\n",
    "#         #print(groundtruth)\n",
    "#         print(x)\n",
    "#         segmentscore=[]\n",
    "#         for i in range(len(newmetalist[index])):\n",
    "#             if len(newmetalist[index][i])==0:\n",
    "#                 continue\n",
    "#             emb1=model.encode(newmetalist[index][i]) #, convert_to_tensor=True)\n",
    "#             emb2=model.encode(targetlist) #, convert_to_tensor=True)\n",
    "#             cos_sim=util.cos_sim(emb1,emb2)\n",
    "\n",
    "#             #For OG Class\n",
    "#             MaxAggregation = {}\n",
    "#             for i in range(cos_sim.shape[1]):\n",
    "#                 all_sentence_combinations=[]\n",
    "#                 for j in range(cos_sim.shape[0]):\n",
    "#                     all_sentence_combinations.append([cos_sim[j][i], j, i])\n",
    "#                 all_sentence_combinations = sorted(all_sentence_combinations, key=lambda x: x[0], reverse=True)\n",
    "#                 MaxAggregation[i]=all_sentence_combinations[0]\n",
    "                \n",
    "\n",
    "#             segmentscore.append(MaxAggregation[x][0])\n",
    "\n",
    "            \n",
    "                    \n",
    "#         avg=(sum(segmentscore)/len(segmentscore))\n",
    "#         scores.append(avg)\n",
    "        \n",
    "#     print(scores)\n",
    "#     dict_to_save[target]=scores"
   ]
  },
  {
   "cell_type": "code",
   "execution_count": null,
   "metadata": {},
   "outputs": [],
   "source": [
    "# with open('NRS_top1_regular.pkl', 'wb') as f:\n",
    "#     pickle.dump(dict_to_save, f)\n"
   ]
  },
  {
   "cell_type": "code",
   "execution_count": null,
   "metadata": {},
   "outputs": [],
   "source": [
    "# with open('NRS_top1_regular.pkl', 'rb') as f:\n",
    "#     NRS_dict=pickle.load(f)\n"
   ]
  },
  {
   "cell_type": "code",
   "execution_count": 23,
   "metadata": {},
   "outputs": [],
   "source": [
    "def get_key(val):\n",
    "    for key, value in target_dict.items():\n",
    "         if val == value:\n",
    "             return key\n",
    " \n",
    "    return \"key doesn't exist\""
   ]
  },
  {
   "cell_type": "code",
   "execution_count": 15,
   "metadata": {},
   "outputs": [
    {
     "data": {
      "text/plain": [
       "['  just want to tell you that I appreciate you patch thing up with he .',\n",
       " 'I would do anything for the woman that I love .',\n",
       " 'they be go to come at we any way they can and when they do it be not go to be about heat sensor it be go to be about you .',\n",
       " 'I know I be not the only guy in that company that know those sensor be faulty .',\n",
       " 'I be sorry what be it you need again all the maintenance work order from the past six month .',\n",
       " 'I can not let you have that without authorization .',\n",
       " 'have you hear of the national transportation safety board evan that be your secretary unlawfully gather evidence which mean there will be no settlement of any kind .',\n",
       " 'and tomorrow I be send this to the district attorney .',\n",
       " 'your whole story about how louis get his name on the door be bullshit .',\n",
       " 'jeff .',\n",
       " 'it be over jessica .',\n",
       " 'we be do .',\n",
       " 'I can not believe you actually get they to admit what they do .',\n",
       " 'you well believe it because it be happen and it would not be happen without you .',\n",
       " 'you mean without I be greedy .',\n",
       " 'joe that be not what I be go to say .',\n",
       " 'no no no I know that you do not think I care about these people but I do .',\n",
       " 'but I be also a work stiff .',\n",
       " 'I go paycheck to paycheck for my whole life and then a thing like this could turn your whole life around .',\n",
       " 'guy like you might not be able to understand that .',\n",
       " 'I understand .',\n",
       " 'so it be a do deal might take a few day to finalize but yeah .',\n",
       " 'it be happen .',\n",
       " 'you have my word .',\n",
       " 'you be all right mr . ross .',\n",
       " \"harvey you know the only time you 've be here at night be the godawful dinner party and the other time .\",\n",
       " 'well this be not that .',\n",
       " 'I want to know why liberty rail have a video of you in their file room .',\n",
       " 'what be you talk about I be talk the fact that our smoking gun just become inadmissible .',\n",
       " 'harvey   how have you get those document be you ask if I do something illegal because I do not .',\n",
       " 'well they go to the d.a .',\n",
       " 'which mean they think you do so I be go to ask you one more time how do you get in their file room by walk through the door they buzz open .',\n",
       " 'and why would they do that because I be I . what the hell do that mean it mean that I lead the woman to believe that I be an official from washington .',\n",
       " 'lead they to believe it or flat out tell they because one kill our case and the other put you in a world of shit .',\n",
       " 'harvey I be not an idiot and I do not appreciate be treat like one .',\n",
       " 'I tell you I do not do anything illegal and I do not .',\n",
       " 'not an idiot what the hell be you do there in the first place   harvey .',\n",
       " \"it be mike 's idea be not it no he do not even know about it .\",\n",
       " 'where be you go   to see mike .',\n",
       " 'I tell you he do not even know I be go to do it .',\n",
       " 'I do not care because he sure as hell know after .',\n",
       " 'let us go .',\n",
       " 'engine turn over I be so proud of you .',\n",
       " \"I 've do that before .\",\n",
       " 'I be not talk about that .',\n",
       " 'I be talk about your case .',\n",
       " 'ah .',\n",
       " 'you believe in it and you fight for it and I I love that about you .',\n",
       " 'and I love that you love that about I . when a person give you a compliment like that you be suppose to give one back .',\n",
       " 'but I just do .',\n",
       " 'I say that you love that I love that about I . and what if I say I love that you love that I love that about you how would that make you feel so tired .',\n",
       " 'well we both know why you be so tired .',\n",
       " 'yeah because I be so good .',\n",
       " 'do not you love that about I knock on door you know donna bullshit her way into that company and you let we use those work order how do you find out it do not matter how I find out .',\n",
       " 'answer my question .',\n",
       " 'yes I know but what difference do it make we win .',\n",
       " 'we do not win because evan smith have video of donna in their office .',\n",
       " 'what   she know about this too harvey she be just try to strongarm we .',\n",
       " \"be you listen to I they have the oppose counsel 's secretary poke around in their goddamn file room .\",\n",
       " 'if I be the d.a .',\n",
       " 'I would sure as hell look into it .',\n",
       " 'the d.a .',\n",
       " 'yeah the d.a .',\n",
       " 'harvey they let she in .',\n",
       " 'accord to you but they be go to claim fraud or theft or any number of thing .',\n",
       " 'what be you go to do I be make a deal to drop this case that be what I be go to do and you be go to file the paperwork as soon as I do .',\n",
       " 'so you be just go to let this woman blackmail you without a fight you be damn right I be .',\n",
       " 'harvey we can still win this case and clear there be no case and I would not give a shit about it if there be .',\n",
       " 'I care about donna .',\n",
       " 'and you think I do not you care so much for she then draw up those paper because I be let evan know it be over .',\n",
       " 'man tune .',\n",
       " 'see the money wanna stay for your meal tune .',\n",
       " 'tune .',\n",
       " 'get another piece of pie for your wife tune .',\n",
       " 'tune .',\n",
       " 'everybody wanna know how it feel tune .',\n",
       " 'tune .',\n",
       " 'everybody wanna see what it be like tune .',\n",
       " 'tune .',\n",
       " 'I will even eat a bean pie I do not mind tune .',\n",
       " 'tune .',\n",
       " 'I and missy be so busy busy make money tune .',\n",
       " 'tune .',\n",
       " 'all right']"
      ]
     },
     "execution_count": 15,
     "metadata": {},
     "output_type": "execute_result"
    }
   ],
   "source": [
    "newmetalist[0][0]"
   ]
  },
  {
   "cell_type": "code",
   "execution_count": 16,
   "metadata": {},
   "outputs": [
    {
     "data": {
      "text/plain": [
       "'automotive crossover hatchback microcar off-road vehicles auto type budget cars certified pre-owned cars classic cars concept cars driverless cars performance cars car culture dash cam videos scooters auto buying and selling auto insurance auto recalls auto safety auto technology auto infotainment technologies auto navigation systems auto safety technologies auto body styles motorcycles road-side assistance auto parts auto repair auto shows auto rentals commercial trucks sedan station wagon suv van convertible coupe minivan pickup trucks green vehicles luxury cars individual brands'"
      ]
     },
     "execution_count": 16,
     "metadata": {},
     "output_type": "execute_result"
    }
   ],
   "source": [
    "targetlistchild[0]"
   ]
  },
  {
   "cell_type": "code",
   "execution_count": 5,
   "metadata": {},
   "outputs": [
    {
     "ename": "NameError",
     "evalue": "name 'targetkey_filelist' is not defined",
     "output_type": "error",
     "traceback": [
      "\u001b[0;31m---------------------------------------------------------------------------\u001b[0m",
      "\u001b[0;31mNameError\u001b[0m                                 Traceback (most recent call last)",
      "\u001b[1;32m/mnt/data0/haskari/Comcast/Testing_GPL.ipynb Cell 22'\u001b[0m in \u001b[0;36m<cell line: 2>\u001b[0;34m()\u001b[0m\n\u001b[1;32m      <a href='vscode-notebook-cell://ssh-remote%2Bsohrab.idav.ucdavis.edu/mnt/data0/haskari/Comcast/Testing_GPL.ipynb#ch0000021vscode-remote?line=0'>1</a>\u001b[0m \u001b[39m#Relevance calculation per episode \u001b[39;00m\n\u001b[0;32m----> <a href='vscode-notebook-cell://ssh-remote%2Bsohrab.idav.ucdavis.edu/mnt/data0/haskari/Comcast/Testing_GPL.ipynb#ch0000021vscode-remote?line=1'>2</a>\u001b[0m dictofrelevance\u001b[39m=\u001b[39mcopy\u001b[39m.\u001b[39mdeepcopy(targetkey_filelist)\n\u001b[1;32m      <a href='vscode-notebook-cell://ssh-remote%2Bsohrab.idav.ucdavis.edu/mnt/data0/haskari/Comcast/Testing_GPL.ipynb#ch0000021vscode-remote?line=2'>3</a>\u001b[0m \u001b[39mfor\u001b[39;00m key, value \u001b[39min\u001b[39;00m tqdm(targetkey_filelist\u001b[39m.\u001b[39mitems()): \u001b[39m#for each IAB Label\u001b[39;00m\n\u001b[1;32m      <a href='vscode-notebook-cell://ssh-remote%2Bsohrab.idav.ucdavis.edu/mnt/data0/haskari/Comcast/Testing_GPL.ipynb#ch0000021vscode-remote?line=3'>4</a>\u001b[0m     \u001b[39mif\u001b[39;00m \u001b[39mlen\u001b[39m(targetkey_filelist[key])\u001b[39m==\u001b[39m\u001b[39m0\u001b[39m:\n",
      "\u001b[0;31mNameError\u001b[0m: name 'targetkey_filelist' is not defined"
     ]
    }
   ],
   "source": [
    "#Relevance calculation per episode \n",
    "dictofrelevance=copy.deepcopy(targetkey_filelist)\n",
    "for key, value in tqdm(targetkey_filelist.items()): #for each IAB Label\n",
    "    if len(targetkey_filelist[key])==0:\n",
    "        continue\n",
    "    for i in tqdm(range(len(targetkey_filelist[key]))): #for each File\n",
    "        index=materialID.index(targetkey_filelist[key][i])\n",
    "        x=target_dict[key] #Index of the target label\n",
    "        MaxAggregation=defaultdict(list)\n",
    "        segmentscore=[]\n",
    "        for l in range(len(newmetalist[index])): #For each Segment\n",
    "            res=[]\n",
    "            for j in range(len(targetlist)): \n",
    "            # print(len(newmetalist[index]))\n",
    "                if len(newmetalist[index][l])==0: \n",
    "                    continue\n",
    "                temp=\" \".join(newmetalist[index][l])\n",
    "                print(temp)\n",
    "#                 emb1=model.encode(temp)\n",
    "#                 emb2 = model.encode(targetlistchild[j])\n",
    "#                 sim_score = util.cos_sim(emb1,emb2)\n",
    "#                 MaxAggregation[j].append(sim_score)\n",
    "\n",
    "        \n",
    "#         for k,v in MaxAggregation.items():\n",
    "#             temp=MaxAggregation[k]\n",
    "#             avg=sum(temp)/len(temp)\n",
    "#             MaxAggregation[k]=[avg]\n",
    "\n",
    "            \n",
    "\n",
    "#         dictofrelevance[key][i]={dictofrelevance[key][i]:MaxAggregation}\n",
    "    \n",
    "\n",
    "# with open('Relevance_gpl1.pkl', 'wb') as f:\n",
    "#     pickle.dump(dictofrelevance, f)   \n",
    " \n",
    "\n",
    "\n",
    "\n",
    "\n",
    "\n",
    "        #RS and NRS for OG Class\n",
    "\n",
    "        # RSlist=MaxAggregation[x]\n",
    "        # score=[]\n",
    "        # for s in RSlist:\n",
    "        #     score.append(s[0])\n",
    "\n",
    "        # rs=sum(score)/len(score)\n",
    "\n",
    "        # NRSlist=NRS_dict[key]\n",
    "        # nrsdenom=sum(NRSlist)-rs/len(NRSlist)\n",
    "\n",
    "        # NRS=rs/nrsdenom\n",
    "\n",
    "        \n",
    "        # #RS and ClassPredicted for Predicted Class\n",
    "\n",
    "        # order=[]\n",
    "        # for key in MaxAggregation.keys():\n",
    "        #     l=MaxAggregation[key]\n",
    "        #     summ=[]\n",
    "        #     for val in l:\n",
    "        #         summ.append(val[0])\n",
    "        #     order.append(sum(summ))\n",
    "        \n",
    "        \n",
    "        # max_val=max(order)\n",
    "        # max_index=order.index(max_val)\n",
    "        # ClassPredicted=get_key(max_index)\n",
    "\n",
    "        # RSlistss=MaxAggregation[max_index]\n",
    "        # scoress=[]\n",
    "        # for s in RSlistss:\n",
    "        #     scoress.append(s[0])\n",
    "\n",
    "        # RS_CP=sum(scoress)/len(scoress)\n",
    "\n",
    "        # d={targetkey_filelist[key][i]:{'NRS': NRS, \"Class_Predicted\": ClassPredicted, \"RS_CP\": RS_CP, \"RS_OG\": rs }}\n",
    "\n",
    "        \n",
    "\n",
    "\n",
    "        \n",
    "\n",
    "\n",
    "        \n",
    "\n",
    "    "
   ]
  },
  {
   "cell_type": "code",
   "execution_count": 22,
   "metadata": {},
   "outputs": [],
   "source": [
    "#Def Top1 Agg\n",
    "def segmentcombiner(dic): #for segments to final dic of relevance scores\n",
    "    dic1=copy.deepcopy(dic)\n",
    "    filename=list(dic1.keys())[0]\n",
    "    defdict=dic1[filename]\n",
    "    for k,v in defdict.items():\n",
    "        RSlist=defdict[k]\n",
    "        score=[]\n",
    "        for s in RSlist:\n",
    "            score.append(s)\n",
    "\n",
    "        rs=sum(score)/len(score)\n",
    "        defdict[k]=rs\n",
    "    d={filename:defdict}\n",
    "    return d\n",
    "    \n"
   ]
  },
  {
   "cell_type": "code",
   "execution_count": null,
   "metadata": {},
   "outputs": [],
   "source": [
    "#Def Top3 and Harm Agg\n",
    "# def segmentcombinertop3Harm(dic): #for segments to final dic of relevance scores\n",
    "#     dic1=copy.deepcopy(dic)\n",
    "#     filename=list(dic1.keys())[0]\n",
    "#     defdict=dic1[filename]\n",
    "#     for k,v in defdict.items():\n",
    "#         RSlist=defdict[k][0]\n",
    "#         score=[]\n",
    "#         for s in RSlist:\n",
    "#             score.append(s[0])\n",
    "\n",
    "#         rs=sum(score)/len(score)\n",
    "#         defdict[k]=rs\n",
    "#     d={filename:defdict}\n",
    "#     return d"
   ]
  },
  {
   "cell_type": "code",
   "execution_count": 16,
   "metadata": {},
   "outputs": [],
   "source": [
    "with open('Relevance_gpl1.pkl', 'rb') as f:\n",
    "     Relevance_dict=pickle.load(f)"
   ]
  },
  {
   "cell_type": "code",
   "execution_count": 18,
   "metadata": {},
   "outputs": [
    {
     "data": {
      "application/vnd.jupyter.widget-view+json": {
       "model_id": "60b8ef8fea2948289534dae42402523f",
       "version_major": 2,
       "version_minor": 0
      },
      "text/plain": [
       "  0%|          | 0/29 [00:00<?, ?it/s]"
      ]
     },
     "metadata": {},
     "output_type": "display_data"
    },
    {
     "data": {
      "application/vnd.jupyter.widget-view+json": {
       "model_id": "47fb705c7393477fbb3efb23353ac9cb",
       "version_major": 2,
       "version_minor": 0
      },
      "text/plain": [
       "  0%|          | 0/29 [00:00<?, ?it/s]"
      ]
     },
     "metadata": {},
     "output_type": "display_data"
    },
    {
     "data": {
      "application/vnd.jupyter.widget-view+json": {
       "model_id": "dceb22194e2e4224a757795c91c379c1",
       "version_major": 2,
       "version_minor": 0
      },
      "text/plain": [
       "  0%|          | 0/29 [00:00<?, ?it/s]"
      ]
     },
     "metadata": {},
     "output_type": "display_data"
    },
    {
     "data": {
      "application/vnd.jupyter.widget-view+json": {
       "model_id": "15ea6e06477c45f5b741aa6c9d81b1ab",
       "version_major": 2,
       "version_minor": 0
      },
      "text/plain": [
       "  0%|          | 0/29 [00:00<?, ?it/s]"
      ]
     },
     "metadata": {},
     "output_type": "display_data"
    },
    {
     "data": {
      "application/vnd.jupyter.widget-view+json": {
       "model_id": "458bfc9eed3b4da78b1605760530ec26",
       "version_major": 2,
       "version_minor": 0
      },
      "text/plain": [
       "  0%|          | 0/29 [00:00<?, ?it/s]"
      ]
     },
     "metadata": {},
     "output_type": "display_data"
    },
    {
     "data": {
      "application/vnd.jupyter.widget-view+json": {
       "model_id": "2fabb9c24d2f44578e42542e7e51b620",
       "version_major": 2,
       "version_minor": 0
      },
      "text/plain": [
       "  0%|          | 0/29 [00:00<?, ?it/s]"
      ]
     },
     "metadata": {},
     "output_type": "display_data"
    },
    {
     "data": {
      "application/vnd.jupyter.widget-view+json": {
       "model_id": "b8383a5d0cdb4a7db522b8fb4cce0a07",
       "version_major": 2,
       "version_minor": 0
      },
      "text/plain": [
       "  0%|          | 0/29 [00:00<?, ?it/s]"
      ]
     },
     "metadata": {},
     "output_type": "display_data"
    },
    {
     "data": {
      "application/vnd.jupyter.widget-view+json": {
       "model_id": "a0d1e613fceb49b5b674b5a7f34a2055",
       "version_major": 2,
       "version_minor": 0
      },
      "text/plain": [
       "  0%|          | 0/29 [00:00<?, ?it/s]"
      ]
     },
     "metadata": {},
     "output_type": "display_data"
    },
    {
     "data": {
      "application/vnd.jupyter.widget-view+json": {
       "model_id": "ec8a548d091f46ab9e3bef4cb6081601",
       "version_major": 2,
       "version_minor": 0
      },
      "text/plain": [
       "  0%|          | 0/29 [00:00<?, ?it/s]"
      ]
     },
     "metadata": {},
     "output_type": "display_data"
    },
    {
     "data": {
      "application/vnd.jupyter.widget-view+json": {
       "model_id": "09b63ab7a6084c09bd38f0fd49a980c2",
       "version_major": 2,
       "version_minor": 0
      },
      "text/plain": [
       "  0%|          | 0/29 [00:00<?, ?it/s]"
      ]
     },
     "metadata": {},
     "output_type": "display_data"
    },
    {
     "data": {
      "application/vnd.jupyter.widget-view+json": {
       "model_id": "e552eec89dae4fe7b5d170ff6653ec19",
       "version_major": 2,
       "version_minor": 0
      },
      "text/plain": [
       "  0%|          | 0/29 [00:00<?, ?it/s]"
      ]
     },
     "metadata": {},
     "output_type": "display_data"
    },
    {
     "data": {
      "application/vnd.jupyter.widget-view+json": {
       "model_id": "010c163a3e524130b0ef5871f4ae5799",
       "version_major": 2,
       "version_minor": 0
      },
      "text/plain": [
       "  0%|          | 0/29 [00:00<?, ?it/s]"
      ]
     },
     "metadata": {},
     "output_type": "display_data"
    },
    {
     "data": {
      "application/vnd.jupyter.widget-view+json": {
       "model_id": "03b689bd162245a3b903ea7ec2d37129",
       "version_major": 2,
       "version_minor": 0
      },
      "text/plain": [
       "  0%|          | 0/29 [00:00<?, ?it/s]"
      ]
     },
     "metadata": {},
     "output_type": "display_data"
    },
    {
     "data": {
      "application/vnd.jupyter.widget-view+json": {
       "model_id": "84d30232c33f483a8760220dd965d251",
       "version_major": 2,
       "version_minor": 0
      },
      "text/plain": [
       "  0%|          | 0/29 [00:00<?, ?it/s]"
      ]
     },
     "metadata": {},
     "output_type": "display_data"
    },
    {
     "data": {
      "application/vnd.jupyter.widget-view+json": {
       "model_id": "9b407c6d66804d1389ce4b17abdc1148",
       "version_major": 2,
       "version_minor": 0
      },
      "text/plain": [
       "  0%|          | 0/29 [00:00<?, ?it/s]"
      ]
     },
     "metadata": {},
     "output_type": "display_data"
    },
    {
     "data": {
      "application/vnd.jupyter.widget-view+json": {
       "model_id": "a8c28d66134b4e87bff3a5e39274b617",
       "version_major": 2,
       "version_minor": 0
      },
      "text/plain": [
       "  0%|          | 0/29 [00:00<?, ?it/s]"
      ]
     },
     "metadata": {},
     "output_type": "display_data"
    },
    {
     "data": {
      "application/vnd.jupyter.widget-view+json": {
       "model_id": "5a699bd5ac5e475da4a62de626104938",
       "version_major": 2,
       "version_minor": 0
      },
      "text/plain": [
       "  0%|          | 0/29 [00:00<?, ?it/s]"
      ]
     },
     "metadata": {},
     "output_type": "display_data"
    },
    {
     "data": {
      "application/vnd.jupyter.widget-view+json": {
       "model_id": "9a7f938a47fd41d1b056921cf2d74543",
       "version_major": 2,
       "version_minor": 0
      },
      "text/plain": [
       "  0%|          | 0/29 [00:00<?, ?it/s]"
      ]
     },
     "metadata": {},
     "output_type": "display_data"
    },
    {
     "data": {
      "application/vnd.jupyter.widget-view+json": {
       "model_id": "1738f7099a4a43fcb2ecac8ae23a45c1",
       "version_major": 2,
       "version_minor": 0
      },
      "text/plain": [
       "  0%|          | 0/29 [00:00<?, ?it/s]"
      ]
     },
     "metadata": {},
     "output_type": "display_data"
    },
    {
     "data": {
      "application/vnd.jupyter.widget-view+json": {
       "model_id": "4565be1f84fc4339ac1e61127fd032dc",
       "version_major": 2,
       "version_minor": 0
      },
      "text/plain": [
       "  0%|          | 0/29 [00:00<?, ?it/s]"
      ]
     },
     "metadata": {},
     "output_type": "display_data"
    },
    {
     "data": {
      "application/vnd.jupyter.widget-view+json": {
       "model_id": "7791a33befd145bcbc1d49c1865a1ee1",
       "version_major": 2,
       "version_minor": 0
      },
      "text/plain": [
       "  0%|          | 0/29 [00:00<?, ?it/s]"
      ]
     },
     "metadata": {},
     "output_type": "display_data"
    },
    {
     "name": "stdout",
     "output_type": "stream",
     "text": [
      "{'Automotive': 1.002466124966843, 'Books and Literature': 0.9964571619928626, 'Business and Finance': 1.0067585808814632, 'Education': 1.0044284919917874, 'Events and Attractions': 0.9933557029665432, 'Family and Relationships': 0.994045377330133, 'Food & Drink': 1.0121238074884409, 'Hobbies & Interests': 1.0022174213274457, 'Medical Health': 1.0092224134796304, 'Music and Audio': 1.0049593181821341, 'Pets': 1.0079436183987653, 'Real Estate': 1.0122665376019675, 'Religion & Spirituality': 0.9948947867280693, 'Science': 1.0033152294389254, 'Shopping': 1.0052494982599276, 'Sports': 0.9971569778835421, 'Style & Fashion': 1.0183665818478234, 'Technology & Computing': 1.0084620195803384, 'Television': 1.0009482829322638, 'Travel': 1.002830469229037}\n",
      "None\n"
     ]
    }
   ],
   "source": [
    "print(NRS(Relevance_dict))"
   ]
  },
  {
   "cell_type": "code",
   "execution_count": 17,
   "metadata": {},
   "outputs": [],
   "source": [
    "#Def NRS for top1 \n",
    "def NRS(dict):\n",
    "    d={}\n",
    "    for k,v in tqdm(dict.items()):#for each label\n",
    "        if len(dict[k]) == 0:\n",
    "            continue\n",
    "        d1={}\n",
    "        for target in tqdm(targetlist): #for each topic\n",
    "            scoreforfiles=[]\n",
    "            if len(dict[target]) == 0:\n",
    "                continue\n",
    "            for i in range(len(dict[k])): #for each file in label\n",
    "                x=target_dict[target]\n",
    "                combinedsegments=segmentcombiner(dict[k][i])\n",
    "                key=list(combinedsegments.keys())[0]\n",
    "                scoreforfiles.append(float(combinedsegments[key][x])) #combine segments \n",
    "            avg=sum(scoreforfiles)/len(scoreforfiles)\n",
    "            d1[target]=avg\n",
    "        d[k]=d1\n",
    "\n",
    "    finaldict={}\n",
    "    for k,v in d.items():\n",
    "        numerator=d[k][k]\n",
    "        denominator=[]\n",
    "        for kk,vv in d.items():\n",
    "            denominator.append(d[kk][k])\n",
    "        avgdenominator=(sum(denominator)-numerator)/(len(denominator)-1)\n",
    "        NRS=numerator/avgdenominator\n",
    "        finaldict[k]=NRS\n",
    "    print(finaldict)\n",
    "\n",
    "\n",
    "            \n",
    "        "
   ]
  },
  {
   "cell_type": "code",
   "execution_count": 69,
   "metadata": {},
   "outputs": [
    {
     "data": {
      "application/vnd.jupyter.widget-view+json": {
       "model_id": "91fec30c3def4b868b7c3693faa1e8a6",
       "version_major": 2,
       "version_minor": 0
      },
      "text/plain": [
       "  0%|          | 0/29 [00:00<?, ?it/s]"
      ]
     },
     "metadata": {},
     "output_type": "display_data"
    },
    {
     "name": "stdout",
     "output_type": "stream",
     "text": [
      "{'Automotive': {'RS15': 100.0, 'RS20': 100.0, 'RS35': 0.0}, 'Books and Literature': {'RS15': 100.0, 'RS20': 100.0, 'RS35': 100.0}, 'Business and Finance': {'RS15': 100.0, 'RS20': 100.0, 'RS35': 100.0}, 'Education': {'RS15': 100.0, 'RS20': 100.0, 'RS35': 100.0}, 'Events and Attractions': {'RS15': 100.0, 'RS20': 100.0, 'RS35': 100.0}, 'Family and Relationships': {'RS15': 100.0, 'RS20': 100.0, 'RS35': 100.0}, 'Food & Drink': {'RS15': 100.0, 'RS20': 100.0, 'RS35': 100.0}, 'Hobbies & Interests': {'RS15': 100.0, 'RS20': 100.0, 'RS35': 100.0}, 'Medical Health': {'RS15': 100.0, 'RS20': 100.0, 'RS35': 100.0}, 'Music and Audio': {'RS15': 100.0, 'RS20': 100.0, 'RS35': 100.0}, 'Pets': {'RS15': 100.0, 'RS20': 100.0, 'RS35': 100.0}, 'Real Estate': {'RS15': 100.0, 'RS20': 100.0, 'RS35': 100.0}, 'Religion & Spirituality': {'RS15': 100.0, 'RS20': 100.0, 'RS35': 100.0}, 'Science': {'RS15': 100.0, 'RS20': 100.0, 'RS35': 100.0}, 'Shopping': {'RS15': 100.0, 'RS20': 100.0, 'RS35': 100.0}, 'Sports': {'RS15': 100.0, 'RS20': 100.0, 'RS35': 100.0}, 'Style & Fashion': {'RS15': 100.0, 'RS20': 100.0, 'RS35': 100.0}, 'Technology & Computing': {'RS15': 100.0, 'RS20': 100.0, 'RS35': 75.0}, 'Television': {'RS15': 100.0, 'RS20': 100.0, 'RS35': 80.0}, 'Travel': {'RS15': 100.0, 'RS20': 100.0, 'RS35': 100.0}}\n"
     ]
    }
   ],
   "source": [
    "print(RSMetrics(Relevance_dict))"
   ]
  },
  {
   "cell_type": "code",
   "execution_count": 70,
   "metadata": {},
   "outputs": [],
   "source": [
    "#Def RS at 0.15, 0.20, 0.35 and Mean RS \n",
    "def RSMetrics(dict):\n",
    "    d={}\n",
    "    for k,v in tqdm(dict.items()): #for each label\n",
    "        if len(dict[k]) == 0:\n",
    "            continue\n",
    "        scoreforfiles=[]\n",
    "        for i in range(len(dict[k])): #for each file in label\n",
    "            x=target_dict[k]\n",
    "            combinedsegments=segmentcombiner(dict[k][i])\n",
    "            key=list(combinedsegments.keys())[0]\n",
    "            scoreforfiles.append(round(float(combinedsegments[key][x]),2))\n",
    "        rs15=[]\n",
    "        rs20=[]\n",
    "        rs35=[]\n",
    "        for item in scoreforfiles:\n",
    "            if item >= 0.15:\n",
    "                rs15.append(item)\n",
    "            if item >= 0.20:\n",
    "                rs20.append(item)\n",
    "            if item >= 0.35:\n",
    "                rs35.append(item)\n",
    "\n",
    "        RS15=(len(rs15)/len(scoreforfiles))*100\n",
    "        RS20=(len(rs20)/len(scoreforfiles))*100\n",
    "        RS35=(len(rs35)/len(scoreforfiles))*100\n",
    "        d1={\"RS15\":RS15, \"RS20\": RS20, \"RS35\": RS35}\n",
    "        d[k]=d1\n",
    "    \n",
    "    return d\n",
    "        \n",
    "    \n"
   ]
  },
  {
   "cell_type": "code",
   "execution_count": 71,
   "metadata": {},
   "outputs": [
    {
     "data": {
      "application/vnd.jupyter.widget-view+json": {
       "model_id": "9574e7b4937d49f497212c7f86a82d9b",
       "version_major": 2,
       "version_minor": 0
      },
      "text/plain": [
       "  0%|          | 0/29 [00:00<?, ?it/s]"
      ]
     },
     "metadata": {},
     "output_type": "display_data"
    },
    {
     "name": "stdout",
     "output_type": "stream",
     "text": [
      "{'Automotive': {'FILE_MAF_20211223T065128Z_GMO_00000000002584_01': {'ClassPredicted': 'News and Politics', 'RS_CP': 0.6017141643156709}, 'FILE_MAF_20211223T064615Z_GMO_00000000106986_01': {'ClassPredicted': 'Family and Relationships', 'RS_CP': 0.6163317611842932}, 'FILE_MAF_20211223T064819Z_GMO_00000000002709_01': {'ClassPredicted': 'News and Politics', 'RS_CP': 0.6056331133723035}, 'FILE_MAF_20211222T231607Z_GMO_00000000294982_01': {'ClassPredicted': 'News and Politics', 'RS_CP': 0.6088405691841746}, 'FILE_MAF_20211222T214634Z_GMO_00000000029298_01': {'ClassPredicted': 'Family and Relationships', 'RS_CP': 0.5976846186763813}, 'FILE_MAF_20211222T214941Z_GMO_00000000121162_01': {'ClassPredicted': 'Family and Relationships', 'RS_CP': 0.6017906276099642}, 'FILE_MAF_20211222T230805Z_GMO_00000000273733_01': {'ClassPredicted': 'News and Politics', 'RS_CP': 0.6007698180894656}, 'FILE_MAF_20211223T065125Z_GMO_00000000027759_01': {'ClassPredicted': 'News and Politics', 'RS_CP': 0.6127730457344076}, 'FILE_MAF_20211223T065130Z_GMO_00000000002708_01': {'ClassPredicted': 'News and Politics', 'RS_CP': 0.5961013361027451}, 'FILE_MAF_20211223T063010Z_GMO_00000000002843_01': {'ClassPredicted': 'Family and Relationships', 'RS_CP': 0.5937284592829748}, 'FILE_MAF_20211223T064314Z_GMO_00000000029163_01': {'ClassPredicted': 'Family and Relationships', 'RS_CP': 0.6089785545308071}, 'FILE_MAF_20211222T214633Z_GMO_00000000027597_01': {'ClassPredicted': 'Family and Relationships', 'RS_CP': 0.5964355921003881}, 'FILE_MAF_20211223T065127Z_GMO_00000000002637_01': {'ClassPredicted': 'Family and Relationships', 'RS_CP': 0.5993030844109032}, 'FILE_MAF_20211223T065129Z_GMO_00000000009448_01': {'ClassPredicted': 'Family and Relationships', 'RS_CP': 0.6072426732274196}, 'FILE_MAF_20211223T064919Z_GMO_00000000002707_01': {'ClassPredicted': 'News and Politics', 'RS_CP': 0.585062100931544}, 'FILE_MAF_20211222T214633Z_GMO_00000000027055_01': {'ClassPredicted': 'News and Politics', 'RS_CP': 0.6266548599971749}, 'FILE_MAF_20211223T065126Z_GMO_00000000002685_01': {'ClassPredicted': 'Family and Relationships', 'RS_CP': 0.6133103254406563}, 'FILE_MAF_20211223T065020Z_GMO_00000000009009_01': {'ClassPredicted': 'News and Politics', 'RS_CP': 0.6068431215714479}, 'FILE_MAF_20211223T061005Z_GMO_00000000113301_01': {'ClassPredicted': 'News and Politics', 'RS_CP': 0.6016678585358208}, 'FILE_MAF_20211222T174857Z_GMO_00000000334049_01': {'ClassPredicted': 'News and Politics', 'RS_CP': 0.5931574048554403}}, 'Books and Literature': {'FILE_MAF_20210729T092828Z_GMO_00000000044326_01': {'ClassPredicted': 'Business and Finance', 'RS_CP': 0.6163432642151554}, 'FILE_MAF_20210730T234421Z_GMO_00000000044076_01': {'ClassPredicted': 'News and Politics', 'RS_CP': 0.6069253045215837}, 'FILE_MAF_20210805T164954Z_GMO_00000000044095_01': {'ClassPredicted': 'News and Politics', 'RS_CP': 0.6067472094085955}, 'FILE_MAF_20210802T172724Z_GMO_00000000142561_01': {'ClassPredicted': 'News and Politics', 'RS_CP': 0.5823252764862447}, 'FILE_MAF_20210803T004745Z_GMO_00000000044086_01': {'ClassPredicted': 'News and Politics', 'RS_CP': 0.6189968665979149}, 'FILE_MAF_20210730T233513Z_GMO_00000000044080_01': {'ClassPredicted': 'News and Politics', 'RS_CP': 0.6123481599924508}, 'FILE_MAF_20210802T172722Z_GMO_00000000142565_01': {'ClassPredicted': 'Family and Relationships', 'RS_CP': 0.6273619530825839}, 'FILE_MAF_20210802T164609Z_GMO_00000000044398_01': {'ClassPredicted': 'Family and Relationships', 'RS_CP': 0.6295461188670572}, 'FILE_MAF_20210729T120911Z_GMO_00000000044348_01': {'ClassPredicted': 'Family and Relationships', 'RS_CP': 0.6131343474282807}, 'FILE_MAF_20210729T073646Z_GMO_00000000044249_01': {'ClassPredicted': 'News and Politics', 'RS_CP': 0.6162127974575193}, 'FILE_MAF_20210729T073651Z_GMO_00000000044264_01': {'ClassPredicted': 'Family and Relationships', 'RS_CP': 0.612668583645321}, 'FILE_MAF_20210729T075657Z_GMO_00000000044301_01': {'ClassPredicted': 'Family and Relationships', 'RS_CP': 0.6214086839530976}, 'FILE_MAF_20210729T074455Z_GMO_00000000044309_01': {'ClassPredicted': 'Family and Relationships', 'RS_CP': 0.6276532790763881}, 'FILE_MAF_20210729T074052Z_GMO_00000000044294_01': {'ClassPredicted': 'Family and Relationships', 'RS_CP': 0.6275304713180998}, 'FILE_MAF_20210730T172125Z_GMO_00000000044284_01': {'ClassPredicted': 'News and Politics', 'RS_CP': 0.640474709809075}, 'FILE_MAF_20210730T225100Z_GMO_00000000044066_01': {'ClassPredicted': 'News and Politics', 'RS_CP': 0.6448661920895756}, 'FILE_MAF_20210729T083302Z_GMO_00000000044265_01': {'ClassPredicted': 'Family and Relationships', 'RS_CP': 0.634500361587541}, 'FILE_MAF_20210730T172335Z_GMO_00000000044277_01': {'ClassPredicted': 'Family and Relationships', 'RS_CP': 0.6271248141244864}, 'FILE_MAF_20210730T233617Z_GMO_00000000044072_01': {'ClassPredicted': 'News and Politics', 'RS_CP': 0.6105161869709658}, 'FILE_MAF_20210729T093648Z_GMO_00000000044308_01': {'ClassPredicted': 'Family and Relationships', 'RS_CP': 0.6141239524944637}}, 'Business and Finance': {'FILE_MAF_20210803T150810Z_GMO_00000000108698_01': {'ClassPredicted': 'News and Politics', 'RS_CP': 0.585537724545101}, 'FILE_MAF_20210728T183011Z_GMO_00000000007353_01': {'ClassPredicted': 'News and Politics', 'RS_CP': 0.611834375652581}, 'FILE_MAF_20210728T185221Z_GMO_00000000007414_01': {'ClassPredicted': 'Family and Relationships', 'RS_CP': 0.6284329461708338}, 'FILE_MAF_20210727T231449Z_GMO_00000000001716_01': {'ClassPredicted': 'Family and Relationships', 'RS_CP': 0.6079968739175554}, 'FILE_MAF_20210728T202741Z_GMO_00000000007597_01': {'ClassPredicted': 'Family and Relationships', 'RS_CP': 0.6031030949787185}, 'FILE_MAF_20210728T181505Z_GMO_00000000007230_01': {'ClassPredicted': 'News and Politics', 'RS_CP': 0.6255969245635425}, 'FILE_MAF_20210728T163741Z_GMO_00000000007105_01': {'ClassPredicted': 'Family and Relationships', 'RS_CP': 0.6206156389238696}, 'FILE_MAF_20210728T163639Z_GMO_00000000007100_01': {'ClassPredicted': 'Family and Relationships', 'RS_CP': 0.5970605101676626}, 'FILE_MAF_20210728T181503Z_GMO_00000000007187_01': {'ClassPredicted': 'Family and Relationships', 'RS_CP': 0.5896262752060475}, 'FILE_MAF_20210727T231237Z_GMO_00000000001660_01': {'ClassPredicted': 'Family and Relationships', 'RS_CP': 0.5778442626490421}, 'FILE_MAF_20210728T163637Z_GMO_00000000007042_01': {'ClassPredicted': 'Family and Relationships', 'RS_CP': 0.6312141094551987}, 'FILE_MAF_20210727T231247Z_GMO_00000000001712_01': {'ClassPredicted': 'Family and Relationships', 'RS_CP': 0.5950442561622045}, 'FILE_MAF_20210728T183513Z_GMO_00000000007330_01': {'ClassPredicted': 'News and Politics', 'RS_CP': 0.6099041722776919}, 'FILE_MAF_20210802T225506Z_GMO_00000000007502_01': {'ClassPredicted': 'News and Politics', 'RS_CP': 0.6067508617660362}, 'FILE_MAF_20210728T163134Z_GMO_00000000007137_01': {'ClassPredicted': 'News and Politics', 'RS_CP': 0.5827492956523587}, 'FILE_MAF_20210728T185222Z_GMO_00000000007421_01': {'ClassPredicted': 'News and Politics', 'RS_CP': 0.6120352810643697}, 'FILE_MAF_20210807T072438Z_GMO_00000000007432_01': {'ClassPredicted': 'News and Politics', 'RS_CP': 0.6143071408249119}, 'FILE_MAF_20210728T162831Z_GMO_00000000007007_01': {'ClassPredicted': 'Family and Relationships', 'RS_CP': 0.6266612915441429}, 'FILE_MAF_20210728T185223Z_GMO_00000000007423_01': {'ClassPredicted': 'Family and Relationships', 'RS_CP': 0.604394359391636}, 'FILE_MAF_20210802T225204Z_GMO_00000000007468_01': {'ClassPredicted': 'News and Politics', 'RS_CP': 0.6069251630545741}}, 'Education': {'FILE_MAF_20220321T225325Z_GMO_00000000354810_01': {'ClassPredicted': 'News and Politics', 'RS_CP': 0.6237461175165248}, 'FILE_MAF_20220321T225326Z_GMO_00000000354808_01': {'ClassPredicted': 'Family and Relationships', 'RS_CP': 0.623701242152836}, 'FILE_MAF_20220321T225326Z_GMO_00000000354809_01': {'ClassPredicted': 'Family and Relationships', 'RS_CP': 0.6344218578556565}, 'FILE_MAF_20220321T225327Z_GMO_00000000354807_01': {'ClassPredicted': 'News and Politics', 'RS_CP': 0.5865691058606194}, 'FILE_MAF_20220321T225328Z_GMO_00000000354812_01': {'ClassPredicted': 'Family and Relationships', 'RS_CP': 0.6117259299485023}, 'FILE_MAF_20220321T225329Z_GMO_00000000354811_01': {'ClassPredicted': 'News and Politics', 'RS_CP': 0.6184604255044245}, 'FILE_MAF_20220505T091718Z_GMO_00000000354813_01': {'ClassPredicted': 'Family and Relationships', 'RS_CP': 0.624392580434741}, 'FILE_MAF_20220505T091718Z_GMO_00000000354814_01': {'ClassPredicted': 'Family and Relationships', 'RS_CP': 0.6082260231391381}, 'FILE_MAF_20220505T091720Z_GMO_00000000354815_01': {'ClassPredicted': 'News and Politics', 'RS_CP': 0.6263171903815755}, 'FILE_MAF_20220505T224819Z_GMO_00000000354816_01': {'ClassPredicted': 'Family and Relationships', 'RS_CP': 0.6132691205331097}}, 'Events and Attractions': {'FILE_MAF_20210824T160507Z_GMO_00000000305067_01': {'ClassPredicted': 'News and Politics', 'RS_CP': 0.5800785288361122}, 'FILE_MAF_20210730T172125Z_GMO_00000000384803_01': {'ClassPredicted': 'Family and Relationships', 'RS_CP': 0.6255607258971982}, 'FILE_MAF_20210824T160504Z_GMO_00000000305061_01': {'ClassPredicted': 'Family and Relationships', 'RS_CP': 0.6248424808088444}, 'FILE_MAF_20220214T004858Z_GMO_00000000116407_01': {'ClassPredicted': 'Family and Relationships', 'RS_CP': 0.6154900663699372}, 'FILE_MAF_20220213T003335Z_GMO_00000000010677_01': {'ClassPredicted': 'Family and Relationships', 'RS_CP': 0.6169055509202084}, 'FILE_MAF_20210825T012852Z_GMO_00000000348725_01': {'ClassPredicted': 'Family and Relationships', 'RS_CP': 0.6281969218108566}, 'FILE_MAF_20220214T211212Z_GMO_00000000284516_01': {'ClassPredicted': 'Family and Relationships', 'RS_CP': 0.6003576650660082}, 'FILE_MAF_20210825T013302Z_GMO_00000000348723_01': {'ClassPredicted': 'Family and Relationships', 'RS_CP': 0.6272849878484259}, 'FILE_MAF_20220212T231617Z_GMO_00000000010675_01': {'ClassPredicted': 'Family and Relationships', 'RS_CP': 0.6363681844079906}, 'FILE_MAF_20210825T013158Z_GMO_00000000338679_01': {'ClassPredicted': 'Family and Relationships', 'RS_CP': 0.6234408171472261}, 'FILE_MAF_20220214T211213Z_GMO_00000000195852_01': {'ClassPredicted': 'Family and Relationships', 'RS_CP': 0.6181549599117843}, 'FILE_MAF_20210825T013307Z_GMO_00000000359730_01': {'ClassPredicted': 'Family and Relationships', 'RS_CP': 0.6163443072971737}, 'FILE_MAF_20210825T013409Z_GMO_00000000359729_01': {'ClassPredicted': 'Family and Relationships', 'RS_CP': 0.6041866414437638}, 'FILE_MAF_20220214T211534Z_GMO_00000000284515_01': {'ClassPredicted': 'Family and Relationships', 'RS_CP': 0.5965129361751002}, 'FILE_MAF_20220215T035934Z_GMO_00000000327844_01': {'ClassPredicted': 'Family and Relationships', 'RS_CP': 0.5954772297408205}, 'FILE_MAF_20220213T185815Z_GMO_00000000048836_01': {'ClassPredicted': 'Family and Relationships', 'RS_CP': 0.6087642336388814}, 'FILE_MAF_20220215T013221Z_GMO_00000000287847_01': {'ClassPredicted': 'Family and Relationships', 'RS_CP': 0.6162642671824}, 'FILE_MAF_20210825T012651Z_GMO_00000000348720_01': {'ClassPredicted': 'Family and Relationships', 'RS_CP': 0.6103302851557085}, 'FILE_MAF_20210824T160506Z_GMO_00000000305064_01': {'ClassPredicted': 'Family and Relationships', 'RS_CP': 0.5970739615894045}, 'FILE_MAF_20220213T215316Z_GMO_00000000116411_01': {'ClassPredicted': 'Family and Relationships', 'RS_CP': 0.6059287584532506}}, 'Family and Relationships': {'FILE_MAF_20211106T220217Z_GMO_00000000124439_01': {'ClassPredicted': 'Family and Relationships', 'RS_CP': 0.618206314534054}, 'FILE_MAF_20210803T024232Z_GMO_00000000346786_01': {'ClassPredicted': 'Family and Relationships', 'RS_CP': 0.6470406636185598}, 'FILE_MAF_20211107T155428Z_GMO_00000000144867_01': {'ClassPredicted': 'Family and Relationships', 'RS_CP': 0.6132186687815726}, 'FILE_MAF_20210730T235041Z_GMO_00000000346774_01': {'ClassPredicted': 'Family and Relationships', 'RS_CP': 0.6325081513792445}, 'FILE_MAF_20211107T173012Z_GMO_00000000144871_01': {'ClassPredicted': 'Family and Relationships', 'RS_CP': 0.6209422535341823}, 'FILE_MAF_20211109T073412Z_GMO_00000000012360_01': {'ClassPredicted': 'Family and Relationships', 'RS_CP': 0.6178538054727672}, 'FILE_MAF_20211109T073414Z_GMO_00000000286853_01': {'ClassPredicted': 'Family and Relationships', 'RS_CP': 0.6266134004110766}, 'FILE_MAF_20211104T120605Z_GMO_00000000365313_01': {'ClassPredicted': 'Family and Relationships', 'RS_CP': 0.6087408496029175}, 'FILE_MAF_20211105T085433Z_GMO_00000000144877_01': {'ClassPredicted': 'Family and Relationships', 'RS_CP': 0.5734817941400804}, 'FILE_MAF_20211104T114856Z_GMO_00000000354181_01': {'ClassPredicted': 'Family and Relationships', 'RS_CP': 0.6393888017143855}, 'FILE_MAF_20210729T234914Z_GMO_00000000346776_01': {'ClassPredicted': 'Family and Relationships', 'RS_CP': 0.6465674460740635}, 'FILE_MAF_20210729T235115Z_GMO_00000000346783_01': {'ClassPredicted': 'Family and Relationships', 'RS_CP': 0.6246824531928437}, 'FILE_MAF_20211104T094412Z_GMO_00000000012365_01': {'ClassPredicted': 'Family and Relationships', 'RS_CP': 0.6020502081895016}, 'FILE_MAF_20211106T220336Z_GMO_00000000285127_01': {'ClassPredicted': 'Family and Relationships', 'RS_CP': 0.6328609048454137}, 'FILE_MAF_20211106T220331Z_GMO_00000000012363_01': {'ClassPredicted': 'Family and Relationships', 'RS_CP': 0.6047396505381332}, 'FILE_MAF_20211109T073419Z_GMO_00000000283501_01': {'ClassPredicted': 'Family and Relationships', 'RS_CP': 0.6092871738388997}, 'FILE_MAF_20211106T234819Z_GMO_00000000039636_01': {'ClassPredicted': 'Family and Relationships', 'RS_CP': 0.6211893133571242}, 'FILE_MAF_20211106T231656Z_GMO_00000000017733_01': {'ClassPredicted': 'Family and Relationships', 'RS_CP': 0.6196688397581285}, 'FILE_MAF_20211106T220215Z_GMO_00000000012323_01': {'ClassPredicted': 'News and Politics', 'RS_CP': 0.5928467257990965}, 'FILE_MAF_20211104T080633Z_GMO_00000000017731_01': {'ClassPredicted': 'Family and Relationships', 'RS_CP': 0.616491092195948}}, 'Food & Drink': {'FILE_MAF_20220213T092945Z_GMO_00000000031461_01': {'ClassPredicted': 'Food & Drink', 'RS_CP': 0.6088791579364583}, 'FILE_MAF_20220213T185507Z_GMO_00000000045335_01': {'ClassPredicted': 'Food & Drink', 'RS_CP': 0.6218559320944957}, 'FILE_MAF_20220212T143407Z_GMO_00000000002223_01': {'ClassPredicted': 'Food & Drink', 'RS_CP': 0.6014972909756527}, 'FILE_MAF_20210824T142520Z_GMO_00000000294157_01': {'ClassPredicted': 'Family and Relationships', 'RS_CP': 0.5847551845656364}, 'FILE_MAF_20210824T142522Z_GMO_00000000294142_01': {'ClassPredicted': 'Family and Relationships', 'RS_CP': 0.5798527384973078}, 'FILE_MAF_20220212T183925Z_GMO_00000000006948_01': {'ClassPredicted': 'News and Politics', 'RS_CP': 0.6063027183000794}, 'FILE_MAF_20210824T200155Z_GMO_00000000294191_01': {'ClassPredicted': 'Family and Relationships', 'RS_CP': 0.6247903348067368}, 'FILE_MAF_20220213T182741Z_GMO_00000000041022_01': {'ClassPredicted': 'Food & Drink', 'RS_CP': 0.6175918184834613}, 'FILE_MAF_20210824T142517Z_GMO_00000000294126_01': {'ClassPredicted': 'Family and Relationships', 'RS_CP': 0.6016559105313657}, 'FILE_MAF_20220213T184755Z_GMO_00000000041020_01': {'ClassPredicted': 'Food & Drink', 'RS_CP': 0.6249696727093338}, 'FILE_MAF_20210824T142521Z_GMO_00000000294128_01': {'ClassPredicted': 'Family and Relationships', 'RS_CP': 0.5898189698654025}, 'FILE_MAF_20220212T194452Z_GMO_00000000007405_01': {'ClassPredicted': 'Food & Drink', 'RS_CP': 0.6028656899740623}, 'FILE_MAF_20220214T043101Z_GMO_00000000201223_01': {'ClassPredicted': 'Food & Drink', 'RS_CP': 0.6300426168050343}, 'FILE_MAF_20220213T010346Z_GMO_00000000014850_01': {'ClassPredicted': 'Food & Drink', 'RS_CP': 0.6289151323959424}, 'FILE_MAF_20210824T153450Z_GMO_00000000294170_01': {'ClassPredicted': 'Family and Relationships', 'RS_CP': 0.6000709820255301}, 'FILE_MAF_20210825T013057Z_GMO_00000000391127_01': {'ClassPredicted': 'Food & Drink', 'RS_CP': 0.6262423596114485}, 'FILE_MAF_20220212T223751Z_GMO_00000000009281_01': {'ClassPredicted': 'Food & Drink', 'RS_CP': 0.6161287691168075}, 'FILE_MAF_20220212T183523Z_GMO_00000000006936_01': {'ClassPredicted': 'Food & Drink', 'RS_CP': 0.6290719831702842}, 'FILE_MAF_20210824T195853Z_GMO_00000000294185_01': {'ClassPredicted': 'Family and Relationships', 'RS_CP': 0.6169786968440938}, 'FILE_MAF_20220214T050523Z_GMO_00000000201227_01': {'ClassPredicted': 'Food & Drink', 'RS_CP': 0.6247369804059193}}, 'Hobbies & Interests': {'FILE_MAF_20220215T083954Z_GMO_00000000390302_01': {'ClassPredicted': 'Family and Relationships', 'RS_CP': 0.6240561397192559}, 'FILE_MAF_20220215T092105Z_GMO_00000000390300_01': {'ClassPredicted': 'Family and Relationships', 'RS_CP': 0.626316623881582}, 'FILE_MAF_20220215T092413Z_GMO_00000000390299_01': {'ClassPredicted': 'Family and Relationships', 'RS_CP': 0.6125972606477458}, 'FILE_MAF_20220215T092415Z_GMO_00000000390294_01': {'ClassPredicted': 'Family and Relationships', 'RS_CP': 0.6043010300962366}, 'FILE_MAF_20220215T092416Z_GMO_00000000390295_01': {'ClassPredicted': 'Family and Relationships', 'RS_CP': 0.6248516620971091}, 'FILE_MAF_20220215T092417Z_GMO_00000000390297_01': {'ClassPredicted': 'Family and Relationships', 'RS_CP': 0.6349781730296489}, 'FILE_MAF_20220215T092521Z_GMO_00000000390293_01': {'ClassPredicted': 'Family and Relationships', 'RS_CP': 0.6158778993773258}, 'FILE_MAF_20220215T092524Z_GMO_00000000390296_01': {'ClassPredicted': 'Family and Relationships', 'RS_CP': 0.6330650695952753}, 'FILE_MAF_20220215T092524Z_GMO_00000000390298_01': {'ClassPredicted': 'News and Politics', 'RS_CP': 0.6158470712823283}, 'FILE_MAF_20220215T092524Z_GMO_00000000390301_01': {'ClassPredicted': 'Family and Relationships', 'RS_CP': 0.6093079418923375}}, 'Medical Health': {'FILE_MAF_20211222T135839Z_GMO_00000000092418_01': {'ClassPredicted': 'Family and Relationships', 'RS_CP': 0.6296069602238507}, 'FILE_MAF_20211105T221833Z_GMO_00000000338784_01': {'ClassPredicted': 'Family and Relationships', 'RS_CP': 0.6096660770465101}, 'FILE_MAF_20220213T071506Z_GMO_00000000027584_01': {'ClassPredicted': 'Family and Relationships', 'RS_CP': 0.6172191136831785}, 'FILE_MAF_20220213T075121Z_GMO_00000000029125_01': {'ClassPredicted': 'Family and Relationships', 'RS_CP': 0.6125356697774621}, 'FILE_MAF_20211222T061241Z_GMO_00000000295406_01': {'ClassPredicted': 'Family and Relationships', 'RS_CP': 0.641197206561852}, 'FILE_MAF_20220215T013220Z_GMO_00000000283931_01': {'ClassPredicted': 'Family and Relationships', 'RS_CP': 0.6320625926437238}, 'FILE_MAF_20210824T153451Z_GMO_00000000293441_01': {'ClassPredicted': 'Family and Relationships', 'RS_CP': 0.6252770130430791}, 'FILE_MAF_20220212T223748Z_GMO_00000000009123_01': {'ClassPredicted': 'Family and Relationships', 'RS_CP': 0.6374088594802524}, 'FILE_MAF_20220213T080123Z_GMO_00000000029577_01': {'ClassPredicted': 'Healthy Living', 'RS_CP': 0.6117606813740551}, 'FILE_MAF_20210728T202844Z_GMO_00000000007758_01': {'ClassPredicted': 'Family and Relationships', 'RS_CP': 0.6150772488257504}, 'FILE_MAF_20210728T202436Z_GMO_00000000007731_01': {'ClassPredicted': 'Family and Relationships', 'RS_CP': 0.6066327219233933}, 'FILE_MAF_20211222T061240Z_GMO_00000000326287_01': {'ClassPredicted': 'Family and Relationships', 'RS_CP': 0.6163766939843233}, 'FILE_MAF_20211222T183052Z_GMO_00000000007458_01': {'ClassPredicted': 'Family and Relationships', 'RS_CP': 0.6213922518344994}, 'FILE_MAF_20211222T144359Z_GMO_00000000112815_01': {'ClassPredicted': 'Family and Relationships', 'RS_CP': 0.6262748557723928}, 'FILE_MAF_20211224T154509Z_GMO_00000000196872_01': {'ClassPredicted': 'Family and Relationships', 'RS_CP': 0.6178017941680718}, 'FILE_MAF_20210824T173626Z_GMO_00000000308191_01': {'ClassPredicted': 'Family and Relationships', 'RS_CP': 0.6100119337206208}, 'FILE_MAF_20210729T030521Z_GMO_00000000022500_01': {'ClassPredicted': 'Family and Relationships', 'RS_CP': 0.6131710354589137}, 'FILE_MAF_20211222T061243Z_GMO_00000000295412_01': {'ClassPredicted': 'Family and Relationships', 'RS_CP': 0.634033286412659}, 'FILE_MAF_20220215T035936Z_GMO_00000000332332_01': {'ClassPredicted': 'Family and Relationships', 'RS_CP': 0.6216457581444379}, 'FILE_MAF_20211222T061137Z_GMO_00000000326260_01': {'ClassPredicted': 'Family and Relationships', 'RS_CP': 0.6192517528174966}}, 'Music and Audio': {'FILE_MAF_20210809T200440Z_GMO_00000000292342_01': {'ClassPredicted': 'Family and Relationships', 'RS_CP': 0.5776611508560816}, 'FILE_MAF_20211106T201721Z_GMO_00000000298262_01': {'ClassPredicted': 'Family and Relationships', 'RS_CP': 0.6111521616946357}, 'FILE_MAF_20211106T183220Z_GMO_00000000298260_01': {'ClassPredicted': 'Family and Relationships', 'RS_CP': 0.6202274411460925}, 'FILE_MAF_20220214T005215Z_GMO_00000000137236_01': {'ClassPredicted': 'Music and Audio', 'RS_CP': 0.507064113267105}, 'FILE_MAF_20211103T115536Z_GMO_00000000298267_01': {'ClassPredicted': 'Family and Relationships', 'RS_CP': 0.6050608987438647}, 'FILE_MAF_20210809T200239Z_GMO_00000000330183_01': {'ClassPredicted': 'Music and Audio', 'RS_CP': 0.6294137857950702}, 'FILE_MAF_20211103T115539Z_GMO_00000000345588_01': {'ClassPredicted': 'Family and Relationships', 'RS_CP': 0.6159532722794262}, 'FILE_MAF_20220214T042555Z_GMO_00000000137222_01': {'ClassPredicted': 'News and Politics', 'RS_CP': 0.5730895313143237}, 'FILE_MAF_20211107T173011Z_GMO_00000000298266_01': {'ClassPredicted': 'Family and Relationships', 'RS_CP': 0.6195076805863043}, 'FILE_MAF_20211103T121545Z_GMO_00000000345592_01': {'ClassPredicted': 'Family and Relationships', 'RS_CP': 0.5925797743781174}, 'FILE_MAF_20220510T214825Z_GMO_00000000398885_01': {'ClassPredicted': 'Music and Audio', 'RS_CP': 0.5606872992151307}, 'FILE_MAF_20210809T203754Z_GMO_00000000330186_01': {'ClassPredicted': 'News and Politics', 'RS_CP': 0.5937427843567842}, 'FILE_MAF_20211107T155324Z_GMO_00000000298271_01': {'ClassPredicted': 'Family and Relationships', 'RS_CP': 0.6301880597434083}, 'FILE_MAF_20211103T121645Z_GMO_00000000345597_01': {'ClassPredicted': 'Family and Relationships', 'RS_CP': 0.6168514434591928}, 'FILE_MAF_20210805T224731Z_GMO_00000000284486_01': {'ClassPredicted': 'Family and Relationships', 'RS_CP': 0.5779450299471308}, 'FILE_MAF_20220214T042351Z_GMO_00000000137227_01': {'ClassPredicted': 'News and Politics', 'RS_CP': 0.5822021451015371}, 'FILE_MAF_20220510T214825Z_GMO_00000000398887_01': {'ClassPredicted': 'Family and Relationships', 'RS_CP': 0.5701044333853794}, 'FILE_MAF_20220214T042858Z_GMO_00000000137235_01': {'ClassPredicted': 'Music and Audio', 'RS_CP': 0.49625878810858054}, 'FILE_MAF_20211106T183218Z_GMO_00000000298269_01': {'ClassPredicted': 'Family and Relationships', 'RS_CP': 0.6249834841904942}, 'FILE_MAF_20211103T115532Z_GMO_00000000298270_01': {'ClassPredicted': 'Family and Relationships', 'RS_CP': 0.6166579267943247}}, 'Pets': {'FILE_MAF_20210729T150937Z_GMO_00000000321414_01': {'ClassPredicted': 'Family and Relationships', 'RS_CP': 0.6150720460530259}, 'FILE_MAF_20210729T170339Z_GMO_00000000321975_01': {'ClassPredicted': 'Family and Relationships', 'RS_CP': 0.5905704840952416}, 'FILE_MAF_20210729T180703Z_GMO_00000000321965_01': {'ClassPredicted': 'Family and Relationships', 'RS_CP': 0.5677777813688932}, 'FILE_MAF_20210729T123329Z_GMO_00000000321263_01': {'ClassPredicted': 'Family and Relationships', 'RS_CP': 0.6003685696693123}, 'FILE_MAF_20210729T150935Z_GMO_00000000321408_01': {'ClassPredicted': 'Family and Relationships', 'RS_CP': 0.5912878315713005}, 'FILE_MAF_20210730T073924Z_GMO_00000000321284_01': {'ClassPredicted': 'Family and Relationships', 'RS_CP': 0.6037233838264913}, 'FILE_MAF_20210729T122424Z_GMO_00000000321241_01': {'ClassPredicted': 'Family and Relationships', 'RS_CP': 0.5822577863449705}, 'FILE_MAF_20210729T145919Z_GMO_00000000321470_01': {'ClassPredicted': 'Family and Relationships', 'RS_CP': 0.6006499770693298}, 'FILE_MAF_20210730T073920Z_GMO_00000000321247_01': {'ClassPredicted': 'Healthy Living', 'RS_CP': 0.6037117089520321}, 'FILE_MAF_20210730T075043Z_GMO_00000000321462_01': {'ClassPredicted': 'Family and Relationships', 'RS_CP': 0.6208199593918907}, 'FILE_MAF_20210729T150932Z_GMO_00000000321386_01': {'ClassPredicted': 'Family and Relationships', 'RS_CP': 0.6145778968147247}, 'FILE_MAF_20210730T073918Z_GMO_00000000321446_01': {'ClassPredicted': 'Family and Relationships', 'RS_CP': 0.6122611651432188}, 'FILE_MAF_20210730T054034Z_GMO_00000000321280_01': {'ClassPredicted': 'Family and Relationships', 'RS_CP': 0.5994710715488906}, 'FILE_MAF_20210729T123027Z_GMO_00000000321243_01': {'ClassPredicted': 'Family and Relationships', 'RS_CP': 0.6327668348803778}, 'FILE_MAF_20210729T155156Z_GMO_00000000321426_01': {'ClassPredicted': 'News and Politics', 'RS_CP': 0.5996945890112344}, 'FILE_MAF_20210729T144305Z_GMO_00000000321323_01': {'ClassPredicted': 'Family and Relationships', 'RS_CP': 0.6025066292903022}, 'FILE_MAF_20210730T074533Z_GMO_00000000321287_01': {'ClassPredicted': 'Family and Relationships', 'RS_CP': 0.614692406939399}, 'FILE_MAF_20210729T122420Z_GMO_00000000321236_01': {'ClassPredicted': 'Family and Relationships', 'RS_CP': 0.6292973573102963}, 'FILE_MAF_20210730T054142Z_GMO_00000000321277_01': {'ClassPredicted': 'Family and Relationships', 'RS_CP': 0.5985876564519326}, 'FILE_MAF_20210729T163608Z_GMO_00000000321442_01': {'ClassPredicted': 'Family and Relationships', 'RS_CP': 0.6067677649937593}}, 'Real Estate': {'FILE_MAF_20210824T164918Z_GMO_00000000316807_01': {'ClassPredicted': 'Family and Relationships', 'RS_CP': 0.6401121291508364}, 'FILE_MAF_20220214T042348Z_GMO_00000000153023_01': {'ClassPredicted': 'Family and Relationships', 'RS_CP': 0.6356814651560619}, 'FILE_MAF_20220213T185405Z_GMO_00000000045315_01': {'ClassPredicted': 'Family and Relationships', 'RS_CP': 0.6275250953527202}, 'FILE_MAF_20220212T165146Z_GMO_00000000002833_01': {'ClassPredicted': 'Family and Relationships', 'RS_CP': 0.6209487081405983}, 'FILE_MAF_20210825T012645Z_GMO_00000000399606_01': {'ClassPredicted': 'Family and Relationships', 'RS_CP': 0.635314716325317}, 'FILE_MAF_20210824T151133Z_GMO_00000000284944_01': {'ClassPredicted': 'Family and Relationships', 'RS_CP': 0.633558192455188}, 'FILE_MAF_20220211T201452Z_GMO_00000000001224_01': {'ClassPredicted': 'Business and Finance', 'RS_CP': 0.6602826975829629}, 'FILE_MAF_20220213T173624Z_GMO_00000000039557_01': {'ClassPredicted': 'Family and Relationships', 'RS_CP': 0.624906908105986}, 'FILE_MAF_20220213T093448Z_GMO_00000000031317_01': {'ClassPredicted': 'Family and Relationships', 'RS_CP': 0.6313829523855361}, 'FILE_MAF_20210825T013053Z_GMO_00000000282347_01': {'ClassPredicted': 'Family and Relationships', 'RS_CP': 0.6274944982953731}, 'FILE_MAF_20220214T042350Z_GMO_00000000153025_01': {'ClassPredicted': 'Family and Relationships', 'RS_CP': 0.6314103869242068}, 'FILE_MAF_20220213T184757Z_GMO_00000000045313_01': {'ClassPredicted': 'Family and Relationships', 'RS_CP': 0.6286290382996221}, 'FILE_MAF_20210825T002729Z_GMO_00000000316811_01': {'ClassPredicted': 'Family and Relationships', 'RS_CP': 0.6364670367093632}, 'FILE_MAF_20220213T011913Z_GMO_00000000014807_01': {'ClassPredicted': 'Business and Finance', 'RS_CP': 0.6369667208077762}, 'FILE_MAF_20220213T120945Z_GMO_00000000038934_01': {'ClassPredicted': 'Business and Finance', 'RS_CP': 0.6356310722843457}, 'FILE_MAF_20220213T120643Z_GMO_00000000038929_01': {'ClassPredicted': 'Family and Relationships', 'RS_CP': 0.6362070980229486}, 'FILE_MAF_20210824T160508Z_GMO_00000000316809_01': {'ClassPredicted': 'Family and Relationships', 'RS_CP': 0.6369749852684798}, 'FILE_MAF_20220213T173621Z_GMO_00000000039352_01': {'ClassPredicted': 'Family and Relationships', 'RS_CP': 0.6489859605269549}, 'FILE_MAF_20210825T012646Z_GMO_00000000338857_01': {'ClassPredicted': 'Family and Relationships', 'RS_CP': 0.6410278728264772}, 'FILE_MAF_20220213T173626Z_GMO_00000000039366_01': {'ClassPredicted': 'Family and Relationships', 'RS_CP': 0.6265799786776616}}, 'Religion & Spirituality': {'FILE_MAF_20211223T143223Z_GMO_00000000343629_01': {'ClassPredicted': 'Family and Relationships', 'RS_CP': 0.5936791117653426}, 'FILE_MAF_20211223T143227Z_GMO_00000000343625_01': {'ClassPredicted': 'Family and Relationships', 'RS_CP': 0.5959364658571591}, 'FILE_MAF_20211223T143428Z_GMO_00000000343676_01': {'ClassPredicted': 'Family and Relationships', 'RS_CP': 0.632227711132271}, 'FILE_MAF_20211223T202630Z_GMO_00000000343584_01': {'ClassPredicted': 'Family and Relationships', 'RS_CP': 0.5977218009825269}, 'FILE_MAF_20211223T143221Z_GMO_00000000343596_01': {'ClassPredicted': 'Family and Relationships', 'RS_CP': 0.613202804023521}, 'FILE_MAF_20211223T143225Z_GMO_00000000343640_01': {'ClassPredicted': 'Family and Relationships', 'RS_CP': 0.6236416451619144}, 'FILE_MAF_20211223T143222Z_GMO_00000000343627_01': {'ClassPredicted': 'Family and Relationships', 'RS_CP': 0.6130346880170734}, 'FILE_MAF_20211223T143428Z_GMO_00000000343630_01': {'ClassPredicted': 'News and Politics', 'RS_CP': 0.5969719567336749}, 'FILE_MAF_20211225T005508Z_GMO_00000000343642_01': {'ClassPredicted': 'Family and Relationships', 'RS_CP': 0.6021710403199144}, 'FILE_MAF_20211223T143837Z_GMO_00000000343639_01': {'ClassPredicted': 'Family and Relationships', 'RS_CP': 0.6134989464116025}, 'FILE_MAF_20211223T143226Z_GMO_00000000343655_01': {'ClassPredicted': 'Family and Relationships', 'RS_CP': 0.5953296968566214}, 'FILE_MAF_20211223T144047Z_GMO_00000000343663_01': {'ClassPredicted': 'Family and Relationships', 'RS_CP': 0.5912525555345487}, 'FILE_MAF_20211223T053255Z_GMO_00000000343736_01': {'ClassPredicted': 'Family and Relationships', 'RS_CP': 0.6109387012074745}, 'FILE_MAF_20211223T143830Z_GMO_00000000343664_01': {'ClassPredicted': 'Family and Relationships', 'RS_CP': 0.6125951237236662}, 'FILE_MAF_20211223T143839Z_GMO_00000000343669_01': {'ClassPredicted': 'Family and Relationships', 'RS_CP': 0.6238106591938852}, 'FILE_MAF_20211223T143942Z_GMO_00000000343636_01': {'ClassPredicted': 'Family and Relationships', 'RS_CP': 0.6015457478010088}, 'FILE_MAF_20211223T144046Z_GMO_00000000343687_01': {'ClassPredicted': 'Family and Relationships', 'RS_CP': 0.5952456469285987}, 'FILE_MAF_20211223T143836Z_GMO_00000000343635_01': {'ClassPredicted': 'Family and Relationships', 'RS_CP': 0.6109551808896656}, 'FILE_MAF_20211223T144046Z_GMO_00000000343727_01': {'ClassPredicted': 'Family and Relationships', 'RS_CP': 0.5901392672249036}, 'FILE_MAF_20211223T143219Z_GMO_00000000343595_01': {'ClassPredicted': 'Family and Relationships', 'RS_CP': 0.6085816818347022}}, 'Science': {'FILE_MAF_20210802T172723Z_GMO_00000000001586_01': {'ClassPredicted': 'Family and Relationships', 'RS_CP': 0.6188866685810144}, 'FILE_MAF_20210807T072434Z_GMO_00000000001821_01': {'ClassPredicted': 'Family and Relationships', 'RS_CP': 0.6133434896495301}, 'FILE_MAF_20210802T173334Z_GMO_00000000001690_01': {'ClassPredicted': 'Family and Relationships', 'RS_CP': 0.6169692256890298}, 'FILE_MAF_20220212T194614Z_GMO_00000000007318_01': {'ClassPredicted': 'Family and Relationships', 'RS_CP': 0.6198122020299962}, 'FILE_MAF_20210802T173331Z_GMO_00000000136975_01': {'ClassPredicted': 'Family and Relationships', 'RS_CP': 0.6330426056362564}, 'FILE_MAF_20210802T172927Z_GMO_00000000001576_01': {'ClassPredicted': 'Family and Relationships', 'RS_CP': 0.6191859079813016}, 'FILE_MAF_20220212T184828Z_GMO_00000000007284_01': {'ClassPredicted': 'Family and Relationships', 'RS_CP': 0.6205988488786649}, 'FILE_MAF_20220213T011356Z_GMO_00000000014862_01': {'ClassPredicted': 'News and Politics', 'RS_CP': 0.6056549987085164}, 'FILE_MAF_20210807T072432Z_GMO_00000000001718_01': {'ClassPredicted': 'Family and Relationships', 'RS_CP': 0.6169791177906573}, 'FILE_MAF_20210802T173446Z_GMO_00000000001721_01': {'ClassPredicted': 'Family and Relationships', 'RS_CP': 0.6259027135526721}, 'FILE_MAF_20220213T011914Z_GMO_00000000014814_01': {'ClassPredicted': 'Family and Relationships', 'RS_CP': 0.6270090529304683}, 'FILE_MAF_20210802T172725Z_GMO_00000000001589_01': {'ClassPredicted': 'Family and Relationships', 'RS_CP': 0.6284589117926672}, 'FILE_MAF_20220212T185028Z_GMO_00000000007263_01': {'ClassPredicted': 'Family and Relationships', 'RS_CP': 0.6110947684342956}, 'FILE_MAF_20210802T173448Z_GMO_00000000136973_01': {'ClassPredicted': 'Family and Relationships', 'RS_CP': 0.617293797252662}, 'FILE_MAF_20210802T164558Z_GMO_00000000001554_01': {'ClassPredicted': 'Family and Relationships', 'RS_CP': 0.6155904454124326}, 'FILE_MAF_20220213T010346Z_GMO_00000000014872_01': {'ClassPredicted': 'Family and Relationships', 'RS_CP': 0.6151303491272427}, 'FILE_MAF_20220213T011915Z_GMO_00000000014864_01': {'ClassPredicted': 'Family and Relationships', 'RS_CP': 0.6055406965732516}, 'FILE_MAF_20220213T011403Z_GMO_00000000014870_01': {'ClassPredicted': 'Family and Relationships', 'RS_CP': 0.6252884610534862}, 'FILE_MAF_20210802T173027Z_GMO_00000000001744_01': {'ClassPredicted': 'Family and Relationships', 'RS_CP': 0.6055551061960708}, 'FILE_MAF_20210802T173336Z_GMO_00000000001801_01': {'ClassPredicted': 'Family and Relationships', 'RS_CP': 0.6226086685621769}}, 'Shopping': {'FILE_MAF_20211116T134039Z_GMO_00000000341646_01': {'ClassPredicted': 'News and Politics', 'RS_CP': 0.586713887700445}, 'FILE_MAF_20211103T100330Z_GMO_00000000341649_01': {'ClassPredicted': 'Family and Relationships', 'RS_CP': 0.6162699560872151}, 'FILE_MAF_20211105T221618Z_GMO_00000000341638_01': {'ClassPredicted': 'Family and Relationships', 'RS_CP': 0.6000855272098893}, 'FILE_MAF_20211105T221829Z_GMO_00000000121675_01': {'ClassPredicted': 'Family and Relationships', 'RS_CP': 0.5984546925432568}, 'FILE_MAF_20211103T092107Z_GMO_00000000273413_01': {'ClassPredicted': 'Family and Relationships', 'RS_CP': 0.5965410923228625}, 'FILE_MAF_20211105T221619Z_GMO_00000000273407_01': {'ClassPredicted': 'Family and Relationships', 'RS_CP': 0.5792530095003521}, 'FILE_MAF_20211116T134036Z_GMO_00000000341644_01': {'ClassPredicted': 'Family and Relationships', 'RS_CP': 0.6003362294801237}, 'FILE_MAF_20211105T221413Z_GMO_00000000273414_01': {'ClassPredicted': 'Family and Relationships', 'RS_CP': 0.5978982955804121}, 'FILE_MAF_20211105T221622Z_GMO_00000000296346_01': {'ClassPredicted': 'Family and Relationships', 'RS_CP': 0.6002264372138008}, 'FILE_MAF_20211105T085331Z_GMO_00000000121678_01': {'ClassPredicted': 'News and Politics', 'RS_CP': 0.5873888464488204}, 'FILE_MAF_20211103T100337Z_GMO_00000000341651_01': {'ClassPredicted': 'Family and Relationships', 'RS_CP': 0.5927559322359875}, 'FILE_MAF_20211105T100759Z_GMO_00000000273410_01': {'ClassPredicted': 'Family and Relationships', 'RS_CP': 0.5872400631664376}, 'FILE_MAF_20211105T221725Z_GMO_00000000296347_01': {'ClassPredicted': 'Family and Relationships', 'RS_CP': 0.5978800116298119}, 'FILE_MAF_20211105T221827Z_GMO_00000000341639_01': {'ClassPredicted': 'Family and Relationships', 'RS_CP': 0.5974546421481982}, 'FILE_MAF_20211103T092109Z_GMO_00000000341636_01': {'ClassPredicted': 'Family and Relationships', 'RS_CP': 0.6017322573532609}, 'FILE_MAF_20211105T221830Z_GMO_00000000273412_01': {'ClassPredicted': 'Family and Relationships', 'RS_CP': 0.5919631892276762}, 'FILE_MAF_20211105T221616Z_GMO_00000000296350_01': {'ClassPredicted': 'Family and Relationships', 'RS_CP': 0.5988720592412499}, 'FILE_MAF_20211103T092105Z_GMO_00000000273408_01': {'ClassPredicted': 'Family and Relationships', 'RS_CP': 0.6003744254374062}, 'FILE_MAF_20211103T092113Z_GMO_00000000296345_01': {'ClassPredicted': 'Family and Relationships', 'RS_CP': 0.6000151944988221}, 'FILE_MAF_20211105T111151Z_GMO_00000000121681_01': {'ClassPredicted': 'News and Politics', 'RS_CP': 0.5911712861115538}}, 'Sports': {'FILE_MAF_20210731T020535Z_GMO_00000000040741_01': {'ClassPredicted': 'News and Politics', 'RS_CP': 0.5943798459133182}, 'FILE_MAF_20220215T090159Z_GMO_00000000370441_01': {'ClassPredicted': 'Family and Relationships', 'RS_CP': 0.6058766984085863}, 'FILE_MAF_20220213T121447Z_GMO_00000000039091_01': {'ClassPredicted': 'Music and Audio', 'RS_CP': 0.5349906952452355}, 'FILE_MAF_20220213T173625Z_GMO_00000000039094_01': {'ClassPredicted': 'News and Politics', 'RS_CP': 0.605518531787477}, 'FILE_MAF_20220213T173619Z_GMO_00000000039095_01': {'ClassPredicted': 'News and Politics', 'RS_CP': 0.5904345590591552}, 'FILE_MAF_20211105T221830Z_GMO_00000000326366_01': {'ClassPredicted': 'News and Politics', 'RS_CP': 0.6010248044219538}, 'FILE_MAF_20210807T072641Z_GMO_00000000015471_01': {'ClassPredicted': 'News and Politics', 'RS_CP': 0.5900381981418662}, 'FILE_MAF_20210825T010736Z_GMO_00000000324078_01': {'ClassPredicted': 'Family and Relationships', 'RS_CP': 0.652984816610457}, 'FILE_MAF_20210731T060326Z_GMO_00000000040739_01': {'ClassPredicted': 'News and Politics', 'RS_CP': 0.5982771950599273}, 'FILE_MAF_20210825T013302Z_GMO_00000000338183_01': {'ClassPredicted': 'Family and Relationships', 'RS_CP': 0.6333371824222525}, 'FILE_MAF_20220214T043211Z_GMO_00000000287895_01': {'ClassPredicted': 'News and Politics', 'RS_CP': 0.6091485911286881}, 'FILE_MAF_20210731T020638Z_GMO_00000000040762_01': {'ClassPredicted': 'News and Politics', 'RS_CP': 0.6029248150640184}, 'FILE_MAF_20211103T115529Z_GMO_00000000326367_01': {'ClassPredicted': 'Family and Relationships', 'RS_CP': 0.6145279102832112}, 'FILE_MAF_20210810T131055Z_GMO_00000000015470_01': {'ClassPredicted': 'Family and Relationships', 'RS_CP': 0.6023573974913025}, 'FILE_MAF_20220215T082050Z_GMO_00000000370434_01': {'ClassPredicted': 'News and Politics', 'RS_CP': 0.6055391811909406}, 'FILE_MAF_20210729T030527Z_GMO_00000000039099_01': {'ClassPredicted': 'News and Politics', 'RS_CP': 0.5790779774497307}, 'FILE_MAF_20210825T013306Z_GMO_00000000360252_01': {'ClassPredicted': 'Family and Relationships', 'RS_CP': 0.6264169109976149}, 'FILE_MAF_20220215T013014Z_GMO_00000000287891_01': {'ClassPredicted': 'Family and Relationships', 'RS_CP': 0.6237487793323416}, 'FILE_MAF_20210809T195832Z_GMO_00000000019745_01': {'ClassPredicted': 'News and Politics', 'RS_CP': 0.6118275009272637}, 'FILE_MAF_20210729T030534Z_GMO_00000000039104_01': {'ClassPredicted': 'Family and Relationships', 'RS_CP': 0.6078327406778876}}, 'Style & Fashion': {'FILE_MAF_20220215T012405Z_GMO_00000000293218_01': {'ClassPredicted': 'Fine Art', 'RS_CP': 0.6178935032278944}, 'FILE_MAF_20210825T013303Z_GMO_00000000293206_01': {'ClassPredicted': 'Fine Art', 'RS_CP': 0.6038395073911061}, 'FILE_MAF_20220214T234142Z_GMO_00000000293212_01': {'ClassPredicted': 'Fine Art', 'RS_CP': 0.6052471297256474}, 'FILE_MAF_20220215T013014Z_GMO_00000000312910_01': {'ClassPredicted': 'Fine Art', 'RS_CP': 0.622024036067661}, 'FILE_MAF_20220215T025352Z_GMO_00000000293217_01': {'ClassPredicted': 'Fine Art', 'RS_CP': 0.6136710055973672}, 'FILE_MAF_20220215T013018Z_GMO_00000000312922_01': {'ClassPredicted': 'Fine Art', 'RS_CP': 0.6059192129385838}, 'FILE_MAF_20220215T035309Z_GMO_00000000293215_01': {'ClassPredicted': 'Fine Art', 'RS_CP': 0.6111946772775583}, 'FILE_MAF_20220215T005855Z_GMO_00000000293216_01': {'ClassPredicted': 'Fine Art', 'RS_CP': 0.6020707061861482}, 'FILE_MAF_20220215T092412Z_GMO_00000000364158_01': {'ClassPredicted': 'Fine Art', 'RS_CP': 0.6201401159898684}, 'FILE_MAF_20220215T092413Z_GMO_00000000364160_01': {'ClassPredicted': 'Fine Art', 'RS_CP': 0.6129796918383632}, 'FILE_MAF_20220215T013219Z_GMO_00000000312912_01': {'ClassPredicted': 'Fine Art', 'RS_CP': 0.5915719921424965}, 'FILE_MAF_20220215T071837Z_GMO_00000000364166_01': {'ClassPredicted': 'Fine Art', 'RS_CP': 0.6304534235560925}, 'FILE_MAF_20220214T231527Z_GMO_00000000312919_01': {'ClassPredicted': 'Fine Art', 'RS_CP': 0.5900016193754574}, 'FILE_MAF_20210824T195751Z_GMO_00000000320273_01': {'ClassPredicted': 'Fine Art', 'RS_CP': 0.6224907991030714}, 'FILE_MAF_20210824T153449Z_GMO_00000000293211_01': {'ClassPredicted': 'Fine Art', 'RS_CP': 0.6036848419002603}, 'FILE_MAF_20220215T092523Z_GMO_00000000410890_01': {'ClassPredicted': 'Fine Art', 'RS_CP': 0.6166181306664106}, 'FILE_MAF_20220215T071532Z_GMO_00000000364163_01': {'ClassPredicted': 'Fine Art', 'RS_CP': 0.6182947350228882}, 'FILE_MAF_20220215T013225Z_GMO_00000000293209_01': {'ClassPredicted': 'Fine Art', 'RS_CP': 0.5951009476625341}, 'FILE_MAF_20220215T035928Z_GMO_00000000312917_01': {'ClassPredicted': 'Fine Art', 'RS_CP': 0.5904614171121962}, 'FILE_MAF_20210825T002730Z_GMO_00000000312918_01': {'ClassPredicted': 'Fine Art', 'RS_CP': 0.6035267916615301}}, 'Technology & Computing': {'FILE_MAF_20220213T011912Z_GMO_00000000022391_01': {'ClassPredicted': 'News and Politics', 'RS_CP': 0.6256226389446014}, 'FILE_MAF_20210809T184702Z_GMO_00000000171498_01': {'ClassPredicted': 'Family and Relationships', 'RS_CP': 0.6092464392139806}, 'FILE_MAF_20220213T184756Z_GMO_00000000047423_01': {'ClassPredicted': 'News and Politics', 'RS_CP': 0.6320345831560475}, 'FILE_MAF_20220213T185304Z_GMO_00000000047422_01': {'ClassPredicted': 'News and Politics', 'RS_CP': 0.6330581988813833}, 'FILE_MAF_20210806T020741Z_GMO_00000000049044_01': {'ClassPredicted': 'News and Politics', 'RS_CP': 0.6340913281642767}, 'FILE_MAF_20220213T185709Z_GMO_00000000047424_01': {'ClassPredicted': 'News and Politics', 'RS_CP': 0.6369116280480226}, 'FILE_MAF_20220213T185303Z_GMO_00000000047420_01': {'ClassPredicted': 'News and Politics', 'RS_CP': 0.6388990040770621}, 'FILE_MAF_20210809T200548Z_GMO_00000000171492_01': {'ClassPredicted': 'Family and Relationships', 'RS_CP': 0.6428170577868377}, 'FILE_MAF_20210806T042833Z_GMO_00000000049038_01': {'ClassPredicted': 'News and Politics', 'RS_CP': 0.6270795642597129}, 'FILE_MAF_20220213T031236Z_GMO_00000000022390_01': {'ClassPredicted': 'News and Politics', 'RS_CP': 0.6246417371020159}, 'FILE_MAF_20210809T184656Z_GMO_00000000171499_01': {'ClassPredicted': 'Family and Relationships', 'RS_CP': 0.6039910796268599}, 'FILE_MAF_20220213T184650Z_GMO_00000000047418_01': {'ClassPredicted': 'News and Politics', 'RS_CP': 0.6095836937404007}, 'FILE_MAF_20220213T031737Z_GMO_00000000022392_01': {'ClassPredicted': 'News and Politics', 'RS_CP': 0.639623015931781}, 'FILE_MAF_20220213T011911Z_GMO_00000000022389_01': {'ClassPredicted': 'News and Politics', 'RS_CP': 0.646713236359883}, 'FILE_MAF_20210806T001903Z_GMO_00000000049043_01': {'ClassPredicted': 'Family and Relationships', 'RS_CP': 0.6310535136198017}, 'FILE_MAF_20210806T020742Z_GMO_00000000296778_01': {'ClassPredicted': 'News and Politics', 'RS_CP': 0.6122674614708802}, 'FILE_MAF_20210809T221817Z_GMO_00000000171493_01': {'ClassPredicted': 'News and Politics', 'RS_CP': 0.6180266536477976}, 'FILE_MAF_20220213T071459Z_GMO_00000000022396_01': {'ClassPredicted': 'News and Politics', 'RS_CP': 0.6148963586384849}, 'FILE_MAF_20220213T185202Z_GMO_00000000047427_01': {'ClassPredicted': 'News and Politics', 'RS_CP': 0.6250469270428946}, 'FILE_MAF_20220213T005945Z_GMO_00000000012039_01': {'ClassPredicted': 'News and Politics', 'RS_CP': 0.6444825057335405}}, 'Television': {'FILE_MAF_20210727T231034Z_GMO_00000000001600_01': {'ClassPredicted': 'Family and Relationships', 'RS_CP': 0.6089077528686294}, 'FILE_MAF_20210730T044004Z_GMO_00000000040639_01': {'ClassPredicted': 'News and Politics', 'RS_CP': 0.6129007229215108}, 'FILE_MAF_20210727T231033Z_GMO_00000000001596_01': {'ClassPredicted': 'Family and Relationships', 'RS_CP': 0.6117270173966859}, 'FILE_MAF_20210728T184114Z_GMO_00000000007266_01': {'ClassPredicted': 'Family and Relationships', 'RS_CP': 0.5914502960410885}, 'FILE_MAF_20210727T231240Z_GMO_00000000001631_01': {'ClassPredicted': 'Family and Relationships', 'RS_CP': 0.5965840835942414}, 'FILE_MAF_20210729T043217Z_GMO_00000000040629_01': {'ClassPredicted': 'Family and Relationships', 'RS_CP': 0.5634158154625056}, 'FILE_MAF_20210729T024311Z_GMO_00000000040665_01': {'ClassPredicted': 'Family and Relationships', 'RS_CP': 0.6286697630876035}, 'FILE_MAF_20210729T030645Z_GMO_00000000040646_01': {'ClassPredicted': 'Family and Relationships', 'RS_CP': 0.6038858865318184}, 'FILE_MAF_20210729T004341Z_GMO_00000000028385_01': {'ClassPredicted': 'News and Politics', 'RS_CP': 0.6013959557226981}, 'FILE_MAF_20210729T033955Z_GMO_00000000040667_01': {'ClassPredicted': 'Family and Relationships', 'RS_CP': 0.6333832833056112}, 'FILE_MAF_20210729T043320Z_GMO_00000000040619_01': {'ClassPredicted': 'Family and Relationships', 'RS_CP': 0.6181998715201972}, 'FILE_MAF_20210729T004129Z_GMO_00000000028368_01': {'ClassPredicted': 'News and Politics', 'RS_CP': 0.6104613777916501}, 'FILE_MAF_20210729T040359Z_GMO_00000000028384_01': {'ClassPredicted': 'News and Politics', 'RS_CP': 0.6006463327323756}, 'FILE_MAF_20210729T025615Z_GMO_00000000040663_01': {'ClassPredicted': 'News and Politics', 'RS_CP': 0.6326962907773845}, 'FILE_MAF_20210730T040956Z_GMO_00000000001634_01': {'ClassPredicted': 'Family and Relationships', 'RS_CP': 0.6479342501464455}, 'FILE_MAF_20210727T231245Z_GMO_00000000001653_01': {'ClassPredicted': 'Family and Relationships', 'RS_CP': 0.5940777618473017}, 'FILE_MAF_20210729T035057Z_GMO_00000000040631_01': {'ClassPredicted': 'News and Politics', 'RS_CP': 0.5982550379957138}, 'FILE_MAF_20210729T043427Z_GMO_00000000040614_01': {'ClassPredicted': 'News and Politics', 'RS_CP': 0.5991166049750356}, 'FILE_MAF_20210729T024008Z_GMO_00000000040660_01': {'ClassPredicted': 'News and Politics', 'RS_CP': 0.6060046312201404}, 'FILE_MAF_20210727T231238Z_GMO_00000000001594_01': {'ClassPredicted': 'Family and Relationships', 'RS_CP': 0.6201100841307002}}, 'Travel': {'FILE_MAF_20220213T185059Z_GMO_00000000044111_01': {'ClassPredicted': 'News and Politics', 'RS_CP': 0.5948498636796565}, 'FILE_MAF_20220215T035715Z_GMO_00000000320875_01': {'ClassPredicted': 'Food & Drink', 'RS_CP': 0.5859471565940771}, 'FILE_MAF_20210824T150833Z_GMO_00000000033323_01': {'ClassPredicted': 'Family and Relationships', 'RS_CP': 0.6296765726523375}, 'FILE_MAF_20220213T090940Z_GMO_00000000032052_01': {'ClassPredicted': 'Family and Relationships', 'RS_CP': 0.5949174129664226}, 'FILE_MAF_20220215T071423Z_GMO_00000000353679_01': {'ClassPredicted': 'Family and Relationships', 'RS_CP': 0.5906607735287005}, 'FILE_MAF_20220215T035307Z_GMO_00000000325452_01': {'ClassPredicted': 'Food & Drink', 'RS_CP': 0.5867231524259281}, 'FILE_MAF_20220213T184655Z_GMO_00000000047492_01': {'ClassPredicted': 'Family and Relationships', 'RS_CP': 0.5766471999375077}, 'FILE_MAF_20220213T215210Z_GMO_00000000115135_01': {'ClassPredicted': 'Fine Art', 'RS_CP': 0.5892585233183022}, 'FILE_MAF_20220212T161334Z_GMO_00000000002504_01': {'ClassPredicted': 'Family and Relationships', 'RS_CP': 0.6089056269094838}, 'FILE_MAF_20220214T042454Z_GMO_00000000150172_01': {'ClassPredicted': 'Food & Drink', 'RS_CP': 0.613883094363387}, 'FILE_MAF_20220215T092308Z_GMO_00000000362620_01': {'ClassPredicted': 'Family and Relationships', 'RS_CP': 0.6043929311377442}, 'FILE_MAF_20210812T204402Z_GMO_00000000351581_01': {'ClassPredicted': 'Family and Relationships', 'RS_CP': 0.5838007809655256}, 'FILE_MAF_20220215T013012Z_GMO_00000000279146_01': {'ClassPredicted': 'Family and Relationships', 'RS_CP': 0.6092775339576725}, 'FILE_MAF_20220215T012707Z_GMO_00000000288641_01': {'ClassPredicted': 'Family and Relationships', 'RS_CP': 0.5905935148089693}, 'FILE_MAF_20220213T093757Z_GMO_00000000031571_01': {'ClassPredicted': 'Food & Drink', 'RS_CP': 0.5968808395890365}, 'FILE_MAF_20220214T043107Z_GMO_00000000177644_01': {'ClassPredicted': 'Family and Relationships', 'RS_CP': 0.5953214385341205}, 'FILE_MAF_20220510T222032Z_GMO_00000000393597_01': {'ClassPredicted': 'Food & Drink', 'RS_CP': 0.593747403515681}, 'FILE_MAF_20220215T035514Z_GMO_00000000320574_01': {'ClassPredicted': 'Family and Relationships', 'RS_CP': 0.5829353971423973}, 'FILE_MAF_20210824T142523Z_GMO_00000000027747_01': {'ClassPredicted': 'News and Politics', 'RS_CP': 0.6078366177671751}, 'FILE_MAF_20220212T160932Z_GMO_00000000002487_01': {'ClassPredicted': 'Food & Drink', 'RS_CP': 0.582606943625584}}}\n"
     ]
    }
   ],
   "source": [
    "print(Prediction(Relevance_dict))"
   ]
  },
  {
   "cell_type": "code",
   "execution_count": 19,
   "metadata": {},
   "outputs": [],
   "source": [
    "#Def Predicted Class and RS of Class\n",
    "def Prediction(dict):\n",
    "    d={}\n",
    "    for k,v in tqdm(dict.items()): #for each label\n",
    "        if len(dict[k]) == 0:\n",
    "            continue\n",
    "        d1={}\n",
    "        for i in range(len(dict[k])): #for each file in label\n",
    "            combinedsegments=segmentcombiner(dict[k][i])\n",
    "            key=list(combinedsegments.keys())[0]\n",
    "            order=[]\n",
    "            for kk in combinedsegments[key].keys():\n",
    "                l=combinedsegments[key][kk]\n",
    "                order.append(l)\n",
    "            max_val=max(order)\n",
    "            max_index=order.index(max_val)\n",
    "            ClassPredicted=get_key(max_index)\n",
    "            RS_CP=combinedsegments[key][max_index]\n",
    "            d2={'ClassPredicted': ClassPredicted, 'RS_CP': RS_CP }\n",
    "            d1[key]=d2\n",
    "        d[k]=d1\n",
    "\n",
    "    return d\n",
    "\n",
    "            # \n",
    "            # scoreforfiles.append(float(combinedsegments[key][x]0))\n",
    "\n",
    "            # order=[]\n",
    "            # for key in MaxAggregation.keys():\n",
    "            #     l=MaxAggregation[key]\n",
    "            #     summ=[]\n",
    "            #     for val in l:\n",
    "            #         summ.append(val[0])\n",
    "            #     order.append(sum(summ))\n",
    "            \n",
    "            \n",
    "            # max_val=max(order)\n",
    "            # max_index=order.index(max_val)\n",
    "            # ClassPredicted=get_key(max_index)\n",
    "\n",
    "            # RSlistss=MaxAggregation[max_index]\n",
    "            # scoress=[]\n",
    "            # for s in RSlistss:\n",
    "            #     scoress.append(s[0])\n",
    "\n",
    "            # RS_CP=sum(scoress)/len(scoress)\n",
    "    "
   ]
  },
  {
   "cell_type": "code",
   "execution_count": 24,
   "metadata": {},
   "outputs": [
    {
     "data": {
      "application/vnd.jupyter.widget-view+json": {
       "model_id": "ef9671caf0e442bfbfb58564033b2918",
       "version_major": 2,
       "version_minor": 0
      },
      "text/plain": [
       "  0%|          | 0/29 [00:00<?, ?it/s]"
      ]
     },
     "metadata": {},
     "output_type": "display_data"
    },
    {
     "name": "stdout",
     "output_type": "stream",
     "text": [
      "({'Automotive': 0.0, 'Books and Literature': 0.0, 'Business and Finance': 0.0, 'Education': 0.0, 'Events and Attractions': 0.0, 'Family and Relationships': 0.0, 'Food & Drink': 0.0, 'Hobbies & Interests': 100.0, 'Medical Health': 20.0, 'Music and Audio': 15.0, 'Pets': 0.0, 'Real Estate': 0.0, 'Religion & Spirituality': 0.0, 'Science': 0.0, 'Shopping': 0.0, 'Sports': 0.0, 'Style & Fashion': 35.0, 'Technology & Computing': 5.0, 'Television': 0.0, 'Travel': 0.0}, 8.75)\n"
     ]
    }
   ],
   "source": [
    "print(mAP(Relevance_dict))"
   ]
  },
  {
   "cell_type": "code",
   "execution_count": 20,
   "metadata": {},
   "outputs": [],
   "source": [
    "#Def mAP\n",
    "def mAP(dic):\n",
    "    res=Prediction(dic)\n",
    "    d={}\n",
    "    mAP=[]\n",
    "    for k,v in res.items():\n",
    "        classes=[]\n",
    "        truth=[]\n",
    "\n",
    "        for kk,vv in res[k].items():\n",
    "            ClassPred=res[k][kk]['ClassPredicted']\n",
    "            if ClassPred==k:\n",
    "                classes.append(ClassPred)\n",
    "            truth.append(k)\n",
    "        precision=(len(classes)/len(truth))*100\n",
    "        mAP.append(precision)\n",
    "        d[k]=precision\n",
    "    mAPfinal=sum(mAP)/len(mAP)\n",
    "    return(d,mAPfinal)\n",
    "    \n",
    "\n"
   ]
  }
 ],
 "metadata": {
  "kernelspec": {
   "display_name": "Python 3.9.12 ('base')",
   "language": "python",
   "name": "python3"
  },
  "language_info": {
   "codemirror_mode": {
    "name": "ipython",
    "version": 3
   },
   "file_extension": ".py",
   "mimetype": "text/x-python",
   "name": "python",
   "nbconvert_exporter": "python",
   "pygments_lexer": "ipython3",
   "version": "3.10.4"
  },
  "orig_nbformat": 4,
  "vscode": {
   "interpreter": {
    "hash": "4f8fa3e926face00369008f823e0a800506eaa9d6c726ba0fbe6c8d0f6896eaa"
   }
  }
 },
 "nbformat": 4,
 "nbformat_minor": 2
}
