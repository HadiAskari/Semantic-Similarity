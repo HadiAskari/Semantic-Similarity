{
 "cells": [
  {
   "cell_type": "code",
   "execution_count": null,
   "metadata": {},
   "outputs": [],
   "source": [
    "import pickle \n",
    "import pandas as pd\n",
    "import spacy\n",
    "from tqdm.auto import tqdm\n",
    "from sklearn.metrics.pairwise import cosine_similarity\n",
    "from tqdm.notebook import tqdm\n",
    "tqdm.pandas()\n",
    "import re\n",
    "import transformers\n",
    "from sentence_transformers import SentenceTransformer, util\n",
    "import nltk\n",
    "from nltk import tokenize\n",
    "import pickle\n",
    "import urllib.request as requests\n",
    "import json\n",
    "import statistics\n",
    "import torch\n",
    "from collections import defaultdict\n",
    "import copy\n",
    "import math"
   ]
  },
  {
   "cell_type": "code",
   "execution_count": null,
   "metadata": {},
   "outputs": [],
   "source": [
    "\n",
    "model = SentenceTransformer('all-mpnet-base-v2')\n",
    "\n",
    "df=pd.read_csv('gmo_to_uniqueId.csv')\n",
    "materialID=df['lastRunJob'].to_list()\n",
    "\n",
    "# with open('PreProcessed_segmented.pkl', 'rb') as f:\n",
    "#     newmetalist=pickle.load(f)\n",
    "\n",
    "with open('New_PreProcessed_segmented.pkl', 'rb') as f:\n",
    "    newnewmetalist=pickle.load(f)\n",
    "\n",
    "sampled_datadf=pd.read_csv(\"Sampled_Adword_Labeled.csv\")\n",
    "\n",
    "#For Normal process with target labels only\n",
    "\n",
    "df1=pd.read_csv('AllTiersAdword.csv')\n",
    "target_dict=dict(zip(df1['Name'], df1.index))"
   ]
  },
  {
   "cell_type": "code",
   "execution_count": null,
   "metadata": {},
   "outputs": [],
   "source": [
    "def clean(text):\n",
    "    text=text.lower()\n",
    "    text=text.replace(\"(\", \"\")\n",
    "    text=text.replace(\")\", \"\")\n",
    "    text=text.replace(\";\", \"\")\n",
    "    text=text.replace(\",\", \"\")\n",
    "    text=text.replace(\"+\", \"\")\n",
    "    text=text.replace(\".\", \"\")\n",
    "    text=text.replace(\"&\", \"\")\n",
    "    return text"
   ]
  },
  {
   "cell_type": "code",
   "execution_count": null,
   "metadata": {},
   "outputs": [],
   "source": [
    "df1.head()"
   ]
  },
  {
   "cell_type": "code",
   "execution_count": null,
   "metadata": {},
   "outputs": [],
   "source": [
    "targetlist=df1['Name'].to_list()\n",
    "\n"
   ]
  },
  {
   "cell_type": "code",
   "execution_count": null,
   "metadata": {},
   "outputs": [],
   "source": [
    "truthdatadf=pd.read_csv('AdwordLabeledDatabase.csv')\n"
   ]
  },
  {
   "cell_type": "code",
   "execution_count": null,
   "metadata": {},
   "outputs": [],
   "source": [
    "def getadword(episode, truthdatadf):\n",
    "    for i in range(len(truthdatadf.lastRunJob)):\n",
    "        if episode == truthdatadf.lastRunJob[i]:\n",
    "            return truthdatadf.adword[i]"
   ]
  },
  {
   "cell_type": "code",
   "execution_count": null,
   "metadata": {},
   "outputs": [],
   "source": [
    "# temp=targetlistcalc[27]\n",
    "# temp=temp.replace('*News business use case needs to be scoped by NBCU - priority TBD', '')\n",
    "# targetlistcalc[27]=temp"
   ]
  },
  {
   "cell_type": "code",
   "execution_count": null,
   "metadata": {},
   "outputs": [],
   "source": [
    "listofepisodes=sampled_datadf['lastRunJob'].to_list()"
   ]
  },
  {
   "cell_type": "code",
   "execution_count": null,
   "metadata": {},
   "outputs": [],
   "source": [
    "#listofepisodes=['FILE_MAF_20220211T205601Z_GMO_00000000001313_01', 'FILE_MAF_20220211T205607Z_GMO_00000000001534_01', 'FILE_MAF_20210727T231031Z_GMO_00000000001577_01' ]"
   ]
  },
  {
   "cell_type": "code",
   "execution_count": null,
   "metadata": {},
   "outputs": [],
   "source": [
    "def keydict(dataframe, targetlist):\n",
    "    d=defaultdict(list)\n",
    "    for target in targetlist:\n",
    "        try:\n",
    "\n",
    "            minidf=dataframe.loc[dataframe['adword']==target]\n",
    "            minilist=minidf['lastRunJob'].to_list()\n",
    "            d[target]=minilist\n",
    "        except:\n",
    "            continue\n",
    "    \n",
    "    return d\n",
    "\n"
   ]
  },
  {
   "cell_type": "code",
   "execution_count": null,
   "metadata": {},
   "outputs": [],
   "source": [
    "targetkey_filelist=keydict(sampled_datadf, targetlist)\n"
   ]
  },
  {
   "cell_type": "code",
   "execution_count": null,
   "metadata": {},
   "outputs": [],
   "source": [
    "# #NRS bulk with top 1 save to file regular\n",
    "# dict_to_save=defaultdict(list)\n",
    "# for target in tqdm(targetlist):\n",
    "#     scores=[]\n",
    "#     for ep in tqdm(listofepisodes):\n",
    "#         index=materialID.index(ep)\n",
    "#         groundtruth=getadword(ep,truthdatadf)\n",
    "#         # if groundtruth in target_dict:\n",
    "#         #         x=target_dict[groundtruth]\n",
    "#         x=target_dict[target]\n",
    "#         #print(groundtruth)\n",
    "#         print(x)\n",
    "#         segmentscore=[]\n",
    "#         for i in range(len(newmetalist[index])):\n",
    "#             if len(newmetalist[index][i])==0:\n",
    "#                 continue\n",
    "#             emb1=model.encode(newmetalist[index][i]) #, convert_to_tensor=True)\n",
    "#             emb2=model.encode(targetlist) #, convert_to_tensor=True)\n",
    "#             cos_sim=util.cos_sim(emb1,emb2)\n",
    "\n",
    "#             #For OG Class\n",
    "#             MaxAggregation = {}\n",
    "#             for i in range(cos_sim.shape[1]):\n",
    "#                 all_sentence_combinations=[]\n",
    "#                 for j in range(cos_sim.shape[0]):\n",
    "#                     all_sentence_combinations.append([cos_sim[j][i], j, i])\n",
    "#                 all_sentence_combinations = sorted(all_sentence_combinations, key=lambda x: x[0], reverse=True)\n",
    "#                 MaxAggregation[i]=all_sentence_combinations[0]\n",
    "                \n",
    "\n",
    "#             segmentscore.append(MaxAggregation[x][0])\n",
    "\n",
    "            \n",
    "                    \n",
    "#         avg=(sum(segmentscore)/len(segmentscore))\n",
    "#         scores.append(avg)\n",
    "        \n",
    "#     print(scores)\n",
    "#     dict_to_save[target]=scores"
   ]
  },
  {
   "cell_type": "code",
   "execution_count": null,
   "metadata": {},
   "outputs": [],
   "source": [
    "# with open('NRS_top1_regular.pkl', 'wb') as f:\n",
    "#     pickle.dump(dict_to_save, f)\n"
   ]
  },
  {
   "cell_type": "code",
   "execution_count": null,
   "metadata": {},
   "outputs": [],
   "source": [
    "# with open('NRS_top1_regular.pkl', 'rb') as f:\n",
    "#     NRS_dict=pickle.load(f)\n"
   ]
  },
  {
   "cell_type": "code",
   "execution_count": null,
   "metadata": {},
   "outputs": [],
   "source": [
    "def get_key(val):\n",
    "    for key, value in target_dict.items():\n",
    "         if val == value:\n",
    "             return key\n",
    " \n",
    "    return \"key doesn't exist\""
   ]
  },
  {
   "cell_type": "code",
   "execution_count": null,
   "metadata": {},
   "outputs": [],
   "source": [
    "dad=[]\n",
    "for i in range(len(newnewmetalist)):\n",
    "    mom=[]\n",
    "    for j in range(len(newnewmetalist[i])):\n",
    "        if len(newnewmetalist[i][j])==0:\n",
    "            continue\n",
    "        mom.append(newnewmetalist[i][j])\n",
    "    dad.append(mom)"
   ]
  },
  {
   "cell_type": "code",
   "execution_count": null,
   "metadata": {},
   "outputs": [],
   "source": [
    "print(targetkey_filelist)"
   ]
  },
  {
   "cell_type": "code",
   "execution_count": null,
   "metadata": {},
   "outputs": [],
   "source": [
    "#Relevance calculation per episode top1\n",
    "dictofrelevance=copy.deepcopy(targetkey_filelist)\n",
    "for key, value in tqdm(targetkey_filelist.items()): #for each IAB Label\n",
    "    if len(targetkey_filelist[key])==0:\n",
    "        continue\n",
    "    for i in tqdm(range(len(targetkey_filelist[key]))): #for each File\n",
    "        index=materialID.index(targetkey_filelist[key][i])\n",
    "        x=target_dict[key] #Index of the target label\n",
    "        MaxAggregation=defaultdict(list)\n",
    "\n",
    "        for l in range(len(dad[index])): #For each Segment\n",
    "            # print(len(newmetalist[index]))\n",
    "            if len(dad[index][l])==0: \n",
    "                continue\n",
    "            emb1=model.encode(dad[index][l]) #, convert_to_tensor=True)\n",
    "            emb2=model.encode(targetlist) #, convert_to_tensor=True)\n",
    "            cos_sim=util.cos_sim(emb1,emb2)\n",
    "\n",
    "        #Add all pairs to a list with their cosine similarity score\n",
    "        \n",
    "            for k in range(cos_sim.shape[1]):\n",
    "                all_sentence_combinations=[]\n",
    "                for j in range(cos_sim.shape[0]):\n",
    "                    all_sentence_combinations.append([cos_sim[j][k], j, k])\n",
    "                all_sentence_combinations = sorted(all_sentence_combinations, key=lambda x: x[0], reverse=True)\n",
    "                MaxAggregation[k].append(all_sentence_combinations[0])\n",
    "    \n",
    "     \n",
    "        dictofrelevance[key][i]={dictofrelevance[key][i]:MaxAggregation}\n",
    "     \n",
    "\n",
    "with open('Relevance_Top1_Tiers.pkl', 'wb') as f:\n",
    "    pickle.dump(dictofrelevance, f)   \n",
    " \n",
    "        #RS and NRS for OG Class\n",
    "\n",
    "        # RSlist=MaxAggregation[x]\n",
    "        # score=[]\n",
    "        # for s in RSlist:\n",
    "        #     score.append(s[0])\n",
    "\n",
    "        # rs=sum(score)/len(score)\n",
    "\n",
    "        # NRSlist=NRS_dict[key]\n",
    "        # nrsdenom=sum(NRSlist)-rs/len(NRSlist)\n",
    "\n",
    "        # NRS=rs/nrsdenom\n",
    "\n",
    "        \n",
    "        # #RS and ClassPredicted for Predicted Class\n",
    "\n",
    "        # order=[]\n",
    "        # for key in MaxAggregation.keys():\n",
    "        #     l=MaxAggregation[key]\n",
    "        #     summ=[]\n",
    "        #     for val in l:\n",
    "        #         summ.append(val[0])\n",
    "        #     order.append(sum(summ))\n",
    "        \n",
    "        \n",
    "        # max_val=max(order)\n",
    "        # max_index=order.index(max_val)\n",
    "        # ClassPredicted=get_key(max_index)\n",
    "\n",
    "        # RSlistss=MaxAggregation[max_index]\n",
    "        # scoress=[]\n",
    "        # for s in RSlistss:\n",
    "        #     scoress.append(s[0])\n",
    "\n",
    "        # RS_CP=sum(scoress)/len(scoress)\n",
    "\n",
    "        # d={targetkey_filelist[key][i]:{'NRS': NRS, \"Class_Predicted\": ClassPredicted, \"RS_CP\": RS_CP, \"RS_OG\": rs }}\n",
    "\n",
    "        \n",
    "\n",
    "\n",
    "        \n",
    "\n",
    "\n",
    "        \n",
    "\n",
    "    "
   ]
  },
  {
   "cell_type": "code",
   "execution_count": null,
   "metadata": {},
   "outputs": [],
   "source": []
  },
  {
   "cell_type": "code",
   "execution_count": null,
   "metadata": {},
   "outputs": [],
   "source": [
    "#Relevance calculation per episode top3\n",
    "dictofrelevance=copy.deepcopy(targetkey_filelist)\n",
    "for key, value in tqdm(targetkey_filelist.items()): #for each IAB Label\n",
    "    if len(targetkey_filelist[key])==0:\n",
    "        continue\n",
    "    for i in tqdm(range(len(targetkey_filelist[key]))): #for each File\n",
    "        index=materialID.index(targetkey_filelist[key][i])\n",
    "        x=target_dict[key] #Index of the target label\n",
    "        MaxAggregation=defaultdict(list)\n",
    "\n",
    "        for l in range(len(newmetalist[index])): #For each Segment\n",
    "            # print(len(newmetalist[index]))\n",
    "            if len(newmetalist[index][l])==0: \n",
    "                continue\n",
    "            emb1=model.encode(newmetalist[index][l]) #, convert_to_tensor=True)\n",
    "            emb2=model.encode(targetlist) #, convert_to_tensor=True)\n",
    "            cos_sim=util.cos_sim(emb1,emb2)\n",
    "\n",
    "        #Add all pairs to a list with their cosine similarity score\n",
    "        \n",
    "            for k in range(cos_sim.shape[1]):\n",
    "                all_sentence_combinations=[]\n",
    "                for j in range(cos_sim.shape[0]):\n",
    "                    all_sentence_combinations.append([cos_sim[j][k], j, k])\n",
    "                all_sentence_combinations = sorted(all_sentence_combinations, key=lambda x: x[0], reverse=True)\n",
    "                templist=all_sentence_combinations[0:3]\n",
    "                temp=[]\n",
    "                sent=[]\n",
    "                for item in templist:\n",
    "                    temp.append(item[0])\n",
    "                    sent.append(list([item[1],item[2]]))\n",
    "                avg=(sum(temp)/len(temp))\n",
    "                comb=list([avg, sent])\n",
    "                MaxAggregation[k].append(comb)\n",
    "            \n",
    "            # print(MaxAggregation)\n",
    "            \n",
    "    \n",
    "        # print(MaxAggregation)\n",
    "        # print(dictofrelevance[key][i])\n",
    "        dictofrelevance[key][i]={dictofrelevance[key][i]:MaxAggregation}\n",
    "        # print(dictofrelevance[key][i])\n",
    "\n",
    "with open('Relevance_AdditionalSignal_top3_regular.pkl', 'wb') as f:\n",
    "    pickle.dump(dictofrelevance, f)  "
   ]
  },
  {
   "cell_type": "code",
   "execution_count": null,
   "metadata": {},
   "outputs": [],
   "source": [
    "#Relevance calculation per episode Harmonic\n",
    "dictofrelevance=copy.deepcopy(targetkey_filelist)\n",
    "for key, value in tqdm(targetkey_filelist.items()): #for each IAB Label\n",
    "    if len(targetkey_filelist[key])==0:\n",
    "        continue\n",
    "    for i in tqdm(range(len(targetkey_filelist[key]))): #for each File\n",
    "        index=materialID.index(targetkey_filelist[key][i])\n",
    "        x=target_dict[key] #Index of the target label\n",
    "        MaxAggregation=defaultdict(list)\n",
    "\n",
    "        for l in range(len(newmetalist[index])): #For each Segment\n",
    "            # print(len(newmetalist[index]))\n",
    "            if len(newmetalist[index][l])==0: \n",
    "                continue\n",
    "            emb1=model.encode(newmetalist[index][l]) #, convert_to_tensor=True)\n",
    "            emb2=model.encode(targetlist) #, convert_to_tensor=True)\n",
    "            cos_sim=util.cos_sim(emb1,emb2)\n",
    "\n",
    "        #Add all pairs to a list with their cosine similarity score\n",
    "        \n",
    "            for k in range(cos_sim.shape[1]):\n",
    "                all_sentence_combinations=[]\n",
    "                for j in range(cos_sim.shape[0]):\n",
    "                    all_sentence_combinations.append([cos_sim[j][k], j, k])\n",
    "                all_sentence_combinations = sorted(all_sentence_combinations, key=lambda x: x[0], reverse=True)\n",
    "                all_sentence_combinations = [ele for ele in all_sentence_combinations if ele[0] > 0]\n",
    "                templist=all_sentence_combinations\n",
    "                temp=[]\n",
    "                sent=[]\n",
    "                for item in templist:\n",
    "                    temp.append(float(item[0]))\n",
    "                try:\n",
    "                    sent.append([templist[0][1],templist[0][2],templist[0][0]])\n",
    "                    avg=statistics.harmonic_mean(temp)\n",
    "                    comb=list([avg, sent])\n",
    "                    MaxAggregation[k].append(comb)\n",
    "                except:\n",
    "                    sent.append(['-'])\n",
    "                    avg=0\n",
    "                    comb=list([avg, sent])\n",
    "                    MaxAggregation[k].append(comb)\n",
    "\n",
    "\n",
    "\n",
    "            \n",
    "            # print(MaxAggregation)\n",
    "            \n",
    "    \n",
    "        # print(MaxAggregation)\n",
    "        # print(dictofrelevance[key][i])\n",
    "        dictofrelevance[key][i]={dictofrelevance[key][i]:MaxAggregation}\n",
    "        # print(dictofrelevance[key][i])\n",
    "\n",
    "with open('Relevance_Harmonic_regular.pkl', 'wb') as f:\n",
    "    pickle.dump(dictofrelevance, f)  "
   ]
  },
  {
   "cell_type": "code",
   "execution_count": null,
   "metadata": {},
   "outputs": [],
   "source": [
    "with open('Relevance_Top1_Tiers.pkl', 'rb') as f:\n",
    "     Relevance_dict=pickle.load(f)"
   ]
  },
  {
   "cell_type": "markdown",
   "metadata": {},
   "source": []
  },
  {
   "cell_type": "code",
   "execution_count": 28,
   "metadata": {},
   "outputs": [
    {
     "data": {
      "text/plain": [
       "[]"
      ]
     },
     "execution_count": 28,
     "metadata": {},
     "output_type": "execute_result"
    }
   ],
   "source": [
    "Relevance_dict['Sports'][0]['FILE_MAF_20210731T020535Z_GMO_00000000040741_01'][200]"
   ]
  },
  {
   "cell_type": "code",
   "execution_count": 19,
   "metadata": {},
   "outputs": [
    {
     "name": "stdout",
     "output_type": "stream",
     "text": [
      "{'Automotive': 0, 'Books and Literature': 1, 'Business and Finance': 2, 'Education': 3, 'Events and Attractions': 4, 'Family and Relationships': 5, 'Fine Art': 6, 'Food & Drink': 7, 'Healthy Living': 8, 'Hobbies & Interests': 9, 'Home & Garden': 10, 'Medical Health': 11, 'Movies': 12, 'Music and Audio': 13, 'Pets': 14, 'Pop Culture': 15, 'Real Estate': 16, 'Religion & Spirituality': 17, 'Science': 18, 'Shopping': 19, 'Sports': 20, 'Style & Fashion': 21, 'Technology & Computing': 22, 'Television': 23, 'Travel': 24, 'Video Gaming': 25, 'Auto Body Styles': 26, 'Motorcycles': 27, 'Road-Side Assistance': 28, 'Auto Parts': 29, 'Auto Repair': 30, 'Auto Shows': 31, 'Auto Rentals': 32, 'College Education': 33, 'Primary Education': 34, 'Fashion Events': 35, 'Malls & Shopping Centers': 36, 'Museums & Galleries': 37, 'Outdoor Activities': 38, 'Parks & Nature': 39, 'Awards Shows': 40, 'Personal Celebrations & Life Events': 41, 'Religious Events': 42, 'Theater Venues and Events': 43, 'Zoos & Aquariums': 44, 'Bars & Restaurants': 45, 'Casinos & Gambling': 46, 'Cinemas and Events': 47, 'Comedy Events': 48, 'Concerts & Music Events': 49, 'Dating': 50, 'Parenting': 51, 'Single Life': 52, 'Alcoholic Beverages': 53, 'World Cuisines': 54, 'Barbecues and Grilling': 55, 'Cooking': 56, 'Desserts and Baking': 57, 'Dining Out': 58, 'Non-Alcoholic Beverages': 59, 'Fitness and Exercise': 60, 'Wellness': 61, 'Musical Instruments': 62, 'Games and Puzzles': 63, 'Gardening': 64, 'Remodeling & Construction': 65, 'Smart Home': 66, 'Home Appliances': 67, 'Home Entertaining': 68, 'Home Improvement': 69, 'Home Security': 70, 'Landscaping': 71, 'Birds': 72, 'Cats': 73, 'Dogs': 74, 'Large Animals': 75, 'Reptiles': 76, 'Apartments': 77, 'Retail Property': 78, 'Hotel Properties': 79, 'Houses': 80, 'Land and Farms': 81, 'Office Property': 82, 'Space and Astronomy': 83, 'Flower Shopping': 84, 'Grocery Shopping': 85, 'Holiday Shopping': 86, 'Household Supplies': 87, \"Children's Games and Toys\": 88, 'Beauty': 89, 'Consumer Electronics': 90, 'Travel Accessories': 91, 'Travel Locations': 92, 'Commercial Trucks': 93, 'Sedan': 94, 'Station Wagon': 95, 'SUV': 96, 'Van': 97, 'Convertible': 98, 'Coupe': 99, 'Minivan': 100, 'Pickup Trucks': 101, 'Green Vehicles': 102, 'Luxury Cars': 103, 'Education industry': 104, 'Entertainment Industry': 105, 'Financial Industry': 106, 'Food Industry': 107, 'Healthcare Industry': 108, 'Hospitality Industry': 109, 'Logistics and Transportation Industry': 110, 'Media Industry': 111, 'Apparel Industry': 112, 'Retail Industry': 113, 'Technology Industry': 114, 'Telecommunications Industry': 115, 'Automotive Industry': 116, 'Aviation Industry': 117, 'Wedding': 118, 'Birthday': 119, 'Graduation': 120, 'Prom': 121, 'Daycare and Pre-School': 122, 'Board Games and Puzzles': 123, 'Card Games': 124, 'Hair Care': 125, 'Makeup and Accessories': 126, 'Nail Care': 127, 'Perfume and Fragrance': 128, \"Women's Clothing\": 129, \"Women's Shoes and Footwear\": 130, \"Men's Clothing\": 131, 'Bath and Shower': 132, 'Deodorant and Antiperspirant': 133, 'Oral care': 134, 'Shaving': 135, 'Desktops': 136, 'Laptops': 137, 'Cameras and Camcorders': 138, 'Smartphones': 139, 'Tablets and E-readers': 140, 'Africa Travel': 141, 'Asia Travel': 142, 'Australia and Oceania Travel': 143, 'Europe Travel': 144, 'North America Travel': 145, 'Polar Travel': 146, 'South America Travel': 147, 'Hotels and Motels': 148, 'Rail Travel': 149, 'Air Travel': 150, 'Beach Travel': 151, 'Camping': 152, 'Cruises': 153, 'Individual Brands': 154, \"Women's Handbags and Wallets\": 155, \"Women's Jewelry and Watches\": 156, \"Women's Formal Wear\": 157, \"Men's Casual Wear\": 158, \"Men's Formal Wear\": 159}\n"
     ]
    }
   ],
   "source": [
    "print(target_dict)"
   ]
  },
  {
   "cell_type": "code",
   "execution_count": 36,
   "metadata": {},
   "outputs": [],
   "source": [
    "def topksentences(dict):\n",
    "    d=defaultdict(list)\n",
    "    adwords=[]\n",
    "    texts=[]\n",
    "    scores=[]\n",
    "    for adword in tqdm(target_dict.keys()):\n",
    "        scoreforfiles=[]\n",
    "        for k,v in tqdm(dict.items()):#for each label\n",
    "            if len(dict[k]) == 0:\n",
    "                continue\n",
    "            # scoreforfiles=[]\n",
    "    \n",
    "            for i in range(len(dict[k])): #for each file in label\n",
    "                x=target_dict[adword]\n",
    "                seg_rel=copy.deepcopy(dict[k][i])\n",
    "                filename=list(seg_rel.keys())[0]\n",
    "                defdict=seg_rel[filename]\n",
    "                segments=defdict[x]\n",
    "\n",
    "\n",
    "\n",
    "                for count,seg in enumerate(segments):\n",
    "                    seg.append(filename)\n",
    "                    seg.append(count)                \n",
    "                    scoreforfiles.append(seg)\n",
    "        sort=sorted(scoreforfiles, key=lambda x: x[0], reverse=True)\n",
    "        Final=sort[0:20]\n",
    "        # print(Final)\n",
    "        \n",
    "        for items in Final:\n",
    "            index=materialID.index(items[3])\n",
    "            try:\n",
    "                items.append(dad[index][items[4]][items[1]])\n",
    "            except Exception as e:\n",
    "                print(e)\n",
    "                print(index,items[4],items[1])\n",
    "                # print(dad[index][items[4]][items[1]])\n",
    "                print(newnewmetalist[index][items[4]][items[1]])\n",
    "                # items.append(dad[index][items[4]][items[1]])\n",
    "                continue\n",
    "        # print(Final)\n",
    "        ff=[]\n",
    "        for f in Final:\n",
    "            temp=str(f[0])\n",
    "            temp=temp.replace('tensor(', \"\")\n",
    "            temp=temp.replace(')', \"\")\n",
    "            adwords.append(adword)\n",
    "            texts.append(f[5])\n",
    "            scores.append(temp)\n",
    "            \n",
    "            \n",
    "    \n",
    "    # d[k].extend(ff)\n",
    "    d={}\n",
    "    d['Adword']=adwords\n",
    "    d['Text']=texts\n",
    "    d['Score']=scores\n",
    "    return d\n",
    "    \n",
    "        \n",
    "\n",
    "                \n",
    "                "
   ]
  },
  {
   "cell_type": "code",
   "execution_count": null,
   "metadata": {},
   "outputs": [],
   "source": [
    "print(materialID.index('FILE_MAF_20210729T074455Z_GMO_00000000044309_01'))"
   ]
  },
  {
   "cell_type": "code",
   "execution_count": 37,
   "metadata": {},
   "outputs": [
    {
     "data": {
      "application/vnd.jupyter.widget-view+json": {
       "model_id": "68ebe40f7d0e4fcd8dcf3c971b196095",
       "version_major": 2,
       "version_minor": 0
      },
      "text/plain": [
       "  0%|          | 0/160 [00:00<?, ?it/s]"
      ]
     },
     "metadata": {},
     "output_type": "display_data"
    },
    {
     "data": {
      "application/vnd.jupyter.widget-view+json": {
       "model_id": "887af2996bd946e7935c4ef79089aae4",
       "version_major": 2,
       "version_minor": 0
      },
      "text/plain": [
       "  0%|          | 0/160 [00:00<?, ?it/s]"
      ]
     },
     "metadata": {},
     "output_type": "display_data"
    },
    {
     "name": "stdout",
     "output_type": "stream",
     "text": [
      "[[tensor(0.5168), 60, 0, 'FILE_MAF_20211223T065130Z_GMO_00000000002708_01', 0, 'vehicle accident'], [tensor(0.5168), 47, 0, 'FILE_MAF_20211222T230805Z_GMO_00000000273733_01', 0, ' vehicle accident'], [tensor(0.5100), 37, 0, 'FILE_MAF_20210803T024232Z_GMO_00000000346786_01', 4, 'welcome to the royal automobile club'], [tensor(0.5041), 108, 0, 'FILE_MAF_20210824T142522Z_GMO_00000000294142_01', 0, 'um what kind of car are you driving  porsche cayenne'], [tensor(0.5007), 64, 0, 'FILE_MAF_20210803T024232Z_GMO_00000000346786_01', 1, 'so you really are a car man'], [tensor(0.4941), 385, 0, 'FILE_MAF_20220213T011912Z_GMO_00000000022391_01', 0, \"mcdonald'’s or burger king hyundai or honda hmm\"], [tensor(0.4916), 62, 0, 'FILE_MAF_20211116T134036Z_GMO_00000000341644_01', 3, 'what do you know about cars  i know what i like'], [tensor(0.4660), 81, 0, 'FILE_MAF_20220215T035307Z_GMO_00000000325452_01', 4, \" it's what's on your car wheels\"], [tensor(0.4653), 182, 0, 'FILE_MAF_20211223T143836Z_GMO_00000000343635_01', 3, \"it's for the truck\"], [tensor(0.4618), 30, 0, 'FILE_MAF_20211223T064314Z_GMO_00000000029163_01', 1, 'single vehicle accident'], [tensor(0.4564), 5, 0, 'FILE_MAF_20220215T035934Z_GMO_00000000327844_01', 3, \" what are these beautiful automobiles doing  um they're for you\"], [tensor(0.4558), 51, 0, 'FILE_MAF_20211105T100759Z_GMO_00000000273410_01', 3, ' so i know you love the sports car stuff'], [tensor(0.4527), 46, 0, 'FILE_MAF_20211105T221830Z_GMO_00000000273412_01', 0, ' what kind of cars  ah blue ones green ones'], [tensor(0.4511), 61, 0, 'FILE_MAF_20211103T092105Z_GMO_00000000273408_01', 2, ' wait what what car do you drive  a tesla baby'], [tensor(0.4490), 12, 0, 'FILE_MAF_20210731T020535Z_GMO_00000000040741_01', 0, \" it tami th i know it's a practical car\"], [tensor(0.4471), 85, 0, 'FILE_MAF_20220214T211534Z_GMO_00000000284515_01', 1, 'laughing all right boys car'], [tensor(0.4452), 2, 0, 'FILE_MAF_20211105T221830Z_GMO_00000000326366_01', 2, 'engine putters it has seat belts a hole where a cigarette lighter was'], [tensor(0.4412), 13, 0, 'FILE_MAF_20210803T150810Z_GMO_00000000108698_01', 2, 'ep the engine running'], [tensor(0.4410), 73, 0, 'FILE_MAF_20210727T231237Z_GMO_00000000001660_01', 0, \"it's the safest part of a car\"], [tensor(0.4401), 85, 0, 'FILE_MAF_20211223T202630Z_GMO_00000000343584_01', 4, 'what the car accident']]\n"
     ]
    },
    {
     "data": {
      "application/vnd.jupyter.widget-view+json": {
       "model_id": "c7c726a34e2841f5930cd4e5718c9d93",
       "version_major": 2,
       "version_minor": 0
      },
      "text/plain": [
       "  0%|          | 0/160 [00:00<?, ?it/s]"
      ]
     },
     "metadata": {},
     "output_type": "display_data"
    },
    {
     "name": "stdout",
     "output_type": "stream",
     "text": [
      "[[tensor(0.5964), 87, 1, 'FILE_MAF_20220321T225329Z_GMO_00000000354811_01', 1, 'yo all these books'], [tensor(0.5956), 30, 1, 'FILE_MAF_20220214T042858Z_GMO_00000000137235_01', 5, 'and what is this book about yes'], [tensor(0.5863), 39, 1, 'FILE_MAF_20210802T164609Z_GMO_00000000044398_01', 0, \" my book of course i don't mind\"], [tensor(0.5773), 35, 1, 'FILE_MAF_20210825T010736Z_GMO_00000000324078_01', 0, 'okay so the book'], [tensor(0.5681), 30, 1, 'FILE_MAF_20210729T074455Z_GMO_00000000044309_01', 0, \"fletcher's books\"], [tensor(0.5654), 20, 1, 'FILE_MAF_20211105T085331Z_GMO_00000000121678_01', 0, ' book club  book club'], [tensor(0.5520), 102, 1, 'FILE_MAF_20220505T091718Z_GMO_00000000354814_01', 4, ' malcolm gladwell colson whitehead and audre lorde'], [tensor(0.5485), 19, 1, 'FILE_MAF_20220213T011914Z_GMO_00000000014814_01', 1, 'i came across this amazing book'], [tensor(0.5392), 8, 1, 'FILE_MAF_20211223T143428Z_GMO_00000000343676_01', 1, 'what book uh this one'], [tensor(0.5349), 12, 1, 'FILE_MAF_20220212T185028Z_GMO_00000000007263_01', 4, 'i just found this book'], [tensor(0.5286), 62, 1, 'FILE_MAF_20210809T195832Z_GMO_00000000019745_01', 1, \" now here's the book\"], [tensor(0.5276), 30, 1, 'FILE_MAF_20210730T233513Z_GMO_00000000044080_01', 2, ' she writes books'], [tensor(0.5203), 88, 1, 'FILE_MAF_20211223T143222Z_GMO_00000000343627_01', 1, 'i ended up with the wrong books'], [tensor(0.5190), 20, 1, 'FILE_MAF_20220215T035936Z_GMO_00000000332332_01', 1, 'well then how about books you beenyou been reading anything good recently  ah'], [tensor(0.5160), 106, 1, 'FILE_MAF_20210810T131055Z_GMO_00000000015470_01', 1, \" let's start with opening the book\"], [tensor(0.5088), 57, 1, 'FILE_MAF_20210728T202844Z_GMO_00000000007758_01', 4, 'late night reading'], [tensor(0.5062), 4, 1, 'FILE_MAF_20220212T194452Z_GMO_00000000007405_01', 8, 'i have for you this big stack of books'], [tensor(0.5013), 8, 1, 'FILE_MAF_20220212T194614Z_GMO_00000000007318_01', 3, 'i know this book'], [tensor(0.4900), 111, 1, 'FILE_MAF_20211223T144047Z_GMO_00000000343663_01', 1, \"you're not gonna find the answers you're looking for in that book\"], [tensor(0.4896), 113, 1, 'FILE_MAF_20220213T184755Z_GMO_00000000041020_01', 1, \" the library's gonna help you out a lot i think\"]]\n"
     ]
    },
    {
     "data": {
      "application/vnd.jupyter.widget-view+json": {
       "model_id": "1da8fb66262c4f3683d1dbe17c883e0b",
       "version_major": 2,
       "version_minor": 0
      },
      "text/plain": [
       "  0%|          | 0/160 [00:00<?, ?it/s]"
      ]
     },
     "metadata": {},
     "output_type": "display_data"
    },
    {
     "name": "stdout",
     "output_type": "stream",
     "text": [
      "[[tensor(0.6033), 201, 2, 'FILE_MAF_20220213T185303Z_GMO_00000000047420_01', 0, \"i'm in finance for fuck's sake\"], [tensor(0.5803), 99, 2, 'FILE_MAF_20210802T172722Z_GMO_00000000142565_01', 0, ' oh and what business is that mr'], [tensor(0.5662), 33, 2, 'FILE_MAF_20210729T092828Z_GMO_00000000044326_01', 2, \"i'm a financial analyst of pantechnics corporation\"], [tensor(0.5610), 18, 2, 'FILE_MAF_20210728T202844Z_GMO_00000000007758_01', 1, 'investment banker'], [tensor(0.5570), 33, 2, 'FILE_MAF_20210728T163639Z_GMO_00000000007100_01', 0, 'i have a test for business school tomorrow night'], [tensor(0.5543), 157, 2, 'FILE_MAF_20220215T082050Z_GMO_00000000370434_01', 0, \" okay i'm about to put forth economics\"], [tensor(0.5517), 37, 2, 'FILE_MAF_20210825T012645Z_GMO_00000000399606_01', 5, \"what's the latest now  major player in the finance world\"], [tensor(0.5500), 111, 2, 'FILE_MAF_20220212T223748Z_GMO_00000000009123_01', 2, 'it could be a business'], [tensor(0.5330), 26, 2, 'FILE_MAF_20220213T010346Z_GMO_00000000014872_01', 3, 'investment banking is a very lucrative field'], [tensor(0.5218), 89, 2, 'FILE_MAF_20210809T200548Z_GMO_00000000171492_01', 0, 'a cost of doing business'], [tensor(0.5188), 31, 2, 'FILE_MAF_20211105T221622Z_GMO_00000000296346_01', 1, ' speaking of which what is the uh hierarchy of our new business venture  what are you talking about  titles'], [tensor(0.5139), 29, 2, 'FILE_MAF_20220213T173621Z_GMO_00000000039352_01', 1, \"  so let's talk business\"], [tensor(0.5104), 156, 2, 'FILE_MAF_20220213T120643Z_GMO_00000000038929_01', 1, \" in business it's all about supply and demand and  yeah iii get all that\"], [tensor(0.5087), 7, 2, 'FILE_MAF_20220213T173624Z_GMO_00000000039557_01', 3, \"okay we're in business girls\"], [tensor(0.5045), 13, 2, 'FILE_MAF_20211222T174857Z_GMO_00000000334049_01', 1, \" i'm in marketing\"], [tensor(0.5019), 94, 2, 'FILE_MAF_20210727T231245Z_GMO_00000000001653_01', 2, 'this is a business transaction'], [tensor(0.5019), 94, 2, 'FILE_MAF_20210727T231245Z_GMO_00000000001653_01', 3, 'this is a business transaction'], [tensor(0.5001), 33, 2, 'FILE_MAF_20210806T020741Z_GMO_00000000049044_01', 0, 'tune.  regarding our financials mr'], [tensor(0.4961), 138, 2, 'FILE_MAF_20220215T092523Z_GMO_00000000410890_01', 1, 'what business do you have in this competition\"'], [tensor(0.4954), 64, 2, 'FILE_MAF_20211223T143836Z_GMO_00000000343635_01', 3, 'this is business']]\n"
     ]
    },
    {
     "data": {
      "application/vnd.jupyter.widget-view+json": {
       "model_id": "b0199998b16148f9b00bc8cd7149320c",
       "version_major": 2,
       "version_minor": 0
      },
      "text/plain": [
       "  0%|          | 0/160 [00:00<?, ?it/s]"
      ]
     },
     "metadata": {},
     "output_type": "display_data"
    },
    {
     "name": "stdout",
     "output_type": "stream",
     "text": [
      "[[tensor(0.6259), 35, 3, 'FILE_MAF_20220212T194614Z_GMO_00000000007318_01', 3, ' my college education'], [tensor(0.5846), 19, 3, 'FILE_MAF_20220212T183523Z_GMO_00000000006936_01', 1, 'so you know a little education for them'], [tensor(0.5642), 57, 3, 'FILE_MAF_20220212T183925Z_GMO_00000000006948_01', 4, 'to making and dare i say it educational stephen experience'], [tensor(0.5597), 146, 3, 'FILE_MAF_20211222T061241Z_GMO_00000000295406_01', 0, 'we have classrooms'], [tensor(0.5423), 15, 3, 'FILE_MAF_20211103T100330Z_GMO_00000000341649_01', 1, 'helping to shape the developing mind'], [tensor(0.5388), 10, 3, 'FILE_MAF_20211223T143219Z_GMO_00000000343595_01', 3, \"prison system's very educational\"], [tensor(0.5359), 49, 3, 'FILE_MAF_20220213T173625Z_GMO_00000000039094_01', 2, ' building schools'], [tensor(0.5331), 19, 3, 'FILE_MAF_20210824T160507Z_GMO_00000000305067_01', 4, \" you're teaching\"], [tensor(0.5300), 153, 3, 'FILE_MAF_20220212T183925Z_GMO_00000000006948_01', 3, ' an the mindset that i had the whole education from stephen'], [tensor(0.5148), 60, 3, 'FILE_MAF_20211222T135839Z_GMO_00000000092418_01', 4, \"the sacrifices we make for our children's education\"], [tensor(0.4977), 17, 3, 'FILE_MAF_20220505T091720Z_GMO_00000000354815_01', 0, 'all shouting gunshot for a better education'], [tensor(0.4964), 60, 3, 'FILE_MAF_20211223T143428Z_GMO_00000000343630_01', 4, \"i'm only doing this until i get my master's in education\"], [tensor(0.4909), 50, 3, 'FILE_MAF_20211105T221616Z_GMO_00000000296350_01', 4, \" it's educational\"], [tensor(0.4858), 74, 3, 'FILE_MAF_20220211T201452Z_GMO_00000000001224_01', 2, ' sociology  yeah'], [tensor(0.4858), 4, 3, 'FILE_MAF_20220211T201452Z_GMO_00000000001224_01', 3, ' sociology  yeah'], [tensor(0.4843), 67, 3, 'FILE_MAF_20220215T013221Z_GMO_00000000287847_01', 0, 'our program is really about education and awareness'], [tensor(0.4800), 65, 3, 'FILE_MAF_20210731T020638Z_GMO_00000000040762_01', 2, ' you go to school'], [tensor(0.4771), 49, 3, 'FILE_MAF_20210824T150833Z_GMO_00000000033323_01', 4, 'what happened to your education  i got a p'], [tensor(0.4712), 46, 3, 'FILE_MAF_20210728T181505Z_GMO_00000000007230_01', 1, 'we teach our students that character counts'], [tensor(0.4636), 141, 3, 'FILE_MAF_20210825T002729Z_GMO_00000000316811_01', 4, ' this is the formal what do you call it study']]\n"
     ]
    },
    {
     "data": {
      "application/vnd.jupyter.widget-view+json": {
       "model_id": "12b0ad264b424973ac1a6ead505b804f",
       "version_major": 2,
       "version_minor": 0
      },
      "text/plain": [
       "  0%|          | 0/160 [00:00<?, ?it/s]"
      ]
     },
     "metadata": {},
     "output_type": "display_data"
    },
    {
     "name": "stdout",
     "output_type": "stream",
     "text": [
      "[[tensor(0.5748), 52, 4, 'FILE_MAF_20210728T185222Z_GMO_00000000007421_01', 1, 'convention last fall'], [tensor(0.5657), 18, 4, 'FILE_MAF_20211109T073419Z_GMO_00000000283501_01', 2, 'love a good carnival'], [tensor(0.5560), 104, 4, 'FILE_MAF_20211106T201721Z_GMO_00000000298262_01', 0, 'we got a big event coming up'], [tensor(0.5482), 51, 4, 'FILE_MAF_20220213T173619Z_GMO_00000000039095_01', 2, \"the annual women's booster league rodeo fundraiser and fair\"], [tensor(0.5430), 57, 4, 'FILE_MAF_20210728T202741Z_GMO_00000000007597_01', 1, \"worldfamous walt disney's epcot center\"], [tensor(0.5392), 70, 4, 'FILE_MAF_20220213T184755Z_GMO_00000000041020_01', 3, 'this is belle epoque in paris'], [tensor(0.5207), 70, 4, 'FILE_MAF_20210825T012645Z_GMO_00000000399606_01', 2, \"an open house farmer's market now that's an event worth driving two hours for\"], [tensor(0.5165), 41, 4, 'FILE_MAF_20220213T184757Z_GMO_00000000045313_01', 0, 'the grounds are spectacular'], [tensor(0.5139), 19, 4, 'FILE_MAF_20210824T151133Z_GMO_00000000284944_01', 3, 'first and foremost i have to launch this brand in the next couple of weeks and we need to do an event here'], [tensor(0.5100), 16, 4, 'FILE_MAF_20220215T092524Z_GMO_00000000390301_01', 3, \" it's a nice venue\"], [tensor(0.5094), 61, 4, 'FILE_MAF_20220212T183925Z_GMO_00000000006948_01', 0, 'wanting you to do more events'], [tensor(0.5000), 26, 4, 'FILE_MAF_20210729T234914Z_GMO_00000000346776_01', 3, 'for the opening of the british empire exhibition'], [tensor(0.4963), 33, 4, 'FILE_MAF_20211104T120605Z_GMO_00000000365313_01', 3, \"this is where i'd really like to come for my birthday\"], [tensor(0.4929), 69, 4, 'FILE_MAF_20210825T012645Z_GMO_00000000399606_01', 0, \"we can't do big events\"], [tensor(0.4906), 13, 4, 'FILE_MAF_20210825T012646Z_GMO_00000000338857_01', 5, '  it was a beautiful event'], [tensor(0.4885), 89, 4, 'FILE_MAF_20210825T013409Z_GMO_00000000359729_01', 0, 'so we found this beautiful venue in jersey city'], [tensor(0.4846), 14, 4, 'FILE_MAF_20211222T231607Z_GMO_00000000294982_01', 0, ' oh firefighting expo is this week'], [tensor(0.4813), 13, 4, 'FILE_MAF_20220321T225328Z_GMO_00000000354812_01', 3, 'this is an amazing event'], [tensor(0.4812), 42, 4, 'FILE_MAF_20211105T221830Z_GMO_00000000273412_01', 4, ' disneyland  my badpoor choice of words'], [tensor(0.4803), 46, 4, 'FILE_MAF_20211116T134039Z_GMO_00000000341646_01', 1, \"so what's next burning man  it's a long story\"]]\n"
     ]
    },
    {
     "data": {
      "application/vnd.jupyter.widget-view+json": {
       "model_id": "6dc045762f234f38a45790a41ea29c16",
       "version_major": 2,
       "version_minor": 0
      },
      "text/plain": [
       "  0%|          | 0/160 [00:00<?, ?it/s]"
      ]
     },
     "metadata": {},
     "output_type": "display_data"
    },
    {
     "name": "stdout",
     "output_type": "stream",
     "text": [
      "[[tensor(0.6311), 33, 5, 'FILE_MAF_20210825T012852Z_GMO_00000000348725_01', 1, \" don't ing talk about my family\"], [tensor(0.6240), 112, 5, 'FILE_MAF_20220213T185059Z_GMO_00000000044111_01', 0, 'we have different relationships with people'], [tensor(0.5931), 111, 5, 'FILE_MAF_20220321T225327Z_GMO_00000000354807_01', 3, 'and there is nothing more important than family'], [tensor(0.5883), 59, 5, 'FILE_MAF_20211222T214634Z_GMO_00000000029298_01', 2, \" it doesn't have to be family\"], [tensor(0.5869), 141, 5, 'FILE_MAF_20220321T225327Z_GMO_00000000354807_01', 0, \" all you need to know is that they're family\"], [tensor(0.5858), 101, 5, 'FILE_MAF_20220215T092416Z_GMO_00000000390295_01', 2, \"  i mean family's everything\"], [tensor(0.5844), 0, 5, 'FILE_MAF_20210809T195832Z_GMO_00000000019745_01', 5, \" he's your family\"], [tensor(0.5803), 33, 5, 'FILE_MAF_20220213T182741Z_GMO_00000000041022_01', 0, 'you know my family means the world to me'], [tensor(0.5795), 31, 5, 'FILE_MAF_20220214T211213Z_GMO_00000000195852_01', 2, 'what do families do they give each other sh'], [tensor(0.5771), 13, 5, 'FILE_MAF_20211223T143428Z_GMO_00000000343676_01', 0, 'you have a strong family close ties'], [tensor(0.5685), 100, 5, 'FILE_MAF_20210802T173331Z_GMO_00000000136975_01', 0, 'just families sharing our lives'], [tensor(0.5660), 42, 5, 'FILE_MAF_20210824T150833Z_GMO_00000000033323_01', 0, \"my father's history the culture mother my father  bill\"], [tensor(0.5658), 39, 5, 'FILE_MAF_20210807T072432Z_GMO_00000000001718_01', 3, 'a family of sorts'], [tensor(0.5643), 16, 5, 'FILE_MAF_20210825T013302Z_GMO_00000000338183_01', 4, \"tune.  seeing like how my parents' marriage was and then my dad and the choices he made nestly commitment issues\"], [tensor(0.5596), 31, 5, 'FILE_MAF_20210729T040359Z_GMO_00000000028384_01', 1, \"again i'm talking about the family\"], [tensor(0.5578), 307, 5, 'FILE_MAF_20210809T184656Z_GMO_00000000171499_01', 0, 'in the lives of and that love'], [tensor(0.5567), 110, 5, 'FILE_MAF_20210729T083302Z_GMO_00000000044265_01', 4, ' relationship  yeah'], [tensor(0.5545), 24, 5, 'FILE_MAF_20210729T024311Z_GMO_00000000040665_01', 0, '21st century family coming through'], [tensor(0.5538), 71, 5, 'FILE_MAF_20210812T204402Z_GMO_00000000351581_01', 2, 'this group is not your average family'], [tensor(0.5529), 28, 5, 'FILE_MAF_20220215T092524Z_GMO_00000000390301_01', 4, 'sorry again about my family']]\n"
     ]
    },
    {
     "data": {
      "application/vnd.jupyter.widget-view+json": {
       "model_id": "ab757ef3fe3a4392b1ecc73e7d72f1cf",
       "version_major": 2,
       "version_minor": 0
      },
      "text/plain": [
       "  0%|          | 0/160 [00:00<?, ?it/s]"
      ]
     },
     "metadata": {},
     "output_type": "display_data"
    },
    {
     "name": "stdout",
     "output_type": "stream",
     "text": [
      "[[tensor(0.6192), 86, 6, 'FILE_MAF_20220215T092412Z_GMO_00000000364158_01', 4, ' the art gallery'], [tensor(0.5581), 77, 6, 'FILE_MAF_20220215T092412Z_GMO_00000000364158_01', 0, 'laughter  i do entertainment fashion'], [tensor(0.5505), 62, 6, 'FILE_MAF_20220505T224819Z_GMO_00000000354816_01', 0, 'and if you think about it what we do is art'], [tensor(0.5436), 74, 6, 'FILE_MAF_20220215T092413Z_GMO_00000000364160_01', 5, 'i like to create art'], [tensor(0.5412), 63, 6, 'FILE_MAF_20220212T183925Z_GMO_00000000006948_01', 1, 'no other art form no other art formtouches that'], [tensor(0.5395), 29, 6, 'FILE_MAF_20211105T221619Z_GMO_00000000273407_01', 3, \" it's a delicate art all right  come on\"], [tensor(0.5317), 13, 6, 'FILE_MAF_20220212T194614Z_GMO_00000000007318_01', 0, 'a painting i found'], [tensor(0.5139), 48, 6, 'FILE_MAF_20220214T234142Z_GMO_00000000293212_01', 0, 'my friends are artists and creatives'], [tensor(0.5125), 84, 6, 'FILE_MAF_20220212T223751Z_GMO_00000000009281_01', 2, \" i didn't exactly get my art degree but  that's great\"], [tensor(0.5122), 42, 6, 'FILE_MAF_20220213T173624Z_GMO_00000000039557_01', 0, \" this is not  this is art i'm sorry\"], [tensor(0.5100), 82, 6, 'FILE_MAF_20210729T035057Z_GMO_00000000040631_01', 1, ' screaming  a true artist'], [tensor(0.5062), 7, 6, 'FILE_MAF_20210728T185223Z_GMO_00000000007423_01', 2, \"there's a lot of things you can do with an art degree actually\"], [tensor(0.5034), 190, 6, 'FILE_MAF_20210729T150937Z_GMO_00000000321414_01', 0, 'hello yes uh the fine arts forgery department please'], [tensor(0.4996), 108, 6, 'FILE_MAF_20220213T182741Z_GMO_00000000041022_01', 0, 'my mother had a a real love for the arts'], [tensor(0.4950), 12, 6, 'FILE_MAF_20220215T090159Z_GMO_00000000370441_01', 1, \"because i'm just gonna call it a piece of art\"], [tensor(0.4943), 70, 6, 'FILE_MAF_20220215T013014Z_GMO_00000000312910_01', 3, 'i create wearable art'], [tensor(0.4943), 86, 6, 'FILE_MAF_20210824T195751Z_GMO_00000000320273_01', 3, 'i create wearable art'], [tensor(0.4935), 37, 6, 'FILE_MAF_20220321T225325Z_GMO_00000000354810_01', 0, 'my auntie talked me into taking this art history elective'], [tensor(0.4927), 53, 6, 'FILE_MAF_20220214T050523Z_GMO_00000000201227_01', 0, \" art's legendary\"], [tensor(0.4922), 21, 6, 'FILE_MAF_20211103T121545Z_GMO_00000000345592_01', 3, \" yeah and you're an art\"]]\n"
     ]
    },
    {
     "data": {
      "application/vnd.jupyter.widget-view+json": {
       "model_id": "a0e9557045474a3d88d08c9d3392bcd4",
       "version_major": 2,
       "version_minor": 0
      },
      "text/plain": [
       "  0%|          | 0/160 [00:00<?, ?it/s]"
      ]
     },
     "metadata": {},
     "output_type": "display_data"
    },
    {
     "name": "stdout",
     "output_type": "stream",
     "text": [
      "[[tensor(0.7034), 49, 7, 'FILE_MAF_20210825T013053Z_GMO_00000000282347_01', 2, 'some wines and drinks some food'], [tensor(0.6291), 69, 7, 'FILE_MAF_20220212T194452Z_GMO_00000000007405_01', 7, ' delicious meals'], [tensor(0.6141), 13, 7, 'FILE_MAF_20220212T183925Z_GMO_00000000006948_01', 2, \"hope it's good food\"], [tensor(0.6075), 54, 7, 'FILE_MAF_20220212T183925Z_GMO_00000000006948_01', 0, 'food & wine om gail simmons fr hi guys'], [tensor(0.6024), 40, 7, 'FILE_MAF_20210806T001903Z_GMO_00000000049043_01', 0, 'food and refreshments are available in the lobby'], [tensor(0.6012), 37, 7, 'FILE_MAF_20210824T142523Z_GMO_00000000027747_01', 3, 'steak and potatoes'], [tensor(0.5777), 55, 7, 'FILE_MAF_20220213T093757Z_GMO_00000000031571_01', 1, 'laughter  and spicerubbed salmon and then local vegetables'], [tensor(0.5773), 121, 7, 'FILE_MAF_20220213T010346Z_GMO_00000000014850_01', 1, \"friday's entrees that our consumers will crave\"], [tensor(0.5757), 83, 7, 'FILE_MAF_20211223T202630Z_GMO_00000000343584_01', 4, 'oh cheeseburgers and fries'], [tensor(0.5757), 83, 7, 'FILE_MAF_20211223T202630Z_GMO_00000000343584_01', 5, 'oh cheeseburgers and fries'], [tensor(0.5742), 107, 7, 'FILE_MAF_20220212T183523Z_GMO_00000000006936_01', 2, 'food should be welcoming'], [tensor(0.5689), 121, 7, 'FILE_MAF_20220215T035934Z_GMO_00000000327844_01', 0, ' what do you want to drink we just ordered'], [tensor(0.5650), 61, 7, 'FILE_MAF_20220321T225329Z_GMO_00000000354811_01', 4, 'the people the music the food'], [tensor(0.5634), 57, 7, 'FILE_MAF_20220215T035307Z_GMO_00000000325452_01', 1, 'a couple of beers'], [tensor(0.5569), 36, 7, 'FILE_MAF_20210812T204402Z_GMO_00000000351581_01', 2, ' i wanna know what the main course was tonight'], [tensor(0.5559), 79, 7, 'FILE_MAF_20211116T134039Z_GMO_00000000341646_01', 1, ' your food from whatever grocery store you waste your money at'], [tensor(0.5507), 30, 7, 'FILE_MAF_20211109T073419Z_GMO_00000000283501_01', 3, 'um pizza toppings'], [tensor(0.5499), 44, 7, 'FILE_MAF_20220213T215210Z_GMO_00000000115135_01', 4, ' breakfast is served'], [tensor(0.5440), 71, 7, 'FILE_MAF_20220215T035715Z_GMO_00000000320875_01', 1, 'uh favorite cuisine meat and seafood'], [tensor(0.5432), 56, 7, 'FILE_MAF_20220212T194452Z_GMO_00000000007405_01', 4, \"so we're dying to hear what all this good food is\"]]\n"
     ]
    },
    {
     "data": {
      "application/vnd.jupyter.widget-view+json": {
       "model_id": "0618888844e642afb2a0307d89f0976c",
       "version_major": 2,
       "version_minor": 0
      },
      "text/plain": [
       "  0%|          | 0/160 [00:00<?, ?it/s]"
      ]
     },
     "metadata": {},
     "output_type": "display_data"
    },
    {
     "name": "stdout",
     "output_type": "stream",
     "text": [
      "[[tensor(0.6404), 15, 8, 'FILE_MAF_20220213T184757Z_GMO_00000000045313_01', 3, 'living at its best'], [tensor(0.5832), 198, 8, 'FILE_MAF_20220321T225327Z_GMO_00000000354807_01', 1, ' you know thriving'], [tensor(0.5448), 37, 8, 'FILE_MAF_20220505T224819Z_GMO_00000000354816_01', 1, 'trying to eat healthy'], [tensor(0.5325), 45, 8, 'FILE_MAF_20220215T071423Z_GMO_00000000353679_01', 3, 'and being young and vibrant and not old and jaded like i am now so'], [tensor(0.5246), 46, 8, 'FILE_MAF_20220215T013012Z_GMO_00000000279146_01', 5, 'take care of yourself'], [tensor(0.5230), 143, 8, 'FILE_MAF_20220212T183523Z_GMO_00000000006936_01', 2, 'i think that food shouldpromote your health'], [tensor(0.5079), 14, 8, 'FILE_MAF_20211223T143830Z_GMO_00000000343664_01', 0, 'breathing is good'], [tensor(0.5068), 27, 8, 'FILE_MAF_20220215T013012Z_GMO_00000000279146_01', 0, ' live your best life'], [tensor(0.4988), 92, 8, 'FILE_MAF_20211224T154509Z_GMO_00000000196872_01', 0, 'can we do something about healthy food  what do you want to do about it  uh have some'], [tensor(0.4953), 135, 8, 'FILE_MAF_20220214T211213Z_GMO_00000000195852_01', 1, 'like no stress more life'], [tensor(0.4846), 25, 8, 'FILE_MAF_20220215T013012Z_GMO_00000000279146_01', 1, \"i'm just trying to live my best life\"], [tensor(0.4814), 136, 8, 'FILE_MAF_20210729T083302Z_GMO_00000000044265_01', 2, ' oh living well has always been a bit of a hobby of mine'], [tensor(0.4788), 50, 8, 'FILE_MAF_20211104T114856Z_GMO_00000000354181_01', 3, 'everything is healthy happy and beautiful'], [tensor(0.4764), 124, 8, 'FILE_MAF_20220215T035715Z_GMO_00000000320875_01', 0, ' what life brings'], [tensor(0.4757), 55, 8, 'FILE_MAF_20211103T115536Z_GMO_00000000298267_01', 1, 'my goal is to keep your loved one as healthy as i can for as long as i can'], [tensor(0.4739), 77, 8, 'FILE_MAF_20211104T114856Z_GMO_00000000354181_01', 2, ' supremely healthy'], [tensor(0.4723), 14, 8, 'FILE_MAF_20220213T090940Z_GMO_00000000032052_01', 2, 'you know enjoy life to the fullest'], [tensor(0.4718), 15, 8, 'FILE_MAF_20210728T181505Z_GMO_00000000007230_01', 2, 'mething from the heart'], [tensor(0.4712), 69, 8, 'FILE_MAF_20210802T172723Z_GMO_00000000001586_01', 2, 'life from lifelessness'], [tensor(0.4711), 46, 8, 'FILE_MAF_20210727T231247Z_GMO_00000000001712_01', 2, ' use it in good health']]\n"
     ]
    },
    {
     "data": {
      "application/vnd.jupyter.widget-view+json": {
       "model_id": "5abf5852171d4170a42b5569dfd66ccd",
       "version_major": 2,
       "version_minor": 0
      },
      "text/plain": [
       "  0%|          | 0/160 [00:00<?, ?it/s]"
      ]
     },
     "metadata": {},
     "output_type": "display_data"
    },
    {
     "name": "stdout",
     "output_type": "stream",
     "text": [
      "[[tensor(0.6774), 42, 9, 'FILE_MAF_20210728T185223Z_GMO_00000000007423_01', 2, 'and there are hobbies'], [tensor(0.6006), 88, 9, 'FILE_MAF_20210729T040359Z_GMO_00000000028384_01', 1, 'really what do you sit and look at i have hobbies'], [tensor(0.5249), 6, 9, 'FILE_MAF_20211105T221725Z_GMO_00000000296347_01', 1, \" you don't know my interests\"], [tensor(0.5218), 59, 9, 'FILE_MAF_20210729T120911Z_GMO_00000000044348_01', 2, 'they\\'re listed under stuff like \"fishing gear\" \"camping\" \"archery\" you know hobbies'], [tensor(0.5196), 32, 9, 'FILE_MAF_20220213T011913Z_GMO_00000000014807_01', 4, 'i love people i love deals and i love architecture and houses'], [tensor(0.5038), 33, 9, 'FILE_MAF_20210824T195853Z_GMO_00000000294185_01', 2, ' so what else do you like to do  um okay'], [tensor(0.4979), 81, 9, 'FILE_MAF_20210730T233617Z_GMO_00000000044072_01', 4, 'every man should have a hobby'], [tensor(0.4971), 17, 9, 'FILE_MAF_20220215T092413Z_GMO_00000000390299_01', 1, '  my passions are political'], [tensor(0.4963), 76, 9, 'FILE_MAF_20220215T013014Z_GMO_00000000312910_01', 6, ' i like geometry and'], [tensor(0.4953), 4, 9, 'FILE_MAF_20220214T211213Z_GMO_00000000195852_01', 3, ' my favorite activity'], [tensor(0.4823), 100, 9, 'FILE_MAF_20220505T091718Z_GMO_00000000354814_01', 3, \"the friends you hang with the drugs you're into i mean you like lacrosse and yachting and race cars\"], [tensor(0.4656), 66, 9, 'FILE_MAF_20210728T202844Z_GMO_00000000007758_01', 1, ' oh we could use a hobby to do together'], [tensor(0.4627), 23, 9, 'FILE_MAF_20210809T203754Z_GMO_00000000330186_01', 0, 'i just love to play with my friends and i love to hang out but my favorite is geography'], [tensor(0.4617), 77, 9, 'FILE_MAF_20220215T092412Z_GMO_00000000364158_01', 0, 'laughter  i do entertainment fashion'], [tensor(0.4567), 13, 9, 'FILE_MAF_20210729T025615Z_GMO_00000000040663_01', 2, 'look get a hobby'], [tensor(0.4536), 22, 9, 'FILE_MAF_20211105T221413Z_GMO_00000000273414_01', 4, ' doing what  not going to the movies'], [tensor(0.4467), 63, 9, 'FILE_MAF_20210728T183513Z_GMO_00000000007330_01', 1, 'watching some of your friends'], [tensor(0.4444), 6, 9, 'FILE_MAF_20210729T234914Z_GMO_00000000346776_01', 1, \"i'm glad to see your old interests are reasserting themselves\"], [tensor(0.4443), 58, 9, 'FILE_MAF_20220214T042555Z_GMO_00000000137222_01', 1, 'what do you do for fun what do you like to organize my drawers'], [tensor(0.4432), 116, 9, 'FILE_MAF_20220215T082050Z_GMO_00000000370434_01', 0, \" music  my wife is a blogger and it's awesome\"]]\n"
     ]
    },
    {
     "data": {
      "application/vnd.jupyter.widget-view+json": {
       "model_id": "cddcc91f7dbf473f964627e7868019b8",
       "version_major": 2,
       "version_minor": 0
      },
      "text/plain": [
       "  0%|          | 0/160 [00:00<?, ?it/s]"
      ]
     },
     "metadata": {},
     "output_type": "display_data"
    },
    {
     "name": "stdout",
     "output_type": "stream",
     "text": [
      "[[tensor(0.5485), 29, 10, 'FILE_MAF_20210802T173334Z_GMO_00000000001690_01', 2, ' what is this place  home'], [tensor(0.5125), 62, 10, 'FILE_MAF_20211103T115539Z_GMO_00000000345588_01', 1, 'i focused on clean simple greenery along here and here'], [tensor(0.5097), 28, 10, 'FILE_MAF_20220321T225326Z_GMO_00000000354808_01', 1, 'what every home needs'], [tensor(0.5037), 26, 10, 'FILE_MAF_20220213T215316Z_GMO_00000000116411_01', 0, ' the back garden'], [tensor(0.4790), 55, 10, 'FILE_MAF_20210802T173336Z_GMO_00000000001801_01', 5, 'what is this place  our new home'], [tensor(0.4730), 93, 10, 'FILE_MAF_20220212T165146Z_GMO_00000000002833_01', 3, 'undergoing a renovation'], [tensor(0.4708), 15, 10, 'FILE_MAF_20220213T173626Z_GMO_00000000039366_01', 4, ' we were looking at properties'], [tensor(0.4642), 173, 10, 'FILE_MAF_20210825T012646Z_GMO_00000000338857_01', 0, 'this is a beautiful home'], [tensor(0.4633), 18, 10, 'FILE_MAF_20210824T151133Z_GMO_00000000284944_01', 1, ' some beautiful old houses'], [tensor(0.4598), 150, 10, 'FILE_MAF_20220212T183523Z_GMO_00000000006936_01', 2, \"the homemakers they're the people that are buying the food for the house\"], [tensor(0.4595), 99, 10, 'FILE_MAF_20210802T172722Z_GMO_00000000142565_01', 0, ' oh and what business is that mr'], [tensor(0.4571), 169, 10, 'FILE_MAF_20210824T151133Z_GMO_00000000284944_01', 0, 'the landscape the green'], [tensor(0.4565), 39, 10, 'FILE_MAF_20220321T225325Z_GMO_00000000354810_01', 5, ' influencer house'], [tensor(0.4560), 75, 10, 'FILE_MAF_20210825T002729Z_GMO_00000000316811_01', 5, ' landscaping to the tune of $100000'], [tensor(0.4529), 36, 10, 'FILE_MAF_20220213T093448Z_GMO_00000000031317_01', 1, 'we put together a bunch of information that really sells this as a family neighborhood'], [tensor(0.4526), 57, 10, 'FILE_MAF_20220213T173621Z_GMO_00000000039352_01', 1, \"i'm selling a lifestyle\"], [tensor(0.4519), 87, 10, 'FILE_MAF_20220213T185405Z_GMO_00000000045315_01', 3, ' showed a couple of houses'], [tensor(0.4514), 32, 10, 'FILE_MAF_20220213T184757Z_GMO_00000000045313_01', 2, ' the dock the boat the fishing pond the beach and we are going to sell this lake lifestyle'], [tensor(0.4469), 56, 10, 'FILE_MAF_20210824T164918Z_GMO_00000000316807_01', 2, '  kitchenthe main island'], [tensor(0.4467), 115, 10, 'FILE_MAF_20210806T042833Z_GMO_00000000049038_01', 0, 'one of your houses i assume']]\n"
     ]
    },
    {
     "data": {
      "application/vnd.jupyter.widget-view+json": {
       "model_id": "42f6f5fd8f30486e9316b280aad6138b",
       "version_major": 2,
       "version_minor": 0
      },
      "text/plain": [
       "  0%|          | 0/160 [00:00<?, ?it/s]"
      ]
     },
     "metadata": {},
     "output_type": "display_data"
    },
    {
     "name": "stdout",
     "output_type": "stream",
     "text": [
      "[[tensor(0.5472), 89, 11, 'FILE_MAF_20220212T223748Z_GMO_00000000009123_01', 1, 'married to medicine'], [tensor(0.5472), 149, 11, 'FILE_MAF_20220212T223748Z_GMO_00000000009123_01', 4, 'married to medicine'], [tensor(0.5472), 38, 11, 'FILE_MAF_20220212T223748Z_GMO_00000000009123_01', 5, 'married to medicine'], [tensor(0.5472), 0, 11, 'FILE_MAF_20220212T223748Z_GMO_00000000009123_01', 0, ' married to medicine'], [tensor(0.5192), 66, 11, 'FILE_MAF_20210803T024232Z_GMO_00000000346786_01', 3, ' may we ask why  something medical'], [tensor(0.5127), 6, 11, 'FILE_MAF_20211222T231607Z_GMO_00000000294982_01', 0, ' social services'], [tensor(0.5062), 32, 11, 'FILE_MAF_20211105T221413Z_GMO_00000000273414_01', 3, 'they have doctors with degrees'], [tensor(0.5048), 80, 11, 'FILE_MAF_20210803T024232Z_GMO_00000000346786_01', 5, ' about the hospital'], [tensor(0.4897), 84, 11, 'FILE_MAF_20211222T061240Z_GMO_00000000326287_01', 0, ' agnes you have received a position of power at one of the top medical institutions in the country'], [tensor(0.4867), 46, 11, 'FILE_MAF_20220213T071506Z_GMO_00000000027584_01', 4, 'there are doctors there'], [tensor(0.4849), 47, 11, 'FILE_MAF_20211222T061240Z_GMO_00000000326287_01', 1, 'frome from behavioral health'], [tensor(0.4809), 26, 11, 'FILE_MAF_20210729T043427Z_GMO_00000000040614_01', 2, ' so not psychiatry'], [tensor(0.4729), 28, 11, 'FILE_MAF_20211105T221833Z_GMO_00000000338784_01', 2, ' i need a medical history'], [tensor(0.4723), 50, 11, 'FILE_MAF_20210728T183011Z_GMO_00000000007353_01', 0, 'does the department of health know about this i am not telling you anything'], [tensor(0.4709), 39, 11, 'FILE_MAF_20220213T184757Z_GMO_00000000045313_01', 1, \"it's for health purposes\"], [tensor(0.4702), 38, 11, 'FILE_MAF_20210728T202436Z_GMO_00000000007731_01', 0, ' victoria chazin columbia usc top of her class rotations in emergency and family medicine'], [tensor(0.4696), 59, 11, 'FILE_MAF_20210728T202436Z_GMO_00000000007731_01', 1, '  physician assistant'], [tensor(0.4665), 9, 11, 'FILE_MAF_20211105T221619Z_GMO_00000000273407_01', 4, 'ars & stripes health group'], [tensor(0.4646), 22, 11, 'FILE_MAF_20220213T071506Z_GMO_00000000027584_01', 3, ' doctor ready to go'], [tensor(0.4602), 38, 11, 'FILE_MAF_20210728T202741Z_GMO_00000000007597_01', 2, 'obesitycaused illnesses']]\n"
     ]
    },
    {
     "data": {
      "application/vnd.jupyter.widget-view+json": {
       "model_id": "b9efab3fd19a43219762075c5030763c",
       "version_major": 2,
       "version_minor": 0
      },
      "text/plain": [
       "  0%|          | 0/160 [00:00<?, ?it/s]"
      ]
     },
     "metadata": {},
     "output_type": "display_data"
    },
    {
     "name": "stdout",
     "output_type": "stream",
     "text": [
      "[[tensor(0.6196), 227, 12, 'FILE_MAF_20210806T001903Z_GMO_00000000049043_01', 0, ' we should go to the movies'], [tensor(0.5932), 22, 12, 'FILE_MAF_20211105T221413Z_GMO_00000000273414_01', 4, ' doing what  not going to the movies'], [tensor(0.5800), 49, 12, 'FILE_MAF_20220214T042350Z_GMO_00000000153025_01', 1, '  okay a movie cinema you know really anything you can imagine'], [tensor(0.5683), 35, 12, 'FILE_MAF_20210810T131055Z_GMO_00000000015470_01', 0, ' always play those chick flicks'], [tensor(0.5679), 57, 12, 'FILE_MAF_20220213T173621Z_GMO_00000000039352_01', 4, '  a little action flick'], [tensor(0.5620), 61, 12, 'FILE_MAF_20220321T225329Z_GMO_00000000354811_01', 2, 'theater if you will'], [tensor(0.5563), 15, 12, 'FILE_MAF_20211103T092107Z_GMO_00000000273413_01', 4, ' where have you been  told you i went to the movies'], [tensor(0.5326), 139, 12, 'FILE_MAF_20210806T020742Z_GMO_00000000296778_01', 0, \" the movie's about to start\"], [tensor(0.5303), 0, 12, 'FILE_MAF_20211106T220331Z_GMO_00000000012363_01', 3, ' this is a movie'], [tensor(0.5289), 57, 12, 'FILE_MAF_20210824T195751Z_GMO_00000000320273_01', 0, ' i love musical movies'], [tensor(0.5264), 61, 12, 'FILE_MAF_20211105T221619Z_GMO_00000000273407_01', 2, ' we should watch a movie'], [tensor(0.5233), 48, 12, 'FILE_MAF_20211105T221616Z_GMO_00000000296350_01', 4, 'hey kids movie night'], [tensor(0.5123), 48, 12, 'FILE_MAF_20220215T092413Z_GMO_00000000364160_01', 0, 'i was into horror movies'], [tensor(0.5117), 30, 12, 'FILE_MAF_20210807T072641Z_GMO_00000000015471_01', 1, \"golly i haven't seen a movie in forever\"], [tensor(0.5055), 147, 12, 'FILE_MAF_20210729T030534Z_GMO_00000000039104_01', 3, 'watching game film'], [tensor(0.5017), 35, 12, 'FILE_MAF_20210824T153451Z_GMO_00000000293441_01', 0, \" y'all didn't go nowhere to the movies nothing  we went to the movies\"], [tensor(0.4968), 2, 12, 'FILE_MAF_20210824T142523Z_GMO_00000000027747_01', 3, 'that and cartoons'], [tensor(0.4896), 41, 12, 'FILE_MAF_20220213T185304Z_GMO_00000000047422_01', 0, 'people need to know this movie exists'], [tensor(0.4833), 26, 12, 'FILE_MAF_20211105T100759Z_GMO_00000000273410_01', 4, ' which is still the best movie ever'], [tensor(0.4822), 6, 12, 'FILE_MAF_20210728T183011Z_GMO_00000000007353_01', 0, 'you finished the movie']]\n"
     ]
    },
    {
     "data": {
      "application/vnd.jupyter.widget-view+json": {
       "model_id": "5fba7fe6fb9d44099325e9374c6b8a60",
       "version_major": 2,
       "version_minor": 0
      },
      "text/plain": [
       "  0%|          | 0/160 [00:00<?, ?it/s]"
      ]
     },
     "metadata": {},
     "output_type": "display_data"
    },
    {
     "name": "stdout",
     "output_type": "stream",
     "text": [
      "[[tensor(0.6142), 129, 13, 'FILE_MAF_20211104T114856Z_GMO_00000000354181_01', 1, 'connected to audio'], [tensor(0.5720), 0, 13, 'FILE_MAF_20220215T082050Z_GMO_00000000370434_01', 3, \"  music  wow it's huge here\"], [tensor(0.5679), 102, 13, 'FILE_MAF_20210727T231034Z_GMO_00000000001600_01', 1, 'entertainment music plays not just any entertainment'], [tensor(0.5676), 0, 13, 'FILE_MAF_20220215T082050Z_GMO_00000000370434_01', 6, '  music  mainly right here'], [tensor(0.5617), 1, 13, 'FILE_MAF_20210809T200239Z_GMO_00000000330183_01', 0, 'can you describe music okay'], [tensor(0.5577), 10, 13, 'FILE_MAF_20210730T234421Z_GMO_00000000044076_01', 1, ' tell me about music'], [tensor(0.5568), 56, 13, 'FILE_MAF_20210824T195853Z_GMO_00000000294185_01', 0, 'music playing on speakers tune. good'], [tensor(0.5555), 114, 13, 'FILE_MAF_20210728T181505Z_GMO_00000000007230_01', 0, 'what about music do you have any music uh yeah'], [tensor(0.5469), 141, 13, 'FILE_MAF_20220215T082050Z_GMO_00000000370434_01', 0, ' music  yeah it is'], [tensor(0.5400), 36, 13, 'FILE_MAF_20211223T143839Z_GMO_00000000343669_01', 0, 'theme music playing'], [tensor(0.5333), 9, 13, 'FILE_MAF_20211116T134039Z_GMO_00000000341646_01', 1, '  okay music on or off  on on'], [tensor(0.5333), 41, 13, 'FILE_MAF_20220213T080123Z_GMO_00000000029577_01', 2, \" it's the same when we play music\"], [tensor(0.5285), 96, 13, 'FILE_MAF_20211105T100759Z_GMO_00000000273410_01', 3, \"upbeat music playing over stereo tune. tune. woman singing tune. tune. alternative rock music blasting over stereo  how'd you find this place tune. tune.  a friend\"], [tensor(0.5285), 44, 13, 'FILE_MAF_20211105T221619Z_GMO_00000000273407_01', 1, 'light music playing over speakers  bag it tag it'], [tensor(0.5229), 50, 13, 'FILE_MAF_20220213T003335Z_GMO_00000000010677_01', 0, 'turn some music on'], [tensor(0.5202), 64, 13, 'FILE_MAF_20211105T085331Z_GMO_00000000121678_01', 3, \"light music  that's all i need to know\"], [tensor(0.5168), 85, 13, 'FILE_MAF_20211103T092107Z_GMO_00000000273413_01', 2, 'slow tempo music plays tune. what  nothing'], [tensor(0.5143), 70, 13, 'FILE_MAF_20220214T042348Z_GMO_00000000153023_01', 2, 'instrumental hiphop music so'], [tensor(0.5111), 32, 13, 'FILE_MAF_20210806T020741Z_GMO_00000000049044_01', 0, 'ethereal music  angela my assistant can handle that'], [tensor(0.5092), 103, 13, 'FILE_MAF_20211105T221829Z_GMO_00000000121675_01', 4, 'upbeat music  we have a business proposition']]\n"
     ]
    },
    {
     "data": {
      "application/vnd.jupyter.widget-view+json": {
       "model_id": "b69a22de5c24477d88c275586fa12cfb",
       "version_major": 2,
       "version_minor": 0
      },
      "text/plain": [
       "  0%|          | 0/160 [00:00<?, ?it/s]"
      ]
     },
     "metadata": {},
     "output_type": "display_data"
    },
    {
     "name": "stdout",
     "output_type": "stream",
     "text": [
      "[[tensor(0.7192), 28, 14, 'FILE_MAF_20211109T073419Z_GMO_00000000283501_01', 3, 'cats or dogs dogs'], [tensor(0.6268), 124, 14, 'FILE_MAF_20220213T184757Z_GMO_00000000045313_01', 0, 'any animals  two dogs'], [tensor(0.5227), 39, 14, 'FILE_MAF_20210824T142522Z_GMO_00000000294142_01', 2, '  laughs  i think mine would be puppies'], [tensor(0.5215), 266, 14, 'FILE_MAF_20220213T185303Z_GMO_00000000047420_01', 0, 'dogs whining you know you screwed me last time you let all the dogs go'], [tensor(0.5153), 73, 14, 'FILE_MAF_20210824T142522Z_GMO_00000000294142_01', 1, 'my three pets are my fur babies'], [tensor(0.5055), 46, 14, 'FILE_MAF_20210824T164918Z_GMO_00000000316807_01', 3, 'dogs whining  okay'], [tensor(0.4953), 41, 14, 'FILE_MAF_20211223T144046Z_GMO_00000000343687_01', 1, \"i'd appreciate it if you didn't kill my pets\"], [tensor(0.4913), 28, 14, 'FILE_MAF_20210824T153450Z_GMO_00000000294170_01', 2, 'do you like animals besides unicorns  love cats'], [tensor(0.4876), 60, 14, 'FILE_MAF_20220215T012707Z_GMO_00000000288641_01', 0, ' jesus christ absolute animals'], [tensor(0.4822), 76, 14, 'FILE_MAF_20211222T231607Z_GMO_00000000294982_01', 2, '  for a dogooder'], [tensor(0.4818), 37, 14, 'FILE_MAF_20220214T042350Z_GMO_00000000153025_01', 4, \"whimsical music people that think it's weird that i dress up my dogs honestly i know mousey and fritzy\"], [tensor(0.4807), 140, 14, 'FILE_MAF_20220213T184655Z_GMO_00000000047492_01', 0, \"laughter if you're gonna pet me then pet me\"], [tensor(0.4795), 56, 14, 'FILE_MAF_20210824T195751Z_GMO_00000000320273_01', 0, 'the reimagined world of \"cats\" is our inspiration for this week\\'s challenge'], [tensor(0.4795), 61, 14, 'FILE_MAF_20220215T013014Z_GMO_00000000312910_01', 0, ' the reimagined world of \"cats\" is our inspiration for this week\\'s challenge'], [tensor(0.4765), 69, 14, 'FILE_MAF_20210825T013409Z_GMO_00000000359729_01', 5, \"laughter i'm basically a dog\"], [tensor(0.4752), 55, 14, 'FILE_MAF_20210825T012852Z_GMO_00000000348725_01', 4, \" what post are you working on  it's national dog day today so i'm trying to put up a slide of dogs with loverboy\"], [tensor(0.4738), 9, 14, 'FILE_MAF_20210824T173626Z_GMO_00000000308191_01', 2, ' how you take care of an animal'], [tensor(0.4731), 102, 14, 'FILE_MAF_20210825T012646Z_GMO_00000000338857_01', 0, ' three kids two dogs one husband'], [tensor(0.4703), 51, 14, 'FILE_MAF_20210729T030521Z_GMO_00000000022500_01', 0, ' you really love animals'], [tensor(0.4688), 36, 14, 'FILE_MAF_20211105T221618Z_GMO_00000000341638_01', 4, ' hug those animals for me']]\n"
     ]
    },
    {
     "data": {
      "application/vnd.jupyter.widget-view+json": {
       "model_id": "24f9cb53977b4041a8be55de7fc44f27",
       "version_major": 2,
       "version_minor": 0
      },
      "text/plain": [
       "  0%|          | 0/160 [00:00<?, ?it/s]"
      ]
     },
     "metadata": {},
     "output_type": "display_data"
    },
    {
     "name": "stdout",
     "output_type": "stream",
     "text": [
      "[[tensor(0.5796), 74, 15, 'FILE_MAF_20220211T201452Z_GMO_00000000001224_01', 2, ' sociology  yeah'], [tensor(0.5796), 4, 15, 'FILE_MAF_20220211T201452Z_GMO_00000000001224_01', 3, ' sociology  yeah'], [tensor(0.5738), 56, 15, 'FILE_MAF_20210825T013158Z_GMO_00000000338679_01', 3, \"pop music  of course the one weekend i'm not there sh ing hits the fan\"], [tensor(0.5678), 0, 15, 'FILE_MAF_20220215T082050Z_GMO_00000000370434_01', 3, \"  music  wow it's huge here\"], [tensor(0.5531), 3, 15, 'FILE_MAF_20210825T013158Z_GMO_00000000338679_01', 0, 'pop music  bleep you'], [tensor(0.5170), 74, 15, 'FILE_MAF_20211222T231607Z_GMO_00000000294982_01', 2, ' ancient history'], [tensor(0.5118), 11, 15, 'FILE_MAF_20210824T164918Z_GMO_00000000316807_01', 2, 'in terms of marketing this area speaks to people in the entertainment business and in the industry'], [tensor(0.5049), 102, 15, 'FILE_MAF_20210727T231034Z_GMO_00000000001600_01', 1, 'entertainment music plays not just any entertainment'], [tensor(0.5042), 20, 15, 'FILE_MAF_20220213T185815Z_GMO_00000000048836_01', 1, 'rap music  i was'], [tensor(0.5026), 49, 15, 'FILE_MAF_20220213T185815Z_GMO_00000000048836_01', 3, 'rap music  hello'], [tensor(0.4912), 39, 15, 'FILE_MAF_20211103T121545Z_GMO_00000000345592_01', 1, 'rock music  hey guys'], [tensor(0.4884), 43, 15, 'FILE_MAF_20210824T164918Z_GMO_00000000316807_01', 4, \"they're creative they're entertainment industry\"], [tensor(0.4858), 77, 15, 'FILE_MAF_20220215T092412Z_GMO_00000000364158_01', 0, 'laughter  i do entertainment fashion'], [tensor(0.4838), 25, 15, 'FILE_MAF_20220215T083954Z_GMO_00000000390302_01', 3, 'pop music playing tune. tune. ooh'], [tensor(0.4743), 48, 15, 'FILE_MAF_20210824T164918Z_GMO_00000000316807_01', 5, \"they're creative; they're entertainment industry\"], [tensor(0.4741), 92, 15, 'FILE_MAF_20210730T235041Z_GMO_00000000346774_01', 4, 'something your generation has such trouble with'], [tensor(0.4740), 12, 15, 'FILE_MAF_20211105T111151Z_GMO_00000000121681_01', 4, 'pop music on radio  i did something'], [tensor(0.4538), 67, 15, 'FILE_MAF_20220214T042348Z_GMO_00000000153023_01', 3, ' what exactly comes to mind  sex drugs and rock and roll'], [tensor(0.4530), 49, 15, 'FILE_MAF_20220213T120643Z_GMO_00000000038929_01', 6, 'hip hop music  whee  woah  oh my god upbeat music  i just got a boner'], [tensor(0.4523), 77, 15, 'FILE_MAF_20210729T122424Z_GMO_00000000321241_01', 1, 'comedy i used to think so']]\n"
     ]
    },
    {
     "data": {
      "application/vnd.jupyter.widget-view+json": {
       "model_id": "9087c1745af84613baff8b0abc278d58",
       "version_major": 2,
       "version_minor": 0
      },
      "text/plain": [
       "  0%|          | 0/160 [00:00<?, ?it/s]"
      ]
     },
     "metadata": {},
     "output_type": "display_data"
    },
    {
     "name": "stdout",
     "output_type": "stream",
     "text": [
      "[[tensor(0.5812), 104, 16, 'FILE_MAF_20220211T201452Z_GMO_00000000001224_01', 3, '$44 million worth of real estate'], [tensor(0.5684), 1, 16, 'FILE_MAF_20210825T012646Z_GMO_00000000338857_01', 3, '  and real estate is still a great place to put your money'], [tensor(0.5441), 93, 16, 'FILE_MAF_20210802T172724Z_GMO_00000000142561_01', 3, ' everything i ever wanted my own business money security a big new house'], [tensor(0.5362), 111, 16, 'FILE_MAF_20220212T223748Z_GMO_00000000009123_01', 2, 'it could be a business'], [tensor(0.5251), 63, 16, 'FILE_MAF_20220211T201452Z_GMO_00000000001224_01', 2, ' i sell real estate'], [tensor(0.5162), 36, 16, 'FILE_MAF_20220213T011913Z_GMO_00000000014807_01', 0, \"you've got $2 million and $1 million houses\"], [tensor(0.5116), 24, 16, 'FILE_MAF_20210809T200440Z_GMO_00000000292342_01', 5, ' got a nice house'], [tensor(0.5100), 54, 16, 'FILE_MAF_20210803T150810Z_GMO_00000000108698_01', 1, \"i'm trying to think of what we could sell\"], [tensor(0.5090), 132, 16, 'FILE_MAF_20220213T173621Z_GMO_00000000039352_01', 4, ' mansion right  maybe a minimansion'], [tensor(0.5086), 31, 16, 'FILE_MAF_20211223T143837Z_GMO_00000000343639_01', 1, 'just a lot of investment stuff'], [tensor(0.5084), 76, 16, 'FILE_MAF_20210825T002729Z_GMO_00000000316811_01', 2, ' we sell real estate'], [tensor(0.5075), 31, 16, 'FILE_MAF_20220213T011913Z_GMO_00000000014807_01', 4, 'why do you like real estate  um'], [tensor(0.5072), 30, 16, 'FILE_MAF_20211105T221829Z_GMO_00000000121675_01', 1, ' human trafficking'], [tensor(0.5024), 51, 16, 'FILE_MAF_20220213T120643Z_GMO_00000000038929_01', 1, ' to sell all 100 houses'], [tensor(0.4980), 6, 16, 'FILE_MAF_20210805T164954Z_GMO_00000000044095_01', 0, ' my retirement money'], [tensor(0.4924), 15, 16, 'FILE_MAF_20220213T173626Z_GMO_00000000039366_01', 4, ' we were looking at properties'], [tensor(0.4919), 85, 16, 'FILE_MAF_20220214T042348Z_GMO_00000000153023_01', 0, \" a $7 million apartment and fake books really really  that's okay\"], [tensor(0.4871), 21, 16, 'FILE_MAF_20210825T013053Z_GMO_00000000282347_01', 0, 'i put the \"real\" in real estate'], [tensor(0.4869), 148, 16, 'FILE_MAF_20210730T172335Z_GMO_00000000044277_01', 2, 'a small share of your inheritance'], [tensor(0.4865), 48, 16, 'FILE_MAF_20210728T202844Z_GMO_00000000007758_01', 1, 'traded that stuff like stocks and bonds']]\n"
     ]
    },
    {
     "data": {
      "application/vnd.jupyter.widget-view+json": {
       "model_id": "4ebc116d892142e3b33492878cb0e5b7",
       "version_major": 2,
       "version_minor": 0
      },
      "text/plain": [
       "  0%|          | 0/160 [00:00<?, ?it/s]"
      ]
     },
     "metadata": {},
     "output_type": "display_data"
    },
    {
     "name": "stdout",
     "output_type": "stream",
     "text": [
      "[[tensor(0.6147), 86, 17, 'FILE_MAF_20210824T160508Z_GMO_00000000316809_01', 0, \"it's more about spirituality and where man's going and where the earth's going and you know mother nature and the whole thing\"], [tensor(0.5349), 4, 17, 'FILE_MAF_20220211T201452Z_GMO_00000000001224_01', 3, ' sociology  yeah'], [tensor(0.5349), 74, 17, 'FILE_MAF_20220211T201452Z_GMO_00000000001224_01', 2, ' sociology  yeah'], [tensor(0.5143), 31, 17, 'FILE_MAF_20210802T164558Z_GMO_00000000001554_01', 0, 'indistinct conversations some forge their own course guided by faith seeking not a location but a kindred soul'], [tensor(0.5008), 67, 17, 'FILE_MAF_20210824T150833Z_GMO_00000000033323_01', 4, 'of every religion'], [tensor(0.4893), 31, 17, 'FILE_MAF_20210729T150932Z_GMO_00000000321386_01', 3, 'uh the circle of life'], [tensor(0.4811), 29, 17, 'FILE_MAF_20211223T143221Z_GMO_00000000343596_01', 3, 'a spiritual nexus is a point of incredible energy'], [tensor(0.4611), 20, 17, 'FILE_MAF_20220213T011403Z_GMO_00000000014870_01', 1, 'peace prosperity'], [tensor(0.4561), 20, 17, 'FILE_MAF_20211223T143221Z_GMO_00000000343596_01', 1, 'metaphysicists believe the land to be what they call a spiritual nexus'], [tensor(0.4547), 80, 17, 'FILE_MAF_20210729T030645Z_GMO_00000000040646_01', 1, 'i will deal with this later after i meditate'], [tensor(0.4542), 129, 17, 'FILE_MAF_20210729T235115Z_GMO_00000000346783_01', 0, 'stuff and nonsense'], [tensor(0.4534), 30, 17, 'FILE_MAF_20210728T162831Z_GMO_00000000007007_01', 1, 'so we need topics for conversation'], [tensor(0.4518), 65, 17, 'FILE_MAF_20220213T093757Z_GMO_00000000031571_01', 1, 'just about everything like adam and you and her'], [tensor(0.4495), 74, 17, 'FILE_MAF_20211222T231607Z_GMO_00000000294982_01', 2, ' ancient history'], [tensor(0.4409), 23, 17, 'FILE_MAF_20211223T143223Z_GMO_00000000343629_01', 4, 'knowledge and reverence'], [tensor(0.4391), 307, 17, 'FILE_MAF_20210809T184656Z_GMO_00000000171499_01', 0, 'in the lives of and that love'], [tensor(0.4381), 56, 17, 'FILE_MAF_20220213T003335Z_GMO_00000000010677_01', 0, ' anyone and everything in the world'], [tensor(0.4364), 25, 17, 'FILE_MAF_20220214T042351Z_GMO_00000000137227_01', 5, ' what you come out here for i want to inspire the world'], [tensor(0.4323), 68, 17, 'FILE_MAF_20211223T143227Z_GMO_00000000343625_01', 4, 'about who we all really are'], [tensor(0.4316), 25, 17, 'FILE_MAF_20220212T184828Z_GMO_00000000007284_01', 5, 'a new life new identity']]\n"
     ]
    },
    {
     "data": {
      "application/vnd.jupyter.widget-view+json": {
       "model_id": "67eae3011ee7456384f8d3124a2d64b6",
       "version_major": 2,
       "version_minor": 0
      },
      "text/plain": [
       "  0%|          | 0/160 [00:00<?, ?it/s]"
      ]
     },
     "metadata": {},
     "output_type": "display_data"
    },
    {
     "name": "stdout",
     "output_type": "stream",
     "text": [
      "[[tensor(0.5878), 72, 18, 'FILE_MAF_20211105T111151Z_GMO_00000000121681_01', 4, ' you know it is science'], [tensor(0.5865), 19, 18, 'FILE_MAF_20210802T164558Z_GMO_00000000001554_01', 0, 'i know a scientist'], [tensor(0.5861), 38, 18, 'FILE_MAF_20210809T200440Z_GMO_00000000292342_01', 2, \"i'm good at science 10000%\"], [tensor(0.5537), 28, 18, 'FILE_MAF_20220212T194614Z_GMO_00000000007318_01', 1, \" you're the scientist\"], [tensor(0.5356), 60, 18, 'FILE_MAF_20210729T043320Z_GMO_00000000040619_01', 2, \"i'm not a science guy\"], [tensor(0.5192), 141, 18, 'FILE_MAF_20220212T223751Z_GMO_00000000009281_01', 2, ' and pretty quickly we get into a discussion of science'], [tensor(0.4823), 27, 18, 'FILE_MAF_20220213T011356Z_GMO_00000000014862_01', 1, \"it's the sort of cuttingedge science we used to talk about late into the night\"], [tensor(0.4559), 48, 18, 'FILE_MAF_20220213T010346Z_GMO_00000000014872_01', 1, \"i'm a geneticist\"], [tensor(0.4559), 29, 18, 'FILE_MAF_20220212T184828Z_GMO_00000000007284_01', 0, \"i'm a geneticist\"], [tensor(0.4400), 107, 18, 'FILE_MAF_20211223T202630Z_GMO_00000000343584_01', 2, 'this is my grant my experiment'], [tensor(0.4364), 19, 18, 'FILE_MAF_20210825T013306Z_GMO_00000000360252_01', 0, 'danielson your new science teacher'], [tensor(0.4324), 74, 18, 'FILE_MAF_20220211T201452Z_GMO_00000000001224_01', 2, ' sociology  yeah'], [tensor(0.4324), 4, 18, 'FILE_MAF_20220211T201452Z_GMO_00000000001224_01', 3, ' sociology  yeah'], [tensor(0.4322), 11, 18, 'FILE_MAF_20210824T153450Z_GMO_00000000294170_01', 1, \"there's a little bit of physical chemistry\"], [tensor(0.4311), 14, 18, 'FILE_MAF_20220213T011915Z_GMO_00000000014864_01', 2, 'what makes things'], [tensor(0.4230), 28, 18, 'FILE_MAF_20210824T142523Z_GMO_00000000027747_01', 1, ' anatomy class right now'], [tensor(0.4130), 318, 18, 'FILE_MAF_20220213T011912Z_GMO_00000000022391_01', 0, \"biology wasn'’t my strong suit\"], [tensor(0.4103), 20, 18, 'FILE_MAF_20211223T143223Z_GMO_00000000343629_01', 2, \"we're quick studies\"], [tensor(0.4072), 5, 18, 'FILE_MAF_20220212T185028Z_GMO_00000000007263_01', 4, \"i'm sort of into genetics too\"], [tensor(0.4067), 0, 18, 'FILE_MAF_20220213T182741Z_GMO_00000000041022_01', 4, ' in the culinary world']]\n"
     ]
    },
    {
     "data": {
      "application/vnd.jupyter.widget-view+json": {
       "model_id": "435ca4a24cab48e0aa7b40ed920c951c",
       "version_major": 2,
       "version_minor": 0
      },
      "text/plain": [
       "  0%|          | 0/160 [00:00<?, ?it/s]"
      ]
     },
     "metadata": {},
     "output_type": "display_data"
    },
    {
     "name": "stdout",
     "output_type": "stream",
     "text": [
      "[[tensor(0.6181), 73, 19, 'FILE_MAF_20211105T085331Z_GMO_00000000121678_01', 0, \"shoppers be shoppin'\"], [tensor(0.6106), 74, 19, 'FILE_MAF_20220215T013219Z_GMO_00000000312912_01', 0, ' so you guys are actually going shopping right now'], [tensor(0.6046), 78, 19, 'FILE_MAF_20220214T211212Z_GMO_00000000284516_01', 0, 'sighs  i hate shopping'], [tensor(0.5773), 94, 19, 'FILE_MAF_20210729T123329Z_GMO_00000000321263_01', 1, \"i've got some shopping to do\"], [tensor(0.5380), 25, 19, 'FILE_MAF_20210729T123329Z_GMO_00000000321263_01', 0, \"i was shopping for dad's present\"], [tensor(0.5329), 201, 19, 'FILE_MAF_20210729T073651Z_GMO_00000000044264_01', 3, 'donna went shopping'], [tensor(0.5313), 61, 19, 'FILE_MAF_20210825T002729Z_GMO_00000000316811_01', 4, \" now are you guys looking to purchase or are you guys just kind of looking around  we're just kind of looking around\"], [tensor(0.5306), 57, 19, 'FILE_MAF_20211105T221829Z_GMO_00000000121675_01', 2, ' anything in the store'], [tensor(0.5298), 70, 19, 'FILE_MAF_20211106T231656Z_GMO_00000000017733_01', 4, 'buying gifts all that stuff'], [tensor(0.5284), 170, 19, 'FILE_MAF_20220214T231527Z_GMO_00000000312919_01', 0, ' 30 minutes to shop'], [tensor(0.5182), 62, 19, 'FILE_MAF_20220213T185507Z_GMO_00000000045335_01', 0, \"we're gonna go shopping in the market\"], [tensor(0.5174), 70, 19, 'FILE_MAF_20220212T223748Z_GMO_00000000009123_01', 0, 'i mean i shop online'], [tensor(0.5174), 37, 19, 'FILE_MAF_20210825T013306Z_GMO_00000000360252_01', 3, ' i need to stop shopping'], [tensor(0.5172), 128, 19, 'FILE_MAF_20220212T161334Z_GMO_00000000002504_01', 0, 'at home my mom does all the shopping'], [tensor(0.5025), 3, 19, 'FILE_MAF_20220215T035309Z_GMO_00000000293215_01', 1, 'so you have 45 minutes to shop and $250'], [tensor(0.4957), 33, 19, 'FILE_MAF_20210824T142522Z_GMO_00000000294142_01', 0, ' i\\'m like \"are we going shopping already\"  yes we are'], [tensor(0.4943), 26, 19, 'FILE_MAF_20211105T085331Z_GMO_00000000121678_01', 1, \" they're just women who think they'll literally shopping\"], [tensor(0.4919), 134, 19, 'FILE_MAF_20220215T092412Z_GMO_00000000364158_01', 0, ' shop for like 20 minutes on your own and then come together at 21 minutes'], [tensor(0.4872), 105, 19, 'FILE_MAF_20220215T092523Z_GMO_00000000410890_01', 0, 'you have $300 and 45 minutes to shop'], [tensor(0.4854), 22, 19, 'FILE_MAF_20211105T221413Z_GMO_00000000273414_01', 4, ' doing what  not going to the movies']]\n"
     ]
    },
    {
     "data": {
      "application/vnd.jupyter.widget-view+json": {
       "model_id": "bc3dd40aaea2446ba43f00e91ede9f65",
       "version_major": 2,
       "version_minor": 0
      },
      "text/plain": [
       "  0%|          | 0/160 [00:00<?, ?it/s]"
      ]
     },
     "metadata": {},
     "output_type": "display_data"
    },
    {
     "name": "stdout",
     "output_type": "stream",
     "text": [
      "[[tensor(0.6220), 117, 20, 'FILE_MAF_20220212T223748Z_GMO_00000000009123_01', 2, ' both: basketball'], [tensor(0.6205), 36, 20, 'FILE_MAF_20220214T231527Z_GMO_00000000312919_01', 1, '  same sports  thethe same sports'], [tensor(0.6170), 69, 20, 'FILE_MAF_20220510T214825Z_GMO_00000000398887_01', 2, 'we watched sports'], [tensor(0.5368), 23, 20, 'FILE_MAF_20211103T100337Z_GMO_00000000341651_01', 3, \"  it's not the sport\"], [tensor(0.5281), 20, 20, 'FILE_MAF_20210729T030534Z_GMO_00000000039104_01', 1, 'man we are athletes'], [tensor(0.5240), 9, 20, 'FILE_MAF_20220214T231527Z_GMO_00000000312919_01', 2, '  soccer interesting'], [tensor(0.5091), 36, 20, 'FILE_MAF_20211223T065126Z_GMO_00000000002685_01', 1, 'games is one thing'], [tensor(0.5064), 2, 20, 'FILE_MAF_20210731T020535Z_GMO_00000000040741_01', 4, 'playing football again'], [tensor(0.5024), 92, 20, 'FILE_MAF_20220213T005945Z_GMO_00000000012039_01', 0, '  yelling y people like sports'], [tensor(0.5018), 55, 20, 'FILE_MAF_20211103T100337Z_GMO_00000000341651_01', 1, \"  'cause it wasn't a sport\"], [tensor(0.4965), 39, 20, 'FILE_MAF_20211107T173011Z_GMO_00000000298266_01', 3, \" that's even worse okay i don't like sports\"], [tensor(0.4911), 60, 20, 'FILE_MAF_20211105T221830Z_GMO_00000000326366_01', 2, ' what  some next generation athletetype thing'], [tensor(0.4900), 118, 20, 'FILE_MAF_20210824T151133Z_GMO_00000000284944_01', 4, \"laughs he doesn't know sports\"], [tensor(0.4886), 74, 20, 'FILE_MAF_20210807T072641Z_GMO_00000000015471_01', 4, ' oldschool football'], [tensor(0.4856), 35, 20, 'FILE_MAF_20220213T173619Z_GMO_00000000039095_01', 3, 'talk about a whole mess of stuff besides football'], [tensor(0.4847), 56, 20, 'FILE_MAF_20210824T142517Z_GMO_00000000294126_01', 2, ' what sports  i played track softball basketball i did cheerleading'], [tensor(0.4828), 28, 20, 'FILE_MAF_20210728T184114Z_GMO_00000000007266_01', 2, 'played high school football'], [tensor(0.4781), 79, 20, 'FILE_MAF_20220505T091718Z_GMO_00000000354814_01', 1, '  ball ball ball'], [tensor(0.4780), 50, 20, 'FILE_MAF_20220505T091720Z_GMO_00000000354815_01', 3, 'the grades the sports'], [tensor(0.4771), 83, 20, 'FILE_MAF_20220214T231527Z_GMO_00000000312919_01', 0, \" what's your main event that youyou do  sevens\"]]\n"
     ]
    },
    {
     "data": {
      "application/vnd.jupyter.widget-view+json": {
       "model_id": "9b80d312ee914702adec0aa3be0cb54f",
       "version_major": 2,
       "version_minor": 0
      },
      "text/plain": [
       "  0%|          | 0/160 [00:00<?, ?it/s]"
      ]
     },
     "metadata": {},
     "output_type": "display_data"
    },
    {
     "name": "stdout",
     "output_type": "stream",
     "text": [
      "[[tensor(0.7093), 98, 21, 'FILE_MAF_20220214T231527Z_GMO_00000000312919_01', 6, \"let's talk about the fashion\"], [tensor(0.6516), 24, 21, 'FILE_MAF_20220215T035928Z_GMO_00000000312917_01', 7, '  stick to the fashion'], [tensor(0.6402), 60, 21, 'FILE_MAF_20220215T013225Z_GMO_00000000293209_01', 0, 'this is a place where fashion truly began'], [tensor(0.6300), 47, 21, 'FILE_MAF_20210825T002730Z_GMO_00000000312918_01', 0, \"from prada to dior to stella mccartney it's all about the tiedye\"], [tensor(0.6296), 43, 21, 'FILE_MAF_20220215T025352Z_GMO_00000000293217_01', 0, 'designers are now combining fashion with art and architecture pop culture to create full experiences for their fashion shows which leads me to your challenge'], [tensor(0.6246), 150, 21, 'FILE_MAF_20210824T153449Z_GMO_00000000293211_01', 1, \"what's happening what's going on in your world  you have a fashion editrix\"], [tensor(0.6124), 41, 21, 'FILE_MAF_20220215T005855Z_GMO_00000000293216_01', 5, 'this is the reason i love to do fashion'], [tensor(0.6101), 58, 21, 'FILE_MAF_20220215T013219Z_GMO_00000000312912_01', 7, ' fashion is an opportunity to dream'], [tensor(0.6058), 72, 21, 'FILE_MAF_20220215T013225Z_GMO_00000000293209_01', 7, '\" we\\'re here to see fashion'], [tensor(0.6052), 61, 21, 'FILE_MAF_20220215T012405Z_GMO_00000000293218_01', 1, ' it is a challenge sometimes to choose what goes into a fashion story'], [tensor(0.6021), 20, 21, 'FILE_MAF_20220215T013018Z_GMO_00000000312922_01', 3, 'talk to me about what the fashion says'], [tensor(0.5983), 41, 21, 'FILE_MAF_20210824T195751Z_GMO_00000000320273_01', 4, ' i understand that my dress is not so street style without a very perfect styling'], [tensor(0.5983), 30, 21, 'FILE_MAF_20220215T013014Z_GMO_00000000312910_01', 4, ' i understand that my dress is not so street style without a very perfect styling'], [tensor(0.5961), 39, 21, 'FILE_MAF_20220215T025352Z_GMO_00000000293217_01', 2, ' don\\'t get caught up with the \"glamour\" of fashion because we can tell you the glamour of fashion isn\\'t so glamorous sometimes'], [tensor(0.5953), 72, 21, 'FILE_MAF_20220212T223748Z_GMO_00000000009123_01', 0, ' the haute couture'], [tensor(0.5936), 152, 21, 'FILE_MAF_20220213T120643Z_GMO_00000000038929_01', 1, 'i came from fashion'], [tensor(0.5875), 27, 21, 'FILE_MAF_20220215T092412Z_GMO_00000000364158_01', 7, 'almost like high fashion and sportswear'], [tensor(0.5854), 14, 21, 'FILE_MAF_20220215T071532Z_GMO_00000000364163_01', 0, 'upbeat electronic music narrator: fashion designer christian siriano journalist elaine welteroth fashion designer brandon maxwell and editorinchief of \"elle\" magazine nina garcia are looking for america\\'s next great fashion designer'], [tensor(0.5854), 22, 21, 'FILE_MAF_20210825T013303Z_GMO_00000000293206_01', 6, 'the fashion world is always evolving but some things remain the same'], [tensor(0.5827), 40, 21, 'FILE_MAF_20210824T153449Z_GMO_00000000293211_01', 5, \" i've mixed fashion and this challenge very well\"]]\n"
     ]
    },
    {
     "data": {
      "application/vnd.jupyter.widget-view+json": {
       "model_id": "0f99dce2632d46ceae53cf3091ede286",
       "version_major": 2,
       "version_minor": 0
      },
      "text/plain": [
       "  0%|          | 0/160 [00:00<?, ?it/s]"
      ]
     },
     "metadata": {},
     "output_type": "display_data"
    },
    {
     "name": "stdout",
     "output_type": "stream",
     "text": [
      "[[tensor(0.6327), 20, 22, 'FILE_MAF_20210809T200239Z_GMO_00000000330183_01', 1, 'everything is technology'], [tensor(0.5217), 26, 22, 'FILE_MAF_20211105T111151Z_GMO_00000000121681_01', 1, 'which is very hightech'], [tensor(0.5056), 86, 22, 'FILE_MAF_20210728T162831Z_GMO_00000000007007_01', 0, \" ph um i'm goodat computer stuff\"], [tensor(0.4820), 10, 22, 'FILE_MAF_20210727T231237Z_GMO_00000000001660_01', 0, 'i am computron your answer to everything'], [tensor(0.4773), 48, 22, 'FILE_MAF_20210727T231237Z_GMO_00000000001660_01', 1, 'time and resources'], [tensor(0.4668), 59, 22, 'FILE_MAF_20210824T153449Z_GMO_00000000293211_01', 0, 'everything is in algorithms'], [tensor(0.4667), 472, 22, 'FILE_MAF_20220213T011911Z_GMO_00000000022389_01', 0, 'the operating system of our world'], [tensor(0.4644), 73, 22, 'FILE_MAF_20210728T163639Z_GMO_00000000007100_01', 1, 'now one importantlife preserver in business is it support'], [tensor(0.4632), 309, 22, 'FILE_MAF_20220213T005945Z_GMO_00000000012039_01', 0, \"i'm chief technology officer\"], [tensor(0.4630), 97, 22, 'FILE_MAF_20211106T183218Z_GMO_00000000298269_01', 2, \" scoffs  i'm setting up computers at a school there getting kids excited about stem\"], [tensor(0.4433), 51, 22, 'FILE_MAF_20220211T201452Z_GMO_00000000001224_01', 1, 'biotech firms game designers tech startups'], [tensor(0.4426), 61, 22, 'FILE_MAF_20211222T061241Z_GMO_00000000295406_01', 1, \"the stuff that i'm gonna be teaching in class today\"], [tensor(0.4415), 33, 22, 'FILE_MAF_20210728T202436Z_GMO_00000000007731_01', 5, 'pretty amazing technology'], [tensor(0.4260), 94, 22, 'FILE_MAF_20220212T223751Z_GMO_00000000009281_01', 1, ' in what way are you using innovation today'], [tensor(0.4188), 52, 22, 'FILE_MAF_20211223T063010Z_GMO_00000000002843_01', 1, 'what about computer forensics  what  we use them all the time'], [tensor(0.4152), 50, 22, 'FILE_MAF_20210727T231240Z_GMO_00000000001631_01', 1, 'cisco the human network'], [tensor(0.4063), 157, 22, 'FILE_MAF_20220215T082050Z_GMO_00000000370434_01', 0, \" okay i'm about to put forth economics\"], [tensor(0.4039), 60, 22, 'FILE_MAF_20220214T043107Z_GMO_00000000177644_01', 5, 'electronic music  ooh'], [tensor(0.4024), 16, 22, 'FILE_MAF_20210727T231033Z_GMO_00000000001596_01', 1, 'well obviously the finular analysis th any synergized will concur wi mindshare classifications'], [tensor(0.4012), 288, 22, 'FILE_MAF_20211223T064819Z_GMO_00000000002709_01', 0, \"it's mostly data entry\"]]\n"
     ]
    },
    {
     "data": {
      "application/vnd.jupyter.widget-view+json": {
       "model_id": "5e7e3006da5c4dc1aa615d93a3ec9c26",
       "version_major": 2,
       "version_minor": 0
      },
      "text/plain": [
       "  0%|          | 0/160 [00:00<?, ?it/s]"
      ]
     },
     "metadata": {},
     "output_type": "display_data"
    },
    {
     "name": "stdout",
     "output_type": "stream",
     "text": [
      "[[tensor(0.6834), 116, 23, 'FILE_MAF_20210802T164609Z_GMO_00000000044398_01', 0, 'television is your business'], [tensor(0.6602), 55, 23, 'FILE_MAF_20210729T030645Z_GMO_00000000040646_01', 2, \"the phone internet tv that's all us\"], [tensor(0.6306), 209, 23, 'FILE_MAF_20210806T001903Z_GMO_00000000049043_01', 0, ' do you like tv  no'], [tensor(0.6236), 44, 23, 'FILE_MAF_20210802T172723Z_GMO_00000000001586_01', 1, 'no television for you'], [tensor(0.5517), 113, 23, 'FILE_MAF_20210728T184114Z_GMO_00000000007266_01', 1, 'the tv had over 100 channels for god sakes'], [tensor(0.5511), 5, 23, 'FILE_MAF_20210729T122424Z_GMO_00000000321241_01', 2, \"there's no radio or television\"], [tensor(0.5301), 61, 23, 'FILE_MAF_20210729T035057Z_GMO_00000000040631_01', 0, 'if i know anything about television is a hit'], [tensor(0.5237), 88, 23, 'FILE_MAF_20220211T201452Z_GMO_00000000001224_01', 1, 'laughter tv is built into the wall'], [tensor(0.5217), 14, 23, 'FILE_MAF_20220213T173625Z_GMO_00000000039094_01', 2, 'tv plays guess what i have'], [tensor(0.5127), 147, 23, 'FILE_MAF_20210729T030534Z_GMO_00000000039104_01', 3, 'watching game film'], [tensor(0.5116), 21, 23, 'FILE_MAF_20210729T043320Z_GMO_00000000040619_01', 1, ' so much of television is really not fit for children or christians or the elderly'], [tensor(0.5113), 107, 23, 'FILE_MAF_20210729T163608Z_GMO_00000000321442_01', 2, 'gunfire on tv artie'], [tensor(0.5075), 18, 23, 'FILE_MAF_20211223T065127Z_GMO_00000000002637_01', 1, 'tv in background otis you empty the pot you gotta make a new one'], [tensor(0.5035), 3, 23, 'FILE_MAF_20220214T005215Z_GMO_00000000137236_01', 4, \" laughter  i've been on tv for a lot of years\"], [tensor(0.5034), 56, 23, 'FILE_MAF_20210729T004129Z_GMO_00000000028368_01', 1, 'i studied tv theory at kentucky mountain bible college'], [tensor(0.5017), 86, 23, 'FILE_MAF_20220213T005945Z_GMO_00000000012039_01', 0, \"like what that's not a tv show bro\"], [tensor(0.5003), 2, 23, 'FILE_MAF_20210824T142523Z_GMO_00000000027747_01', 3, 'that and cartoons'], [tensor(0.4876), 27, 23, 'FILE_MAF_20211116T134039Z_GMO_00000000341646_01', 1, ' tv turns off come see me when you do'], [tensor(0.4862), 45, 23, 'FILE_MAF_20210730T172125Z_GMO_00000000044284_01', 0, \" i try to present the story  look who's on television\"], [tensor(0.4827), 32, 23, 'FILE_MAF_20211105T221830Z_GMO_00000000273412_01', 0, \" mommy's on tv  oh\"]]\n"
     ]
    },
    {
     "data": {
      "application/vnd.jupyter.widget-view+json": {
       "model_id": "f6e9c0b7cd1841a68bba91ecc71d31d0",
       "version_major": 2,
       "version_minor": 0
      },
      "text/plain": [
       "  0%|          | 0/160 [00:00<?, ?it/s]"
      ]
     },
     "metadata": {},
     "output_type": "display_data"
    },
    {
     "name": "stdout",
     "output_type": "stream",
     "text": [
      "[[tensor(0.6567), 92, 24, 'FILE_MAF_20211106T220331Z_GMO_00000000012363_01', 0, \"i don't mind the traveling\"], [tensor(0.6379), 19, 24, 'FILE_MAF_20210729T093648Z_GMO_00000000044308_01', 1, 'i travel travel light'], [tensor(0.5987), 21, 24, 'FILE_MAF_20220212T194614Z_GMO_00000000007318_01', 6, \"it's a long trip\"], [tensor(0.5949), 66, 24, 'FILE_MAF_20211222T214633Z_GMO_00000000027055_01', 1, \" yo i've seen the way this guy likes to travel\"], [tensor(0.5666), 34, 24, 'FILE_MAF_20220215T012707Z_GMO_00000000288641_01', 6, ' to head to monaco'], [tensor(0.5573), 89, 24, 'FILE_MAF_20220213T093448Z_GMO_00000000031317_01', 3, ' but you travel a lot'], [tensor(0.5562), 37, 24, 'FILE_MAF_20210802T172725Z_GMO_00000000001589_01', 0, ' avoid the airports'], [tensor(0.5558), 124, 24, 'FILE_MAF_20220213T093757Z_GMO_00000000031571_01', 0, 'where do you want to go  all over'], [tensor(0.5536), 15, 24, 'FILE_MAF_20210728T163134Z_GMO_00000000007137_01', 2, ' to meet my family'], [tensor(0.5495), 66, 24, 'FILE_MAF_20210728T184114Z_GMO_00000000007266_01', 2, 'far away from home'], [tensor(0.5445), 10, 24, 'FILE_MAF_20211106T183218Z_GMO_00000000298269_01', 4, ' like go to kenya'], [tensor(0.5439), 27, 24, 'FILE_MAF_20220214T042858Z_GMO_00000000137235_01', 0, 'so you travel with your best friends wow'], [tensor(0.5428), 51, 24, 'FILE_MAF_20220212T161334Z_GMO_00000000002504_01', 1, ' itinerary requests'], [tensor(0.5417), 220, 24, 'FILE_MAF_20211223T065128Z_GMO_00000000002584_01', 1, 'i want to see my family'], [tensor(0.5417), 102, 24, 'FILE_MAF_20211105T085331Z_GMO_00000000121678_01', 0, \" it's better traveled than me\"], [tensor(0.5399), 177, 24, 'FILE_MAF_20211223T065129Z_GMO_00000000009448_01', 1, 'trip with my class'], [tensor(0.5394), 38, 24, 'FILE_MAF_20210824T142523Z_GMO_00000000027747_01', 4, \" we're on this trip to see the world\"], [tensor(0.5365), 2, 24, 'FILE_MAF_20211103T092107Z_GMO_00000000273413_01', 4, 'your traveling game is on point'], [tensor(0.5341), 8, 24, 'FILE_MAF_20210730T233513Z_GMO_00000000044080_01', 3, 'to the island to visit my sister'], [tensor(0.5336), 25, 24, 'FILE_MAF_20220212T223751Z_GMO_00000000009281_01', 2, 'kind of going to unknown territories']]\n"
     ]
    },
    {
     "data": {
      "application/vnd.jupyter.widget-view+json": {
       "model_id": "7d0462b1ab67435492ea0e8855931c9b",
       "version_major": 2,
       "version_minor": 0
      },
      "text/plain": [
       "  0%|          | 0/160 [00:00<?, ?it/s]"
      ]
     },
     "metadata": {},
     "output_type": "display_data"
    },
    {
     "name": "stdout",
     "output_type": "stream",
     "text": [
      "[[tensor(0.5807), 61, 25, 'FILE_MAF_20211106T201721Z_GMO_00000000298262_01', 2, 'anything you want to pick to feature the watch something about gaming'], [tensor(0.5711), 36, 25, 'FILE_MAF_20211223T065126Z_GMO_00000000002685_01', 1, 'games is one thing'], [tensor(0.5391), 65, 25, 'FILE_MAF_20211103T092113Z_GMO_00000000296345_01', 2, '  go play video games'], [tensor(0.5282), 23, 25, 'FILE_MAF_20210729T120911Z_GMO_00000000044348_01', 2, ' no games mind you'], [tensor(0.5079), 62, 25, 'FILE_MAF_20210824T153449Z_GMO_00000000293211_01', 2, ' rakan what kind of video games do you play  growing up i was in love with \"the sims'], [tensor(0.4876), 147, 25, 'FILE_MAF_20210729T030534Z_GMO_00000000039104_01', 3, 'watching game film'], [tensor(0.4842), 42, 25, 'FILE_MAF_20210824T142517Z_GMO_00000000294126_01', 0, \"what do you want to play  i don't know\"], [tensor(0.4808), 16, 25, 'FILE_MAF_20211105T221618Z_GMO_00000000341638_01', 2, 'video game beeping  hey'], [tensor(0.4645), 80, 25, 'FILE_MAF_20210824T153450Z_GMO_00000000294170_01', 1, 'sometimes i like to play a game of dungeons & dragons hang out with my friends play some video games work on some music and smoke questionable things'], [tensor(0.4543), 42, 25, 'FILE_MAF_20210824T153449Z_GMO_00000000293211_01', 0, '  designers there are all kinds of video games and all kinds of women out there'], [tensor(0.4488), 63, 25, 'FILE_MAF_20210728T183513Z_GMO_00000000007330_01', 1, 'watching some of your friends'], [tensor(0.4392), 91, 25, 'FILE_MAF_20220213T120643Z_GMO_00000000038929_01', 3, \" i don't play games\"], [tensor(0.4265), 140, 25, 'FILE_MAF_20220510T214825Z_GMO_00000000398885_01', 1, 'game recognize game'], [tensor(0.4258), 343, 25, 'FILE_MAF_20220213T011912Z_GMO_00000000022391_01', 0, \"every hacker'’s favorite sport\"], [tensor(0.4239), 54, 25, 'FILE_MAF_20210727T231033Z_GMO_00000000001596_01', 2, 'are you seriously talking about video games oh hey jenna'], [tensor(0.4199), 81, 25, 'FILE_MAF_20210729T025615Z_GMO_00000000040663_01', 2, 'just like most games'], [tensor(0.4199), 2, 25, 'FILE_MAF_20210729T025615Z_GMO_00000000040663_01', 3, 'just like most games'], [tensor(0.4187), 38, 25, 'FILE_MAF_20211105T221829Z_GMO_00000000121675_01', 2, ' do you wanna go play some video games  yeah definitely'], [tensor(0.4183), 30, 25, 'FILE_MAF_20210809T200239Z_GMO_00000000330183_01', 1, \"like we'll go outside play video games\"], [tensor(0.4177), 48, 25, 'FILE_MAF_20210809T200239Z_GMO_00000000330183_01', 2, ' piano playing  ']]\n"
     ]
    },
    {
     "data": {
      "application/vnd.jupyter.widget-view+json": {
       "model_id": "0b3e42dbb0024e89a4216db06748f0c6",
       "version_major": 2,
       "version_minor": 0
      },
      "text/plain": [
       "  0%|          | 0/160 [00:00<?, ?it/s]"
      ]
     },
     "metadata": {},
     "output_type": "display_data"
    },
    {
     "name": "stdout",
     "output_type": "stream",
     "text": [
      "[[tensor(0.5678), 44, 26, 'FILE_MAF_20220215T092523Z_GMO_00000000410890_01', 1, ' alternative styles'], [tensor(0.4736), 12, 26, 'FILE_MAF_20220215T012405Z_GMO_00000000293218_01', 1, 'where i might have done a headtotoe print look i put in a plain shirt and changed a jacket that was gonna be printed to be solid with a printed lining'], [tensor(0.4420), 20, 26, 'FILE_MAF_20220215T012405Z_GMO_00000000293218_01', 2, 'i want you to create an outerwear look and i want it to be streetinspired'], [tensor(0.4400), 60, 26, 'FILE_MAF_20220215T012405Z_GMO_00000000293218_01', 4, \"it's just use patchwork make it more streetwear or outerwear\"], [tensor(0.4364), 89, 26, 'FILE_MAF_20220212T223748Z_GMO_00000000009123_01', 2, 'we gonna do all kind of styles'], [tensor(0.4304), 4, 26, 'FILE_MAF_20220213T010346Z_GMO_00000000014850_01', 5, 'everybody has such a different style and background'], [tensor(0.4304), 2, 26, 'FILE_MAF_20210824T153449Z_GMO_00000000293211_01', 7, ' the styling is fantastic'], [tensor(0.4297), 61, 26, 'FILE_MAF_20220215T013014Z_GMO_00000000312910_01', 7, ' and ticks the box of street style'], [tensor(0.4297), 78, 26, 'FILE_MAF_20210824T195751Z_GMO_00000000320273_01', 7, ' and ticks the box of street style'], [tensor(0.4271), 14, 26, 'FILE_MAF_20220213T120945Z_GMO_00000000038934_01', 0, \"it's all about style\"], [tensor(0.4267), 81, 26, 'FILE_MAF_20220215T013014Z_GMO_00000000312910_01', 6, ' but as a style definitely looks nice'], [tensor(0.4267), 90, 26, 'FILE_MAF_20210824T195751Z_GMO_00000000320273_01', 6, ' but as a style definitely looks nice'], [tensor(0.4210), 62, 26, 'FILE_MAF_20220213T120945Z_GMO_00000000038934_01', 2, 'everything is really custom done'], [tensor(0.4205), 100, 26, 'FILE_MAF_20220215T092523Z_GMO_00000000410890_01', 6, ' my inspiration originally was the tokyo streetwear so i wanted to create a lot of volumes clean lines and just very clean and fresh'], [tensor(0.4195), 108, 26, 'FILE_MAF_20220215T013018Z_GMO_00000000312922_01', 0, 'it almost needs no styling'], [tensor(0.4178), 74, 26, 'FILE_MAF_20220215T092412Z_GMO_00000000364158_01', 0, ' what kind of styles do you guys design  sparkle sequins and streetwear'], [tensor(0.4150), 40, 26, 'FILE_MAF_20220215T025352Z_GMO_00000000293217_01', 6, ' what i wanted to do was a look that you could strip down to nothing'], [tensor(0.4085), 11, 26, 'FILE_MAF_20210730T075043Z_GMO_00000000321462_01', 2, \"the detailing well it's inspired\"], [tensor(0.4082), 7, 26, 'FILE_MAF_20220215T013014Z_GMO_00000000312910_01', 8, 'it looks street style'], [tensor(0.4082), 27, 26, 'FILE_MAF_20210824T195751Z_GMO_00000000320273_01', 8, 'it looks street style']]\n"
     ]
    },
    {
     "data": {
      "application/vnd.jupyter.widget-view+json": {
       "model_id": "3369a1dc381749beb58c5088297a5ba8",
       "version_major": 2,
       "version_minor": 0
      },
      "text/plain": [
       "  0%|          | 0/160 [00:00<?, ?it/s]"
      ]
     },
     "metadata": {},
     "output_type": "display_data"
    },
    {
     "name": "stdout",
     "output_type": "stream",
     "text": [
      "[[tensor(0.5393), 54, 27, 'FILE_MAF_20210802T225204Z_GMO_00000000007468_01', 0, 'michael buy a motorcycle'], [tensor(0.4952), 109, 27, 'FILE_MAF_20220213T120643Z_GMO_00000000038929_01', 2, \" they're actually motorized\"], [tensor(0.4712), 82, 27, 'FILE_MAF_20210729T235115Z_GMO_00000000346783_01', 1, ' sinderby  the riders are outside'], [tensor(0.4698), 126, 27, 'FILE_MAF_20211223T065125Z_GMO_00000000027759_01', 1, \" how'd you get here  my bike\"], [tensor(0.4653), 16, 27, 'FILE_MAF_20210809T200440Z_GMO_00000000292342_01', 2, 'what kind of bike you got i used to have a bike'], [tensor(0.4605), 148, 27, 'FILE_MAF_20210727T231238Z_GMO_00000000001594_01', 2, 'we can go upstate on my new motorcycle'], [tensor(0.4568), 34, 27, 'FILE_MAF_20220215T082050Z_GMO_00000000370434_01', 0, 'these  hot wheels'], [tensor(0.4513), 32, 27, 'FILE_MAF_20211222T214941Z_GMO_00000000121162_01', 3, 'mouch how you feeling  like riding a bike lieutenant'], [tensor(0.4493), 57, 27, 'FILE_MAF_20220215T035307Z_GMO_00000000325452_01', 0, \"there's a motorized surfboard that we're gonna ride\"], [tensor(0.4486), 81, 27, 'FILE_MAF_20210729T030645Z_GMO_00000000040646_01', 1, ' cycle i forgot i sponsored the dude that won the tour de france'], [tensor(0.4406), 44, 27, 'FILE_MAF_20220215T013219Z_GMO_00000000312912_01', 1, 'tune.tune.  i love upcycling so freaking much'], [tensor(0.4392), 11, 27, 'FILE_MAF_20220213T185709Z_GMO_00000000047424_01', 0, ' what is this  grab the biker'], [tensor(0.4362), 39, 27, 'FILE_MAF_20210729T030521Z_GMO_00000000022500_01', 0, ' do people ride these  not big people'], [tensor(0.4324), 108, 27, 'FILE_MAF_20210825T012852Z_GMO_00000000348725_01', 1, \" that's the gyro or giro or geero\"], [tensor(0.4295), 4, 27, 'FILE_MAF_20210730T054034Z_GMO_00000000321280_01', 2, \"it's just like riding a bicyclist\"], [tensor(0.4287), 219, 27, 'FILE_MAF_20211109T073412Z_GMO_00000000012360_01', 2, \"i've never driven one and it\"], [tensor(0.4282), 12, 27, 'FILE_MAF_20220215T092524Z_GMO_00000000390298_01', 1, ' some nice wheels'], [tensor(0.4221), 6, 27, 'FILE_MAF_20210729T024008Z_GMO_00000000040660_01', 1, \"you know the only celebrity i've ever met was evel knievel's motorcycle\"], [tensor(0.4201), 46, 27, 'FILE_MAF_20211105T221830Z_GMO_00000000273412_01', 0, ' what kind of cars  ah blue ones green ones'], [tensor(0.4200), 67, 27, 'FILE_MAF_20211105T221413Z_GMO_00000000273414_01', 1, ' one of those fly rides from the commercials']]\n"
     ]
    },
    {
     "data": {
      "application/vnd.jupyter.widget-view+json": {
       "model_id": "46fa325bca3c4c7abfb296a1455af540",
       "version_major": 2,
       "version_minor": 0
      },
      "text/plain": [
       "  0%|          | 0/160 [00:00<?, ?it/s]"
      ]
     },
     "metadata": {},
     "output_type": "display_data"
    },
    {
     "name": "stdout",
     "output_type": "stream",
     "text": [
      "[[tensor(0.4824), 184, 28, 'FILE_MAF_20210730T234421Z_GMO_00000000044076_01', 3, \"highway patrol's sending a unit out to pick him up\"], [tensor(0.4726), 59, 28, 'FILE_MAF_20220213T184650Z_GMO_00000000047418_01', 1, 'eyes on the road in front of you'], [tensor(0.4726), 59, 28, 'FILE_MAF_20220213T184650Z_GMO_00000000047418_01', 2, 'eyes on the road in front of you'], [tensor(0.4578), 18, 28, 'FILE_MAF_20210802T172724Z_GMO_00000000142561_01', 4, 'vehicle approaching  excuse me'], [tensor(0.4508), 73, 28, 'FILE_MAF_20220213T185405Z_GMO_00000000045315_01', 0, ' drive safely getting back home'], [tensor(0.4479), 39, 28, 'FILE_MAF_20211106T220217Z_GMO_00000000124439_01', 4, \"so if this is the vehicle that you used on this path to paradise and this vehicle has now broken down it's abandoned on the side of the road your job is to figure out how to repair this vehicle\"], [tensor(0.4441), 17, 28, 'FILE_MAF_20211222T214633Z_GMO_00000000027055_01', 1, 'truck backing up back her up'], [tensor(0.4413), 98, 28, 'FILE_MAF_20210729T163608Z_GMO_00000000321442_01', 2, 'i can drive myself'], [tensor(0.4362), 55, 28, 'FILE_MAF_20220213T120945Z_GMO_00000000038934_01', 4, 'just pull up behind that car on the right'], [tensor(0.4294), 55, 28, 'FILE_MAF_20220213T010346Z_GMO_00000000014872_01', 0, 'switch cars stay to the back roads'], [tensor(0.4253), 69, 28, 'FILE_MAF_20220213T173626Z_GMO_00000000039366_01', 2, \"sorry i'm late but where i'm going i don't need roads\"], [tensor(0.4230), 50, 28, 'FILE_MAF_20211222T230805Z_GMO_00000000273733_01', 0, \" help help please  we have a victim underneath will you back off ma'am casey take the driver\"], [tensor(0.4224), 156, 28, 'FILE_MAF_20220215T035934Z_GMO_00000000327844_01', 1, ' getting ready to get in the passing lane duh'], [tensor(0.4213), 80, 28, 'FILE_MAF_20210806T042833Z_GMO_00000000049038_01', 0, 'do you know how to drive yes or no question'], [tensor(0.4212), 84, 28, 'FILE_MAF_20220215T013014Z_GMO_00000000312910_01', 1, ' our roads are very bad but'], [tensor(0.4212), 102, 28, 'FILE_MAF_20210824T195751Z_GMO_00000000320273_01', 1, ' our roads are very bad but'], [tensor(0.4166), 45, 28, 'FILE_MAF_20211222T214941Z_GMO_00000000121162_01', 3, ' truck squad search and evacuate'], [tensor(0.4166), 299, 28, 'FILE_MAF_20210809T184702Z_GMO_00000000171498_01', 0, 'officer needs immediate assistance'], [tensor(0.4159), 112, 28, 'FILE_MAF_20220213T120945Z_GMO_00000000038934_01', 0, ' you do work i drive'], [tensor(0.4100), 69, 28, 'FILE_MAF_20220215T035307Z_GMO_00000000325452_01', 1, \"are you comfortable driving the rescue tender i don't feel comfortable taking a whole bunch of intoxicated people\"]]\n"
     ]
    },
    {
     "data": {
      "application/vnd.jupyter.widget-view+json": {
       "model_id": "b57e5fd3db5043a1985b7e2302b47513",
       "version_major": 2,
       "version_minor": 0
      },
      "text/plain": [
       "  0%|          | 0/160 [00:00<?, ?it/s]"
      ]
     },
     "metadata": {},
     "output_type": "display_data"
    }
   ],
   "source": [
    "dict_top20=topksentences(Relevance_dict)"
   ]
  },
  {
   "cell_type": "code",
   "execution_count": 38,
   "metadata": {},
   "outputs": [],
   "source": [
    "df11=pd.DataFrame.from_dict(dict_top20)"
   ]
  },
  {
   "cell_type": "code",
   "execution_count": 39,
   "metadata": {},
   "outputs": [
    {
     "data": {
      "text/html": [
       "<div>\n",
       "<style scoped>\n",
       "    .dataframe tbody tr th:only-of-type {\n",
       "        vertical-align: middle;\n",
       "    }\n",
       "\n",
       "    .dataframe tbody tr th {\n",
       "        vertical-align: top;\n",
       "    }\n",
       "\n",
       "    .dataframe thead th {\n",
       "        text-align: right;\n",
       "    }\n",
       "</style>\n",
       "<table border=\"1\" class=\"dataframe\">\n",
       "  <thead>\n",
       "    <tr style=\"text-align: right;\">\n",
       "      <th></th>\n",
       "      <th>Adword</th>\n",
       "      <th>Text</th>\n",
       "      <th>Score</th>\n",
       "    </tr>\n",
       "  </thead>\n",
       "  <tbody>\n",
       "    <tr>\n",
       "      <th>0</th>\n",
       "      <td>Men's Formal Wear</td>\n",
       "      <td>vehicle accident</td>\n",
       "      <td>0.5168</td>\n",
       "    </tr>\n",
       "    <tr>\n",
       "      <th>1</th>\n",
       "      <td>Men's Formal Wear</td>\n",
       "      <td>vehicle accident</td>\n",
       "      <td>0.5168</td>\n",
       "    </tr>\n",
       "    <tr>\n",
       "      <th>2</th>\n",
       "      <td>Men's Formal Wear</td>\n",
       "      <td>welcome to the royal automobile club</td>\n",
       "      <td>0.5100</td>\n",
       "    </tr>\n",
       "    <tr>\n",
       "      <th>3</th>\n",
       "      <td>Men's Formal Wear</td>\n",
       "      <td>um what kind of car are you driving  porsche c...</td>\n",
       "      <td>0.5041</td>\n",
       "    </tr>\n",
       "    <tr>\n",
       "      <th>4</th>\n",
       "      <td>Men's Formal Wear</td>\n",
       "      <td>so you really are a car man</td>\n",
       "      <td>0.5007</td>\n",
       "    </tr>\n",
       "  </tbody>\n",
       "</table>\n",
       "</div>"
      ],
      "text/plain": [
       "              Adword                                               Text  \\\n",
       "0  Men's Formal Wear                                   vehicle accident   \n",
       "1  Men's Formal Wear                                   vehicle accident   \n",
       "2  Men's Formal Wear               welcome to the royal automobile club   \n",
       "3  Men's Formal Wear  um what kind of car are you driving  porsche c...   \n",
       "4  Men's Formal Wear                        so you really are a car man   \n",
       "\n",
       "    Score  \n",
       "0  0.5168  \n",
       "1  0.5168  \n",
       "2  0.5100  \n",
       "3  0.5041  \n",
       "4  0.5007  "
      ]
     },
     "execution_count": 39,
     "metadata": {},
     "output_type": "execute_result"
    }
   ],
   "source": [
    "df11.head()"
   ]
  },
  {
   "cell_type": "code",
   "execution_count": 40,
   "metadata": {},
   "outputs": [],
   "source": [
    "df11.to_csv(\"Top20Sentences.csv\")"
   ]
  },
  {
   "cell_type": "code",
   "execution_count": null,
   "metadata": {},
   "outputs": [],
   "source": []
  }
 ],
 "metadata": {
  "kernelspec": {
   "display_name": "Python 3.9.12 ('base')",
   "language": "python",
   "name": "python3"
  },
  "language_info": {
   "codemirror_mode": {
    "name": "ipython",
    "version": 3
   },
   "file_extension": ".py",
   "mimetype": "text/x-python",
   "name": "python",
   "nbconvert_exporter": "python",
   "pygments_lexer": "ipython3",
   "version": "3.10.4"
  },
  "orig_nbformat": 4,
  "vscode": {
   "interpreter": {
    "hash": "4f8fa3e926face00369008f823e0a800506eaa9d6c726ba0fbe6c8d0f6896eaa"
   }
  }
 },
 "nbformat": 4,
 "nbformat_minor": 2
}
