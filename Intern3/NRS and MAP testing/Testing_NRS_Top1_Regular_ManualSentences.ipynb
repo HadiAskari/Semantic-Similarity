{
 "cells": [
  {
   "cell_type": "code",
   "execution_count": 1,
   "metadata": {},
   "outputs": [],
   "source": [
    "import pickle \n",
    "import pandas as pd\n",
    "import spacy\n",
    "from tqdm.auto import tqdm\n",
    "from sklearn.metrics.pairwise import cosine_similarity\n",
    "from tqdm.notebook import tqdm\n",
    "tqdm.pandas()\n",
    "import re\n",
    "import transformers\n",
    "from sentence_transformers import SentenceTransformer, util\n",
    "import nltk\n",
    "from nltk import tokenize\n",
    "import pickle\n",
    "import urllib.request as requests\n",
    "import json\n",
    "import statistics\n",
    "import torch\n",
    "from collections import defaultdict\n",
    "import copy\n",
    "import math"
   ]
  },
  {
   "cell_type": "code",
   "execution_count": 3,
   "metadata": {},
   "outputs": [
    {
     "name": "stderr",
     "output_type": "stream",
     "text": [
      "[nltk_data] Downloading package punkt to /Users/haskar140/nltk_data...\n",
      "[nltk_data]   Package punkt is already up-to-date!\n"
     ]
    }
   ],
   "source": [
    "nltk.download('punkt')\n",
    "nlp = spacy.load(\"en_core_web_lg\")\n",
    "model = SentenceTransformer('all-mpnet-base-v2')\n",
    "\n",
    "df=pd.read_csv('gmo_to_uniqueId.csv')\n",
    "materialID=df['lastRunJob'].to_list()\n",
    "\n",
    "with open('PreProcessed_segmented.pkl', 'rb') as f:\n",
    "    newmetalist=pickle.load(f)\n",
    "\n",
    "sampled_datadf=pd.read_csv(\"Sampled_Adword_Labeled.csv\")\n",
    "\n",
    "#For Normal process with target labels only\n",
    "\n",
    "df1=pd.read_csv('SentencesTargetDatabase.csv')\n",
    "target_dict=dict(zip(df1['Name'], df1.index))"
   ]
  },
  {
   "cell_type": "code",
   "execution_count": 4,
   "metadata": {},
   "outputs": [],
   "source": [
    "def clean(text):\n",
    "    text=text.lower()\n",
    "    text=text.replace(\"(\", \"\")\n",
    "    text=text.replace(\")\", \"\")\n",
    "    text=text.replace(\";\", \"\")\n",
    "    text=text.replace(\",\", \"\")\n",
    "    text=text.replace(\"+\", \"\")\n",
    "    text=text.replace(\".\", \"\")\n",
    "    text=text.replace(\"&\", \"\")\n",
    "    return text"
   ]
  },
  {
   "cell_type": "code",
   "execution_count": 5,
   "metadata": {},
   "outputs": [],
   "source": [
    "def process_text(text):\n",
    "    #doc = self.nlp(unicode(text.lower()))\n",
    "    text=text.replace('\\\\n', ' ')\n",
    "    doc = nlp(text.lower())\n",
    "    result = []\n",
    "    for token in doc:\n",
    "        if token.text in nlp.Defaults.stop_words:\n",
    "            continue\n",
    "        if token.is_punct:\n",
    "            continue\n",
    "        if token.lemma_ == '-PRON-':\n",
    "            continue\n",
    "        result.append(token.lemma_)\n",
    "    return nlp(\" \".join(result))"
   ]
  },
  {
   "cell_type": "code",
   "execution_count": 6,
   "metadata": {},
   "outputs": [
    {
     "data": {
      "text/html": [
       "<div>\n",
       "<style scoped>\n",
       "    .dataframe tbody tr th:only-of-type {\n",
       "        vertical-align: middle;\n",
       "    }\n",
       "\n",
       "    .dataframe tbody tr th {\n",
       "        vertical-align: top;\n",
       "    }\n",
       "\n",
       "    .dataframe thead th {\n",
       "        text-align: right;\n",
       "    }\n",
       "</style>\n",
       "<table border=\"1\" class=\"dataframe\">\n",
       "  <thead>\n",
       "    <tr style=\"text-align: right;\">\n",
       "      <th></th>\n",
       "      <th>Unnamed: 0</th>\n",
       "      <th>Name</th>\n",
       "      <th>info</th>\n",
       "    </tr>\n",
       "  </thead>\n",
       "  <tbody>\n",
       "    <tr>\n",
       "      <th>0</th>\n",
       "      <td>0</td>\n",
       "      <td>Automotive</td>\n",
       "      <td>I am going for a drive or to buy a car</td>\n",
       "    </tr>\n",
       "    <tr>\n",
       "      <th>1</th>\n",
       "      <td>1</td>\n",
       "      <td>Books and Literature</td>\n",
       "      <td>I am reading and writing literature in the boo...</td>\n",
       "    </tr>\n",
       "    <tr>\n",
       "      <th>2</th>\n",
       "      <td>2</td>\n",
       "      <td>Business and Finance</td>\n",
       "      <td>I am opening a business and will work out from...</td>\n",
       "    </tr>\n",
       "    <tr>\n",
       "      <th>3</th>\n",
       "      <td>3</td>\n",
       "      <td>Education</td>\n",
       "      <td>Going to school, college, university is import...</td>\n",
       "    </tr>\n",
       "    <tr>\n",
       "      <th>4</th>\n",
       "      <td>4</td>\n",
       "      <td>Events and Attractions</td>\n",
       "      <td>There is a huge carnival, festival coming up w...</td>\n",
       "    </tr>\n",
       "  </tbody>\n",
       "</table>\n",
       "</div>"
      ],
      "text/plain": [
       "   Unnamed: 0                    Name  \\\n",
       "0           0              Automotive   \n",
       "1           1    Books and Literature   \n",
       "2           2    Business and Finance   \n",
       "3           3               Education   \n",
       "4           4  Events and Attractions   \n",
       "\n",
       "                                                info  \n",
       "0             I am going for a drive or to buy a car  \n",
       "1  I am reading and writing literature in the boo...  \n",
       "2  I am opening a business and will work out from...  \n",
       "3  Going to school, college, university is import...  \n",
       "4  There is a huge carnival, festival coming up w...  "
      ]
     },
     "execution_count": 6,
     "metadata": {},
     "output_type": "execute_result"
    }
   ],
   "source": [
    "df1.head()"
   ]
  },
  {
   "cell_type": "code",
   "execution_count": 7,
   "metadata": {},
   "outputs": [],
   "source": [
    "\n",
    "# df1['Combined']=df1['Name'] #+' '+df1['info']\n",
    "# df1['Combined1']=df1['Name'] +' '+df1['info']\n",
    "# df1['Combined1'].apply(clean)\n",
    "# df1['Combined1'].apply(process_text)\n",
    "# df1['Combined'].apply(clean)\n",
    "\n",
    "df1['info']=df1['info'].apply(clean)\n",
    "#df1['info']=df1['info'].apply(process_text)\n",
    "targetlist=df1['Name'].to_list()\n",
    "# targetlistcalc=df1['Combined1'].to_list()\n",
    "targetlistchild=df1['info']"
   ]
  },
  {
   "cell_type": "code",
   "execution_count": 8,
   "metadata": {},
   "outputs": [
    {
     "name": "stdout",
     "output_type": "stream",
     "text": [
      "0                i am going for a drive or to buy a car\n",
      "1     i am reading and writing literature in the boo...\n",
      "2     i am opening a business and will work out from...\n",
      "3     going to school college university is importan...\n",
      "4     there is a huge carnival festival coming up wh...\n",
      "5     the family will sit together on the dinner tab...\n",
      "6     going to a museum gallery to look at paintings...\n",
      "7     the chef prepares the food and drinks in the k...\n",
      "8     i am going on a diet going to workout in the g...\n",
      "9     i do that activity as a hobby and interest of ...\n",
      "10    i am going to mow the lawn get tools for our g...\n",
      "11    we need to visit the doctor go to the hospital...\n",
      "12    lets go watch a movie at the theater cinema an...\n",
      "13    she is singing and music is playing with instr...\n",
      "14    i love all kinds of pets like dogs cats birds ...\n",
      "15    lets get on instagram twitter facebook snapcah...\n",
      "16    this real estate property has a for sale sign ...\n",
      "17    it is a part of theur religion and spiritualit...\n",
      "18    science such as physics chemistry biology whic...\n",
      "19    lets go shopping to the mall i want to buy gif...\n",
      "20                                i like playing sports\n",
      "21    it's a part of style and fashion the models ru...\n",
      "22    technology and computing includes computers ga...\n",
      "23    pass the remote to watch tv on our television set\n",
      "24    i want to travel on an airplane or train go to...\n",
      "25    i am playing video games on my playstation xbo...\n",
      "26    it's a matter of my personal growth and career...\n",
      "27    politicians senators and their bills are a par...\n",
      "28    personal finance includes credit card debt mor...\n",
      "Name: info, dtype: object\n"
     ]
    }
   ],
   "source": [
    "print(targetlistchild)"
   ]
  },
  {
   "cell_type": "code",
   "execution_count": 9,
   "metadata": {},
   "outputs": [
    {
     "data": {
      "text/html": [
       "<div>\n",
       "<style scoped>\n",
       "    .dataframe tbody tr th:only-of-type {\n",
       "        vertical-align: middle;\n",
       "    }\n",
       "\n",
       "    .dataframe tbody tr th {\n",
       "        vertical-align: top;\n",
       "    }\n",
       "\n",
       "    .dataframe thead th {\n",
       "        text-align: right;\n",
       "    }\n",
       "</style>\n",
       "<table border=\"1\" class=\"dataframe\">\n",
       "  <thead>\n",
       "    <tr style=\"text-align: right;\">\n",
       "      <th></th>\n",
       "      <th>Unnamed: 0.1</th>\n",
       "      <th>Unnamed: 0</th>\n",
       "      <th>materialId</th>\n",
       "      <th>lastRunJob</th>\n",
       "      <th>materialtitle</th>\n",
       "      <th>seriestitle</th>\n",
       "      <th>AssetCC</th>\n",
       "      <th>adword</th>\n",
       "    </tr>\n",
       "  </thead>\n",
       "  <tbody>\n",
       "    <tr>\n",
       "      <th>0</th>\n",
       "      <td>3</td>\n",
       "      <td>3</td>\n",
       "      <td>GMO_00000000001313_01</td>\n",
       "      <td>FILE_MAF_20220211T205601Z_GMO_00000000001313_01</td>\n",
       "      <td>FULL HEARTS (EDITED)</td>\n",
       "      <td>friday night lights</td>\n",
       "      <td>Is something happening\\nbetween you and Riggin...</td>\n",
       "      <td>Sports</td>\n",
       "    </tr>\n",
       "    <tr>\n",
       "      <th>1</th>\n",
       "      <td>6</td>\n",
       "      <td>6</td>\n",
       "      <td>GMO_00000000001534_01</td>\n",
       "      <td>FILE_MAF_20220211T205607Z_GMO_00000000001534_01</td>\n",
       "      <td>MAY THE BEST MAN WIN (EDITED)</td>\n",
       "      <td>friday night lights</td>\n",
       "      <td>BE HONEST WITH YOURSELF\\nFOR TWO SECONDS AND T...</td>\n",
       "      <td>Sports</td>\n",
       "    </tr>\n",
       "    <tr>\n",
       "      <th>2</th>\n",
       "      <td>7</td>\n",
       "      <td>7</td>\n",
       "      <td>GMO_00000000001577_01</td>\n",
       "      <td>FILE_MAF_20210727T231031Z_GMO_00000000001577_01</td>\n",
       "      <td>GAVIN VOLURE</td>\n",
       "      <td>30 rock</td>\n",
       "      <td>WE'RE AT A PARTY, LEMON,\\nTRY TO LOOSEN UP A L...</td>\n",
       "      <td>Television</td>\n",
       "    </tr>\n",
       "    <tr>\n",
       "      <th>3</th>\n",
       "      <td>8</td>\n",
       "      <td>8</td>\n",
       "      <td>GMO_00000000001585_01</td>\n",
       "      <td>FILE_MAF_20210727T231030Z_GMO_00000000001585_01</td>\n",
       "      <td>DO-OVER</td>\n",
       "      <td>30 rock</td>\n",
       "      <td>[bossa nova music] ♪ LLO, PUSSYCAT! (male voic...</td>\n",
       "      <td>Television</td>\n",
       "    </tr>\n",
       "    <tr>\n",
       "      <th>4</th>\n",
       "      <td>9</td>\n",
       "      <td>9</td>\n",
       "      <td>GMO_00000000001598_01</td>\n",
       "      <td>FILE_MAF_20210727T231031Z_GMO_00000000001598_01</td>\n",
       "      <td>CUTBACKS</td>\n",
       "      <td>30 rock</td>\n",
       "      <td>[cheers] &gt;&gt; WHOO!\\n&gt;&gt; WHOO! &gt;&gt; OKAY, GUYS, I J...</td>\n",
       "      <td>Television</td>\n",
       "    </tr>\n",
       "  </tbody>\n",
       "</table>\n",
       "</div>"
      ],
      "text/plain": [
       "   Unnamed: 0.1  Unnamed: 0             materialId  \\\n",
       "0             3           3  GMO_00000000001313_01   \n",
       "1             6           6  GMO_00000000001534_01   \n",
       "2             7           7  GMO_00000000001577_01   \n",
       "3             8           8  GMO_00000000001585_01   \n",
       "4             9           9  GMO_00000000001598_01   \n",
       "\n",
       "                                        lastRunJob  \\\n",
       "0  FILE_MAF_20220211T205601Z_GMO_00000000001313_01   \n",
       "1  FILE_MAF_20220211T205607Z_GMO_00000000001534_01   \n",
       "2  FILE_MAF_20210727T231031Z_GMO_00000000001577_01   \n",
       "3  FILE_MAF_20210727T231030Z_GMO_00000000001585_01   \n",
       "4  FILE_MAF_20210727T231031Z_GMO_00000000001598_01   \n",
       "\n",
       "                   materialtitle          seriestitle  \\\n",
       "0           FULL HEARTS (EDITED)  friday night lights   \n",
       "1  MAY THE BEST MAN WIN (EDITED)  friday night lights   \n",
       "2                   GAVIN VOLURE              30 rock   \n",
       "3                        DO-OVER              30 rock   \n",
       "4                       CUTBACKS              30 rock   \n",
       "\n",
       "                                             AssetCC      adword  \n",
       "0  Is something happening\\nbetween you and Riggin...      Sports  \n",
       "1  BE HONEST WITH YOURSELF\\nFOR TWO SECONDS AND T...      Sports  \n",
       "2  WE'RE AT A PARTY, LEMON,\\nTRY TO LOOSEN UP A L...  Television  \n",
       "3  [bossa nova music] ♪ LLO, PUSSYCAT! (male voic...  Television  \n",
       "4  [cheers] >> WHOO!\\n>> WHOO! >> OKAY, GUYS, I J...  Television  "
      ]
     },
     "execution_count": 9,
     "metadata": {},
     "output_type": "execute_result"
    }
   ],
   "source": [
    "truthdatadf=pd.read_csv('AdwordLabeledDatabase.csv')\n",
    "truthdatadf.head()"
   ]
  },
  {
   "cell_type": "code",
   "execution_count": 10,
   "metadata": {},
   "outputs": [],
   "source": [
    "def getadword(episode, truthdatadf):\n",
    "    for i in range(len(truthdatadf.lastRunJob)):\n",
    "        if episode == truthdatadf.lastRunJob[i]:\n",
    "            return truthdatadf.adword[i]"
   ]
  },
  {
   "cell_type": "code",
   "execution_count": null,
   "metadata": {},
   "outputs": [],
   "source": [
    "# temp=targetlistcalc[27]\n",
    "# temp=temp.replace('*News business use case needs to be scoped by NBCU - priority TBD', '')\n",
    "# targetlistcalc[27]=temp"
   ]
  },
  {
   "cell_type": "code",
   "execution_count": 11,
   "metadata": {},
   "outputs": [
    {
     "data": {
      "text/html": [
       "<div>\n",
       "<style scoped>\n",
       "    .dataframe tbody tr th:only-of-type {\n",
       "        vertical-align: middle;\n",
       "    }\n",
       "\n",
       "    .dataframe tbody tr th {\n",
       "        vertical-align: top;\n",
       "    }\n",
       "\n",
       "    .dataframe thead th {\n",
       "        text-align: right;\n",
       "    }\n",
       "</style>\n",
       "<table border=\"1\" class=\"dataframe\">\n",
       "  <thead>\n",
       "    <tr style=\"text-align: right;\">\n",
       "      <th></th>\n",
       "      <th>Unnamed: 0.1</th>\n",
       "      <th>Unnamed: 0</th>\n",
       "      <th>materialId</th>\n",
       "      <th>lastRunJob</th>\n",
       "      <th>materialtitle</th>\n",
       "      <th>seriestitle</th>\n",
       "      <th>AssetCC</th>\n",
       "      <th>adword</th>\n",
       "    </tr>\n",
       "  </thead>\n",
       "  <tbody>\n",
       "    <tr>\n",
       "      <th>0</th>\n",
       "      <td>665</td>\n",
       "      <td>665</td>\n",
       "      <td>GMO_00000000040741_01</td>\n",
       "      <td>FILE_MAF_20210731T020535Z_GMO_00000000040741_01</td>\n",
       "      <td>I KNEW YOU WHEN</td>\n",
       "      <td>friday night lights</td>\n",
       "      <td>LKS, IS IS SLAMMIN' SAMMY MEADE,\\nFO [radio]\\n...</td>\n",
       "      <td>Sports</td>\n",
       "    </tr>\n",
       "    <tr>\n",
       "      <th>1</th>\n",
       "      <td>8244</td>\n",
       "      <td>8244</td>\n",
       "      <td>GMO_00000000370441_01</td>\n",
       "      <td>FILE_MAF_20220215T090159Z_GMO_00000000370441_01</td>\n",
       "      <td>Make Up or Break Up?</td>\n",
       "      <td>total bellas</td>\n",
       "      <td>&gt;&gt; NIKKI: Yeah! Welcome to Paris! Tonight on t...</td>\n",
       "      <td>Sports</td>\n",
       "    </tr>\n",
       "    <tr>\n",
       "      <th>2</th>\n",
       "      <td>678</td>\n",
       "      <td>678</td>\n",
       "      <td>GMO_00000000039091_01</td>\n",
       "      <td>FILE_MAF_20220213T121447Z_GMO_00000000039091_01</td>\n",
       "      <td>HOMECOMING (EDITED)</td>\n",
       "      <td>friday night lights</td>\n",
       "      <td>What's after\\nhigh school, Brian? Me and Mack ...</td>\n",
       "      <td>Sports</td>\n",
       "    </tr>\n",
       "    <tr>\n",
       "      <th>3</th>\n",
       "      <td>777</td>\n",
       "      <td>777</td>\n",
       "      <td>GMO_00000000039094_01</td>\n",
       "      <td>FILE_MAF_20220213T173625Z_GMO_00000000039094_01</td>\n",
       "      <td>NEVERMIND (EDITED)</td>\n",
       "      <td>friday night lights</td>\n",
       "      <td>Here's to God in ten years from now, Street, g...</td>\n",
       "      <td>Sports</td>\n",
       "    </tr>\n",
       "    <tr>\n",
       "      <th>4</th>\n",
       "      <td>679</td>\n",
       "      <td>679</td>\n",
       "      <td>GMO_00000000039095_01</td>\n",
       "      <td>FILE_MAF_20220213T173619Z_GMO_00000000039095_01</td>\n",
       "      <td>WHAT TO DO WHILE YOU'RE WAITING (EDITED)</td>\n",
       "      <td>friday night lights</td>\n",
       "      <td>Dad? You're home! Hello, Brian. Waverly? Damn,...</td>\n",
       "      <td>Sports</td>\n",
       "    </tr>\n",
       "  </tbody>\n",
       "</table>\n",
       "</div>"
      ],
      "text/plain": [
       "   Unnamed: 0.1  Unnamed: 0             materialId  \\\n",
       "0           665         665  GMO_00000000040741_01   \n",
       "1          8244        8244  GMO_00000000370441_01   \n",
       "2           678         678  GMO_00000000039091_01   \n",
       "3           777         777  GMO_00000000039094_01   \n",
       "4           679         679  GMO_00000000039095_01   \n",
       "\n",
       "                                        lastRunJob  \\\n",
       "0  FILE_MAF_20210731T020535Z_GMO_00000000040741_01   \n",
       "1  FILE_MAF_20220215T090159Z_GMO_00000000370441_01   \n",
       "2  FILE_MAF_20220213T121447Z_GMO_00000000039091_01   \n",
       "3  FILE_MAF_20220213T173625Z_GMO_00000000039094_01   \n",
       "4  FILE_MAF_20220213T173619Z_GMO_00000000039095_01   \n",
       "\n",
       "                              materialtitle          seriestitle  \\\n",
       "0                           I KNEW YOU WHEN  friday night lights   \n",
       "1                      Make Up or Break Up?         total bellas   \n",
       "2                       HOMECOMING (EDITED)  friday night lights   \n",
       "3                        NEVERMIND (EDITED)  friday night lights   \n",
       "4  WHAT TO DO WHILE YOU'RE WAITING (EDITED)  friday night lights   \n",
       "\n",
       "                                             AssetCC  adword  \n",
       "0  LKS, IS IS SLAMMIN' SAMMY MEADE,\\nFO [radio]\\n...  Sports  \n",
       "1  >> NIKKI: Yeah! Welcome to Paris! Tonight on t...  Sports  \n",
       "2  What's after\\nhigh school, Brian? Me and Mack ...  Sports  \n",
       "3  Here's to God in ten years from now, Street, g...  Sports  \n",
       "4  Dad? You're home! Hello, Brian. Waverly? Damn,...  Sports  "
      ]
     },
     "execution_count": 11,
     "metadata": {},
     "output_type": "execute_result"
    }
   ],
   "source": [
    "sampled_datadf.head()"
   ]
  },
  {
   "cell_type": "code",
   "execution_count": 12,
   "metadata": {},
   "outputs": [],
   "source": [
    "listofepisodes=sampled_datadf['lastRunJob'].to_list()"
   ]
  },
  {
   "cell_type": "code",
   "execution_count": null,
   "metadata": {},
   "outputs": [],
   "source": [
    "#listofepisodes=['FILE_MAF_20220211T205601Z_GMO_00000000001313_01', 'FILE_MAF_20220211T205607Z_GMO_00000000001534_01', 'FILE_MAF_20210727T231031Z_GMO_00000000001577_01' ]"
   ]
  },
  {
   "cell_type": "code",
   "execution_count": 13,
   "metadata": {},
   "outputs": [],
   "source": [
    "def keydict(dataframe, targetlist):\n",
    "    d=defaultdict(list)\n",
    "    for target in targetlist:\n",
    "        minidf=dataframe.loc[dataframe['adword']==target]\n",
    "        minilist=minidf['lastRunJob'].to_list()\n",
    "        d[target]=minilist\n",
    "    \n",
    "    return d\n",
    "\n"
   ]
  },
  {
   "cell_type": "code",
   "execution_count": 14,
   "metadata": {},
   "outputs": [
    {
     "name": "stdout",
     "output_type": "stream",
     "text": [
      "defaultdict(<class 'list'>, {'Automotive': ['FILE_MAF_20211223T065128Z_GMO_00000000002584_01', 'FILE_MAF_20211223T064615Z_GMO_00000000106986_01', 'FILE_MAF_20211223T064819Z_GMO_00000000002709_01', 'FILE_MAF_20211222T231607Z_GMO_00000000294982_01', 'FILE_MAF_20211222T214634Z_GMO_00000000029298_01', 'FILE_MAF_20211222T214941Z_GMO_00000000121162_01', 'FILE_MAF_20211222T230805Z_GMO_00000000273733_01', 'FILE_MAF_20211223T065125Z_GMO_00000000027759_01', 'FILE_MAF_20211223T065130Z_GMO_00000000002708_01', 'FILE_MAF_20211223T063010Z_GMO_00000000002843_01', 'FILE_MAF_20211223T064314Z_GMO_00000000029163_01', 'FILE_MAF_20211222T214633Z_GMO_00000000027597_01', 'FILE_MAF_20211223T065127Z_GMO_00000000002637_01', 'FILE_MAF_20211223T065129Z_GMO_00000000009448_01', 'FILE_MAF_20211223T064919Z_GMO_00000000002707_01', 'FILE_MAF_20211222T214633Z_GMO_00000000027055_01', 'FILE_MAF_20211223T065126Z_GMO_00000000002685_01', 'FILE_MAF_20211223T065020Z_GMO_00000000009009_01', 'FILE_MAF_20211223T061005Z_GMO_00000000113301_01', 'FILE_MAF_20211222T174857Z_GMO_00000000334049_01'], 'Books and Literature': ['FILE_MAF_20210729T092828Z_GMO_00000000044326_01', 'FILE_MAF_20210730T234421Z_GMO_00000000044076_01', 'FILE_MAF_20210805T164954Z_GMO_00000000044095_01', 'FILE_MAF_20210802T172724Z_GMO_00000000142561_01', 'FILE_MAF_20210803T004745Z_GMO_00000000044086_01', 'FILE_MAF_20210730T233513Z_GMO_00000000044080_01', 'FILE_MAF_20210802T172722Z_GMO_00000000142565_01', 'FILE_MAF_20210802T164609Z_GMO_00000000044398_01', 'FILE_MAF_20210729T120911Z_GMO_00000000044348_01', 'FILE_MAF_20210729T073646Z_GMO_00000000044249_01', 'FILE_MAF_20210729T073651Z_GMO_00000000044264_01', 'FILE_MAF_20210729T075657Z_GMO_00000000044301_01', 'FILE_MAF_20210729T074455Z_GMO_00000000044309_01', 'FILE_MAF_20210729T074052Z_GMO_00000000044294_01', 'FILE_MAF_20210730T172125Z_GMO_00000000044284_01', 'FILE_MAF_20210730T225100Z_GMO_00000000044066_01', 'FILE_MAF_20210729T083302Z_GMO_00000000044265_01', 'FILE_MAF_20210730T172335Z_GMO_00000000044277_01', 'FILE_MAF_20210730T233617Z_GMO_00000000044072_01', 'FILE_MAF_20210729T093648Z_GMO_00000000044308_01'], 'Business and Finance': ['FILE_MAF_20210803T150810Z_GMO_00000000108698_01', 'FILE_MAF_20210728T183011Z_GMO_00000000007353_01', 'FILE_MAF_20210728T185221Z_GMO_00000000007414_01', 'FILE_MAF_20210727T231449Z_GMO_00000000001716_01', 'FILE_MAF_20210728T202741Z_GMO_00000000007597_01', 'FILE_MAF_20210728T181505Z_GMO_00000000007230_01', 'FILE_MAF_20210728T163741Z_GMO_00000000007105_01', 'FILE_MAF_20210728T163639Z_GMO_00000000007100_01', 'FILE_MAF_20210728T181503Z_GMO_00000000007187_01', 'FILE_MAF_20210727T231237Z_GMO_00000000001660_01', 'FILE_MAF_20210728T163637Z_GMO_00000000007042_01', 'FILE_MAF_20210727T231247Z_GMO_00000000001712_01', 'FILE_MAF_20210728T183513Z_GMO_00000000007330_01', 'FILE_MAF_20210802T225506Z_GMO_00000000007502_01', 'FILE_MAF_20210728T163134Z_GMO_00000000007137_01', 'FILE_MAF_20210728T185222Z_GMO_00000000007421_01', 'FILE_MAF_20210807T072438Z_GMO_00000000007432_01', 'FILE_MAF_20210728T162831Z_GMO_00000000007007_01', 'FILE_MAF_20210728T185223Z_GMO_00000000007423_01', 'FILE_MAF_20210802T225204Z_GMO_00000000007468_01'], 'Education': ['FILE_MAF_20220321T225325Z_GMO_00000000354810_01', 'FILE_MAF_20220321T225326Z_GMO_00000000354808_01', 'FILE_MAF_20220321T225326Z_GMO_00000000354809_01', 'FILE_MAF_20220321T225327Z_GMO_00000000354807_01', 'FILE_MAF_20220321T225328Z_GMO_00000000354812_01', 'FILE_MAF_20220321T225329Z_GMO_00000000354811_01', 'FILE_MAF_20220505T091718Z_GMO_00000000354813_01', 'FILE_MAF_20220505T091718Z_GMO_00000000354814_01', 'FILE_MAF_20220505T091720Z_GMO_00000000354815_01', 'FILE_MAF_20220505T224819Z_GMO_00000000354816_01'], 'Events and Attractions': ['FILE_MAF_20210824T160507Z_GMO_00000000305067_01', 'FILE_MAF_20210730T172125Z_GMO_00000000384803_01', 'FILE_MAF_20210824T160504Z_GMO_00000000305061_01', 'FILE_MAF_20220214T004858Z_GMO_00000000116407_01', 'FILE_MAF_20220213T003335Z_GMO_00000000010677_01', 'FILE_MAF_20210825T012852Z_GMO_00000000348725_01', 'FILE_MAF_20220214T211212Z_GMO_00000000284516_01', 'FILE_MAF_20210825T013302Z_GMO_00000000348723_01', 'FILE_MAF_20220212T231617Z_GMO_00000000010675_01', 'FILE_MAF_20210825T013158Z_GMO_00000000338679_01', 'FILE_MAF_20220214T211213Z_GMO_00000000195852_01', 'FILE_MAF_20210825T013307Z_GMO_00000000359730_01', 'FILE_MAF_20210825T013409Z_GMO_00000000359729_01', 'FILE_MAF_20220214T211534Z_GMO_00000000284515_01', 'FILE_MAF_20220215T035934Z_GMO_00000000327844_01', 'FILE_MAF_20220213T185815Z_GMO_00000000048836_01', 'FILE_MAF_20220215T013221Z_GMO_00000000287847_01', 'FILE_MAF_20210825T012651Z_GMO_00000000348720_01', 'FILE_MAF_20210824T160506Z_GMO_00000000305064_01', 'FILE_MAF_20220213T215316Z_GMO_00000000116411_01'], 'Family and Relationships': ['FILE_MAF_20211106T220217Z_GMO_00000000124439_01', 'FILE_MAF_20210803T024232Z_GMO_00000000346786_01', 'FILE_MAF_20211107T155428Z_GMO_00000000144867_01', 'FILE_MAF_20210730T235041Z_GMO_00000000346774_01', 'FILE_MAF_20211107T173012Z_GMO_00000000144871_01', 'FILE_MAF_20211109T073412Z_GMO_00000000012360_01', 'FILE_MAF_20211109T073414Z_GMO_00000000286853_01', 'FILE_MAF_20211104T120605Z_GMO_00000000365313_01', 'FILE_MAF_20211105T085433Z_GMO_00000000144877_01', 'FILE_MAF_20211104T114856Z_GMO_00000000354181_01', 'FILE_MAF_20210729T234914Z_GMO_00000000346776_01', 'FILE_MAF_20210729T235115Z_GMO_00000000346783_01', 'FILE_MAF_20211104T094412Z_GMO_00000000012365_01', 'FILE_MAF_20211106T220336Z_GMO_00000000285127_01', 'FILE_MAF_20211106T220331Z_GMO_00000000012363_01', 'FILE_MAF_20211109T073419Z_GMO_00000000283501_01', 'FILE_MAF_20211106T234819Z_GMO_00000000039636_01', 'FILE_MAF_20211106T231656Z_GMO_00000000017733_01', 'FILE_MAF_20211106T220215Z_GMO_00000000012323_01', 'FILE_MAF_20211104T080633Z_GMO_00000000017731_01'], 'Fine Art': [], 'Food & Drink': ['FILE_MAF_20220213T092945Z_GMO_00000000031461_01', 'FILE_MAF_20220213T185507Z_GMO_00000000045335_01', 'FILE_MAF_20220212T143407Z_GMO_00000000002223_01', 'FILE_MAF_20210824T142520Z_GMO_00000000294157_01', 'FILE_MAF_20210824T142522Z_GMO_00000000294142_01', 'FILE_MAF_20220212T183925Z_GMO_00000000006948_01', 'FILE_MAF_20210824T200155Z_GMO_00000000294191_01', 'FILE_MAF_20220213T182741Z_GMO_00000000041022_01', 'FILE_MAF_20210824T142517Z_GMO_00000000294126_01', 'FILE_MAF_20220213T184755Z_GMO_00000000041020_01', 'FILE_MAF_20210824T142521Z_GMO_00000000294128_01', 'FILE_MAF_20220212T194452Z_GMO_00000000007405_01', 'FILE_MAF_20220214T043101Z_GMO_00000000201223_01', 'FILE_MAF_20220213T010346Z_GMO_00000000014850_01', 'FILE_MAF_20210824T153450Z_GMO_00000000294170_01', 'FILE_MAF_20210825T013057Z_GMO_00000000391127_01', 'FILE_MAF_20220212T223751Z_GMO_00000000009281_01', 'FILE_MAF_20220212T183523Z_GMO_00000000006936_01', 'FILE_MAF_20210824T195853Z_GMO_00000000294185_01', 'FILE_MAF_20220214T050523Z_GMO_00000000201227_01'], 'Healthy Living': [], 'Hobbies & Interests': ['FILE_MAF_20220215T083954Z_GMO_00000000390302_01', 'FILE_MAF_20220215T092105Z_GMO_00000000390300_01', 'FILE_MAF_20220215T092413Z_GMO_00000000390299_01', 'FILE_MAF_20220215T092415Z_GMO_00000000390294_01', 'FILE_MAF_20220215T092416Z_GMO_00000000390295_01', 'FILE_MAF_20220215T092417Z_GMO_00000000390297_01', 'FILE_MAF_20220215T092521Z_GMO_00000000390293_01', 'FILE_MAF_20220215T092524Z_GMO_00000000390296_01', 'FILE_MAF_20220215T092524Z_GMO_00000000390298_01', 'FILE_MAF_20220215T092524Z_GMO_00000000390301_01'], 'Home & Garden': [], 'Medical Health': ['FILE_MAF_20211222T135839Z_GMO_00000000092418_01', 'FILE_MAF_20211105T221833Z_GMO_00000000338784_01', 'FILE_MAF_20220213T071506Z_GMO_00000000027584_01', 'FILE_MAF_20220213T075121Z_GMO_00000000029125_01', 'FILE_MAF_20211222T061241Z_GMO_00000000295406_01', 'FILE_MAF_20220215T013220Z_GMO_00000000283931_01', 'FILE_MAF_20210824T153451Z_GMO_00000000293441_01', 'FILE_MAF_20220212T223748Z_GMO_00000000009123_01', 'FILE_MAF_20220213T080123Z_GMO_00000000029577_01', 'FILE_MAF_20210728T202844Z_GMO_00000000007758_01', 'FILE_MAF_20210728T202436Z_GMO_00000000007731_01', 'FILE_MAF_20211222T061240Z_GMO_00000000326287_01', 'FILE_MAF_20211222T183052Z_GMO_00000000007458_01', 'FILE_MAF_20211222T144359Z_GMO_00000000112815_01', 'FILE_MAF_20211224T154509Z_GMO_00000000196872_01', 'FILE_MAF_20210824T173626Z_GMO_00000000308191_01', 'FILE_MAF_20210729T030521Z_GMO_00000000022500_01', 'FILE_MAF_20211222T061243Z_GMO_00000000295412_01', 'FILE_MAF_20220215T035936Z_GMO_00000000332332_01', 'FILE_MAF_20211222T061137Z_GMO_00000000326260_01'], 'Movies': [], 'Music and Audio': ['FILE_MAF_20210809T200440Z_GMO_00000000292342_01', 'FILE_MAF_20211106T201721Z_GMO_00000000298262_01', 'FILE_MAF_20211106T183220Z_GMO_00000000298260_01', 'FILE_MAF_20220214T005215Z_GMO_00000000137236_01', 'FILE_MAF_20211103T115536Z_GMO_00000000298267_01', 'FILE_MAF_20210809T200239Z_GMO_00000000330183_01', 'FILE_MAF_20211103T115539Z_GMO_00000000345588_01', 'FILE_MAF_20220214T042555Z_GMO_00000000137222_01', 'FILE_MAF_20211107T173011Z_GMO_00000000298266_01', 'FILE_MAF_20211103T121545Z_GMO_00000000345592_01', 'FILE_MAF_20220510T214825Z_GMO_00000000398885_01', 'FILE_MAF_20210809T203754Z_GMO_00000000330186_01', 'FILE_MAF_20211107T155324Z_GMO_00000000298271_01', 'FILE_MAF_20211103T121645Z_GMO_00000000345597_01', 'FILE_MAF_20210805T224731Z_GMO_00000000284486_01', 'FILE_MAF_20220214T042351Z_GMO_00000000137227_01', 'FILE_MAF_20220510T214825Z_GMO_00000000398887_01', 'FILE_MAF_20220214T042858Z_GMO_00000000137235_01', 'FILE_MAF_20211106T183218Z_GMO_00000000298269_01', 'FILE_MAF_20211103T115532Z_GMO_00000000298270_01'], 'Pets': ['FILE_MAF_20210729T150937Z_GMO_00000000321414_01', 'FILE_MAF_20210729T170339Z_GMO_00000000321975_01', 'FILE_MAF_20210729T180703Z_GMO_00000000321965_01', 'FILE_MAF_20210729T123329Z_GMO_00000000321263_01', 'FILE_MAF_20210729T150935Z_GMO_00000000321408_01', 'FILE_MAF_20210730T073924Z_GMO_00000000321284_01', 'FILE_MAF_20210729T122424Z_GMO_00000000321241_01', 'FILE_MAF_20210729T145919Z_GMO_00000000321470_01', 'FILE_MAF_20210730T073920Z_GMO_00000000321247_01', 'FILE_MAF_20210730T075043Z_GMO_00000000321462_01', 'FILE_MAF_20210729T150932Z_GMO_00000000321386_01', 'FILE_MAF_20210730T073918Z_GMO_00000000321446_01', 'FILE_MAF_20210730T054034Z_GMO_00000000321280_01', 'FILE_MAF_20210729T123027Z_GMO_00000000321243_01', 'FILE_MAF_20210729T155156Z_GMO_00000000321426_01', 'FILE_MAF_20210729T144305Z_GMO_00000000321323_01', 'FILE_MAF_20210730T074533Z_GMO_00000000321287_01', 'FILE_MAF_20210729T122420Z_GMO_00000000321236_01', 'FILE_MAF_20210730T054142Z_GMO_00000000321277_01', 'FILE_MAF_20210729T163608Z_GMO_00000000321442_01'], 'Pop Culture': [], 'Real Estate': ['FILE_MAF_20210824T164918Z_GMO_00000000316807_01', 'FILE_MAF_20220214T042348Z_GMO_00000000153023_01', 'FILE_MAF_20220213T185405Z_GMO_00000000045315_01', 'FILE_MAF_20220212T165146Z_GMO_00000000002833_01', 'FILE_MAF_20210825T012645Z_GMO_00000000399606_01', 'FILE_MAF_20210824T151133Z_GMO_00000000284944_01', 'FILE_MAF_20220211T201452Z_GMO_00000000001224_01', 'FILE_MAF_20220213T173624Z_GMO_00000000039557_01', 'FILE_MAF_20220213T093448Z_GMO_00000000031317_01', 'FILE_MAF_20210825T013053Z_GMO_00000000282347_01', 'FILE_MAF_20220214T042350Z_GMO_00000000153025_01', 'FILE_MAF_20220213T184757Z_GMO_00000000045313_01', 'FILE_MAF_20210825T002729Z_GMO_00000000316811_01', 'FILE_MAF_20220213T011913Z_GMO_00000000014807_01', 'FILE_MAF_20220213T120945Z_GMO_00000000038934_01', 'FILE_MAF_20220213T120643Z_GMO_00000000038929_01', 'FILE_MAF_20210824T160508Z_GMO_00000000316809_01', 'FILE_MAF_20220213T173621Z_GMO_00000000039352_01', 'FILE_MAF_20210825T012646Z_GMO_00000000338857_01', 'FILE_MAF_20220213T173626Z_GMO_00000000039366_01'], 'Religion & Spirituality': ['FILE_MAF_20211223T143223Z_GMO_00000000343629_01', 'FILE_MAF_20211223T143227Z_GMO_00000000343625_01', 'FILE_MAF_20211223T143428Z_GMO_00000000343676_01', 'FILE_MAF_20211223T202630Z_GMO_00000000343584_01', 'FILE_MAF_20211223T143221Z_GMO_00000000343596_01', 'FILE_MAF_20211223T143225Z_GMO_00000000343640_01', 'FILE_MAF_20211223T143222Z_GMO_00000000343627_01', 'FILE_MAF_20211223T143428Z_GMO_00000000343630_01', 'FILE_MAF_20211225T005508Z_GMO_00000000343642_01', 'FILE_MAF_20211223T143837Z_GMO_00000000343639_01', 'FILE_MAF_20211223T143226Z_GMO_00000000343655_01', 'FILE_MAF_20211223T144047Z_GMO_00000000343663_01', 'FILE_MAF_20211223T053255Z_GMO_00000000343736_01', 'FILE_MAF_20211223T143830Z_GMO_00000000343664_01', 'FILE_MAF_20211223T143839Z_GMO_00000000343669_01', 'FILE_MAF_20211223T143942Z_GMO_00000000343636_01', 'FILE_MAF_20211223T144046Z_GMO_00000000343687_01', 'FILE_MAF_20211223T143836Z_GMO_00000000343635_01', 'FILE_MAF_20211223T144046Z_GMO_00000000343727_01', 'FILE_MAF_20211223T143219Z_GMO_00000000343595_01'], 'Science': ['FILE_MAF_20210802T172723Z_GMO_00000000001586_01', 'FILE_MAF_20210807T072434Z_GMO_00000000001821_01', 'FILE_MAF_20210802T173334Z_GMO_00000000001690_01', 'FILE_MAF_20220212T194614Z_GMO_00000000007318_01', 'FILE_MAF_20210802T173331Z_GMO_00000000136975_01', 'FILE_MAF_20210802T172927Z_GMO_00000000001576_01', 'FILE_MAF_20220212T184828Z_GMO_00000000007284_01', 'FILE_MAF_20220213T011356Z_GMO_00000000014862_01', 'FILE_MAF_20210807T072432Z_GMO_00000000001718_01', 'FILE_MAF_20210802T173446Z_GMO_00000000001721_01', 'FILE_MAF_20220213T011914Z_GMO_00000000014814_01', 'FILE_MAF_20210802T172725Z_GMO_00000000001589_01', 'FILE_MAF_20220212T185028Z_GMO_00000000007263_01', 'FILE_MAF_20210802T173448Z_GMO_00000000136973_01', 'FILE_MAF_20210802T164558Z_GMO_00000000001554_01', 'FILE_MAF_20220213T010346Z_GMO_00000000014872_01', 'FILE_MAF_20220213T011915Z_GMO_00000000014864_01', 'FILE_MAF_20220213T011403Z_GMO_00000000014870_01', 'FILE_MAF_20210802T173027Z_GMO_00000000001744_01', 'FILE_MAF_20210802T173336Z_GMO_00000000001801_01'], 'Shopping': ['FILE_MAF_20211116T134039Z_GMO_00000000341646_01', 'FILE_MAF_20211103T100330Z_GMO_00000000341649_01', 'FILE_MAF_20211105T221618Z_GMO_00000000341638_01', 'FILE_MAF_20211105T221829Z_GMO_00000000121675_01', 'FILE_MAF_20211103T092107Z_GMO_00000000273413_01', 'FILE_MAF_20211105T221619Z_GMO_00000000273407_01', 'FILE_MAF_20211116T134036Z_GMO_00000000341644_01', 'FILE_MAF_20211105T221413Z_GMO_00000000273414_01', 'FILE_MAF_20211105T221622Z_GMO_00000000296346_01', 'FILE_MAF_20211105T085331Z_GMO_00000000121678_01', 'FILE_MAF_20211103T100337Z_GMO_00000000341651_01', 'FILE_MAF_20211105T100759Z_GMO_00000000273410_01', 'FILE_MAF_20211105T221725Z_GMO_00000000296347_01', 'FILE_MAF_20211105T221827Z_GMO_00000000341639_01', 'FILE_MAF_20211103T092109Z_GMO_00000000341636_01', 'FILE_MAF_20211105T221830Z_GMO_00000000273412_01', 'FILE_MAF_20211105T221616Z_GMO_00000000296350_01', 'FILE_MAF_20211103T092105Z_GMO_00000000273408_01', 'FILE_MAF_20211103T092113Z_GMO_00000000296345_01', 'FILE_MAF_20211105T111151Z_GMO_00000000121681_01'], 'Sports': ['FILE_MAF_20210731T020535Z_GMO_00000000040741_01', 'FILE_MAF_20220215T090159Z_GMO_00000000370441_01', 'FILE_MAF_20220213T121447Z_GMO_00000000039091_01', 'FILE_MAF_20220213T173625Z_GMO_00000000039094_01', 'FILE_MAF_20220213T173619Z_GMO_00000000039095_01', 'FILE_MAF_20211105T221830Z_GMO_00000000326366_01', 'FILE_MAF_20210807T072641Z_GMO_00000000015471_01', 'FILE_MAF_20210825T010736Z_GMO_00000000324078_01', 'FILE_MAF_20210731T060326Z_GMO_00000000040739_01', 'FILE_MAF_20210825T013302Z_GMO_00000000338183_01', 'FILE_MAF_20220214T043211Z_GMO_00000000287895_01', 'FILE_MAF_20210731T020638Z_GMO_00000000040762_01', 'FILE_MAF_20211103T115529Z_GMO_00000000326367_01', 'FILE_MAF_20210810T131055Z_GMO_00000000015470_01', 'FILE_MAF_20220215T082050Z_GMO_00000000370434_01', 'FILE_MAF_20210729T030527Z_GMO_00000000039099_01', 'FILE_MAF_20210825T013306Z_GMO_00000000360252_01', 'FILE_MAF_20220215T013014Z_GMO_00000000287891_01', 'FILE_MAF_20210809T195832Z_GMO_00000000019745_01', 'FILE_MAF_20210729T030534Z_GMO_00000000039104_01'], 'Style & Fashion': ['FILE_MAF_20220215T012405Z_GMO_00000000293218_01', 'FILE_MAF_20210825T013303Z_GMO_00000000293206_01', 'FILE_MAF_20220214T234142Z_GMO_00000000293212_01', 'FILE_MAF_20220215T013014Z_GMO_00000000312910_01', 'FILE_MAF_20220215T025352Z_GMO_00000000293217_01', 'FILE_MAF_20220215T013018Z_GMO_00000000312922_01', 'FILE_MAF_20220215T035309Z_GMO_00000000293215_01', 'FILE_MAF_20220215T005855Z_GMO_00000000293216_01', 'FILE_MAF_20220215T092412Z_GMO_00000000364158_01', 'FILE_MAF_20220215T092413Z_GMO_00000000364160_01', 'FILE_MAF_20220215T013219Z_GMO_00000000312912_01', 'FILE_MAF_20220215T071837Z_GMO_00000000364166_01', 'FILE_MAF_20220214T231527Z_GMO_00000000312919_01', 'FILE_MAF_20210824T195751Z_GMO_00000000320273_01', 'FILE_MAF_20210824T153449Z_GMO_00000000293211_01', 'FILE_MAF_20220215T092523Z_GMO_00000000410890_01', 'FILE_MAF_20220215T071532Z_GMO_00000000364163_01', 'FILE_MAF_20220215T013225Z_GMO_00000000293209_01', 'FILE_MAF_20220215T035928Z_GMO_00000000312917_01', 'FILE_MAF_20210825T002730Z_GMO_00000000312918_01'], 'Technology & Computing': ['FILE_MAF_20220213T011912Z_GMO_00000000022391_01', 'FILE_MAF_20210809T184702Z_GMO_00000000171498_01', 'FILE_MAF_20220213T184756Z_GMO_00000000047423_01', 'FILE_MAF_20220213T185304Z_GMO_00000000047422_01', 'FILE_MAF_20210806T020741Z_GMO_00000000049044_01', 'FILE_MAF_20220213T185709Z_GMO_00000000047424_01', 'FILE_MAF_20220213T185303Z_GMO_00000000047420_01', 'FILE_MAF_20210809T200548Z_GMO_00000000171492_01', 'FILE_MAF_20210806T042833Z_GMO_00000000049038_01', 'FILE_MAF_20220213T031236Z_GMO_00000000022390_01', 'FILE_MAF_20210809T184656Z_GMO_00000000171499_01', 'FILE_MAF_20220213T184650Z_GMO_00000000047418_01', 'FILE_MAF_20220213T031737Z_GMO_00000000022392_01', 'FILE_MAF_20220213T011911Z_GMO_00000000022389_01', 'FILE_MAF_20210806T001903Z_GMO_00000000049043_01', 'FILE_MAF_20210806T020742Z_GMO_00000000296778_01', 'FILE_MAF_20210809T221817Z_GMO_00000000171493_01', 'FILE_MAF_20220213T071459Z_GMO_00000000022396_01', 'FILE_MAF_20220213T185202Z_GMO_00000000047427_01', 'FILE_MAF_20220213T005945Z_GMO_00000000012039_01'], 'Television': ['FILE_MAF_20210727T231034Z_GMO_00000000001600_01', 'FILE_MAF_20210730T044004Z_GMO_00000000040639_01', 'FILE_MAF_20210727T231033Z_GMO_00000000001596_01', 'FILE_MAF_20210728T184114Z_GMO_00000000007266_01', 'FILE_MAF_20210727T231240Z_GMO_00000000001631_01', 'FILE_MAF_20210729T043217Z_GMO_00000000040629_01', 'FILE_MAF_20210729T024311Z_GMO_00000000040665_01', 'FILE_MAF_20210729T030645Z_GMO_00000000040646_01', 'FILE_MAF_20210729T004341Z_GMO_00000000028385_01', 'FILE_MAF_20210729T033955Z_GMO_00000000040667_01', 'FILE_MAF_20210729T043320Z_GMO_00000000040619_01', 'FILE_MAF_20210729T004129Z_GMO_00000000028368_01', 'FILE_MAF_20210729T040359Z_GMO_00000000028384_01', 'FILE_MAF_20210729T025615Z_GMO_00000000040663_01', 'FILE_MAF_20210730T040956Z_GMO_00000000001634_01', 'FILE_MAF_20210727T231245Z_GMO_00000000001653_01', 'FILE_MAF_20210729T035057Z_GMO_00000000040631_01', 'FILE_MAF_20210729T043427Z_GMO_00000000040614_01', 'FILE_MAF_20210729T024008Z_GMO_00000000040660_01', 'FILE_MAF_20210727T231238Z_GMO_00000000001594_01'], 'Travel': ['FILE_MAF_20220213T185059Z_GMO_00000000044111_01', 'FILE_MAF_20220215T035715Z_GMO_00000000320875_01', 'FILE_MAF_20210824T150833Z_GMO_00000000033323_01', 'FILE_MAF_20220213T090940Z_GMO_00000000032052_01', 'FILE_MAF_20220215T071423Z_GMO_00000000353679_01', 'FILE_MAF_20220215T035307Z_GMO_00000000325452_01', 'FILE_MAF_20220213T184655Z_GMO_00000000047492_01', 'FILE_MAF_20220213T215210Z_GMO_00000000115135_01', 'FILE_MAF_20220212T161334Z_GMO_00000000002504_01', 'FILE_MAF_20220214T042454Z_GMO_00000000150172_01', 'FILE_MAF_20220215T092308Z_GMO_00000000362620_01', 'FILE_MAF_20210812T204402Z_GMO_00000000351581_01', 'FILE_MAF_20220215T013012Z_GMO_00000000279146_01', 'FILE_MAF_20220215T012707Z_GMO_00000000288641_01', 'FILE_MAF_20220213T093757Z_GMO_00000000031571_01', 'FILE_MAF_20220214T043107Z_GMO_00000000177644_01', 'FILE_MAF_20220510T222032Z_GMO_00000000393597_01', 'FILE_MAF_20220215T035514Z_GMO_00000000320574_01', 'FILE_MAF_20210824T142523Z_GMO_00000000027747_01', 'FILE_MAF_20220212T160932Z_GMO_00000000002487_01'], 'Video Gaming': [], 'Careers': [], 'News and Politics': [], 'Personal Finance': []})\n"
     ]
    }
   ],
   "source": [
    "targetkey_filelist=keydict(sampled_datadf, targetlist)\n",
    "print(targetkey_filelist)"
   ]
  },
  {
   "cell_type": "code",
   "execution_count": null,
   "metadata": {},
   "outputs": [],
   "source": [
    "# #NRS bulk with top 1 save to file regular\n",
    "# dict_to_save=defaultdict(list)\n",
    "# for target in tqdm(targetlist):\n",
    "#     scores=[]\n",
    "#     for ep in tqdm(listofepisodes):\n",
    "#         index=materialID.index(ep)\n",
    "#         groundtruth=getadword(ep,truthdatadf)\n",
    "#         # if groundtruth in target_dict:\n",
    "#         #         x=target_dict[groundtruth]\n",
    "#         x=target_dict[target]\n",
    "#         #print(groundtruth)\n",
    "#         print(x)\n",
    "#         segmentscore=[]\n",
    "#         for i in range(len(newmetalist[index])):\n",
    "#             if len(newmetalist[index][i])==0:\n",
    "#                 continue\n",
    "#             emb1=model.encode(newmetalist[index][i]) #, convert_to_tensor=True)\n",
    "#             emb2=model.encode(targetlist) #, convert_to_tensor=True)\n",
    "#             cos_sim=util.cos_sim(emb1,emb2)\n",
    "\n",
    "#             #For OG Class\n",
    "#             MaxAggregation = {}\n",
    "#             for i in range(cos_sim.shape[1]):\n",
    "#                 all_sentence_combinations=[]\n",
    "#                 for j in range(cos_sim.shape[0]):\n",
    "#                     all_sentence_combinations.append([cos_sim[j][i], j, i])\n",
    "#                 all_sentence_combinations = sorted(all_sentence_combinations, key=lambda x: x[0], reverse=True)\n",
    "#                 MaxAggregation[i]=all_sentence_combinations[0]\n",
    "                \n",
    "\n",
    "#             segmentscore.append(MaxAggregation[x][0])\n",
    "\n",
    "            \n",
    "                    \n",
    "#         avg=(sum(segmentscore)/len(segmentscore))\n",
    "#         scores.append(avg)\n",
    "        \n",
    "#     print(scores)\n",
    "#     dict_to_save[target]=scores"
   ]
  },
  {
   "cell_type": "code",
   "execution_count": null,
   "metadata": {},
   "outputs": [],
   "source": [
    "# with open('NRS_top1_regular.pkl', 'wb') as f:\n",
    "#     pickle.dump(dict_to_save, f)\n"
   ]
  },
  {
   "cell_type": "code",
   "execution_count": null,
   "metadata": {},
   "outputs": [],
   "source": [
    "# with open('NRS_top1_regular.pkl', 'rb') as f:\n",
    "#     NRS_dict=pickle.load(f)\n"
   ]
  },
  {
   "cell_type": "code",
   "execution_count": 15,
   "metadata": {},
   "outputs": [],
   "source": [
    "def get_key(val):\n",
    "    for key, value in target_dict.items():\n",
    "         if val == value:\n",
    "             return key\n",
    " \n",
    "    return \"key doesn't exist\""
   ]
  },
  {
   "cell_type": "code",
   "execution_count": 17,
   "metadata": {},
   "outputs": [
    {
     "data": {
      "application/vnd.jupyter.widget-view+json": {
       "model_id": "e0dffc19cdc74717a458026f58300774",
       "version_major": 2,
       "version_minor": 0
      },
      "text/plain": [
       "  0%|          | 0/29 [00:00<?, ?it/s]"
      ]
     },
     "metadata": {},
     "output_type": "display_data"
    },
    {
     "data": {
      "application/vnd.jupyter.widget-view+json": {
       "model_id": "b30ee7bc32f6477f8e38605c180da2c2",
       "version_major": 2,
       "version_minor": 0
      },
      "text/plain": [
       "  0%|          | 0/20 [00:00<?, ?it/s]"
      ]
     },
     "metadata": {},
     "output_type": "display_data"
    },
    {
     "data": {
      "application/vnd.jupyter.widget-view+json": {
       "model_id": "56f7eb364c0442c18b849f7887ac72a5",
       "version_major": 2,
       "version_minor": 0
      },
      "text/plain": [
       "  0%|          | 0/20 [00:00<?, ?it/s]"
      ]
     },
     "metadata": {},
     "output_type": "display_data"
    },
    {
     "data": {
      "application/vnd.jupyter.widget-view+json": {
       "model_id": "8b73b640bb2648928100a291bae27132",
       "version_major": 2,
       "version_minor": 0
      },
      "text/plain": [
       "  0%|          | 0/20 [00:00<?, ?it/s]"
      ]
     },
     "metadata": {},
     "output_type": "display_data"
    },
    {
     "data": {
      "application/vnd.jupyter.widget-view+json": {
       "model_id": "1b21202982ae4eeaa8aef7c79a57df43",
       "version_major": 2,
       "version_minor": 0
      },
      "text/plain": [
       "  0%|          | 0/10 [00:00<?, ?it/s]"
      ]
     },
     "metadata": {},
     "output_type": "display_data"
    },
    {
     "data": {
      "application/vnd.jupyter.widget-view+json": {
       "model_id": "3f707da2b65b43a5ba0f9bf809471cc2",
       "version_major": 2,
       "version_minor": 0
      },
      "text/plain": [
       "  0%|          | 0/20 [00:00<?, ?it/s]"
      ]
     },
     "metadata": {},
     "output_type": "display_data"
    },
    {
     "data": {
      "application/vnd.jupyter.widget-view+json": {
       "model_id": "a9556efd7d71497cadfa0e66ec0718b9",
       "version_major": 2,
       "version_minor": 0
      },
      "text/plain": [
       "  0%|          | 0/20 [00:00<?, ?it/s]"
      ]
     },
     "metadata": {},
     "output_type": "display_data"
    },
    {
     "data": {
      "application/vnd.jupyter.widget-view+json": {
       "model_id": "55bee9e1262a4cd7a855de43babcf313",
       "version_major": 2,
       "version_minor": 0
      },
      "text/plain": [
       "  0%|          | 0/20 [00:00<?, ?it/s]"
      ]
     },
     "metadata": {},
     "output_type": "display_data"
    },
    {
     "data": {
      "application/vnd.jupyter.widget-view+json": {
       "model_id": "614cb2bf032d4a0fbec27aea75c566b1",
       "version_major": 2,
       "version_minor": 0
      },
      "text/plain": [
       "  0%|          | 0/10 [00:00<?, ?it/s]"
      ]
     },
     "metadata": {},
     "output_type": "display_data"
    },
    {
     "data": {
      "application/vnd.jupyter.widget-view+json": {
       "model_id": "e86edd9f0a1d4b59955d7c7093f5dbf7",
       "version_major": 2,
       "version_minor": 0
      },
      "text/plain": [
       "  0%|          | 0/20 [00:00<?, ?it/s]"
      ]
     },
     "metadata": {},
     "output_type": "display_data"
    },
    {
     "data": {
      "application/vnd.jupyter.widget-view+json": {
       "model_id": "dcdd22c6a6f44adfa5c13dd70fe7847e",
       "version_major": 2,
       "version_minor": 0
      },
      "text/plain": [
       "  0%|          | 0/20 [00:00<?, ?it/s]"
      ]
     },
     "metadata": {},
     "output_type": "display_data"
    },
    {
     "data": {
      "application/vnd.jupyter.widget-view+json": {
       "model_id": "5d3a6f2c06a54efa9717e93a1fe95585",
       "version_major": 2,
       "version_minor": 0
      },
      "text/plain": [
       "  0%|          | 0/20 [00:00<?, ?it/s]"
      ]
     },
     "metadata": {},
     "output_type": "display_data"
    },
    {
     "data": {
      "application/vnd.jupyter.widget-view+json": {
       "model_id": "dcc5cbb91aa64004ba8e78469a62a5cb",
       "version_major": 2,
       "version_minor": 0
      },
      "text/plain": [
       "  0%|          | 0/20 [00:00<?, ?it/s]"
      ]
     },
     "metadata": {},
     "output_type": "display_data"
    },
    {
     "data": {
      "application/vnd.jupyter.widget-view+json": {
       "model_id": "53f4d188029849ce950692c3a0784519",
       "version_major": 2,
       "version_minor": 0
      },
      "text/plain": [
       "  0%|          | 0/20 [00:00<?, ?it/s]"
      ]
     },
     "metadata": {},
     "output_type": "display_data"
    },
    {
     "data": {
      "application/vnd.jupyter.widget-view+json": {
       "model_id": "f2288d9746be4c11ab532d627f735272",
       "version_major": 2,
       "version_minor": 0
      },
      "text/plain": [
       "  0%|          | 0/20 [00:00<?, ?it/s]"
      ]
     },
     "metadata": {},
     "output_type": "display_data"
    },
    {
     "data": {
      "application/vnd.jupyter.widget-view+json": {
       "model_id": "c01b891e034e4202900c19a56b782444",
       "version_major": 2,
       "version_minor": 0
      },
      "text/plain": [
       "  0%|          | 0/20 [00:00<?, ?it/s]"
      ]
     },
     "metadata": {},
     "output_type": "display_data"
    },
    {
     "data": {
      "application/vnd.jupyter.widget-view+json": {
       "model_id": "5e35fd0406094274b3bdafe57fea4ef5",
       "version_major": 2,
       "version_minor": 0
      },
      "text/plain": [
       "  0%|          | 0/20 [00:00<?, ?it/s]"
      ]
     },
     "metadata": {},
     "output_type": "display_data"
    },
    {
     "data": {
      "application/vnd.jupyter.widget-view+json": {
       "model_id": "cdfd37472df84f41a8539d55b5a41a29",
       "version_major": 2,
       "version_minor": 0
      },
      "text/plain": [
       "  0%|          | 0/20 [00:00<?, ?it/s]"
      ]
     },
     "metadata": {},
     "output_type": "display_data"
    },
    {
     "data": {
      "application/vnd.jupyter.widget-view+json": {
       "model_id": "556fe588d2364aae90bb140f4b2de8da",
       "version_major": 2,
       "version_minor": 0
      },
      "text/plain": [
       "  0%|          | 0/20 [00:00<?, ?it/s]"
      ]
     },
     "metadata": {},
     "output_type": "display_data"
    },
    {
     "data": {
      "application/vnd.jupyter.widget-view+json": {
       "model_id": "df3818d2e6324fd080e248814dd1a06f",
       "version_major": 2,
       "version_minor": 0
      },
      "text/plain": [
       "  0%|          | 0/20 [00:00<?, ?it/s]"
      ]
     },
     "metadata": {},
     "output_type": "display_data"
    },
    {
     "data": {
      "application/vnd.jupyter.widget-view+json": {
       "model_id": "99a666245c514ba5873e8b36b5da8d8c",
       "version_major": 2,
       "version_minor": 0
      },
      "text/plain": [
       "  0%|          | 0/20 [00:00<?, ?it/s]"
      ]
     },
     "metadata": {},
     "output_type": "display_data"
    }
   ],
   "source": [
    "#Relevance calculation per episode top1\n",
    "dictofrelevance=copy.deepcopy(targetkey_filelist)\n",
    "for key, value in tqdm(targetkey_filelist.items()): #for each IAB Label\n",
    "    if len(targetkey_filelist[key])==0:\n",
    "        continue\n",
    "    for i in tqdm(range(len(targetkey_filelist[key]))): #for each File\n",
    "        index=materialID.index(targetkey_filelist[key][i])\n",
    "        x=target_dict[key] #Index of the target label\n",
    "        MaxAggregation=defaultdict(list)\n",
    "\n",
    "        for l in range(len(newmetalist[index])): #For each Segment\n",
    "            # print(len(newmetalist[index]))\n",
    "            if len(newmetalist[index][l])==0: \n",
    "                continue\n",
    "            emb1=model.encode(newmetalist[index][l]) #, convert_to_tensor=True)\n",
    "            emb2=model.encode(targetlistchild) #, convert_to_tensor=True)\n",
    "            cos_sim=util.cos_sim(emb1,emb2)\n",
    "\n",
    "        #Add all pairs to a list with their cosine similarity score\n",
    "        \n",
    "            for k in range(cos_sim.shape[1]):\n",
    "                all_sentence_combinations=[]\n",
    "                for j in range(cos_sim.shape[0]):\n",
    "                    all_sentence_combinations.append([cos_sim[j][k], j, k])\n",
    "                all_sentence_combinations = sorted(all_sentence_combinations, key=lambda x: x[0], reverse=True)\n",
    "                MaxAggregation[k].append(all_sentence_combinations[0])\n",
    "    \n",
    "     \n",
    "        dictofrelevance[key][i]={dictofrelevance[key][i]:MaxAggregation}\n",
    "     \n",
    "\n",
    "with open('Relevance_Top1_sentences.pkl', 'wb') as f:\n",
    "    pickle.dump(dictofrelevance, f)   \n",
    " \n",
    "        #RS and NRS for OG Class\n",
    "\n",
    "        # RSlist=MaxAggregation[x]\n",
    "        # score=[]\n",
    "        # for s in RSlist:\n",
    "        #     score.append(s[0])\n",
    "\n",
    "        # rs=sum(score)/len(score)\n",
    "\n",
    "        # NRSlist=NRS_dict[key]\n",
    "        # nrsdenom=sum(NRSlist)-rs/len(NRSlist)\n",
    "\n",
    "        # NRS=rs/nrsdenom\n",
    "\n",
    "        \n",
    "        # #RS and ClassPredicted for Predicted Class\n",
    "\n",
    "        # order=[]\n",
    "        # for key in MaxAggregation.keys():\n",
    "        #     l=MaxAggregation[key]\n",
    "        #     summ=[]\n",
    "        #     for val in l:\n",
    "        #         summ.append(val[0])\n",
    "        #     order.append(sum(summ))\n",
    "        \n",
    "        \n",
    "        # max_val=max(order)\n",
    "        # max_index=order.index(max_val)\n",
    "        # ClassPredicted=get_key(max_index)\n",
    "\n",
    "        # RSlistss=MaxAggregation[max_index]\n",
    "        # scoress=[]\n",
    "        # for s in RSlistss:\n",
    "        #     scoress.append(s[0])\n",
    "\n",
    "        # RS_CP=sum(scoress)/len(scoress)\n",
    "\n",
    "        # d={targetkey_filelist[key][i]:{'NRS': NRS, \"Class_Predicted\": ClassPredicted, \"RS_CP\": RS_CP, \"RS_OG\": rs }}\n",
    "\n",
    "        \n",
    "\n",
    "\n",
    "        \n",
    "\n",
    "\n",
    "        \n",
    "\n",
    "    "
   ]
  },
  {
   "cell_type": "code",
   "execution_count": null,
   "metadata": {},
   "outputs": [],
   "source": []
  },
  {
   "cell_type": "code",
   "execution_count": 198,
   "metadata": {},
   "outputs": [
    {
     "data": {
      "application/vnd.jupyter.widget-view+json": {
       "model_id": "3391574420314a4c8f8aa01ccb83c7e9",
       "version_major": 2,
       "version_minor": 0
      },
      "text/plain": [
       "  0%|          | 0/29 [00:00<?, ?it/s]"
      ]
     },
     "metadata": {},
     "output_type": "display_data"
    },
    {
     "data": {
      "application/vnd.jupyter.widget-view+json": {
       "model_id": "1cc6e6acfdb74c6a8aee038f4d745cca",
       "version_major": 2,
       "version_minor": 0
      },
      "text/plain": [
       "  0%|          | 0/20 [00:00<?, ?it/s]"
      ]
     },
     "metadata": {},
     "output_type": "display_data"
    },
    {
     "data": {
      "application/vnd.jupyter.widget-view+json": {
       "model_id": "5bda94e84df34fe7bdac2eda3856b22d",
       "version_major": 2,
       "version_minor": 0
      },
      "text/plain": [
       "  0%|          | 0/20 [00:00<?, ?it/s]"
      ]
     },
     "metadata": {},
     "output_type": "display_data"
    },
    {
     "data": {
      "application/vnd.jupyter.widget-view+json": {
       "model_id": "7bb97e920ef34bfeb3aafb14ee4d4380",
       "version_major": 2,
       "version_minor": 0
      },
      "text/plain": [
       "  0%|          | 0/20 [00:00<?, ?it/s]"
      ]
     },
     "metadata": {},
     "output_type": "display_data"
    },
    {
     "data": {
      "application/vnd.jupyter.widget-view+json": {
       "model_id": "34e79f0f4a4a40de97f3c93c4391ea8f",
       "version_major": 2,
       "version_minor": 0
      },
      "text/plain": [
       "  0%|          | 0/10 [00:00<?, ?it/s]"
      ]
     },
     "metadata": {},
     "output_type": "display_data"
    },
    {
     "data": {
      "application/vnd.jupyter.widget-view+json": {
       "model_id": "d6ab36282a8d4ba49fe61c9caebc95ce",
       "version_major": 2,
       "version_minor": 0
      },
      "text/plain": [
       "  0%|          | 0/20 [00:00<?, ?it/s]"
      ]
     },
     "metadata": {},
     "output_type": "display_data"
    },
    {
     "data": {
      "application/vnd.jupyter.widget-view+json": {
       "model_id": "5292beed11de45d8825b1fba57a5bae5",
       "version_major": 2,
       "version_minor": 0
      },
      "text/plain": [
       "  0%|          | 0/20 [00:00<?, ?it/s]"
      ]
     },
     "metadata": {},
     "output_type": "display_data"
    },
    {
     "data": {
      "application/vnd.jupyter.widget-view+json": {
       "model_id": "322b2e32e3b74c49b2da4aaa38c074cf",
       "version_major": 2,
       "version_minor": 0
      },
      "text/plain": [
       "  0%|          | 0/20 [00:00<?, ?it/s]"
      ]
     },
     "metadata": {},
     "output_type": "display_data"
    },
    {
     "data": {
      "application/vnd.jupyter.widget-view+json": {
       "model_id": "aa71aeb7b5664ae08fcf972645f1deea",
       "version_major": 2,
       "version_minor": 0
      },
      "text/plain": [
       "  0%|          | 0/10 [00:00<?, ?it/s]"
      ]
     },
     "metadata": {},
     "output_type": "display_data"
    },
    {
     "data": {
      "application/vnd.jupyter.widget-view+json": {
       "model_id": "084e5b85e11840c8ab70881b818b558d",
       "version_major": 2,
       "version_minor": 0
      },
      "text/plain": [
       "  0%|          | 0/20 [00:00<?, ?it/s]"
      ]
     },
     "metadata": {},
     "output_type": "display_data"
    },
    {
     "data": {
      "application/vnd.jupyter.widget-view+json": {
       "model_id": "daafe2f86f5d4a5fa14e13f52df5ceb0",
       "version_major": 2,
       "version_minor": 0
      },
      "text/plain": [
       "  0%|          | 0/20 [00:00<?, ?it/s]"
      ]
     },
     "metadata": {},
     "output_type": "display_data"
    },
    {
     "data": {
      "application/vnd.jupyter.widget-view+json": {
       "model_id": "592d920fd43f48d09fdcebf6d6b0db5c",
       "version_major": 2,
       "version_minor": 0
      },
      "text/plain": [
       "  0%|          | 0/20 [00:00<?, ?it/s]"
      ]
     },
     "metadata": {},
     "output_type": "display_data"
    },
    {
     "data": {
      "application/vnd.jupyter.widget-view+json": {
       "model_id": "cab498adb61b4c3093591b8e16d885e3",
       "version_major": 2,
       "version_minor": 0
      },
      "text/plain": [
       "  0%|          | 0/20 [00:00<?, ?it/s]"
      ]
     },
     "metadata": {},
     "output_type": "display_data"
    },
    {
     "data": {
      "application/vnd.jupyter.widget-view+json": {
       "model_id": "bf39a4043c5942919c8b7cc30bcb72c2",
       "version_major": 2,
       "version_minor": 0
      },
      "text/plain": [
       "  0%|          | 0/20 [00:00<?, ?it/s]"
      ]
     },
     "metadata": {},
     "output_type": "display_data"
    },
    {
     "data": {
      "application/vnd.jupyter.widget-view+json": {
       "model_id": "6e79a1cc65b6465ba650d45b792e6a3b",
       "version_major": 2,
       "version_minor": 0
      },
      "text/plain": [
       "  0%|          | 0/20 [00:00<?, ?it/s]"
      ]
     },
     "metadata": {},
     "output_type": "display_data"
    },
    {
     "data": {
      "application/vnd.jupyter.widget-view+json": {
       "model_id": "02f2730f75444251b410858afde7999f",
       "version_major": 2,
       "version_minor": 0
      },
      "text/plain": [
       "  0%|          | 0/20 [00:00<?, ?it/s]"
      ]
     },
     "metadata": {},
     "output_type": "display_data"
    },
    {
     "data": {
      "application/vnd.jupyter.widget-view+json": {
       "model_id": "34c56ac7660c4ae19e431fef9a54bf12",
       "version_major": 2,
       "version_minor": 0
      },
      "text/plain": [
       "  0%|          | 0/20 [00:00<?, ?it/s]"
      ]
     },
     "metadata": {},
     "output_type": "display_data"
    },
    {
     "data": {
      "application/vnd.jupyter.widget-view+json": {
       "model_id": "b5035f26cbb340ecb288b4d9b1e14550",
       "version_major": 2,
       "version_minor": 0
      },
      "text/plain": [
       "  0%|          | 0/20 [00:00<?, ?it/s]"
      ]
     },
     "metadata": {},
     "output_type": "display_data"
    },
    {
     "data": {
      "application/vnd.jupyter.widget-view+json": {
       "model_id": "b0114cdc2d1346be94c9ef430e919709",
       "version_major": 2,
       "version_minor": 0
      },
      "text/plain": [
       "  0%|          | 0/20 [00:00<?, ?it/s]"
      ]
     },
     "metadata": {},
     "output_type": "display_data"
    },
    {
     "data": {
      "application/vnd.jupyter.widget-view+json": {
       "model_id": "48354e6559484fcc97c3eb7cb00a8abf",
       "version_major": 2,
       "version_minor": 0
      },
      "text/plain": [
       "  0%|          | 0/20 [00:00<?, ?it/s]"
      ]
     },
     "metadata": {},
     "output_type": "display_data"
    },
    {
     "data": {
      "application/vnd.jupyter.widget-view+json": {
       "model_id": "e64bf9b902b84a36884c93e0b993088c",
       "version_major": 2,
       "version_minor": 0
      },
      "text/plain": [
       "  0%|          | 0/20 [00:00<?, ?it/s]"
      ]
     },
     "metadata": {},
     "output_type": "display_data"
    }
   ],
   "source": [
    "#Relevance calculation per episode top3\n",
    "dictofrelevance=copy.deepcopy(targetkey_filelist)\n",
    "for key, value in tqdm(targetkey_filelist.items()): #for each IAB Label\n",
    "    if len(targetkey_filelist[key])==0:\n",
    "        continue\n",
    "    for i in tqdm(range(len(targetkey_filelist[key]))): #for each File\n",
    "        index=materialID.index(targetkey_filelist[key][i])\n",
    "        x=target_dict[key] #Index of the target label\n",
    "        MaxAggregation=defaultdict(list)\n",
    "\n",
    "        for l in range(len(newmetalist[index])): #For each Segment\n",
    "            # print(len(newmetalist[index]))\n",
    "            if len(newmetalist[index][l])==0: \n",
    "                continue\n",
    "            emb1=model.encode(newmetalist[index][l]) #, convert_to_tensor=True)\n",
    "            emb2=model.encode(targetlist) #, convert_to_tensor=True)\n",
    "            cos_sim=util.cos_sim(emb1,emb2)\n",
    "\n",
    "        #Add all pairs to a list with their cosine similarity score\n",
    "        \n",
    "            for k in range(cos_sim.shape[1]):\n",
    "                all_sentence_combinations=[]\n",
    "                for j in range(cos_sim.shape[0]):\n",
    "                    all_sentence_combinations.append([cos_sim[j][k], j, k])\n",
    "                all_sentence_combinations = sorted(all_sentence_combinations, key=lambda x: x[0], reverse=True)\n",
    "                templist=all_sentence_combinations[0:3]\n",
    "                temp=[]\n",
    "                sent=[]\n",
    "                for item in templist:\n",
    "                    temp.append(item[0])\n",
    "                    sent.append(list([item[1],item[2]]))\n",
    "                avg=(sum(temp)/len(temp))\n",
    "                comb=list([avg, sent])\n",
    "                MaxAggregation[k].append(comb)\n",
    "            \n",
    "            # print(MaxAggregation)\n",
    "            \n",
    "    \n",
    "        # print(MaxAggregation)\n",
    "        # print(dictofrelevance[key][i])\n",
    "        dictofrelevance[key][i]={dictofrelevance[key][i]:MaxAggregation}\n",
    "        # print(dictofrelevance[key][i])\n",
    "\n",
    "with open('Relevance_AdditionalSignal_top3_regular.pkl', 'wb') as f:\n",
    "    pickle.dump(dictofrelevance, f)  "
   ]
  },
  {
   "cell_type": "code",
   "execution_count": null,
   "metadata": {},
   "outputs": [],
   "source": [
    "#Relevance calculation per episode Harmonic\n",
    "dictofrelevance=copy.deepcopy(targetkey_filelist)\n",
    "for key, value in tqdm(targetkey_filelist.items()): #for each IAB Label\n",
    "    if len(targetkey_filelist[key])==0:\n",
    "        continue\n",
    "    for i in tqdm(range(len(targetkey_filelist[key]))): #for each File\n",
    "        index=materialID.index(targetkey_filelist[key][i])\n",
    "        x=target_dict[key] #Index of the target label\n",
    "        MaxAggregation=defaultdict(list)\n",
    "\n",
    "        for l in range(len(newmetalist[index])): #For each Segment\n",
    "            # print(len(newmetalist[index]))\n",
    "            if len(newmetalist[index][l])==0: \n",
    "                continue\n",
    "            emb1=model.encode(newmetalist[index][l]) #, convert_to_tensor=True)\n",
    "            emb2=model.encode(targetlist) #, convert_to_tensor=True)\n",
    "            cos_sim=util.cos_sim(emb1,emb2)\n",
    "\n",
    "        #Add all pairs to a list with their cosine similarity score\n",
    "        \n",
    "            for k in range(cos_sim.shape[1]):\n",
    "                all_sentence_combinations=[]\n",
    "                for j in range(cos_sim.shape[0]):\n",
    "                    all_sentence_combinations.append([cos_sim[j][k], j, k])\n",
    "                all_sentence_combinations = sorted(all_sentence_combinations, key=lambda x: x[0], reverse=True)\n",
    "                all_sentence_combinations = [ele for ele in all_sentence_combinations if ele[0] > 0]\n",
    "                templist=all_sentence_combinations\n",
    "                temp=[]\n",
    "                sent=[]\n",
    "                for item in templist:\n",
    "                    temp.append(float(item[0]))\n",
    "                try:\n",
    "                    sent.append([templist[0][1],templist[0][2],templist[0][0]])\n",
    "                    avg=statistics.harmonic_mean(temp)\n",
    "                    comb=list([avg, sent])\n",
    "                    MaxAggregation[k].append(comb)\n",
    "                except:\n",
    "                    sent.append(['-'])\n",
    "                    avg=0\n",
    "                    comb=list([avg, sent])\n",
    "                    MaxAggregation[k].append(comb)\n",
    "\n",
    "\n",
    "\n",
    "            \n",
    "            # print(MaxAggregation)\n",
    "            \n",
    "    \n",
    "        # print(MaxAggregation)\n",
    "        # print(dictofrelevance[key][i])\n",
    "        dictofrelevance[key][i]={dictofrelevance[key][i]:MaxAggregation}\n",
    "        # print(dictofrelevance[key][i])\n",
    "\n",
    "with open('Relevance_Harmonic_regular.pkl', 'wb') as f:\n",
    "    pickle.dump(dictofrelevance, f)  "
   ]
  },
  {
   "cell_type": "code",
   "execution_count": 18,
   "metadata": {},
   "outputs": [],
   "source": [
    "with open('Relevance_Top1_sentences.pkl', 'rb') as f:\n",
    "     Relevance_dict=pickle.load(f)"
   ]
  },
  {
   "cell_type": "code",
   "execution_count": null,
   "metadata": {},
   "outputs": [],
   "source": [
    "print(Relevance_dict_top3['Automotive'][0])"
   ]
  },
  {
   "cell_type": "code",
   "execution_count": 21,
   "metadata": {},
   "outputs": [],
   "source": [
    "#Def Top1 Agg\n",
    "def segmentcombiner(dic): #for segments to final dic of relevance scores\n",
    "    dic1=copy.deepcopy(dic)\n",
    "    filename=list(dic1.keys())[0]\n",
    "    defdict=dic1[filename]\n",
    "    for k,v in defdict.items():\n",
    "        RSlist=defdict[k]\n",
    "        score=[]\n",
    "        for s in RSlist:\n",
    "            score.append(s[0])\n",
    "\n",
    "        rs=sum(score)/len(score)\n",
    "        defdict[k]=rs\n",
    "    d={filename:defdict}\n",
    "    return d\n",
    "    \n"
   ]
  },
  {
   "cell_type": "code",
   "execution_count": null,
   "metadata": {},
   "outputs": [],
   "source": [
    "#Def Top3 and Harm Agg\n",
    "# def segmentcombinertop3Harm(dic): #for segments to final dic of relevance scores\n",
    "#     dic1=copy.deepcopy(dic)\n",
    "#     filename=list(dic1.keys())[0]\n",
    "#     defdict=dic1[filename]\n",
    "#     for k,v in defdict.items():\n",
    "#         RSlist=defdict[k][0]\n",
    "#         score=[]\n",
    "#         for s in RSlist:\n",
    "#             score.append(s[0])\n",
    "\n",
    "#         rs=sum(score)/len(score)\n",
    "#         defdict[k]=rs\n",
    "#     d={filename:defdict}\n",
    "#     return d"
   ]
  },
  {
   "cell_type": "code",
   "execution_count": null,
   "metadata": {},
   "outputs": [],
   "source": [
    "print(segmentcombiner(Relevance_dict_top3['Automotive'][18]))"
   ]
  },
  {
   "cell_type": "code",
   "execution_count": null,
   "metadata": {},
   "outputs": [],
   "source": [
    "# with open('Relevance_regular.pkl', 'rb') as f:\n",
    "#      Relevance_dict=pickle.load(f)"
   ]
  },
  {
   "cell_type": "code",
   "execution_count": 22,
   "metadata": {},
   "outputs": [
    {
     "data": {
      "application/vnd.jupyter.widget-view+json": {
       "model_id": "6f057c2ef80c4a94b7b4572f6be3d1d0",
       "version_major": 2,
       "version_minor": 0
      },
      "text/plain": [
       "  0%|          | 0/29 [00:00<?, ?it/s]"
      ]
     },
     "metadata": {},
     "output_type": "display_data"
    },
    {
     "data": {
      "application/vnd.jupyter.widget-view+json": {
       "model_id": "2f140b5855bc42c1994aa3e4380e3501",
       "version_major": 2,
       "version_minor": 0
      },
      "text/plain": [
       "  0%|          | 0/29 [00:00<?, ?it/s]"
      ]
     },
     "metadata": {},
     "output_type": "display_data"
    },
    {
     "data": {
      "application/vnd.jupyter.widget-view+json": {
       "model_id": "e58c86bb30dd4b5bb736663b5161a7a8",
       "version_major": 2,
       "version_minor": 0
      },
      "text/plain": [
       "  0%|          | 0/29 [00:00<?, ?it/s]"
      ]
     },
     "metadata": {},
     "output_type": "display_data"
    },
    {
     "data": {
      "application/vnd.jupyter.widget-view+json": {
       "model_id": "e03533bfe4fd463080ebe4f8d7975590",
       "version_major": 2,
       "version_minor": 0
      },
      "text/plain": [
       "  0%|          | 0/29 [00:00<?, ?it/s]"
      ]
     },
     "metadata": {},
     "output_type": "display_data"
    },
    {
     "data": {
      "application/vnd.jupyter.widget-view+json": {
       "model_id": "0723fc47d49d441ca27f257cc7486756",
       "version_major": 2,
       "version_minor": 0
      },
      "text/plain": [
       "  0%|          | 0/29 [00:00<?, ?it/s]"
      ]
     },
     "metadata": {},
     "output_type": "display_data"
    },
    {
     "data": {
      "application/vnd.jupyter.widget-view+json": {
       "model_id": "f454c769213e495b88822f702cd3fca3",
       "version_major": 2,
       "version_minor": 0
      },
      "text/plain": [
       "  0%|          | 0/29 [00:00<?, ?it/s]"
      ]
     },
     "metadata": {},
     "output_type": "display_data"
    },
    {
     "data": {
      "application/vnd.jupyter.widget-view+json": {
       "model_id": "61caa59af483488b93535c99e989568e",
       "version_major": 2,
       "version_minor": 0
      },
      "text/plain": [
       "  0%|          | 0/29 [00:00<?, ?it/s]"
      ]
     },
     "metadata": {},
     "output_type": "display_data"
    },
    {
     "data": {
      "application/vnd.jupyter.widget-view+json": {
       "model_id": "58faa82da5ef4584840c7dc40c75ecc7",
       "version_major": 2,
       "version_minor": 0
      },
      "text/plain": [
       "  0%|          | 0/29 [00:00<?, ?it/s]"
      ]
     },
     "metadata": {},
     "output_type": "display_data"
    },
    {
     "data": {
      "application/vnd.jupyter.widget-view+json": {
       "model_id": "4709463cf57f45e691b311229dad67d1",
       "version_major": 2,
       "version_minor": 0
      },
      "text/plain": [
       "  0%|          | 0/29 [00:00<?, ?it/s]"
      ]
     },
     "metadata": {},
     "output_type": "display_data"
    },
    {
     "data": {
      "application/vnd.jupyter.widget-view+json": {
       "model_id": "91338b5f46d545b8bf232f3f543daa0c",
       "version_major": 2,
       "version_minor": 0
      },
      "text/plain": [
       "  0%|          | 0/29 [00:00<?, ?it/s]"
      ]
     },
     "metadata": {},
     "output_type": "display_data"
    },
    {
     "data": {
      "application/vnd.jupyter.widget-view+json": {
       "model_id": "28feea446a9541a9b951ba6e9e71bfad",
       "version_major": 2,
       "version_minor": 0
      },
      "text/plain": [
       "  0%|          | 0/29 [00:00<?, ?it/s]"
      ]
     },
     "metadata": {},
     "output_type": "display_data"
    },
    {
     "data": {
      "application/vnd.jupyter.widget-view+json": {
       "model_id": "1a7bc76161f847b1b74158a5c785dfa9",
       "version_major": 2,
       "version_minor": 0
      },
      "text/plain": [
       "  0%|          | 0/29 [00:00<?, ?it/s]"
      ]
     },
     "metadata": {},
     "output_type": "display_data"
    },
    {
     "data": {
      "application/vnd.jupyter.widget-view+json": {
       "model_id": "9122a9a3ddd44bf5b210c88b1dc0f441",
       "version_major": 2,
       "version_minor": 0
      },
      "text/plain": [
       "  0%|          | 0/29 [00:00<?, ?it/s]"
      ]
     },
     "metadata": {},
     "output_type": "display_data"
    },
    {
     "data": {
      "application/vnd.jupyter.widget-view+json": {
       "model_id": "832d72c1c5a2442cbdd99c481f53b484",
       "version_major": 2,
       "version_minor": 0
      },
      "text/plain": [
       "  0%|          | 0/29 [00:00<?, ?it/s]"
      ]
     },
     "metadata": {},
     "output_type": "display_data"
    },
    {
     "data": {
      "application/vnd.jupyter.widget-view+json": {
       "model_id": "4de47a31b8034bbba0d319ad9d9d185f",
       "version_major": 2,
       "version_minor": 0
      },
      "text/plain": [
       "  0%|          | 0/29 [00:00<?, ?it/s]"
      ]
     },
     "metadata": {},
     "output_type": "display_data"
    },
    {
     "data": {
      "application/vnd.jupyter.widget-view+json": {
       "model_id": "eca859221f574b91b48ec40348e044cb",
       "version_major": 2,
       "version_minor": 0
      },
      "text/plain": [
       "  0%|          | 0/29 [00:00<?, ?it/s]"
      ]
     },
     "metadata": {},
     "output_type": "display_data"
    },
    {
     "data": {
      "application/vnd.jupyter.widget-view+json": {
       "model_id": "ae07c2cffa634e90a1f32c29005a88bf",
       "version_major": 2,
       "version_minor": 0
      },
      "text/plain": [
       "  0%|          | 0/29 [00:00<?, ?it/s]"
      ]
     },
     "metadata": {},
     "output_type": "display_data"
    },
    {
     "data": {
      "application/vnd.jupyter.widget-view+json": {
       "model_id": "42d781abbfe245089c67743424d31afb",
       "version_major": 2,
       "version_minor": 0
      },
      "text/plain": [
       "  0%|          | 0/29 [00:00<?, ?it/s]"
      ]
     },
     "metadata": {},
     "output_type": "display_data"
    },
    {
     "data": {
      "application/vnd.jupyter.widget-view+json": {
       "model_id": "9b99b226f90d404d88ef8be13ad3da83",
       "version_major": 2,
       "version_minor": 0
      },
      "text/plain": [
       "  0%|          | 0/29 [00:00<?, ?it/s]"
      ]
     },
     "metadata": {},
     "output_type": "display_data"
    },
    {
     "data": {
      "application/vnd.jupyter.widget-view+json": {
       "model_id": "fd425e6195194435b6463a716ad25895",
       "version_major": 2,
       "version_minor": 0
      },
      "text/plain": [
       "  0%|          | 0/29 [00:00<?, ?it/s]"
      ]
     },
     "metadata": {},
     "output_type": "display_data"
    },
    {
     "data": {
      "application/vnd.jupyter.widget-view+json": {
       "model_id": "b0235af2caa74390b6e67d43ce3d971d",
       "version_major": 2,
       "version_minor": 0
      },
      "text/plain": [
       "  0%|          | 0/29 [00:00<?, ?it/s]"
      ]
     },
     "metadata": {},
     "output_type": "display_data"
    },
    {
     "name": "stdout",
     "output_type": "stream",
     "text": [
      "{'Automotive': 1.0182769935334033, 'Books and Literature': 1.1791337456179327, 'Business and Finance': 1.1804643810418454, 'Education': 1.185629812182634, 'Events and Attractions': 1.13318066570273, 'Family and Relationships': 1.0619434756189712, 'Food & Drink': 1.8253069516745581, 'Hobbies & Interests': 1.0239185772580286, 'Medical Health': 1.2871746993498758, 'Music and Audio': 1.1544888267025977, 'Pets': 0.9554176268227536, 'Real Estate': 2.137555941862951, 'Religion & Spirituality': 1.2344177647755896, 'Science': 1.0652855238617247, 'Shopping': 1.0844614864915958, 'Sports': 1.096910298097517, 'Style & Fashion': 1.8962659921922769, 'Technology & Computing': 1.4520269075381667, 'Television': 1.0691189309916962, 'Travel': 1.196499998097304}\n",
      "None\n"
     ]
    }
   ],
   "source": [
    "print(NRS(Relevance_dict))"
   ]
  },
  {
   "cell_type": "code",
   "execution_count": null,
   "metadata": {},
   "outputs": [],
   "source": []
  },
  {
   "cell_type": "code",
   "execution_count": 20,
   "metadata": {},
   "outputs": [],
   "source": [
    "#Def NRS for top1 \n",
    "def NRS(dict):\n",
    "    d={}\n",
    "    for k,v in tqdm(dict.items()):#for each label\n",
    "        if len(dict[k]) == 0:\n",
    "            continue\n",
    "        d1={}\n",
    "        for target in tqdm(targetlist): #for each topic\n",
    "            scoreforfiles=[]\n",
    "            if len(dict[target]) == 0:\n",
    "                continue\n",
    "            for i in range(len(dict[k])): #for each file in label\n",
    "                x=target_dict[target]\n",
    "                combinedsegments=segmentcombiner(dict[k][i])\n",
    "                key=list(combinedsegments.keys())[0]\n",
    "                scoreforfiles.append(float(combinedsegments[key][x])) #combine segments \n",
    "            avg=sum(scoreforfiles)/len(scoreforfiles)\n",
    "            d1[target]=avg\n",
    "        d[k]=d1\n",
    "\n",
    "    finaldict={}\n",
    "    for k,v in d.items():\n",
    "        numerator=d[k][k]\n",
    "        denominator=[]\n",
    "        for kk,vv in d.items():\n",
    "            denominator.append(d[kk][k])\n",
    "        avgdenominator=(sum(denominator)-numerator)/(len(denominator)-1)\n",
    "        NRS=numerator/avgdenominator\n",
    "        finaldict[k]=NRS\n",
    "    print(finaldict)\n",
    "\n",
    "\n",
    "            \n",
    "        "
   ]
  },
  {
   "cell_type": "code",
   "execution_count": null,
   "metadata": {},
   "outputs": [],
   "source": [
    "print(RSMetrics(Relevance_dict))"
   ]
  },
  {
   "cell_type": "code",
   "execution_count": null,
   "metadata": {},
   "outputs": [],
   "source": [
    "#Def RS at 0.15, 0.20, 0.35 and Mean RS \n",
    "def RSMetrics(dict):\n",
    "    d={}\n",
    "    for k,v in tqdm(dict.items()): #for each label\n",
    "        if len(dict[k]) == 0:\n",
    "            continue\n",
    "        scoreforfiles=[]\n",
    "        for i in range(len(dict[k])): #for each file in label\n",
    "            x=target_dict[k]\n",
    "            combinedsegments=segmentcombiner(dict[k][i])\n",
    "            key=list(combinedsegments.keys())[0]\n",
    "            scoreforfiles.append(round(float(combinedsegments[key][x]),2))\n",
    "        rs15=[]\n",
    "        rs20=[]\n",
    "        rs35=[]\n",
    "        for item in scoreforfiles:\n",
    "            if item >= 0.15:\n",
    "                rs15.append(item)\n",
    "            if item >= 0.20:\n",
    "                rs20.append(item)\n",
    "            if item >= 0.35:\n",
    "                rs35.append(item)\n",
    "\n",
    "        RS15=(len(rs15)/len(scoreforfiles))*100\n",
    "        RS20=(len(rs20)/len(scoreforfiles))*100\n",
    "        RS35=(len(rs35)/len(scoreforfiles))*100\n",
    "        d1={\"RS15\":RS15, \"RS20\": RS20, \"RS35\": RS35}\n",
    "        d[k]=d1\n",
    "    \n",
    "    return d\n",
    "        \n",
    "    \n"
   ]
  },
  {
   "cell_type": "code",
   "execution_count": null,
   "metadata": {},
   "outputs": [],
   "source": [
    "#Def RS at 0.15, 0.20, 0.35 and Mean RS \n",
    "def RSMetricsHM(dict):\n",
    "    d={}\n",
    "    for k,v in tqdm(dict.items()): #for each label\n",
    "        if len(dict[k]) == 0:\n",
    "            continue\n",
    "        scoreforfiles=[]\n",
    "        for i in range(len(dict[k])): #for each file in label\n",
    "            x=target_dict[k]\n",
    "            combinedsegments=segmentcombiner(dict[k][i])\n",
    "            key=list(combinedsegments.keys())[0]\n",
    "            ll=(dict[k][i][key][x])\n",
    "            lll=[]\n",
    "            for score in ll:\n",
    "                print(score[1])\n",
    "                lll.append(score[1][0][2])\n",
    "            avg=sum(lll)/len(ll)\n",
    "            scoreforfiles.append(round(float(avg),2))\n",
    "        rs15=[]\n",
    "        rs20=[]\n",
    "        rs35=[]\n",
    "        for item in scoreforfiles:\n",
    "            if item >= 0.15:\n",
    "                rs15.append(item)\n",
    "            if item >= 0.20:\n",
    "                rs20.append(item)\n",
    "            if item >= 0.35:\n",
    "                rs35.append(item)\n",
    "\n",
    "        RS15=(len(rs15)/len(scoreforfiles))*100\n",
    "        RS20=(len(rs20)/len(scoreforfiles))*100\n",
    "        RS35=(len(rs35)/len(scoreforfiles))*100\n",
    "        d1={\"RS15\":RS15, \"RS20\": RS20, \"RS35\": RS35}\n",
    "        d[k]=d1\n",
    "    \n",
    "    return d\n",
    "        "
   ]
  },
  {
   "cell_type": "code",
   "execution_count": 28,
   "metadata": {},
   "outputs": [
    {
     "data": {
      "application/vnd.jupyter.widget-view+json": {
       "model_id": "ccb4a01527644f62befbfe9124e2c223",
       "version_major": 2,
       "version_minor": 0
      },
      "text/plain": [
       "  0%|          | 0/29 [00:00<?, ?it/s]"
      ]
     },
     "metadata": {},
     "output_type": "display_data"
    },
    {
     "name": "stdout",
     "output_type": "stream",
     "text": [
      "{'Automotive': {'FILE_MAF_20211223T065128Z_GMO_00000000002584_01': {'ClassPredicted': 'Medical Health', 'RS_CP': tensor(0.4556)}, 'FILE_MAF_20211223T064615Z_GMO_00000000106986_01': {'ClassPredicted': 'Medical Health', 'RS_CP': tensor(0.3621)}, 'FILE_MAF_20211223T064819Z_GMO_00000000002709_01': {'ClassPredicted': 'Medical Health', 'RS_CP': tensor(0.5011)}, 'FILE_MAF_20211222T231607Z_GMO_00000000294982_01': {'ClassPredicted': 'Movies', 'RS_CP': tensor(0.3795)}, 'FILE_MAF_20211222T214634Z_GMO_00000000029298_01': {'ClassPredicted': 'Medical Health', 'RS_CP': tensor(0.3462)}, 'FILE_MAF_20211222T214941Z_GMO_00000000121162_01': {'ClassPredicted': 'Movies', 'RS_CP': tensor(0.4073)}, 'FILE_MAF_20211222T230805Z_GMO_00000000273733_01': {'ClassPredicted': 'Real Estate', 'RS_CP': tensor(0.3730)}, 'FILE_MAF_20211223T065125Z_GMO_00000000027759_01': {'ClassPredicted': 'Medical Health', 'RS_CP': tensor(0.4359)}, 'FILE_MAF_20211223T065130Z_GMO_00000000002708_01': {'ClassPredicted': 'Movies', 'RS_CP': tensor(0.4631)}, 'FILE_MAF_20211223T063010Z_GMO_00000000002843_01': {'ClassPredicted': 'Real Estate', 'RS_CP': tensor(0.5051)}, 'FILE_MAF_20211223T064314Z_GMO_00000000029163_01': {'ClassPredicted': 'Movies', 'RS_CP': tensor(0.3542)}, 'FILE_MAF_20211222T214633Z_GMO_00000000027597_01': {'ClassPredicted': 'Medical Health', 'RS_CP': tensor(0.3470)}, 'FILE_MAF_20211223T065127Z_GMO_00000000002637_01': {'ClassPredicted': 'Movies', 'RS_CP': tensor(0.3868)}, 'FILE_MAF_20211223T065129Z_GMO_00000000009448_01': {'ClassPredicted': 'Medical Health', 'RS_CP': tensor(0.4364)}, 'FILE_MAF_20211223T064919Z_GMO_00000000002707_01': {'ClassPredicted': 'Medical Health', 'RS_CP': tensor(0.5400)}, 'FILE_MAF_20211222T214633Z_GMO_00000000027055_01': {'ClassPredicted': 'Medical Health', 'RS_CP': tensor(0.4215)}, 'FILE_MAF_20211223T065126Z_GMO_00000000002685_01': {'ClassPredicted': 'Movies', 'RS_CP': tensor(0.4228)}, 'FILE_MAF_20211223T065020Z_GMO_00000000009009_01': {'ClassPredicted': 'Movies', 'RS_CP': tensor(0.3561)}, 'FILE_MAF_20211223T061005Z_GMO_00000000113301_01': {'ClassPredicted': 'Medical Health', 'RS_CP': tensor(0.4151)}, 'FILE_MAF_20211222T174857Z_GMO_00000000334049_01': {'ClassPredicted': 'Medical Health', 'RS_CP': tensor(0.3938)}}, 'Books and Literature': {'FILE_MAF_20210729T092828Z_GMO_00000000044326_01': {'ClassPredicted': 'Home & Garden', 'RS_CP': tensor(0.3447)}, 'FILE_MAF_20210730T234421Z_GMO_00000000044076_01': {'ClassPredicted': 'Movies', 'RS_CP': tensor(0.3466)}, 'FILE_MAF_20210805T164954Z_GMO_00000000044095_01': {'ClassPredicted': 'Books and Literature', 'RS_CP': tensor(0.4327)}, 'FILE_MAF_20210802T172724Z_GMO_00000000142561_01': {'ClassPredicted': 'Movies', 'RS_CP': tensor(0.3101)}, 'FILE_MAF_20210803T004745Z_GMO_00000000044086_01': {'ClassPredicted': 'Medical Health', 'RS_CP': tensor(0.4465)}, 'FILE_MAF_20210730T233513Z_GMO_00000000044080_01': {'ClassPredicted': 'Books and Literature', 'RS_CP': tensor(0.3813)}, 'FILE_MAF_20210802T172722Z_GMO_00000000142565_01': {'ClassPredicted': 'Medical Health', 'RS_CP': tensor(0.3942)}, 'FILE_MAF_20210802T164609Z_GMO_00000000044398_01': {'ClassPredicted': 'Television', 'RS_CP': tensor(0.5169)}, 'FILE_MAF_20210729T120911Z_GMO_00000000044348_01': {'ClassPredicted': 'Personal Finance', 'RS_CP': tensor(0.3631)}, 'FILE_MAF_20210729T073646Z_GMO_00000000044249_01': {'ClassPredicted': 'Movies', 'RS_CP': tensor(0.3585)}, 'FILE_MAF_20210729T073651Z_GMO_00000000044264_01': {'ClassPredicted': 'Medical Health', 'RS_CP': tensor(0.3540)}, 'FILE_MAF_20210729T075657Z_GMO_00000000044301_01': {'ClassPredicted': 'Hobbies & Interests', 'RS_CP': tensor(0.3476)}, 'FILE_MAF_20210729T074455Z_GMO_00000000044309_01': {'ClassPredicted': 'Movies', 'RS_CP': tensor(0.3743)}, 'FILE_MAF_20210729T074052Z_GMO_00000000044294_01': {'ClassPredicted': 'Medical Health', 'RS_CP': tensor(0.3845)}, 'FILE_MAF_20210730T172125Z_GMO_00000000044284_01': {'ClassPredicted': 'Medical Health', 'RS_CP': tensor(0.4115)}, 'FILE_MAF_20210730T225100Z_GMO_00000000044066_01': {'ClassPredicted': 'News and Politics', 'RS_CP': tensor(0.4590)}, 'FILE_MAF_20210729T083302Z_GMO_00000000044265_01': {'ClassPredicted': 'Travel', 'RS_CP': tensor(0.3877)}, 'FILE_MAF_20210730T172335Z_GMO_00000000044277_01': {'ClassPredicted': 'Automotive', 'RS_CP': tensor(0.4442)}, 'FILE_MAF_20210730T233617Z_GMO_00000000044072_01': {'ClassPredicted': 'Sports', 'RS_CP': tensor(0.3900)}, 'FILE_MAF_20210729T093648Z_GMO_00000000044308_01': {'ClassPredicted': 'Movies', 'RS_CP': tensor(0.3093)}}, 'Business and Finance': {'FILE_MAF_20210803T150810Z_GMO_00000000108698_01': {'ClassPredicted': 'Automotive', 'RS_CP': tensor(0.3702)}, 'FILE_MAF_20210728T183011Z_GMO_00000000007353_01': {'ClassPredicted': 'Careers', 'RS_CP': tensor(0.3477)}, 'FILE_MAF_20210728T185221Z_GMO_00000000007414_01': {'ClassPredicted': 'Business and Finance', 'RS_CP': tensor(0.3851)}, 'FILE_MAF_20210727T231449Z_GMO_00000000001716_01': {'ClassPredicted': 'Automotive', 'RS_CP': tensor(0.3818)}, 'FILE_MAF_20210728T202741Z_GMO_00000000007597_01': {'ClassPredicted': 'Automotive', 'RS_CP': tensor(0.3901)}, 'FILE_MAF_20210728T181505Z_GMO_00000000007230_01': {'ClassPredicted': 'Careers', 'RS_CP': tensor(0.3852)}, 'FILE_MAF_20210728T163741Z_GMO_00000000007105_01': {'ClassPredicted': 'News and Politics', 'RS_CP': tensor(0.3452)}, 'FILE_MAF_20210728T163639Z_GMO_00000000007100_01': {'ClassPredicted': 'Careers', 'RS_CP': tensor(0.4266)}, 'FILE_MAF_20210728T181503Z_GMO_00000000007187_01': {'ClassPredicted': 'Shopping', 'RS_CP': tensor(0.3506)}, 'FILE_MAF_20210727T231237Z_GMO_00000000001660_01': {'ClassPredicted': 'Movies', 'RS_CP': tensor(0.3527)}, 'FILE_MAF_20210728T163637Z_GMO_00000000007042_01': {'ClassPredicted': 'Business and Finance', 'RS_CP': tensor(0.4253)}, 'FILE_MAF_20210727T231247Z_GMO_00000000001712_01': {'ClassPredicted': 'Movies', 'RS_CP': tensor(0.3669)}, 'FILE_MAF_20210728T183513Z_GMO_00000000007330_01': {'ClassPredicted': 'Automotive', 'RS_CP': tensor(0.3321)}, 'FILE_MAF_20210802T225506Z_GMO_00000000007502_01': {'ClassPredicted': 'Movies', 'RS_CP': tensor(0.3985)}, 'FILE_MAF_20210728T163134Z_GMO_00000000007137_01': {'ClassPredicted': 'Sports', 'RS_CP': tensor(0.3611)}, 'FILE_MAF_20210728T185222Z_GMO_00000000007421_01': {'ClassPredicted': 'Sports', 'RS_CP': tensor(0.3901)}, 'FILE_MAF_20210807T072438Z_GMO_00000000007432_01': {'ClassPredicted': 'Movies', 'RS_CP': tensor(0.3972)}, 'FILE_MAF_20210728T162831Z_GMO_00000000007007_01': {'ClassPredicted': 'Careers', 'RS_CP': tensor(0.4272)}, 'FILE_MAF_20210728T185223Z_GMO_00000000007423_01': {'ClassPredicted': 'Careers', 'RS_CP': tensor(0.3509)}, 'FILE_MAF_20210802T225204Z_GMO_00000000007468_01': {'ClassPredicted': 'Hobbies & Interests', 'RS_CP': tensor(0.3764)}}, 'Education': {'FILE_MAF_20220321T225325Z_GMO_00000000354810_01': {'ClassPredicted': 'Movies', 'RS_CP': tensor(0.3800)}, 'FILE_MAF_20220321T225326Z_GMO_00000000354808_01': {'ClassPredicted': 'Careers', 'RS_CP': tensor(0.3933)}, 'FILE_MAF_20220321T225326Z_GMO_00000000354809_01': {'ClassPredicted': 'Sports', 'RS_CP': tensor(0.3454)}, 'FILE_MAF_20220321T225327Z_GMO_00000000354807_01': {'ClassPredicted': 'Education', 'RS_CP': tensor(0.4108)}, 'FILE_MAF_20220321T225328Z_GMO_00000000354812_01': {'ClassPredicted': 'Movies', 'RS_CP': tensor(0.3506)}, 'FILE_MAF_20220321T225329Z_GMO_00000000354811_01': {'ClassPredicted': 'Sports', 'RS_CP': tensor(0.3692)}, 'FILE_MAF_20220505T091718Z_GMO_00000000354813_01': {'ClassPredicted': 'Movies', 'RS_CP': tensor(0.3959)}, 'FILE_MAF_20220505T091718Z_GMO_00000000354814_01': {'ClassPredicted': 'Movies', 'RS_CP': tensor(0.3702)}, 'FILE_MAF_20220505T091720Z_GMO_00000000354815_01': {'ClassPredicted': 'Movies', 'RS_CP': tensor(0.3518)}, 'FILE_MAF_20220505T224819Z_GMO_00000000354816_01': {'ClassPredicted': 'Automotive', 'RS_CP': tensor(0.3630)}}, 'Events and Attractions': {'FILE_MAF_20210824T160507Z_GMO_00000000305067_01': {'ClassPredicted': 'Movies', 'RS_CP': tensor(0.4364)}, 'FILE_MAF_20210730T172125Z_GMO_00000000384803_01': {'ClassPredicted': 'Movies', 'RS_CP': tensor(0.3709)}, 'FILE_MAF_20210824T160504Z_GMO_00000000305061_01': {'ClassPredicted': 'Movies', 'RS_CP': tensor(0.4526)}, 'FILE_MAF_20220214T004858Z_GMO_00000000116407_01': {'ClassPredicted': 'Movies', 'RS_CP': tensor(0.3944)}, 'FILE_MAF_20220213T003335Z_GMO_00000000010677_01': {'ClassPredicted': 'Movies', 'RS_CP': tensor(0.4573)}, 'FILE_MAF_20210825T012852Z_GMO_00000000348725_01': {'ClassPredicted': 'Movies', 'RS_CP': tensor(0.4142)}, 'FILE_MAF_20220214T211212Z_GMO_00000000284516_01': {'ClassPredicted': 'Movies', 'RS_CP': tensor(0.4107)}, 'FILE_MAF_20210825T013302Z_GMO_00000000348723_01': {'ClassPredicted': 'Movies', 'RS_CP': tensor(0.4041)}, 'FILE_MAF_20220212T231617Z_GMO_00000000010675_01': {'ClassPredicted': 'Movies', 'RS_CP': tensor(0.4227)}, 'FILE_MAF_20210825T013158Z_GMO_00000000338679_01': {'ClassPredicted': 'Movies', 'RS_CP': tensor(0.4238)}, 'FILE_MAF_20220214T211213Z_GMO_00000000195852_01': {'ClassPredicted': 'Family and Relationships', 'RS_CP': tensor(0.3885)}, 'FILE_MAF_20210825T013307Z_GMO_00000000359730_01': {'ClassPredicted': 'Movies', 'RS_CP': tensor(0.4075)}, 'FILE_MAF_20210825T013409Z_GMO_00000000359729_01': {'ClassPredicted': 'Movies', 'RS_CP': tensor(0.3832)}, 'FILE_MAF_20220214T211534Z_GMO_00000000284515_01': {'ClassPredicted': 'Movies', 'RS_CP': tensor(0.4477)}, 'FILE_MAF_20220215T035934Z_GMO_00000000327844_01': {'ClassPredicted': 'Movies', 'RS_CP': tensor(0.3956)}, 'FILE_MAF_20220213T185815Z_GMO_00000000048836_01': {'ClassPredicted': 'Movies', 'RS_CP': tensor(0.4075)}, 'FILE_MAF_20220215T013221Z_GMO_00000000287847_01': {'ClassPredicted': 'Movies', 'RS_CP': tensor(0.4072)}, 'FILE_MAF_20210825T012651Z_GMO_00000000348720_01': {'ClassPredicted': 'Movies', 'RS_CP': tensor(0.3988)}, 'FILE_MAF_20210824T160506Z_GMO_00000000305064_01': {'ClassPredicted': 'Movies', 'RS_CP': tensor(0.4542)}, 'FILE_MAF_20220213T215316Z_GMO_00000000116411_01': {'ClassPredicted': 'Movies', 'RS_CP': tensor(0.3782)}}, 'Family and Relationships': {'FILE_MAF_20211106T220217Z_GMO_00000000124439_01': {'ClassPredicted': 'Movies', 'RS_CP': tensor(0.3722)}, 'FILE_MAF_20210803T024232Z_GMO_00000000346786_01': {'ClassPredicted': 'Careers', 'RS_CP': tensor(0.4279)}, 'FILE_MAF_20211107T155428Z_GMO_00000000144867_01': {'ClassPredicted': 'Movies', 'RS_CP': tensor(0.3710)}, 'FILE_MAF_20210730T235041Z_GMO_00000000346774_01': {'ClassPredicted': 'Movies', 'RS_CP': tensor(0.3855)}, 'FILE_MAF_20211107T173012Z_GMO_00000000144871_01': {'ClassPredicted': 'Television', 'RS_CP': tensor(0.3632)}, 'FILE_MAF_20211109T073412Z_GMO_00000000012360_01': {'ClassPredicted': 'Television', 'RS_CP': tensor(0.3361)}, 'FILE_MAF_20211109T073414Z_GMO_00000000286853_01': {'ClassPredicted': 'Movies', 'RS_CP': tensor(0.3384)}, 'FILE_MAF_20211104T120605Z_GMO_00000000365313_01': {'ClassPredicted': 'Movies', 'RS_CP': tensor(0.3850)}, 'FILE_MAF_20211105T085433Z_GMO_00000000144877_01': {'ClassPredicted': 'Medical Health', 'RS_CP': tensor(0.3737)}, 'FILE_MAF_20211104T114856Z_GMO_00000000354181_01': {'ClassPredicted': 'Movies', 'RS_CP': tensor(0.4077)}, 'FILE_MAF_20210729T234914Z_GMO_00000000346776_01': {'ClassPredicted': 'Automotive', 'RS_CP': tensor(0.3745)}, 'FILE_MAF_20210729T235115Z_GMO_00000000346783_01': {'ClassPredicted': 'Movies', 'RS_CP': tensor(0.3774)}, 'FILE_MAF_20211104T094412Z_GMO_00000000012365_01': {'ClassPredicted': 'Movies', 'RS_CP': tensor(0.3472)}, 'FILE_MAF_20211106T220336Z_GMO_00000000285127_01': {'ClassPredicted': 'Movies', 'RS_CP': tensor(0.3295)}, 'FILE_MAF_20211106T220331Z_GMO_00000000012363_01': {'ClassPredicted': 'Medical Health', 'RS_CP': tensor(0.4080)}, 'FILE_MAF_20211109T073419Z_GMO_00000000283501_01': {'ClassPredicted': 'Movies', 'RS_CP': tensor(0.3928)}, 'FILE_MAF_20211106T234819Z_GMO_00000000039636_01': {'ClassPredicted': 'Movies', 'RS_CP': tensor(0.3621)}, 'FILE_MAF_20211106T231656Z_GMO_00000000017733_01': {'ClassPredicted': 'Movies', 'RS_CP': tensor(0.3573)}, 'FILE_MAF_20211106T220215Z_GMO_00000000012323_01': {'ClassPredicted': 'Movies', 'RS_CP': tensor(0.4095)}, 'FILE_MAF_20211104T080633Z_GMO_00000000017731_01': {'ClassPredicted': 'Movies', 'RS_CP': tensor(0.3824)}}, 'Food & Drink': {'FILE_MAF_20220213T092945Z_GMO_00000000031461_01': {'ClassPredicted': 'Food & Drink', 'RS_CP': tensor(0.3975)}, 'FILE_MAF_20220213T185507Z_GMO_00000000045335_01': {'ClassPredicted': 'Family and Relationships', 'RS_CP': tensor(0.4572)}, 'FILE_MAF_20220212T143407Z_GMO_00000000002223_01': {'ClassPredicted': 'Movies', 'RS_CP': tensor(0.3343)}, 'FILE_MAF_20210824T142520Z_GMO_00000000294157_01': {'ClassPredicted': 'Movies', 'RS_CP': tensor(0.4389)}, 'FILE_MAF_20210824T142522Z_GMO_00000000294142_01': {'ClassPredicted': 'Movies', 'RS_CP': tensor(0.4654)}, 'FILE_MAF_20220212T183925Z_GMO_00000000006948_01': {'ClassPredicted': 'Careers', 'RS_CP': tensor(0.4404)}, 'FILE_MAF_20210824T200155Z_GMO_00000000294191_01': {'ClassPredicted': 'Movies', 'RS_CP': tensor(0.3940)}, 'FILE_MAF_20220213T182741Z_GMO_00000000041022_01': {'ClassPredicted': 'Food & Drink', 'RS_CP': tensor(0.4412)}, 'FILE_MAF_20210824T142517Z_GMO_00000000294126_01': {'ClassPredicted': 'Sports', 'RS_CP': tensor(0.4628)}, 'FILE_MAF_20220213T184755Z_GMO_00000000041020_01': {'ClassPredicted': 'Food & Drink', 'RS_CP': tensor(0.4305)}, 'FILE_MAF_20210824T142521Z_GMO_00000000294128_01': {'ClassPredicted': 'Movies', 'RS_CP': tensor(0.3743)}, 'FILE_MAF_20220212T194452Z_GMO_00000000007405_01': {'ClassPredicted': 'Family and Relationships', 'RS_CP': tensor(0.4047)}, 'FILE_MAF_20220214T043101Z_GMO_00000000201223_01': {'ClassPredicted': 'Food & Drink', 'RS_CP': tensor(0.4029)}, 'FILE_MAF_20220213T010346Z_GMO_00000000014850_01': {'ClassPredicted': 'Food & Drink', 'RS_CP': tensor(0.4092)}, 'FILE_MAF_20210824T153450Z_GMO_00000000294170_01': {'ClassPredicted': 'Movies', 'RS_CP': tensor(0.4267)}, 'FILE_MAF_20210825T013057Z_GMO_00000000391127_01': {'ClassPredicted': 'Food & Drink', 'RS_CP': tensor(0.3921)}, 'FILE_MAF_20220212T223751Z_GMO_00000000009281_01': {'ClassPredicted': 'Food & Drink', 'RS_CP': tensor(0.4348)}, 'FILE_MAF_20220212T183523Z_GMO_00000000006936_01': {'ClassPredicted': 'Family and Relationships', 'RS_CP': tensor(0.4118)}, 'FILE_MAF_20210824T195853Z_GMO_00000000294185_01': {'ClassPredicted': 'Sports', 'RS_CP': tensor(0.3871)}, 'FILE_MAF_20220214T050523Z_GMO_00000000201227_01': {'ClassPredicted': 'Food & Drink', 'RS_CP': tensor(0.3942)}}, 'Hobbies & Interests': {'FILE_MAF_20220215T083954Z_GMO_00000000390302_01': {'ClassPredicted': 'Movies', 'RS_CP': tensor(0.3998)}, 'FILE_MAF_20220215T092105Z_GMO_00000000390300_01': {'ClassPredicted': 'Medical Health', 'RS_CP': tensor(0.4070)}, 'FILE_MAF_20220215T092413Z_GMO_00000000390299_01': {'ClassPredicted': 'Movies', 'RS_CP': tensor(0.3849)}, 'FILE_MAF_20220215T092415Z_GMO_00000000390294_01': {'ClassPredicted': 'Movies', 'RS_CP': tensor(0.3837)}, 'FILE_MAF_20220215T092416Z_GMO_00000000390295_01': {'ClassPredicted': 'Movies', 'RS_CP': tensor(0.4167)}, 'FILE_MAF_20220215T092417Z_GMO_00000000390297_01': {'ClassPredicted': 'Music and Audio', 'RS_CP': tensor(0.3903)}, 'FILE_MAF_20220215T092521Z_GMO_00000000390293_01': {'ClassPredicted': 'Movies', 'RS_CP': tensor(0.4079)}, 'FILE_MAF_20220215T092524Z_GMO_00000000390296_01': {'ClassPredicted': 'Careers', 'RS_CP': tensor(0.3929)}, 'FILE_MAF_20220215T092524Z_GMO_00000000390298_01': {'ClassPredicted': 'Careers', 'RS_CP': tensor(0.3609)}, 'FILE_MAF_20220215T092524Z_GMO_00000000390301_01': {'ClassPredicted': 'Family and Relationships', 'RS_CP': tensor(0.3905)}}, 'Medical Health': {'FILE_MAF_20211222T135839Z_GMO_00000000092418_01': {'ClassPredicted': 'Medical Health', 'RS_CP': tensor(0.4758)}, 'FILE_MAF_20211105T221833Z_GMO_00000000338784_01': {'ClassPredicted': 'Medical Health', 'RS_CP': tensor(0.4154)}, 'FILE_MAF_20220213T071506Z_GMO_00000000027584_01': {'ClassPredicted': 'Medical Health', 'RS_CP': tensor(0.4466)}, 'FILE_MAF_20220213T075121Z_GMO_00000000029125_01': {'ClassPredicted': 'Medical Health', 'RS_CP': tensor(0.4162)}, 'FILE_MAF_20211222T061241Z_GMO_00000000295406_01': {'ClassPredicted': 'Medical Health', 'RS_CP': tensor(0.4095)}, 'FILE_MAF_20220215T013220Z_GMO_00000000283931_01': {'ClassPredicted': 'Medical Health', 'RS_CP': tensor(0.4010)}, 'FILE_MAF_20210824T153451Z_GMO_00000000293441_01': {'ClassPredicted': 'Movies', 'RS_CP': tensor(0.4334)}, 'FILE_MAF_20220212T223748Z_GMO_00000000009123_01': {'ClassPredicted': 'Movies', 'RS_CP': tensor(0.3669)}, 'FILE_MAF_20220213T080123Z_GMO_00000000029577_01': {'ClassPredicted': 'Medical Health', 'RS_CP': tensor(0.4471)}, 'FILE_MAF_20210728T202844Z_GMO_00000000007758_01': {'ClassPredicted': 'Medical Health', 'RS_CP': tensor(0.3817)}, 'FILE_MAF_20210728T202436Z_GMO_00000000007731_01': {'ClassPredicted': 'Medical Health', 'RS_CP': tensor(0.3779)}, 'FILE_MAF_20211222T061240Z_GMO_00000000326287_01': {'ClassPredicted': 'Medical Health', 'RS_CP': tensor(0.3916)}, 'FILE_MAF_20211222T183052Z_GMO_00000000007458_01': {'ClassPredicted': 'Medical Health', 'RS_CP': tensor(0.4057)}, 'FILE_MAF_20211222T144359Z_GMO_00000000112815_01': {'ClassPredicted': 'Medical Health', 'RS_CP': tensor(0.4420)}, 'FILE_MAF_20211224T154509Z_GMO_00000000196872_01': {'ClassPredicted': 'Medical Health', 'RS_CP': tensor(0.4629)}, 'FILE_MAF_20210824T173626Z_GMO_00000000308191_01': {'ClassPredicted': 'Movies', 'RS_CP': tensor(0.3804)}, 'FILE_MAF_20210729T030521Z_GMO_00000000022500_01': {'ClassPredicted': 'Medical Health', 'RS_CP': tensor(0.4173)}, 'FILE_MAF_20211222T061243Z_GMO_00000000295412_01': {'ClassPredicted': 'Medical Health', 'RS_CP': tensor(0.4157)}, 'FILE_MAF_20220215T035936Z_GMO_00000000332332_01': {'ClassPredicted': 'Medical Health', 'RS_CP': tensor(0.4295)}, 'FILE_MAF_20211222T061137Z_GMO_00000000326260_01': {'ClassPredicted': 'Music and Audio', 'RS_CP': tensor(0.4039)}}, 'Music and Audio': {'FILE_MAF_20210809T200440Z_GMO_00000000292342_01': {'ClassPredicted': 'Sports', 'RS_CP': tensor(0.3743)}, 'FILE_MAF_20211106T201721Z_GMO_00000000298262_01': {'ClassPredicted': 'Events and Attractions', 'RS_CP': tensor(0.3815)}, 'FILE_MAF_20211106T183220Z_GMO_00000000298260_01': {'ClassPredicted': 'Music and Audio', 'RS_CP': tensor(0.3813)}, 'FILE_MAF_20220214T005215Z_GMO_00000000137236_01': {'ClassPredicted': 'Music and Audio', 'RS_CP': tensor(0.3097)}, 'FILE_MAF_20211103T115536Z_GMO_00000000298267_01': {'ClassPredicted': 'Movies', 'RS_CP': tensor(0.3752)}, 'FILE_MAF_20210809T200239Z_GMO_00000000330183_01': {'ClassPredicted': 'Sports', 'RS_CP': tensor(0.4241)}, 'FILE_MAF_20211103T115539Z_GMO_00000000345588_01': {'ClassPredicted': 'Movies', 'RS_CP': tensor(0.3542)}, 'FILE_MAF_20220214T042555Z_GMO_00000000137222_01': {'ClassPredicted': 'Hobbies & Interests', 'RS_CP': tensor(0.3524)}, 'FILE_MAF_20211107T173011Z_GMO_00000000298266_01': {'ClassPredicted': 'Careers', 'RS_CP': tensor(0.3684)}, 'FILE_MAF_20211103T121545Z_GMO_00000000345592_01': {'ClassPredicted': 'Movies', 'RS_CP': tensor(0.3892)}, 'FILE_MAF_20220510T214825Z_GMO_00000000398885_01': {'ClassPredicted': 'Careers', 'RS_CP': tensor(0.3746)}, 'FILE_MAF_20210809T203754Z_GMO_00000000330186_01': {'ClassPredicted': 'Sports', 'RS_CP': tensor(0.4014)}, 'FILE_MAF_20211107T155324Z_GMO_00000000298271_01': {'ClassPredicted': 'Movies', 'RS_CP': tensor(0.3517)}, 'FILE_MAF_20211103T121645Z_GMO_00000000345597_01': {'ClassPredicted': 'Medical Health', 'RS_CP': tensor(0.3904)}, 'FILE_MAF_20210805T224731Z_GMO_00000000284486_01': {'ClassPredicted': 'Movies', 'RS_CP': tensor(0.3732)}, 'FILE_MAF_20220214T042351Z_GMO_00000000137227_01': {'ClassPredicted': 'Music and Audio', 'RS_CP': tensor(0.3797)}, 'FILE_MAF_20220510T214825Z_GMO_00000000398887_01': {'ClassPredicted': 'Sports', 'RS_CP': tensor(0.4019)}, 'FILE_MAF_20220214T042858Z_GMO_00000000137235_01': {'ClassPredicted': 'Sports', 'RS_CP': tensor(0.3775)}, 'FILE_MAF_20211106T183218Z_GMO_00000000298269_01': {'ClassPredicted': 'Movies', 'RS_CP': tensor(0.3428)}, 'FILE_MAF_20211103T115532Z_GMO_00000000298270_01': {'ClassPredicted': 'Movies', 'RS_CP': tensor(0.3978)}}, 'Pets': {'FILE_MAF_20210729T150937Z_GMO_00000000321414_01': {'ClassPredicted': 'Home & Garden', 'RS_CP': tensor(0.4636)}, 'FILE_MAF_20210729T170339Z_GMO_00000000321975_01': {'ClassPredicted': 'Movies', 'RS_CP': tensor(0.3227)}, 'FILE_MAF_20210729T180703Z_GMO_00000000321965_01': {'ClassPredicted': 'Sports', 'RS_CP': tensor(0.3557)}, 'FILE_MAF_20210729T123329Z_GMO_00000000321263_01': {'ClassPredicted': 'Automotive', 'RS_CP': tensor(0.3992)}, 'FILE_MAF_20210729T150935Z_GMO_00000000321408_01': {'ClassPredicted': 'Movies', 'RS_CP': tensor(0.4166)}, 'FILE_MAF_20210730T073924Z_GMO_00000000321284_01': {'ClassPredicted': 'Movies', 'RS_CP': tensor(0.3165)}, 'FILE_MAF_20210729T122424Z_GMO_00000000321241_01': {'ClassPredicted': 'Movies', 'RS_CP': tensor(0.3614)}, 'FILE_MAF_20210729T145919Z_GMO_00000000321470_01': {'ClassPredicted': 'Movies', 'RS_CP': tensor(0.3311)}, 'FILE_MAF_20210730T073920Z_GMO_00000000321247_01': {'ClassPredicted': 'Medical Health', 'RS_CP': tensor(0.3524)}, 'FILE_MAF_20210730T075043Z_GMO_00000000321462_01': {'ClassPredicted': 'Movies', 'RS_CP': tensor(0.3341)}, 'FILE_MAF_20210729T150932Z_GMO_00000000321386_01': {'ClassPredicted': 'Movies', 'RS_CP': tensor(0.4571)}, 'FILE_MAF_20210730T073918Z_GMO_00000000321446_01': {'ClassPredicted': 'Movies', 'RS_CP': tensor(0.4420)}, 'FILE_MAF_20210730T054034Z_GMO_00000000321280_01': {'ClassPredicted': 'Movies', 'RS_CP': tensor(0.4216)}, 'FILE_MAF_20210729T123027Z_GMO_00000000321243_01': {'ClassPredicted': 'Movies', 'RS_CP': tensor(0.3723)}, 'FILE_MAF_20210729T155156Z_GMO_00000000321426_01': {'ClassPredicted': 'Careers', 'RS_CP': tensor(0.3299)}, 'FILE_MAF_20210729T144305Z_GMO_00000000321323_01': {'ClassPredicted': 'Movies', 'RS_CP': tensor(0.3791)}, 'FILE_MAF_20210730T074533Z_GMO_00000000321287_01': {'ClassPredicted': 'Movies', 'RS_CP': tensor(0.4309)}, 'FILE_MAF_20210729T122420Z_GMO_00000000321236_01': {'ClassPredicted': 'Movies', 'RS_CP': tensor(0.3917)}, 'FILE_MAF_20210730T054142Z_GMO_00000000321277_01': {'ClassPredicted': 'Movies', 'RS_CP': tensor(0.3565)}, 'FILE_MAF_20210729T163608Z_GMO_00000000321442_01': {'ClassPredicted': 'Movies', 'RS_CP': tensor(0.3684)}}, 'Real Estate': {'FILE_MAF_20210824T164918Z_GMO_00000000316807_01': {'ClassPredicted': 'Real Estate', 'RS_CP': tensor(0.4961)}, 'FILE_MAF_20220214T042348Z_GMO_00000000153023_01': {'ClassPredicted': 'Real Estate', 'RS_CP': tensor(0.4672)}, 'FILE_MAF_20220213T185405Z_GMO_00000000045315_01': {'ClassPredicted': 'Real Estate', 'RS_CP': tensor(0.4421)}, 'FILE_MAF_20220212T165146Z_GMO_00000000002833_01': {'ClassPredicted': 'Real Estate', 'RS_CP': tensor(0.4981)}, 'FILE_MAF_20210825T012645Z_GMO_00000000399606_01': {'ClassPredicted': 'Real Estate', 'RS_CP': tensor(0.5020)}, 'FILE_MAF_20210824T151133Z_GMO_00000000284944_01': {'ClassPredicted': 'Real Estate', 'RS_CP': tensor(0.4342)}, 'FILE_MAF_20220211T201452Z_GMO_00000000001224_01': {'ClassPredicted': 'Real Estate', 'RS_CP': tensor(0.4951)}, 'FILE_MAF_20220213T173624Z_GMO_00000000039557_01': {'ClassPredicted': 'Real Estate', 'RS_CP': tensor(0.4631)}, 'FILE_MAF_20220213T093448Z_GMO_00000000031317_01': {'ClassPredicted': 'Real Estate', 'RS_CP': tensor(0.4745)}, 'FILE_MAF_20210825T013053Z_GMO_00000000282347_01': {'ClassPredicted': 'Real Estate', 'RS_CP': tensor(0.4314)}, 'FILE_MAF_20220214T042350Z_GMO_00000000153025_01': {'ClassPredicted': 'Real Estate', 'RS_CP': tensor(0.4724)}, 'FILE_MAF_20220213T184757Z_GMO_00000000045313_01': {'ClassPredicted': 'Real Estate', 'RS_CP': tensor(0.4739)}, 'FILE_MAF_20210825T002729Z_GMO_00000000316811_01': {'ClassPredicted': 'Real Estate', 'RS_CP': tensor(0.5338)}, 'FILE_MAF_20220213T011913Z_GMO_00000000014807_01': {'ClassPredicted': 'Real Estate', 'RS_CP': tensor(0.4654)}, 'FILE_MAF_20220213T120945Z_GMO_00000000038934_01': {'ClassPredicted': 'Real Estate', 'RS_CP': tensor(0.4769)}, 'FILE_MAF_20220213T120643Z_GMO_00000000038929_01': {'ClassPredicted': 'Real Estate', 'RS_CP': tensor(0.4733)}, 'FILE_MAF_20210824T160508Z_GMO_00000000316809_01': {'ClassPredicted': 'Real Estate', 'RS_CP': tensor(0.5266)}, 'FILE_MAF_20220213T173621Z_GMO_00000000039352_01': {'ClassPredicted': 'Careers', 'RS_CP': tensor(0.4357)}, 'FILE_MAF_20210825T012646Z_GMO_00000000338857_01': {'ClassPredicted': 'Real Estate', 'RS_CP': tensor(0.5004)}, 'FILE_MAF_20220213T173626Z_GMO_00000000039366_01': {'ClassPredicted': 'Real Estate', 'RS_CP': tensor(0.4571)}}, 'Religion & Spirituality': {'FILE_MAF_20211223T143223Z_GMO_00000000343629_01': {'ClassPredicted': 'Movies', 'RS_CP': tensor(0.3547)}, 'FILE_MAF_20211223T143227Z_GMO_00000000343625_01': {'ClassPredicted': 'Movies', 'RS_CP': tensor(0.3349)}, 'FILE_MAF_20211223T143428Z_GMO_00000000343676_01': {'ClassPredicted': 'Movies', 'RS_CP': tensor(0.4218)}, 'FILE_MAF_20211223T202630Z_GMO_00000000343584_01': {'ClassPredicted': 'Movies', 'RS_CP': tensor(0.3894)}, 'FILE_MAF_20211223T143221Z_GMO_00000000343596_01': {'ClassPredicted': 'Medical Health', 'RS_CP': tensor(0.4224)}, 'FILE_MAF_20211223T143225Z_GMO_00000000343640_01': {'ClassPredicted': 'Movies', 'RS_CP': tensor(0.3678)}, 'FILE_MAF_20211223T143222Z_GMO_00000000343627_01': {'ClassPredicted': 'Movies', 'RS_CP': tensor(0.3463)}, 'FILE_MAF_20211223T143428Z_GMO_00000000343630_01': {'ClassPredicted': 'Movies', 'RS_CP': tensor(0.3454)}, 'FILE_MAF_20211225T005508Z_GMO_00000000343642_01': {'ClassPredicted': 'Movies', 'RS_CP': tensor(0.3764)}, 'FILE_MAF_20211223T143837Z_GMO_00000000343639_01': {'ClassPredicted': 'Movies', 'RS_CP': tensor(0.3659)}, 'FILE_MAF_20211223T143226Z_GMO_00000000343655_01': {'ClassPredicted': 'Movies', 'RS_CP': tensor(0.3715)}, 'FILE_MAF_20211223T144047Z_GMO_00000000343663_01': {'ClassPredicted': 'Careers', 'RS_CP': tensor(0.3446)}, 'FILE_MAF_20211223T053255Z_GMO_00000000343736_01': {'ClassPredicted': 'Movies', 'RS_CP': tensor(0.3826)}, 'FILE_MAF_20211223T143830Z_GMO_00000000343664_01': {'ClassPredicted': 'Events and Attractions', 'RS_CP': tensor(0.3914)}, 'FILE_MAF_20211223T143839Z_GMO_00000000343669_01': {'ClassPredicted': 'Movies', 'RS_CP': tensor(0.3125)}, 'FILE_MAF_20211223T143942Z_GMO_00000000343636_01': {'ClassPredicted': 'Careers', 'RS_CP': tensor(0.3656)}, 'FILE_MAF_20211223T144046Z_GMO_00000000343687_01': {'ClassPredicted': 'Movies', 'RS_CP': tensor(0.3697)}, 'FILE_MAF_20211223T143836Z_GMO_00000000343635_01': {'ClassPredicted': 'Movies', 'RS_CP': tensor(0.3768)}, 'FILE_MAF_20211223T144046Z_GMO_00000000343727_01': {'ClassPredicted': 'Medical Health', 'RS_CP': tensor(0.3435)}, 'FILE_MAF_20211223T143219Z_GMO_00000000343595_01': {'ClassPredicted': 'Movies', 'RS_CP': tensor(0.3752)}}, 'Science': {'FILE_MAF_20210802T172723Z_GMO_00000000001586_01': {'ClassPredicted': 'Medical Health', 'RS_CP': tensor(0.3680)}, 'FILE_MAF_20210807T072434Z_GMO_00000000001821_01': {'ClassPredicted': 'Events and Attractions', 'RS_CP': tensor(0.3800)}, 'FILE_MAF_20210802T173334Z_GMO_00000000001690_01': {'ClassPredicted': 'Movies', 'RS_CP': tensor(0.3360)}, 'FILE_MAF_20220212T194614Z_GMO_00000000007318_01': {'ClassPredicted': 'Movies', 'RS_CP': tensor(0.3814)}, 'FILE_MAF_20210802T173331Z_GMO_00000000136975_01': {'ClassPredicted': 'Family and Relationships', 'RS_CP': tensor(0.4288)}, 'FILE_MAF_20210802T172927Z_GMO_00000000001576_01': {'ClassPredicted': 'Careers', 'RS_CP': tensor(0.3522)}, 'FILE_MAF_20220212T184828Z_GMO_00000000007284_01': {'ClassPredicted': 'Careers', 'RS_CP': tensor(0.4132)}, 'FILE_MAF_20220213T011356Z_GMO_00000000014862_01': {'ClassPredicted': 'Medical Health', 'RS_CP': tensor(0.3225)}, 'FILE_MAF_20210807T072432Z_GMO_00000000001718_01': {'ClassPredicted': 'Medical Health', 'RS_CP': tensor(0.3412)}, 'FILE_MAF_20210802T173446Z_GMO_00000000001721_01': {'ClassPredicted': 'Events and Attractions', 'RS_CP': tensor(0.3771)}, 'FILE_MAF_20220213T011914Z_GMO_00000000014814_01': {'ClassPredicted': 'Movies', 'RS_CP': tensor(0.3349)}, 'FILE_MAF_20210802T172725Z_GMO_00000000001589_01': {'ClassPredicted': 'Medical Health', 'RS_CP': tensor(0.3605)}, 'FILE_MAF_20220212T185028Z_GMO_00000000007263_01': {'ClassPredicted': 'Medical Health', 'RS_CP': tensor(0.3252)}, 'FILE_MAF_20210802T173448Z_GMO_00000000136973_01': {'ClassPredicted': 'Events and Attractions', 'RS_CP': tensor(0.4261)}, 'FILE_MAF_20210802T164558Z_GMO_00000000001554_01': {'ClassPredicted': 'Movies', 'RS_CP': tensor(0.3464)}, 'FILE_MAF_20220213T010346Z_GMO_00000000014872_01': {'ClassPredicted': 'Medical Health', 'RS_CP': tensor(0.3578)}, 'FILE_MAF_20220213T011915Z_GMO_00000000014864_01': {'ClassPredicted': 'Careers', 'RS_CP': tensor(0.3464)}, 'FILE_MAF_20220213T011403Z_GMO_00000000014870_01': {'ClassPredicted': 'Careers', 'RS_CP': tensor(0.3895)}, 'FILE_MAF_20210802T173027Z_GMO_00000000001744_01': {'ClassPredicted': 'Careers', 'RS_CP': tensor(0.3662)}, 'FILE_MAF_20210802T173336Z_GMO_00000000001801_01': {'ClassPredicted': 'Movies', 'RS_CP': tensor(0.3170)}}, 'Shopping': {'FILE_MAF_20211116T134039Z_GMO_00000000341646_01': {'ClassPredicted': 'Movies', 'RS_CP': tensor(0.3960)}, 'FILE_MAF_20211103T100330Z_GMO_00000000341649_01': {'ClassPredicted': 'Movies', 'RS_CP': tensor(0.3260)}, 'FILE_MAF_20211105T221618Z_GMO_00000000341638_01': {'ClassPredicted': 'Movies', 'RS_CP': tensor(0.4075)}, 'FILE_MAF_20211105T221829Z_GMO_00000000121675_01': {'ClassPredicted': 'Movies', 'RS_CP': tensor(0.3530)}, 'FILE_MAF_20211103T092107Z_GMO_00000000273413_01': {'ClassPredicted': 'Movies', 'RS_CP': tensor(0.4508)}, 'FILE_MAF_20211105T221619Z_GMO_00000000273407_01': {'ClassPredicted': 'Movies', 'RS_CP': tensor(0.3934)}, 'FILE_MAF_20211116T134036Z_GMO_00000000341644_01': {'ClassPredicted': 'Sports', 'RS_CP': tensor(0.3363)}, 'FILE_MAF_20211105T221413Z_GMO_00000000273414_01': {'ClassPredicted': 'Movies', 'RS_CP': tensor(0.4735)}, 'FILE_MAF_20211105T221622Z_GMO_00000000296346_01': {'ClassPredicted': 'Television', 'RS_CP': tensor(0.3958)}, 'FILE_MAF_20211105T085331Z_GMO_00000000121678_01': {'ClassPredicted': 'Movies', 'RS_CP': tensor(0.3715)}, 'FILE_MAF_20211103T100337Z_GMO_00000000341651_01': {'ClassPredicted': 'Sports', 'RS_CP': tensor(0.3666)}, 'FILE_MAF_20211105T100759Z_GMO_00000000273410_01': {'ClassPredicted': 'Music and Audio', 'RS_CP': tensor(0.4218)}, 'FILE_MAF_20211105T221725Z_GMO_00000000296347_01': {'ClassPredicted': 'Movies', 'RS_CP': tensor(0.3653)}, 'FILE_MAF_20211105T221827Z_GMO_00000000341639_01': {'ClassPredicted': 'Movies', 'RS_CP': tensor(0.3838)}, 'FILE_MAF_20211103T092109Z_GMO_00000000341636_01': {'ClassPredicted': 'Medical Health', 'RS_CP': tensor(0.3461)}, 'FILE_MAF_20211105T221830Z_GMO_00000000273412_01': {'ClassPredicted': 'Movies', 'RS_CP': tensor(0.4419)}, 'FILE_MAF_20211105T221616Z_GMO_00000000296350_01': {'ClassPredicted': 'Movies', 'RS_CP': tensor(0.3435)}, 'FILE_MAF_20211103T092105Z_GMO_00000000273408_01': {'ClassPredicted': 'Movies', 'RS_CP': tensor(0.3299)}, 'FILE_MAF_20211103T092113Z_GMO_00000000296345_01': {'ClassPredicted': 'Sports', 'RS_CP': tensor(0.3473)}, 'FILE_MAF_20211105T111151Z_GMO_00000000121681_01': {'ClassPredicted': 'Medical Health', 'RS_CP': tensor(0.3950)}}, 'Sports': {'FILE_MAF_20210731T020535Z_GMO_00000000040741_01': {'ClassPredicted': 'Education', 'RS_CP': tensor(0.4367)}, 'FILE_MAF_20220215T090159Z_GMO_00000000370441_01': {'ClassPredicted': 'Movies', 'RS_CP': tensor(0.3973)}, 'FILE_MAF_20220213T121447Z_GMO_00000000039091_01': {'ClassPredicted': 'Sports', 'RS_CP': tensor(0.3530)}, 'FILE_MAF_20220213T173625Z_GMO_00000000039094_01': {'ClassPredicted': 'Movies', 'RS_CP': tensor(0.3940)}, 'FILE_MAF_20220213T173619Z_GMO_00000000039095_01': {'ClassPredicted': 'Sports', 'RS_CP': tensor(0.3490)}, 'FILE_MAF_20211105T221830Z_GMO_00000000326366_01': {'ClassPredicted': 'Movies', 'RS_CP': tensor(0.4706)}, 'FILE_MAF_20210807T072641Z_GMO_00000000015471_01': {'ClassPredicted': 'Movies', 'RS_CP': tensor(0.3999)}, 'FILE_MAF_20210825T010736Z_GMO_00000000324078_01': {'ClassPredicted': 'Movies', 'RS_CP': tensor(0.3703)}, 'FILE_MAF_20210731T060326Z_GMO_00000000040739_01': {'ClassPredicted': 'Sports', 'RS_CP': tensor(0.4165)}, 'FILE_MAF_20210825T013302Z_GMO_00000000338183_01': {'ClassPredicted': 'Careers', 'RS_CP': tensor(0.3876)}, 'FILE_MAF_20220214T043211Z_GMO_00000000287895_01': {'ClassPredicted': 'Music and Audio', 'RS_CP': tensor(0.4318)}, 'FILE_MAF_20210731T020638Z_GMO_00000000040762_01': {'ClassPredicted': 'Movies', 'RS_CP': tensor(0.3656)}, 'FILE_MAF_20211103T115529Z_GMO_00000000326367_01': {'ClassPredicted': 'Medical Health', 'RS_CP': tensor(0.4030)}, 'FILE_MAF_20210810T131055Z_GMO_00000000015470_01': {'ClassPredicted': 'Movies', 'RS_CP': tensor(0.4553)}, 'FILE_MAF_20220215T082050Z_GMO_00000000370434_01': {'ClassPredicted': 'Pop Culture', 'RS_CP': tensor(0.4130)}, 'FILE_MAF_20210729T030527Z_GMO_00000000039099_01': {'ClassPredicted': 'Movies', 'RS_CP': tensor(0.4048)}, 'FILE_MAF_20210825T013306Z_GMO_00000000360252_01': {'ClassPredicted': 'Movies', 'RS_CP': tensor(0.3793)}, 'FILE_MAF_20220215T013014Z_GMO_00000000287891_01': {'ClassPredicted': 'Movies', 'RS_CP': tensor(0.3733)}, 'FILE_MAF_20210809T195832Z_GMO_00000000019745_01': {'ClassPredicted': 'Sports', 'RS_CP': tensor(0.4038)}, 'FILE_MAF_20210729T030534Z_GMO_00000000039104_01': {'ClassPredicted': 'Movies', 'RS_CP': tensor(0.4569)}}, 'Style & Fashion': {'FILE_MAF_20220215T012405Z_GMO_00000000293218_01': {'ClassPredicted': 'Style & Fashion', 'RS_CP': tensor(0.4845)}, 'FILE_MAF_20210825T013303Z_GMO_00000000293206_01': {'ClassPredicted': 'Style & Fashion', 'RS_CP': tensor(0.4935)}, 'FILE_MAF_20220214T234142Z_GMO_00000000293212_01': {'ClassPredicted': 'Style & Fashion', 'RS_CP': tensor(0.4626)}, 'FILE_MAF_20220215T013014Z_GMO_00000000312910_01': {'ClassPredicted': 'Style & Fashion', 'RS_CP': tensor(0.4867)}, 'FILE_MAF_20220215T025352Z_GMO_00000000293217_01': {'ClassPredicted': 'Style & Fashion', 'RS_CP': tensor(0.4600)}, 'FILE_MAF_20220215T013018Z_GMO_00000000312922_01': {'ClassPredicted': 'Style & Fashion', 'RS_CP': tensor(0.4931)}, 'FILE_MAF_20220215T035309Z_GMO_00000000293215_01': {'ClassPredicted': 'Style & Fashion', 'RS_CP': tensor(0.4914)}, 'FILE_MAF_20220215T005855Z_GMO_00000000293216_01': {'ClassPredicted': 'Style & Fashion', 'RS_CP': tensor(0.4958)}, 'FILE_MAF_20220215T092412Z_GMO_00000000364158_01': {'ClassPredicted': 'Style & Fashion', 'RS_CP': tensor(0.4827)}, 'FILE_MAF_20220215T092413Z_GMO_00000000364160_01': {'ClassPredicted': 'Style & Fashion', 'RS_CP': tensor(0.4980)}, 'FILE_MAF_20220215T013219Z_GMO_00000000312912_01': {'ClassPredicted': 'Style & Fashion', 'RS_CP': tensor(0.4959)}, 'FILE_MAF_20220215T071837Z_GMO_00000000364166_01': {'ClassPredicted': 'Style & Fashion', 'RS_CP': tensor(0.4628)}, 'FILE_MAF_20220214T231527Z_GMO_00000000312919_01': {'ClassPredicted': 'Style & Fashion', 'RS_CP': tensor(0.4968)}, 'FILE_MAF_20210824T195751Z_GMO_00000000320273_01': {'ClassPredicted': 'Style & Fashion', 'RS_CP': tensor(0.4783)}, 'FILE_MAF_20210824T153449Z_GMO_00000000293211_01': {'ClassPredicted': 'Style & Fashion', 'RS_CP': tensor(0.4815)}, 'FILE_MAF_20220215T092523Z_GMO_00000000410890_01': {'ClassPredicted': 'Style & Fashion', 'RS_CP': tensor(0.4702)}, 'FILE_MAF_20220215T071532Z_GMO_00000000364163_01': {'ClassPredicted': 'Style & Fashion', 'RS_CP': tensor(0.4717)}, 'FILE_MAF_20220215T013225Z_GMO_00000000293209_01': {'ClassPredicted': 'Style & Fashion', 'RS_CP': tensor(0.4832)}, 'FILE_MAF_20220215T035928Z_GMO_00000000312917_01': {'ClassPredicted': 'Style & Fashion', 'RS_CP': tensor(0.4435)}, 'FILE_MAF_20210825T002730Z_GMO_00000000312918_01': {'ClassPredicted': 'Style & Fashion', 'RS_CP': tensor(0.4551)}}, 'Technology & Computing': {'FILE_MAF_20220213T011912Z_GMO_00000000022391_01': {'ClassPredicted': 'Pop Culture', 'RS_CP': tensor(0.5240)}, 'FILE_MAF_20210809T184702Z_GMO_00000000171498_01': {'ClassPredicted': 'Movies', 'RS_CP': tensor(0.4123)}, 'FILE_MAF_20220213T184756Z_GMO_00000000047423_01': {'ClassPredicted': 'Hobbies & Interests', 'RS_CP': tensor(0.4479)}, 'FILE_MAF_20220213T185304Z_GMO_00000000047422_01': {'ClassPredicted': 'Careers', 'RS_CP': tensor(0.5101)}, 'FILE_MAF_20210806T020741Z_GMO_00000000049044_01': {'ClassPredicted': 'Careers', 'RS_CP': tensor(0.4700)}, 'FILE_MAF_20220213T185709Z_GMO_00000000047424_01': {'ClassPredicted': 'Careers', 'RS_CP': tensor(0.5309)}, 'FILE_MAF_20220213T185303Z_GMO_00000000047420_01': {'ClassPredicted': 'Family and Relationships', 'RS_CP': tensor(0.5175)}, 'FILE_MAF_20210809T200548Z_GMO_00000000171492_01': {'ClassPredicted': 'Personal Finance', 'RS_CP': tensor(0.4657)}, 'FILE_MAF_20210806T042833Z_GMO_00000000049038_01': {'ClassPredicted': 'Hobbies & Interests', 'RS_CP': tensor(0.5772)}, 'FILE_MAF_20220213T031236Z_GMO_00000000022390_01': {'ClassPredicted': 'Movies', 'RS_CP': tensor(0.4614)}, 'FILE_MAF_20210809T184656Z_GMO_00000000171499_01': {'ClassPredicted': 'Television', 'RS_CP': tensor(0.3398)}, 'FILE_MAF_20220213T184650Z_GMO_00000000047418_01': {'ClassPredicted': 'Television', 'RS_CP': tensor(0.3791)}, 'FILE_MAF_20220213T031737Z_GMO_00000000022392_01': {'ClassPredicted': 'Television', 'RS_CP': tensor(0.5989)}, 'FILE_MAF_20220213T011911Z_GMO_00000000022389_01': {'ClassPredicted': 'Movies', 'RS_CP': tensor(0.5951)}, 'FILE_MAF_20210806T001903Z_GMO_00000000049043_01': {'ClassPredicted': 'Movies', 'RS_CP': tensor(0.6469)}, 'FILE_MAF_20210806T020742Z_GMO_00000000296778_01': {'ClassPredicted': 'Automotive', 'RS_CP': tensor(0.5509)}, 'FILE_MAF_20210809T221817Z_GMO_00000000171493_01': {'ClassPredicted': 'Movies', 'RS_CP': tensor(0.3727)}, 'FILE_MAF_20220213T071459Z_GMO_00000000022396_01': {'ClassPredicted': 'Movies', 'RS_CP': tensor(0.3307)}, 'FILE_MAF_20220213T185202Z_GMO_00000000047427_01': {'ClassPredicted': 'Careers', 'RS_CP': tensor(0.4984)}, 'FILE_MAF_20220213T005945Z_GMO_00000000012039_01': {'ClassPredicted': 'Sports', 'RS_CP': tensor(0.5817)}}, 'Television': {'FILE_MAF_20210727T231034Z_GMO_00000000001600_01': {'ClassPredicted': 'Movies', 'RS_CP': tensor(0.4108)}, 'FILE_MAF_20210730T044004Z_GMO_00000000040639_01': {'ClassPredicted': 'Movies', 'RS_CP': tensor(0.3794)}, 'FILE_MAF_20210727T231033Z_GMO_00000000001596_01': {'ClassPredicted': 'Healthy Living', 'RS_CP': tensor(0.3675)}, 'FILE_MAF_20210728T184114Z_GMO_00000000007266_01': {'ClassPredicted': 'Home & Garden', 'RS_CP': tensor(0.4611)}, 'FILE_MAF_20210727T231240Z_GMO_00000000001631_01': {'ClassPredicted': 'Careers', 'RS_CP': tensor(0.3502)}, 'FILE_MAF_20210729T043217Z_GMO_00000000040629_01': {'ClassPredicted': 'Movies', 'RS_CP': tensor(0.3600)}, 'FILE_MAF_20210729T024311Z_GMO_00000000040665_01': {'ClassPredicted': 'Movies', 'RS_CP': tensor(0.3823)}, 'FILE_MAF_20210729T030645Z_GMO_00000000040646_01': {'ClassPredicted': 'Television', 'RS_CP': tensor(0.3787)}, 'FILE_MAF_20210729T004341Z_GMO_00000000028385_01': {'ClassPredicted': 'Movies', 'RS_CP': tensor(0.4180)}, 'FILE_MAF_20210729T033955Z_GMO_00000000040667_01': {'ClassPredicted': 'Movies', 'RS_CP': tensor(0.3598)}, 'FILE_MAF_20210729T043320Z_GMO_00000000040619_01': {'ClassPredicted': 'Television', 'RS_CP': tensor(0.4579)}, 'FILE_MAF_20210729T004129Z_GMO_00000000028368_01': {'ClassPredicted': 'Hobbies & Interests', 'RS_CP': tensor(0.3925)}, 'FILE_MAF_20210729T040359Z_GMO_00000000028384_01': {'ClassPredicted': 'Movies', 'RS_CP': tensor(0.4430)}, 'FILE_MAF_20210729T025615Z_GMO_00000000040663_01': {'ClassPredicted': 'News and Politics', 'RS_CP': tensor(0.3264)}, 'FILE_MAF_20210730T040956Z_GMO_00000000001634_01': {'ClassPredicted': 'Movies', 'RS_CP': tensor(0.3597)}, 'FILE_MAF_20210727T231245Z_GMO_00000000001653_01': {'ClassPredicted': 'Television', 'RS_CP': tensor(0.3908)}, 'FILE_MAF_20210729T035057Z_GMO_00000000040631_01': {'ClassPredicted': 'Careers', 'RS_CP': tensor(0.4226)}, 'FILE_MAF_20210729T043427Z_GMO_00000000040614_01': {'ClassPredicted': 'Education', 'RS_CP': tensor(0.3603)}, 'FILE_MAF_20210729T024008Z_GMO_00000000040660_01': {'ClassPredicted': 'Movies', 'RS_CP': tensor(0.3598)}, 'FILE_MAF_20210727T231238Z_GMO_00000000001594_01': {'ClassPredicted': 'Movies', 'RS_CP': tensor(0.3941)}}, 'Travel': {'FILE_MAF_20220213T185059Z_GMO_00000000044111_01': {'ClassPredicted': 'Movies', 'RS_CP': tensor(0.3540)}, 'FILE_MAF_20220215T035715Z_GMO_00000000320875_01': {'ClassPredicted': 'Careers', 'RS_CP': tensor(0.3982)}, 'FILE_MAF_20210824T150833Z_GMO_00000000033323_01': {'ClassPredicted': 'Family and Relationships', 'RS_CP': tensor(0.3900)}, 'FILE_MAF_20220213T090940Z_GMO_00000000032052_01': {'ClassPredicted': 'Movies', 'RS_CP': tensor(0.4242)}, 'FILE_MAF_20220215T071423Z_GMO_00000000353679_01': {'ClassPredicted': 'Movies', 'RS_CP': tensor(0.4112)}, 'FILE_MAF_20220215T035307Z_GMO_00000000325452_01': {'ClassPredicted': 'Movies', 'RS_CP': tensor(0.4346)}, 'FILE_MAF_20220213T184655Z_GMO_00000000047492_01': {'ClassPredicted': 'Movies', 'RS_CP': tensor(0.3866)}, 'FILE_MAF_20220213T215210Z_GMO_00000000115135_01': {'ClassPredicted': 'Movies', 'RS_CP': tensor(0.3791)}, 'FILE_MAF_20220212T161334Z_GMO_00000000002504_01': {'ClassPredicted': 'Movies', 'RS_CP': tensor(0.3784)}, 'FILE_MAF_20220214T042454Z_GMO_00000000150172_01': {'ClassPredicted': 'Music and Audio', 'RS_CP': tensor(0.4007)}, 'FILE_MAF_20220215T092308Z_GMO_00000000362620_01': {'ClassPredicted': 'Medical Health', 'RS_CP': tensor(0.4008)}, 'FILE_MAF_20210812T204402Z_GMO_00000000351581_01': {'ClassPredicted': 'Family and Relationships', 'RS_CP': tensor(0.3998)}, 'FILE_MAF_20220215T013012Z_GMO_00000000279146_01': {'ClassPredicted': 'Movies', 'RS_CP': tensor(0.4146)}, 'FILE_MAF_20220215T012707Z_GMO_00000000288641_01': {'ClassPredicted': 'Movies', 'RS_CP': tensor(0.4112)}, 'FILE_MAF_20220213T093757Z_GMO_00000000031571_01': {'ClassPredicted': 'Movies', 'RS_CP': tensor(0.4064)}, 'FILE_MAF_20220214T043107Z_GMO_00000000177644_01': {'ClassPredicted': 'Careers', 'RS_CP': tensor(0.3878)}, 'FILE_MAF_20220510T222032Z_GMO_00000000393597_01': {'ClassPredicted': 'Food & Drink', 'RS_CP': tensor(0.4165)}, 'FILE_MAF_20220215T035514Z_GMO_00000000320574_01': {'ClassPredicted': 'Movies', 'RS_CP': tensor(0.3903)}, 'FILE_MAF_20210824T142523Z_GMO_00000000027747_01': {'ClassPredicted': 'Travel', 'RS_CP': tensor(0.4100)}, 'FILE_MAF_20220212T160932Z_GMO_00000000002487_01': {'ClassPredicted': 'Movies', 'RS_CP': tensor(0.3677)}}}\n"
     ]
    }
   ],
   "source": [
    "print(Prediction(Relevance_dict))"
   ]
  },
  {
   "cell_type": "code",
   "execution_count": 27,
   "metadata": {},
   "outputs": [],
   "source": [
    "#Def Predicted Class and RS of Class\n",
    "def Prediction(dict):\n",
    "    d={}\n",
    "    for k,v in tqdm(dict.items()): #for each label\n",
    "        if len(dict[k]) == 0:\n",
    "            continue\n",
    "        d1={}\n",
    "        for i in range(len(dict[k])): #for each file in label\n",
    "            combinedsegments=segmentcombiner(dict[k][i])\n",
    "            key=list(combinedsegments.keys())[0]\n",
    "            order=[]\n",
    "            for kk in combinedsegments[key].keys():\n",
    "                l=combinedsegments[key][kk]\n",
    "                order.append(l)\n",
    "            max_val=max(order)\n",
    "            max_index=order.index(max_val)\n",
    "            ClassPredicted=get_key(max_index)\n",
    "            RS_CP=combinedsegments[key][max_index]\n",
    "            d2={'ClassPredicted': ClassPredicted, 'RS_CP': RS_CP }\n",
    "            d1[key]=d2\n",
    "        d[k]=d1\n",
    "\n",
    "    return d\n",
    "\n",
    "            # \n",
    "            # scoreforfiles.append(float(combinedsegments[key][x]0))\n",
    "\n",
    "            # order=[]\n",
    "            # for key in MaxAggregation.keys():\n",
    "            #     l=MaxAggregation[key]\n",
    "            #     summ=[]\n",
    "            #     for val in l:\n",
    "            #         summ.append(val[0])\n",
    "            #     order.append(sum(summ))\n",
    "            \n",
    "            \n",
    "            # max_val=max(order)\n",
    "            # max_index=order.index(max_val)\n",
    "            # ClassPredicted=get_key(max_index)\n",
    "\n",
    "            # RSlistss=MaxAggregation[max_index]\n",
    "            # scoress=[]\n",
    "            # for s in RSlistss:\n",
    "            #     scoress.append(s[0])\n",
    "\n",
    "            # RS_CP=sum(scoress)/len(scoress)\n",
    "    "
   ]
  },
  {
   "cell_type": "code",
   "execution_count": null,
   "metadata": {},
   "outputs": [],
   "source": [
    "#Def Predicted Class and RS of Class HM\n",
    "def PredictionHM(dict):\n",
    "    d={}\n",
    "    for k,v in tqdm(dict.items()): #for each label\n",
    "        if len(dict[k]) == 0:\n",
    "            continue\n",
    "        d1={}\n",
    "        for i in range(len(dict[k])): #for each file in label\n",
    "            combinedsegments=segmentcombiner(dict[k][i])\n",
    "            key=list(combinedsegments.keys())[0]\n",
    "            order=[]\n",
    "            for kk in combinedsegments[key].keys():\n",
    "                l=combinedsegments[key][kk]\n",
    "                order.append(l)\n",
    "            max_val=max(order)\n",
    "            max_index=order.index(max_val)\n",
    "            ClassPredicted=get_key(max_index)\n",
    "\n",
    "            ll=(dict[k][i][key][max_index])\n",
    "            lll=[]\n",
    "            for score in ll:\n",
    "                lll.append(score[1][0][2])\n",
    "            avg=sum(lll)/len(ll)\n",
    "\n",
    "\n",
    "            RS_CP=float(avg)\n",
    "            d2={'ClassPredicted': ClassPredicted, 'RS_CP': RS_CP }\n",
    "            d1[key]=d2\n",
    "        d[k]=d1\n",
    "\n",
    "    return d\n",
    "\n",
    "            # \n",
    "            # scoreforfiles.append(float(combinedsegments[key][x]0))\n",
    "\n",
    "            # order=[]\n",
    "            # for key in MaxAggregation.keys():\n",
    "            #     l=MaxAggregation[key]\n",
    "            #     summ=[]\n",
    "            #     for val in l:\n",
    "            #         summ.append(val[0])\n",
    "            #     order.append(sum(summ))\n",
    "            \n",
    "            \n",
    "            # max_val=max(order)\n",
    "            # max_index=order.index(max_val)\n",
    "            # ClassPredicted=get_key(max_index)\n",
    "\n",
    "            # RSlistss=MaxAggregation[max_index]\n",
    "            # scoress=[]\n",
    "            # for s in RSlistss:\n",
    "            #     scoress.append(s[0])\n",
    "\n",
    "            # RS_CP=sum(scoress)/len(scoress)\n",
    "    "
   ]
  },
  {
   "cell_type": "code",
   "execution_count": 26,
   "metadata": {},
   "outputs": [
    {
     "data": {
      "application/vnd.jupyter.widget-view+json": {
       "model_id": "55fe8893d98b453f94fa6d1bffa4ae81",
       "version_major": 2,
       "version_minor": 0
      },
      "text/plain": [
       "  0%|          | 0/29 [00:00<?, ?it/s]"
      ]
     },
     "metadata": {},
     "output_type": "display_data"
    },
    {
     "name": "stdout",
     "output_type": "stream",
     "text": [
      "({'Automotive': 0.0, 'Books and Literature': 10.0, 'Business and Finance': 10.0, 'Education': 10.0, 'Events and Attractions': 0.0, 'Family and Relationships': 0.0, 'Food & Drink': 40.0, 'Hobbies & Interests': 0.0, 'Medical Health': 80.0, 'Music and Audio': 15.0, 'Pets': 0.0, 'Real Estate': 95.0, 'Religion & Spirituality': 0.0, 'Science': 0.0, 'Shopping': 0.0, 'Sports': 20.0, 'Style & Fashion': 100.0, 'Technology & Computing': 0.0, 'Television': 15.0, 'Travel': 5.0}, 20.0)\n"
     ]
    }
   ],
   "source": [
    "print(mAP(Relevance_dict))"
   ]
  },
  {
   "cell_type": "code",
   "execution_count": 25,
   "metadata": {},
   "outputs": [],
   "source": [
    "#Def mAP\n",
    "def mAP(dic):\n",
    "    res=Prediction(dic)\n",
    "    d={}\n",
    "    mAP=[]\n",
    "    for k,v in res.items():\n",
    "        classes=[]\n",
    "        truth=[]\n",
    "\n",
    "        for kk,vv in res[k].items():\n",
    "            ClassPred=res[k][kk]['ClassPredicted']\n",
    "            if ClassPred==k:\n",
    "                classes.append(ClassPred)\n",
    "            truth.append(k)\n",
    "        precision=(len(classes)/len(truth))*100\n",
    "        mAP.append(precision)\n",
    "        d[k]=precision\n",
    "    mAPfinal=sum(mAP)/len(mAP)\n",
    "    return(d,mAPfinal)\n",
    "  \n",
    "\n",
    "\n"
   ]
  }
 ],
 "metadata": {
  "kernelspec": {
   "display_name": "Python 3.9.12 ('base')",
   "language": "python",
   "name": "python3"
  },
  "language_info": {
   "codemirror_mode": {
    "name": "ipython",
    "version": 3
   },
   "file_extension": ".py",
   "mimetype": "text/x-python",
   "name": "python",
   "nbconvert_exporter": "python",
   "pygments_lexer": "ipython3",
   "version": "3.9.12"
  },
  "orig_nbformat": 4,
  "vscode": {
   "interpreter": {
    "hash": "4f8fa3e926face00369008f823e0a800506eaa9d6c726ba0fbe6c8d0f6896eaa"
   }
  }
 },
 "nbformat": 4,
 "nbformat_minor": 2
}
