{
 "cells": [
  {
   "cell_type": "code",
   "execution_count": 1,
   "metadata": {},
   "outputs": [],
   "source": [
    "import pickle \n",
    "import pandas as pd\n",
    "import spacy\n",
    "from tqdm.auto import tqdm\n",
    "from sklearn.metrics.pairwise import cosine_similarity\n",
    "from tqdm.notebook import tqdm\n",
    "tqdm.pandas()\n",
    "import re\n",
    "import transformers\n",
    "from sentence_transformers import SentenceTransformer, util\n",
    "import nltk\n",
    "from nltk import tokenize\n",
    "import pickle\n",
    "import urllib.request as requests\n",
    "import json\n",
    "import statistics\n",
    "import torch"
   ]
  },
  {
   "cell_type": "code",
   "execution_count": 2,
   "metadata": {},
   "outputs": [
    {
     "name": "stderr",
     "output_type": "stream",
     "text": [
      "[nltk_data] Downloading package punkt to /Users/haskar140/nltk_data...\n",
      "[nltk_data]   Package punkt is already up-to-date!\n"
     ]
    }
   ],
   "source": [
    "nltk.download('punkt')\n",
    "nlp = spacy.load(\"en_core_web_lg\")"
   ]
  },
  {
   "cell_type": "code",
   "execution_count": 3,
   "metadata": {},
   "outputs": [],
   "source": [
    "model = SentenceTransformer('all-mpnet-base-v2')"
   ]
  },
  {
   "cell_type": "code",
   "execution_count": 4,
   "metadata": {},
   "outputs": [],
   "source": [
    "df=pd.read_csv('gmo_to_uniqueId.csv')\n",
    "materialID=df['lastRunJob'].to_list()"
   ]
  },
  {
   "cell_type": "code",
   "execution_count": 5,
   "metadata": {},
   "outputs": [],
   "source": [
    "def process_text(text):\n",
    "    #doc = self.nlp(unicode(text.lower()))\n",
    "    text=text.replace('\\\\n', ' ')\n",
    "    doc = nlp(text.lower())\n",
    "    result = []\n",
    "    for token in doc:\n",
    "        if token.text in nlp.Defaults.stop_words:\n",
    "            continue\n",
    "        if token.is_punct:\n",
    "            continue\n",
    "        if token.lemma_ == '-PRON-':\n",
    "            continue\n",
    "        result.append(token.lemma_)\n",
    "    return nlp(\" \".join(result))"
   ]
  },
  {
   "cell_type": "code",
   "execution_count": 6,
   "metadata": {},
   "outputs": [],
   "source": [
    "def filterText( doc_ref, posOfInterest = [\"NOUN\", \"VERB\"]):\n",
    "\n",
    "    trash_list = []\n",
    "    for entity in doc_ref.ents:\n",
    "        for en in entity.text.split(\" \"):\n",
    "            trash_list.append(en)\n",
    "\n",
    "    #print(trash_list)\n",
    "\n",
    "    ## add nouns and verbs\n",
    "    new_doc_ref = []\n",
    "    for token in doc_ref:\n",
    "        #print(token.text, token.pos_)\n",
    "        #if token.pos_ in [\"VERB\", \"NOUN\"]:\n",
    "        if token.pos_ in posOfInterest:\n",
    "            if token.text not in trash_list:\n",
    "                #print(token.text)\n",
    "                if len(token.text)>1:\n",
    "                    new_doc_ref.append(token.text.replace(\"\\'\", \"\").replace(\"\\\"\", \"\"))\n",
    "\n",
    "    ## add useful name entities\n",
    "    for entity in doc_ref.ents:\n",
    "        if entity.label_ not in [\"DATE\", \"TIME\", \"PERCENT\", \"MONEY\", \"QUANTITY\", \"ORDINAL\", \"CARDINAL\"]:\n",
    "            if entity.text not in new_doc_ref:\n",
    "                #print(entity.text, entity.label_)\n",
    "                new_doc_ref.append(entity.text.replace(\"\\'\", \"\").replace(\"\\\"\", \"\"))\n",
    "\n",
    "    ## remove single-letter words\n",
    "    for text in new_doc_ref:\n",
    "        if (len(text)<=1):\n",
    "            new_doc_ref.remove(text)\n",
    "\n",
    "    return nlp(\" \".join(new_doc_ref))"
   ]
  },
  {
   "cell_type": "code",
   "execution_count": null,
   "metadata": {},
   "outputs": [],
   "source": [
    "with open(\"segmentedinput.pkl\", \"rb\") as pkl_handle:\n",
    "\toutput = pickle.load(pkl_handle)"
   ]
  },
  {
   "cell_type": "code",
   "execution_count": null,
   "metadata": {},
   "outputs": [],
   "source": [
    "print(len(output['FILE_MAF_20220213T082327Z_GMO_00000000030342_01']))"
   ]
  },
  {
   "cell_type": "code",
   "execution_count": null,
   "metadata": {},
   "outputs": [],
   "source": [
    "cc=output['FILE_MAF_20220213T082327Z_GMO_00000000030342_01'][0]['ClosedCaption']\n",
    "cc=process_text(cc)\n",
    "cc=filterText(cc)\n",
    "print(cc)"
   ]
  },
  {
   "cell_type": "code",
   "execution_count": null,
   "metadata": {},
   "outputs": [],
   "source": [
    "cc=list(cc)"
   ]
  },
  {
   "cell_type": "code",
   "execution_count": null,
   "metadata": {},
   "outputs": [],
   "source": [
    "for i in range(len(cc)):\n",
    "    cc[i]=cc[i].text.replace(\"♪\", \"\")\n",
    "    cc[i]=cc[i].replace(\"   \", \"\")\n"
   ]
  },
  {
   "cell_type": "code",
   "execution_count": null,
   "metadata": {},
   "outputs": [],
   "source": [
    "print(len(cc))\n"
   ]
  },
  {
   "cell_type": "code",
   "execution_count": null,
   "metadata": {},
   "outputs": [],
   "source": [
    "onlylabels=df1['Name'].to_list()"
   ]
  },
  {
   "cell_type": "code",
   "execution_count": null,
   "metadata": {},
   "outputs": [],
   "source": [
    "\n",
    "emb1=model.encode(cc) #, convert_to_tensor=True)\n",
    "emb2=model.encode(onlylabels) #, convert_to_tensor=True)\n",
    "cos_sim=util.cos_sim(emb1,emb2)\n",
    "\n",
    "all_sentence_combinations = []\n",
    "for i in range(cos_sim.shape[0]):\n",
    "    for j in range(cos_sim.shape[1]):\n",
    "        all_sentence_combinations.append([cos_sim[i][j], i, j])\n",
    "\n",
    "#Sort list by the highest cosine similarity score\n",
    "all_sentence_combinations = sorted(all_sentence_combinations, key=lambda x: x[0], reverse=True)\n"
   ]
  },
  {
   "cell_type": "code",
   "execution_count": null,
   "metadata": {},
   "outputs": [],
   "source": [
    "print(cc[116])\n",
    "print(onlylabels[28])"
   ]
  },
  {
   "cell_type": "code",
   "execution_count": null,
   "metadata": {},
   "outputs": [],
   "source": [
    "print(all_sentence_combinations)"
   ]
  },
  {
   "cell_type": "code",
   "execution_count": null,
   "metadata": {},
   "outputs": [],
   "source": [
    "metalist=[]\n",
    "for id in tqdm(materialID):\n",
    "    segments=[]\n",
    "    for i in range(len(output[id])):\n",
    "        cc=output[id][i]['ClosedCaption']\n",
    "        cc=process_text(cc)\n",
    "        cc=filterText(cc)\n",
    "        segments.append(cc)\n",
    "    metalist.append(segments)"
   ]
  },
  {
   "cell_type": "code",
   "execution_count": null,
   "metadata": {},
   "outputs": [],
   "source": [
    "with open('PreProcessed_segmented_spacy.pkl', 'wb') as f:\n",
    "    pickle.dump(metalist, f)"
   ]
  },
  {
   "cell_type": "code",
   "execution_count": 7,
   "metadata": {},
   "outputs": [],
   "source": [
    "with open('PreProcessed_segmented_spacy.pkl', 'rb') as f:\n",
    "    newmetalist=pickle.load(f)"
   ]
  },
  {
   "cell_type": "code",
   "execution_count": 8,
   "metadata": {},
   "outputs": [
    {
     "data": {
      "text/plain": [
       "[tell thing woman love go come go heat sensor go know guy company know sensor need maintenance work order let authorization hear gather evidence mean settlement kind tomorrow send district attorney story believe get believe happen happen mean go know think care people work paycheck paycheck life thing turn life guy understand day finalize happen word know night dinner party time know rail file room talk talk fact smoking gun document ask go mean think go ask time file room walk door buzz hell mean mean woman believe believe tell kill case put appreciate treat tell idiot idea know go tell go care know let engine turn talk talk case believe fight love love person give compliment suppose say love love say love feel know love knock door know way company let use work order find matter find answer question know difference win win know strongarm listen oppose counsel secretary poke file room look let accord go claim fraud theft number thing go make deal drop case go go file paperwork go let woman blackmail fight win case case care think care draw paper let know wanna stay meal piece pie wife wanna know feel wanna eat bean pie mind missy make money national transportation safety board evan jeff jessica ross harvey d.a washington shit harvey evan smith video donna d.a    d.a harvey ♪ ♪,\n",
       " boogie situation fate firm hang balance tell chance tell figure lie time sorry think go week know go quit give career plan want talk mess care care make drink zipadeedoodah sack messenger service use know use want mean take try arbor tell blow tree ass take hell matter jump bashing train action movie bullshit way liberty rail document catch video threaten press charge say look concerned concern threaten charge mean want know want find way thank stuff mind care charge lawsuit trade give client chance murder check client charge murder need suit case case client train track people die know happen time proof come deal stop look guess come place video district attorney leverage deal blow water person life think send woman look work time sleep job defend client ability go check check case hell talk drink night proof night know lot rigmarole hey talk talk go stand explain procedure understand procedure know understand add get evidence way way subpoena mean money go change life want law firm know go case tell care people give word wish want bastard want money get witness bull bull mess dump case sell knock come meeting think want loop schedule check know come mean come person leave job reason sound agenda say come push say want want talk want resign partnership happen happen ask ask resign tell know know look manage partner want push push ask want tell decide mind go know tell file tell woman work work deal case mean offer case exchange go go go way case work matter case exist hour tell promise bull think go see face money go change life dangle rip fault accuse sell give go go want case right bust ass fix case send realize seat say bust ass fix mean go fix finish start figure way win case wonder wonder send card haha bit pende charge secretary know think think listen steal get document convince let crime time tell commit crime job tell man care procedure care law concerned people break law look document prove liberty rail commit crime crime work investigate work investigate felony fraud hell talk woman let tell make trick make felony fraud door happen happen lie talk tell say bullshit know lie come hell say say hear know crime know ask think care care tell truth think want tell truth know pull rabbit hat time sit answer phone get document people say save know doorstep come panic lie know get time scoff mean people understand go work say call say want tell news case know jerk go change go change think say get evidence way say way go say go client basis standing time explain procedure deserve think cut give dollar shut seal agreement admission guilt know comment know let shut take choice listen check come care people hell think put baby corner baby sit corner power table kind girl tonight go happen man call take reason stay reason break want right go change hear hear know scrub surgery fight love know sister sorry want sugarcoat order dessert support tell think love cheat steal kill hear pay case problem lie mean lie mean bullshit way file room word context context commit crime help accuse know know want know tell steal believe way lie lie come ask document come word listen word say try job get job risk time risk know say get problem go charge felony fraud element prove fraud consist element injury injure liberty rail know know know go sit jury explain document value expose client charge damage trespass want stay case lawsuit plaintiff let woman pay courtesy meeting go try way go save court benefit know go stand come tell take tell take tell prove commit crime mean steal stack paper damage know law know get witness detail document mean value course value save ass trade train kill people damage case need damage intent know know work tell go history go start business mean say care mean take care exhale wrong know go happen tell press charge thought bar come resort get yoga certification matter take know sister trip fall tub go help care laughter laughs exhale work maintenance access account hear directory use word crash heat sensor stop talk people die get want find victim family mean plaintiff problem settlement look prevent go try help know find plaintiff case wait say company talk afraid lose job right leave lose talk talk reschedule meeting takeover send spec tell sit notice left pen desk set ink cartridge replace know chance sighs thank apology laughs leave room leave forget tell arraignment arraignment son bitch amend charge intent say history decide history go steal go find hope diamond come piece glass mean fraud time run tell go happen crime commit go bullshit go tell order find convict offer deal ♪ greenback malone norma louis norma paulsen evan donna joe drop joe jessica mike terrance wolf harvey d.a handle clock harvey donna shit evan smith mike donna harvey specter national transportation safety board federal agency national transportation safety board harvey swear paris leah joe henderson evan base reputation smith thing harvey latham kathy finn harvey terrance d.a office harvey donna,\n",
       " happen happen enter plea intent commit fraud bullshit charge scare work scared punishment matter go punishment charge intent commit fraud want hear go suppose help think know idea talk tell go let trouble hell use turn know know matter take try turn lawyer go difference difference picture stand picture go know life put hand decision want help speak accident look depose lawsuit victim got pay say come want liberty rail drive train accident fault kind joke sir guy bullshit need blame wheel memory happen believe company look kill people give retirement let pension reason need property sir know tell truth truth go support family guy job rest life win set life look guy win guy lose guarantee matter happen need man rise go talk honor know man state prepare proceed arraignment honor charge felony intent commit fraud carry sentence prison understand charge honor plead honor man trial honor trial set begin point let plead misdemeanor job job respect stand stand listen go wipe look face try get evidence go find secretary exhale knock mind decide shut door night dictate tell matter believe tell month listen know hurt want work relationship think mistake change mind refuse refuse want stay want piano music want let know get trial talk think think case feel know know insult talk prefer sit arraignment hit time prison attack come pour gas fire come job attack enemy hell get fight tell think win tell tell understand time comfort need time life tell get tell thought go prison thought go prison make want drop knee want hear go happen go let happen order need let want need leave know know get conductor sign stand subpoena record start need start need finish charge arraign go trial guarantee win trade case want hear objection people get murder talk arraign charge know go talk drop charge talk make say think say obstruction justice way justice know say start complaint go go hear hear know work case place know shakedown artist trouble take face listen need hurt prepare kill go money money need habit see boyfriend surprise laughs know relationship mind want file let fall accident expense take expense stand go subpoena document suppose start know doctor report alter maintenance record alter say come admit offer settlement admit settlement seal mean settlement agreement pay people pay exhale word hold say say bullshit matter want author report disappear disappear figure way witness tune obstruction justice problem son bitch people believe make money go defend court go let murder secretary time exhale know go work want resignation wish laughs remember course remember happen laughter fault laugh burst spit piece shrimp room mother hair laughs feel hair spray tick look boyfriend hour loser come reason party place laughs thank need thank thank thank fix thank bring night figure want bring tell let happen feel music think say comfort say time save ass lose faith matter know know love louis terrance wolf shit louis donna stick louis jaworski    mike ross pearson litt rachel zane donna paulsen paulsen harvey jessica jeff louis handle d.a    harvey    harvey donna joe mike ross evan mike michael jaworski harvey sue smart care joe henderson harvey thing evan richard mcintyre harvey damn jeff    luck jessica    donna ♪]"
      ]
     },
     "execution_count": 8,
     "metadata": {},
     "output_type": "execute_result"
    }
   ],
   "source": [
    "newmetalist[0]"
   ]
  },
  {
   "cell_type": "code",
   "execution_count": 9,
   "metadata": {},
   "outputs": [
    {
     "data": {
      "text/html": [
       "<div>\n",
       "<style scoped>\n",
       "    .dataframe tbody tr th:only-of-type {\n",
       "        vertical-align: middle;\n",
       "    }\n",
       "\n",
       "    .dataframe tbody tr th {\n",
       "        vertical-align: top;\n",
       "    }\n",
       "\n",
       "    .dataframe thead th {\n",
       "        text-align: right;\n",
       "    }\n",
       "</style>\n",
       "<table border=\"1\" class=\"dataframe\">\n",
       "  <thead>\n",
       "    <tr style=\"text-align: right;\">\n",
       "      <th></th>\n",
       "      <th>Unnamed: 0</th>\n",
       "      <th>Name</th>\n",
       "      <th>info</th>\n",
       "    </tr>\n",
       "  </thead>\n",
       "  <tbody>\n",
       "    <tr>\n",
       "      <th>0</th>\n",
       "      <td>0</td>\n",
       "      <td>Automotive</td>\n",
       "      <td>sedan; convertible; wagon; suv; van; pick up...</td>\n",
       "    </tr>\n",
       "    <tr>\n",
       "      <th>1</th>\n",
       "      <td>1</td>\n",
       "      <td>Books and Literature</td>\n",
       "      <td>library bookstore Entertainment</td>\n",
       "    </tr>\n",
       "    <tr>\n",
       "      <th>2</th>\n",
       "      <td>2</td>\n",
       "      <td>Business and Finance</td>\n",
       "      <td>Office environment, Cubicles, Desk + Screens, ...</td>\n",
       "    </tr>\n",
       "    <tr>\n",
       "      <th>3</th>\n",
       "      <td>3</td>\n",
       "      <td>Education</td>\n",
       "      <td>university indoor; university outdoor; cla...</td>\n",
       "    </tr>\n",
       "    <tr>\n",
       "      <th>4</th>\n",
       "      <td>4</td>\n",
       "      <td>Events and Attractions</td>\n",
       "      <td></td>\n",
       "    </tr>\n",
       "  </tbody>\n",
       "</table>\n",
       "</div>"
      ],
      "text/plain": [
       "   Unnamed: 0                    Name  \\\n",
       "0           0              Automotive   \n",
       "1           1    Books and Literature   \n",
       "2           2    Business and Finance   \n",
       "3           3               Education   \n",
       "4           4  Events and Attractions   \n",
       "\n",
       "                                                info  \n",
       "0    sedan; convertible; wagon; suv; van; pick up...  \n",
       "1                  library bookstore Entertainment    \n",
       "2  Office environment, Cubicles, Desk + Screens, ...  \n",
       "3      university indoor; university outdoor; cla...  \n",
       "4                                                     "
      ]
     },
     "execution_count": 9,
     "metadata": {},
     "output_type": "execute_result"
    }
   ],
   "source": [
    "df1=pd.read_csv('InitialTargetDatabase.csv')    \n",
    "df1.head()"
   ]
  },
  {
   "cell_type": "code",
   "execution_count": 10,
   "metadata": {},
   "outputs": [],
   "source": [
    "def clean(text):\n",
    "    text=text.replace(\"(\", \"\")\n",
    "    text=text.replace(\")\", \"\")\n",
    "    text=text.replace(\";\", \"\")\n",
    "    text=text.replace(\",\", \"\")\n",
    "    text=text.replace(\"+\", \"\")\n",
    "    text=text.replace(\".\", \"\")\n",
    "    return text"
   ]
  },
  {
   "cell_type": "code",
   "execution_count": 11,
   "metadata": {},
   "outputs": [],
   "source": [
    "df1['Combined']=df1['Name']+' '+df1['info']"
   ]
  },
  {
   "cell_type": "code",
   "execution_count": 12,
   "metadata": {},
   "outputs": [
    {
     "data": {
      "text/plain": [
       "0     Automotive   sedan convertible wagon suv van p...\n",
       "1     Books and Literature     library bookstore Ent...\n",
       "2     Business and Finance Office environment Cubicl...\n",
       "3     Education     university indoor university out...\n",
       "4                      Events and Attractions          \n",
       "5     Family and Relationships family dinner family ...\n",
       "6     Fine Art art history paintings sculptures ball...\n",
       "7     Food & Drink   food and drink objects kitchen ...\n",
       "8     Healthy Living gym working out smoothies hikin...\n",
       "9     Hobbies & Interests       Entertainment Consum...\n",
       "10    Home & Garden   bed couch chair dining table m...\n",
       "11    Medical Health doctors hospitals doctors offic...\n",
       "12    Movies Movie Theater Projection Screen popcorn...\n",
       "13    Music and Audio Visual: instruments DJ table r...\n",
       "14                Pets collar leash  dog cat   Retail  \n",
       "15    Pop Culture social media entertainment news   ...\n",
       "16    Real Estate For sale sign open house sign movi...\n",
       "17    Religion & Spirituality religious books religi...\n",
       "18               Science science lab test tubes        \n",
       "19    Shopping shopping bags malls storefronts credi...\n",
       "20    Sports   sports objects sporting event Retail ...\n",
       "21    Style & Fashion models runway fashion week    ...\n",
       "22    Technology & Computing computers laptops table...\n",
       "23    Television television set flatscreen TVs vinta...\n",
       "24    Travel airplanes trains buses taxis airports t...\n",
       "25    Video Gaming video game console game controlle...\n",
       "26                                    Careers          \n",
       "27    News and Politics *News business use case need...\n",
       "28                           Personal Finance          \n",
       "Name: Combined, dtype: object"
      ]
     },
     "execution_count": 12,
     "metadata": {},
     "output_type": "execute_result"
    }
   ],
   "source": [
    "df1['Combined'].apply(clean)"
   ]
  },
  {
   "cell_type": "code",
   "execution_count": 13,
   "metadata": {},
   "outputs": [
    {
     "data": {
      "text/plain": [
       "0     (automotive,    , sedan, convertible, wagon, s...\n",
       "1     (book, literature,      , library, bookstore, ...\n",
       "2     (business, finance, office, environment, cubic...\n",
       "3     (education,      , university, indoor, univers...\n",
       "4                        (event, attraction,          )\n",
       "5     (family, relationship, family, dinner, family,...\n",
       "6     (fine, art, art, history, painting, sculpture,...\n",
       "7     (food, drink,    , food, drink, object, kitche...\n",
       "8     (healthy, living, gym, work, smoothie, hiking,...\n",
       "9     (hobby, interest,        , entertainment, cons...\n",
       "10    (home, garden,    , bed, couch, chair, dining,...\n",
       "11    (medical, health, doctor, hospital, doctor, of...\n",
       "12    (movie, movie, theater, projection, screen, po...\n",
       "13    (music, audio, visual, instrument, dj, table, ...\n",
       "14    (pet, collar, leash,   , dog, cat,    , retail...\n",
       "15    (pop, culture, social, medium, entertainment, ...\n",
       "16    (real, estate, sale, sign, open, house, sign, ...\n",
       "17    (religion, spirituality, religious, book, reli...\n",
       "18         (science, science, lab, test, tube,        )\n",
       "19    (shopping, shopping, bag, mall, storefront, cr...\n",
       "20    (sport,    , sport, object, sport, event, reta...\n",
       "21    (style, fashion, model, runway, fashion, week,...\n",
       "22    (technology, computing, computer, laptop, tabl...\n",
       "23    (television, television, set, flatscreen, tv, ...\n",
       "24    (travel, airplane, train, bus, taxi, airport, ...\n",
       "25    (video, gaming, video, game, console, game, co...\n",
       "26                                  (career,          )\n",
       "27    (news, politic, news, business, use, case, nee...\n",
       "28                       (personal, finance,          )\n",
       "Name: Combined, dtype: object"
      ]
     },
     "execution_count": 13,
     "metadata": {},
     "output_type": "execute_result"
    }
   ],
   "source": [
    "df1['Combined'].apply(process_text)\n"
   ]
  },
  {
   "cell_type": "code",
   "execution_count": 14,
   "metadata": {},
   "outputs": [],
   "source": [
    "targetlist=df1['Combined'].to_list()"
   ]
  },
  {
   "cell_type": "code",
   "execution_count": 15,
   "metadata": {},
   "outputs": [],
   "source": [
    "temp=targetlist[27]\n",
    "temp=temp.replace('*News business use case needs to be scoped by NBCU - priority TBD', '')\n",
    "targetlist[27]=temp"
   ]
  },
  {
   "cell_type": "code",
   "execution_count": 16,
   "metadata": {},
   "outputs": [
    {
     "name": "stdout",
     "output_type": "stream",
     "text": [
      "Food & Drink   food and drink objects kitchen indoor; restaurant indoor Restaurants, Consumer Goods  \n"
     ]
    }
   ],
   "source": [
    "print(targetlist[7])"
   ]
  },
  {
   "cell_type": "code",
   "execution_count": 17,
   "metadata": {},
   "outputs": [],
   "source": [
    "listofepisodes=['FILE_MAF_20220215T074142Z_GMO_00000000368391_01', 'FILE_MAF_20220510T214825Z_GMO_00000000393602_01', 'FILE_MAF_20210805T224425Z_GMO_00000000196552_01', 'FILE_MAF_20220215T035724Z_GMO_00000000332330_01', 'FILE_MAF_20220321T225328Z_GMO_00000000354812_01', 'FILE_MAF_20210805T224839Z_GMO_00000000296761_01', 'FILE_MAF_20220510T231142Z_GMO_00000000398884_01', 'FILE_MAF_20211222T181429Z_GMO_00000000007508_01', 'FILE_MAF_20220213T082327Z_GMO_00000000030342_01', 'FILE_MAF_20210809T200034Z_GMO_00000000171494_01', 'FILE_MAF_20211221T215926Z_GMO_00000000322097_01', 'FILE_MAF_20220215T092524Z_GMO_00000000390298_01', 'FILE_MAF_20210728T172450Z_GMO_00000000001655_01', 'FILE_MAF_20220212T185028Z_GMO_00000000007263_01', 'FILE_MAF_20210807T072641Z_GMO_00000000015474_01', 'FILE_MAF_20210730T000327Z_GMO_00000000346793_01', 'FILE_MAF_20211106T183216Z_GMO_00000000345589_01', 'FILE_MAF_20210729T141453Z_GMO_00000000321307_01', 'FILE_MAF_20210729T092524Z_GMO_00000000044319_01', 'FILE_MAF_20220321T225323Z_GMO_00000000347371_01', 'FILE_MAF_20211105T221830Z_GMO_00000000326366_01', 'FILE_MAF_20210805T225951Z_GMO_00000000282894_01', 'FILE_MAF_20211105T221624Z_GMO_00000000296344_01', 'FILE_MAF_20220214T004901Z_GMO_00000000144043_01', 'FILE_MAF_20211107T155325Z_GMO_00000000344447_01', 'FILE_MAF_20220215T024650Z_GMO_00000000293219_01', 'FILE_MAF_20211103T110009Z_GMO_00000000338789_01', 'FILE_MAF_20220215T084154Z_GMO_00000000370430_01', 'FILE_MAF_20211222T061241Z_GMO_00000000295406_01', 'FILE_MAF_20211104T120706Z_GMO_00000000378652_01', 'FILE_MAF_20210806T004607Z_GMO_00000000318755_01']"
   ]
  },
  {
   "cell_type": "code",
   "execution_count": 19,
   "metadata": {},
   "outputs": [
    {
     "data": {
      "application/vnd.jupyter.widget-view+json": {
       "model_id": "999524bbdbfc46ffa55bf759103ae41c",
       "version_major": 2,
       "version_minor": 0
      },
      "text/plain": [
       "  0%|          | 0/31 [00:00<?, ?it/s]"
      ]
     },
     "metadata": {},
     "output_type": "display_data"
    },
    {
     "data": {
      "application/vnd.jupyter.widget-view+json": {
       "model_id": "cf2ad70b586c44b893de8706b5d1cba9",
       "version_major": 2,
       "version_minor": 0
      },
      "text/plain": [
       "  0%|          | 0/6 [00:00<?, ?it/s]"
      ]
     },
     "metadata": {},
     "output_type": "display_data"
    },
    {
     "data": {
      "application/vnd.jupyter.widget-view+json": {
       "model_id": "1177e47f3196477aa803b2eea7022722",
       "version_major": 2,
       "version_minor": 0
      },
      "text/plain": [
       "  0%|          | 0/6 [00:00<?, ?it/s]"
      ]
     },
     "metadata": {},
     "output_type": "display_data"
    },
    {
     "data": {
      "application/vnd.jupyter.widget-view+json": {
       "model_id": "21ed8efce3eb4fb7b61b942411d94f50",
       "version_major": 2,
       "version_minor": 0
      },
      "text/plain": [
       "  0%|          | 0/6 [00:00<?, ?it/s]"
      ]
     },
     "metadata": {},
     "output_type": "display_data"
    },
    {
     "data": {
      "application/vnd.jupyter.widget-view+json": {
       "model_id": "db7d86614fcd45bf90ffd1d7d1b24887",
       "version_major": 2,
       "version_minor": 0
      },
      "text/plain": [
       "  0%|          | 0/6 [00:00<?, ?it/s]"
      ]
     },
     "metadata": {},
     "output_type": "display_data"
    },
    {
     "data": {
      "application/vnd.jupyter.widget-view+json": {
       "model_id": "f6c7c21291844ae3842082a9949615f4",
       "version_major": 2,
       "version_minor": 0
      },
      "text/plain": [
       "  0%|          | 0/7 [00:00<?, ?it/s]"
      ]
     },
     "metadata": {},
     "output_type": "display_data"
    },
    {
     "data": {
      "application/vnd.jupyter.widget-view+json": {
       "model_id": "718b3e6158154738a2be81cea1f0445c",
       "version_major": 2,
       "version_minor": 0
      },
      "text/plain": [
       "  0%|          | 0/7 [00:00<?, ?it/s]"
      ]
     },
     "metadata": {},
     "output_type": "display_data"
    },
    {
     "data": {
      "application/vnd.jupyter.widget-view+json": {
       "model_id": "d19f811949db4fe4a63f2a81206524ff",
       "version_major": 2,
       "version_minor": 0
      },
      "text/plain": [
       "  0%|          | 0/4 [00:00<?, ?it/s]"
      ]
     },
     "metadata": {},
     "output_type": "display_data"
    },
    {
     "data": {
      "application/vnd.jupyter.widget-view+json": {
       "model_id": "ec0a3d9f8a3d4a21b498ab1e7a8d74ad",
       "version_major": 2,
       "version_minor": 0
      },
      "text/plain": [
       "  0%|          | 0/5 [00:00<?, ?it/s]"
      ]
     },
     "metadata": {},
     "output_type": "display_data"
    },
    {
     "data": {
      "application/vnd.jupyter.widget-view+json": {
       "model_id": "1d8679eeeaf14111913df07ded7596f4",
       "version_major": 2,
       "version_minor": 0
      },
      "text/plain": [
       "  0%|          | 0/6 [00:00<?, ?it/s]"
      ]
     },
     "metadata": {},
     "output_type": "display_data"
    },
    {
     "data": {
      "application/vnd.jupyter.widget-view+json": {
       "model_id": "2d67745cfe2046a9b2dd4ba4c73099a0",
       "version_major": 2,
       "version_minor": 0
      },
      "text/plain": [
       "  0%|          | 0/1 [00:00<?, ?it/s]"
      ]
     },
     "metadata": {},
     "output_type": "display_data"
    },
    {
     "data": {
      "application/vnd.jupyter.widget-view+json": {
       "model_id": "0399d8946f284112b103d13bc8b1c1f3",
       "version_major": 2,
       "version_minor": 0
      },
      "text/plain": [
       "  0%|          | 0/3 [00:00<?, ?it/s]"
      ]
     },
     "metadata": {},
     "output_type": "display_data"
    },
    {
     "data": {
      "application/vnd.jupyter.widget-view+json": {
       "model_id": "eb135428170d44f9b1408730d87f2431",
       "version_major": 2,
       "version_minor": 0
      },
      "text/plain": [
       "  0%|          | 0/5 [00:00<?, ?it/s]"
      ]
     },
     "metadata": {},
     "output_type": "display_data"
    },
    {
     "data": {
      "application/vnd.jupyter.widget-view+json": {
       "model_id": "993dfdb643f74d779709810db781e935",
       "version_major": 2,
       "version_minor": 0
      },
      "text/plain": [
       "  0%|          | 0/3 [00:00<?, ?it/s]"
      ]
     },
     "metadata": {},
     "output_type": "display_data"
    },
    {
     "data": {
      "application/vnd.jupyter.widget-view+json": {
       "model_id": "4fa142c2bdaa42e5860d643099e52bcb",
       "version_major": 2,
       "version_minor": 0
      },
      "text/plain": [
       "  0%|          | 0/7 [00:00<?, ?it/s]"
      ]
     },
     "metadata": {},
     "output_type": "display_data"
    },
    {
     "data": {
      "application/vnd.jupyter.widget-view+json": {
       "model_id": "9b4d214d9610498c9b16d9c81681cfde",
       "version_major": 2,
       "version_minor": 0
      },
      "text/plain": [
       "  0%|          | 0/6 [00:00<?, ?it/s]"
      ]
     },
     "metadata": {},
     "output_type": "display_data"
    },
    {
     "data": {
      "application/vnd.jupyter.widget-view+json": {
       "model_id": "c4dd192cb67f4a269098f5270db2ce08",
       "version_major": 2,
       "version_minor": 0
      },
      "text/plain": [
       "  0%|          | 0/9 [00:00<?, ?it/s]"
      ]
     },
     "metadata": {},
     "output_type": "display_data"
    },
    {
     "data": {
      "application/vnd.jupyter.widget-view+json": {
       "model_id": "84a0aed2290a408fac08187ef03518e4",
       "version_major": 2,
       "version_minor": 0
      },
      "text/plain": [
       "  0%|          | 0/6 [00:00<?, ?it/s]"
      ]
     },
     "metadata": {},
     "output_type": "display_data"
    },
    {
     "data": {
      "application/vnd.jupyter.widget-view+json": {
       "model_id": "a768460aa845466199619266de505131",
       "version_major": 2,
       "version_minor": 0
      },
      "text/plain": [
       "  0%|          | 0/4 [00:00<?, ?it/s]"
      ]
     },
     "metadata": {},
     "output_type": "display_data"
    },
    {
     "data": {
      "application/vnd.jupyter.widget-view+json": {
       "model_id": "2f702533447047018dcfabc89e4f096f",
       "version_major": 2,
       "version_minor": 0
      },
      "text/plain": [
       "  0%|          | 0/5 [00:00<?, ?it/s]"
      ]
     },
     "metadata": {},
     "output_type": "display_data"
    },
    {
     "name": "stdout",
     "output_type": "stream",
     "text": [
      "list index out of range\n"
     ]
    },
    {
     "data": {
      "application/vnd.jupyter.widget-view+json": {
       "model_id": "c1f1618cbdd448bbb3f34297a70b52d2",
       "version_major": 2,
       "version_minor": 0
      },
      "text/plain": [
       "  0%|          | 0/6 [00:00<?, ?it/s]"
      ]
     },
     "metadata": {},
     "output_type": "display_data"
    },
    {
     "data": {
      "application/vnd.jupyter.widget-view+json": {
       "model_id": "188cb64ac94244c68318c15b5167ecde",
       "version_major": 2,
       "version_minor": 0
      },
      "text/plain": [
       "  0%|          | 0/3 [00:00<?, ?it/s]"
      ]
     },
     "metadata": {},
     "output_type": "display_data"
    },
    {
     "data": {
      "application/vnd.jupyter.widget-view+json": {
       "model_id": "676bef48e24a415a82dd618407332d7d",
       "version_major": 2,
       "version_minor": 0
      },
      "text/plain": [
       "  0%|          | 0/6 [00:00<?, ?it/s]"
      ]
     },
     "metadata": {},
     "output_type": "display_data"
    },
    {
     "data": {
      "application/vnd.jupyter.widget-view+json": {
       "model_id": "8fd3cc5792b74a55b3939cc9d431366b",
       "version_major": 2,
       "version_minor": 0
      },
      "text/plain": [
       "  0%|          | 0/5 [00:00<?, ?it/s]"
      ]
     },
     "metadata": {},
     "output_type": "display_data"
    },
    {
     "data": {
      "application/vnd.jupyter.widget-view+json": {
       "model_id": "c3861a0a02414f56afa562123db4e656",
       "version_major": 2,
       "version_minor": 0
      },
      "text/plain": [
       "  0%|          | 0/6 [00:00<?, ?it/s]"
      ]
     },
     "metadata": {},
     "output_type": "display_data"
    },
    {
     "data": {
      "application/vnd.jupyter.widget-view+json": {
       "model_id": "7cd20d66e17e4105a26e513d7ff796ea",
       "version_major": 2,
       "version_minor": 0
      },
      "text/plain": [
       "  0%|          | 0/6 [00:00<?, ?it/s]"
      ]
     },
     "metadata": {},
     "output_type": "display_data"
    },
    {
     "data": {
      "application/vnd.jupyter.widget-view+json": {
       "model_id": "b0209beeab7c41afb7f24fbb26ed6c67",
       "version_major": 2,
       "version_minor": 0
      },
      "text/plain": [
       "  0%|          | 0/9 [00:00<?, ?it/s]"
      ]
     },
     "metadata": {},
     "output_type": "display_data"
    },
    {
     "data": {
      "application/vnd.jupyter.widget-view+json": {
       "model_id": "1a8929cad1a14aa5aaefa102d443fbb5",
       "version_major": 2,
       "version_minor": 0
      },
      "text/plain": [
       "  0%|          | 0/5 [00:00<?, ?it/s]"
      ]
     },
     "metadata": {},
     "output_type": "display_data"
    },
    {
     "data": {
      "application/vnd.jupyter.widget-view+json": {
       "model_id": "801e03412a03400190ec6ab53543767a",
       "version_major": 2,
       "version_minor": 0
      },
      "text/plain": [
       "  0%|          | 0/7 [00:00<?, ?it/s]"
      ]
     },
     "metadata": {},
     "output_type": "display_data"
    },
    {
     "data": {
      "application/vnd.jupyter.widget-view+json": {
       "model_id": "383c66a1c0474671b1c567ac8c9df090",
       "version_major": 2,
       "version_minor": 0
      },
      "text/plain": [
       "  0%|          | 0/5 [00:00<?, ?it/s]"
      ]
     },
     "metadata": {},
     "output_type": "display_data"
    },
    {
     "data": {
      "application/vnd.jupyter.widget-view+json": {
       "model_id": "6b6a3c77bce343acb16611de7c4569f3",
       "version_major": 2,
       "version_minor": 0
      },
      "text/plain": [
       "  0%|          | 0/6 [00:00<?, ?it/s]"
      ]
     },
     "metadata": {},
     "output_type": "display_data"
    },
    {
     "data": {
      "application/vnd.jupyter.widget-view+json": {
       "model_id": "b63e57a97adf407698f16e0814313348",
       "version_major": 2,
       "version_minor": 0
      },
      "text/plain": [
       "  0%|          | 0/6 [00:00<?, ?it/s]"
      ]
     },
     "metadata": {},
     "output_type": "display_data"
    },
    {
     "name": "stdout",
     "output_type": "stream",
     "text": [
      "[0.5351631397028651, 0.5551542428349395, 0.5815448681981471, 0.5366936875308924, 0.5346688378610583, 0.5111839718395771, 0.5752887294781683, 0.5743471031604965, 0.5292423039077483, 0.5985180782675991, 0.5947518597617196, 0.5467691043632321, 0.5750793231740189, 0.5522498803292881, 0.556416860709697, 0.529623820513905, 0.5574795681673892, 0.5171216933860913, 0.4569720709751947, 0.560342926340332, 0.5943713549289446, 0.5990528475136525, 0.5756880744826187, 0.5821196040635582, 0.5728874965635381, 0.5438553597421154, 0.550533752948854, 0.5519850246929272, 0.5717431824457941, 0.5403760342986573, 0.6043149957484512]\n"
     ]
    }
   ],
   "source": [
    "scores=[]\n",
    "for ep in tqdm(listofepisodes):\n",
    "    index=materialID.index(ep)\n",
    "    segmentscore=[]\n",
    "    for i in tqdm(range(len(newmetalist[index]))):\n",
    "        res=[]\n",
    "        for j in range(len(targetlist)):\n",
    "\n",
    "            if len(newmetalist[index][i])==0:\n",
    "                continue\n",
    "            \n",
    "            doc_ref = nlp(targetlist[0])\n",
    "            org_doc=nlp(newmetalist[index][i])\n",
    "            sim_score = org_doc.similarity(doc_ref)\n",
    "            res.append(sim_score)\n",
    "        try:\n",
    "            segmentscore.append(res[17])\n",
    "        except Exception as e:\n",
    "            print(e)\n",
    "            segmentscore.append(0)\n",
    "\n",
    "    avg=(sum(segmentscore)/len(segmentscore))\n",
    "    scores.append(avg)\n",
    "    \n",
    "print(scores)"
   ]
  },
  {
   "cell_type": "code",
   "execution_count": null,
   "metadata": {},
   "outputs": [],
   "source": [
    "topchef=['FILE_MAF_20220213T082327Z_GMO_00000000030342_01']"
   ]
  },
  {
   "cell_type": "code",
   "execution_count": null,
   "metadata": {},
   "outputs": [],
   "source": [
    "fine_art=['FILE_MAF_20210805T224839Z_GMO_00000000296761_01']"
   ]
  },
  {
   "cell_type": "code",
   "execution_count": null,
   "metadata": {},
   "outputs": [],
   "source": [
    "religion=['FILE_MAF_20220212T185028Z_GMO_00000000007263_01']"
   ]
  },
  {
   "cell_type": "code",
   "execution_count": null,
   "metadata": {},
   "outputs": [],
   "source": [
    "print(listofepisodes[8])"
   ]
  },
  {
   "cell_type": "code",
   "execution_count": null,
   "metadata": {},
   "outputs": [],
   "source": [
    "print(listofepisodes.index('FILE_MAF_20220213T082327Z_GMO_00000000030342_01'))"
   ]
  },
  {
   "cell_type": "code",
   "execution_count": null,
   "metadata": {},
   "outputs": [],
   "source": [
    "#Top Chef aggregation TOP1\n",
    "topchefscores=[]\n",
    "for ep in tqdm(religion):\n",
    "    index=materialID.index(ep)\n",
    "    segmentscore=[]\n",
    "    for i in tqdm(range(len(newmetalist[index]))):\n",
    "        res=[]\n",
    "        for j in range(len(targetlist)):\n",
    "\n",
    "            if len(newmetalist[index][i])==0:\n",
    "                continue\n",
    "            \n",
    "            doc_ref = nlp(targetlist[0])\n",
    "            sim_score = newmetalist[index][i].similarity(doc_ref)\n",
    "            res.append(sim_score)\n",
    "        segmentscore.append(res[17])\n",
    "                \n",
    "    avg=(sum(segmentscore)/len(segmentscore))\n",
    "    topchefscores.append(avg)\n",
    "    \n",
    "print(topchefscores)"
   ]
  },
  {
   "cell_type": "code",
   "execution_count": null,
   "metadata": {},
   "outputs": [],
   "source": [
    "(sum(scores)-0.5522498803292881)/len(scores)"
   ]
  },
  {
   "cell_type": "code",
   "execution_count": null,
   "metadata": {},
   "outputs": [],
   "source": [
    "0.5522498803292881/0.5391383844387799"
   ]
  },
  {
   "cell_type": "code",
   "execution_count": 74,
   "metadata": {},
   "outputs": [
    {
     "name": "stdout",
     "output_type": "stream",
     "text": [
      "tensor([[0.6550]])\n"
     ]
    }
   ],
   "source": [
    "en1=model.encode(\"Wrestling.\")\n",
    "en2=model.encode(\"Sports\")\n",
    "cos_sim=util.cos_sim(en1,en2)\n",
    "print(cos_sim)"
   ]
  }
 ],
 "metadata": {
  "kernelspec": {
   "display_name": "Python 3.9.12 ('base')",
   "language": "python",
   "name": "python3"
  },
  "language_info": {
   "codemirror_mode": {
    "name": "ipython",
    "version": 3
   },
   "file_extension": ".py",
   "mimetype": "text/x-python",
   "name": "python",
   "nbconvert_exporter": "python",
   "pygments_lexer": "ipython3",
   "version": "3.9.12"
  },
  "orig_nbformat": 4,
  "vscode": {
   "interpreter": {
    "hash": "4f8fa3e926face00369008f823e0a800506eaa9d6c726ba0fbe6c8d0f6896eaa"
   }
  }
 },
 "nbformat": 4,
 "nbformat_minor": 2
}
