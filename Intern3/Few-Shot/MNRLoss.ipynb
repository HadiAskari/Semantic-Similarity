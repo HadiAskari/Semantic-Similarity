{
 "cells": [
  {
   "cell_type": "code",
   "execution_count": 3,
   "metadata": {},
   "outputs": [],
   "source": [
    "import pandas as pd"
   ]
  },
  {
   "cell_type": "code",
   "execution_count": 4,
   "metadata": {},
   "outputs": [],
   "source": [
    "df=pd.read_excel('Top20Sentences_ALLTIERS_NEW_Annotated.xlsx')"
   ]
  },
  {
   "cell_type": "code",
   "execution_count": 5,
   "metadata": {},
   "outputs": [
    {
     "data": {
      "text/html": [
       "<div>\n",
       "<style scoped>\n",
       "    .dataframe tbody tr th:only-of-type {\n",
       "        vertical-align: middle;\n",
       "    }\n",
       "\n",
       "    .dataframe tbody tr th {\n",
       "        vertical-align: top;\n",
       "    }\n",
       "\n",
       "    .dataframe thead th {\n",
       "        text-align: right;\n",
       "    }\n",
       "</style>\n",
       "<table border=\"1\" class=\"dataframe\">\n",
       "  <thead>\n",
       "    <tr style=\"text-align: right;\">\n",
       "      <th></th>\n",
       "      <th>Unnamed: 0</th>\n",
       "      <th>Adword</th>\n",
       "      <th>Text</th>\n",
       "      <th>Score</th>\n",
       "      <th>Length of Sentence</th>\n",
       "      <th>Editorial Relevance</th>\n",
       "      <th>Clarity of Sentence</th>\n",
       "      <th>Tier1 Parent</th>\n",
       "    </tr>\n",
       "  </thead>\n",
       "  <tbody>\n",
       "    <tr>\n",
       "      <th>0</th>\n",
       "      <td>0</td>\n",
       "      <td>Automotive</td>\n",
       "      <td>vehicle accident</td>\n",
       "      <td>0.5168</td>\n",
       "      <td>16</td>\n",
       "      <td>Y</td>\n",
       "      <td>N</td>\n",
       "      <td>Automotive</td>\n",
       "    </tr>\n",
       "    <tr>\n",
       "      <th>1</th>\n",
       "      <td>1</td>\n",
       "      <td>Automotive</td>\n",
       "      <td>vehicle accident</td>\n",
       "      <td>0.5168</td>\n",
       "      <td>17</td>\n",
       "      <td>Y</td>\n",
       "      <td>N</td>\n",
       "      <td>Automotive</td>\n",
       "    </tr>\n",
       "    <tr>\n",
       "      <th>2</th>\n",
       "      <td>2</td>\n",
       "      <td>Automotive</td>\n",
       "      <td>welcome to the royal automobile club</td>\n",
       "      <td>0.5100</td>\n",
       "      <td>36</td>\n",
       "      <td>Y</td>\n",
       "      <td>Y</td>\n",
       "      <td>Automotive</td>\n",
       "    </tr>\n",
       "    <tr>\n",
       "      <th>3</th>\n",
       "      <td>3</td>\n",
       "      <td>Automotive</td>\n",
       "      <td>um what kind of car are you driving  porsche c...</td>\n",
       "      <td>0.5041</td>\n",
       "      <td>52</td>\n",
       "      <td>Y</td>\n",
       "      <td>Y</td>\n",
       "      <td>Automotive</td>\n",
       "    </tr>\n",
       "    <tr>\n",
       "      <th>4</th>\n",
       "      <td>4</td>\n",
       "      <td>Automotive</td>\n",
       "      <td>so you really are a car man</td>\n",
       "      <td>0.5007</td>\n",
       "      <td>27</td>\n",
       "      <td>Y</td>\n",
       "      <td>Y</td>\n",
       "      <td>Automotive</td>\n",
       "    </tr>\n",
       "  </tbody>\n",
       "</table>\n",
       "</div>"
      ],
      "text/plain": [
       "   Unnamed: 0      Adword                                               Text  \\\n",
       "0           0  Automotive                                   vehicle accident   \n",
       "1           1  Automotive                                   vehicle accident   \n",
       "2           2  Automotive               welcome to the royal automobile club   \n",
       "3           3  Automotive  um what kind of car are you driving  porsche c...   \n",
       "4           4  Automotive                        so you really are a car man   \n",
       "\n",
       "    Score  Length of Sentence Editorial Relevance Clarity of Sentence  \\\n",
       "0  0.5168                  16                   Y                   N   \n",
       "1  0.5168                  17                   Y                   N   \n",
       "2  0.5100                  36                   Y                   Y   \n",
       "3  0.5041                  52                   Y                   Y   \n",
       "4  0.5007                  27                   Y                   Y   \n",
       "\n",
       "  Tier1 Parent  \n",
       "0   Automotive  \n",
       "1   Automotive  \n",
       "2   Automotive  \n",
       "3   Automotive  \n",
       "4   Automotive  "
      ]
     },
     "execution_count": 5,
     "metadata": {},
     "output_type": "execute_result"
    }
   ],
   "source": [
    "df.head()"
   ]
  },
  {
   "cell_type": "code",
   "execution_count": 6,
   "metadata": {},
   "outputs": [
    {
     "data": {
      "text/plain": [
       "Y    3711\n",
       "N    1463\n",
       "Name: Editorial Relevance, dtype: int64"
      ]
     },
     "execution_count": 6,
     "metadata": {},
     "output_type": "execute_result"
    }
   ],
   "source": [
    "df['Editorial Relevance'].value_counts()"
   ]
  },
  {
   "cell_type": "code",
   "execution_count": 7,
   "metadata": {},
   "outputs": [
    {
     "data": {
      "text/plain": [
       "Y    3534\n",
       "N    1640\n",
       "Name: Clarity of Sentence, dtype: int64"
      ]
     },
     "execution_count": 7,
     "metadata": {},
     "output_type": "execute_result"
    }
   ],
   "source": [
    "df['Clarity of Sentence'].value_counts()"
   ]
  },
  {
   "cell_type": "code",
   "execution_count": 8,
   "metadata": {},
   "outputs": [],
   "source": [
    "dftruth=df[df['Editorial Relevance']=='Y']"
   ]
  },
  {
   "cell_type": "code",
   "execution_count": 9,
   "metadata": {},
   "outputs": [],
   "source": [
    "#only for Tier 1 Evaluation\n",
    "\n",
    "dftruth=dftruth[dftruth['Adword']==dftruth['Tier1 Parent']]"
   ]
  },
  {
   "cell_type": "code",
   "execution_count": 10,
   "metadata": {},
   "outputs": [
    {
     "data": {
      "text/plain": [
       "Y    1139\n",
       "Name: Editorial Relevance, dtype: int64"
      ]
     },
     "execution_count": 10,
     "metadata": {},
     "output_type": "execute_result"
    }
   ],
   "source": [
    "dftruth['Editorial Relevance'].value_counts()"
   ]
  },
  {
   "cell_type": "code",
   "execution_count": 11,
   "metadata": {},
   "outputs": [],
   "source": [
    "adwords=dftruth['Adword'].to_list()\n",
    "text=dftruth['Text'].to_list()"
   ]
  },
  {
   "cell_type": "code",
   "execution_count": 12,
   "metadata": {},
   "outputs": [
    {
     "data": {
      "application/vnd.jupyter.widget-view+json": {
       "model_id": "a2e5709a87a2413ba89f6e084a67943a",
       "version_major": 2,
       "version_minor": 0
      },
      "text/plain": [
       "0it [00:00, ?it/s]"
      ]
     },
     "metadata": {},
     "output_type": "display_data"
    }
   ],
   "source": [
    "from sentence_transformers import InputExample\n",
    "from tqdm.auto import tqdm  \n",
    "\n",
    "train_samples = []\n",
    "for k,v in tqdm(zip(adwords,text)):\n",
    "    train_samples.append(InputExample(\n",
    "        texts=[k, v]\n",
    "    ))"
   ]
  },
  {
   "cell_type": "code",
   "execution_count": 13,
   "metadata": {},
   "outputs": [
    {
     "name": "stdout",
     "output_type": "stream",
     "text": [
      "<InputExample> label: 0, texts: Automotive; what the car accident\n"
     ]
    }
   ],
   "source": [
    "print(train_samples[20])"
   ]
  },
  {
   "cell_type": "code",
   "execution_count": 14,
   "metadata": {},
   "outputs": [],
   "source": [
    "from sentence_transformers import datasets\n",
    "\n",
    "#batch_size = 32 for all tiers\n",
    "\n",
    "batch_size=16\n",
    "\n",
    "loader = datasets.NoDuplicatesDataLoader(\n",
    "    train_samples, batch_size=batch_size)"
   ]
  },
  {
   "cell_type": "code",
   "execution_count": 15,
   "metadata": {},
   "outputs": [],
   "source": [
    "from sentence_transformers import models, SentenceTransformer\n",
    "model = SentenceTransformer('all-mpnet-base-v2')"
   ]
  },
  {
   "cell_type": "code",
   "execution_count": 16,
   "metadata": {},
   "outputs": [],
   "source": [
    "from sentence_transformers import losses\n",
    "\n",
    "loss = losses.MultipleNegativesRankingLoss(model)"
   ]
  },
  {
   "cell_type": "code",
   "execution_count": 17,
   "metadata": {},
   "outputs": [
    {
     "name": "stderr",
     "output_type": "stream",
     "text": [
      "2022-09-15 03:01:10.829492: I tensorflow/core/util/util.cc:169] oneDNN custom operations are on. You may see slightly different numerical results due to floating-point round-off errors from different computation orders. To turn them off, set the environment variable `TF_ENABLE_ONEDNN_OPTS=0`.\n"
     ]
    },
    {
     "data": {
      "application/vnd.jupyter.widget-view+json": {
       "model_id": "b51625d0aa9e4272bc89fddef9a0df16",
       "version_major": 2,
       "version_minor": 0
      },
      "text/plain": [
       "Epoch:   0%|          | 0/1 [00:00<?, ?it/s]"
      ]
     },
     "metadata": {},
     "output_type": "display_data"
    },
    {
     "data": {
      "application/vnd.jupyter.widget-view+json": {
       "model_id": "bb899afb5b6e456e8919cad7e10e7f2f",
       "version_major": 2,
       "version_minor": 0
      },
      "text/plain": [
       "Iteration:   0%|          | 0/71 [00:00<?, ?it/s]"
      ]
     },
     "metadata": {},
     "output_type": "display_data"
    }
   ],
   "source": [
    "epochs = 1\n",
    "warmup_steps = int(len(loader) * epochs * 0.1)\n",
    "\n",
    "model.fit(\n",
    "    train_objectives=[(loader, loss)],\n",
    "    epochs=epochs,\n",
    "    warmup_steps=warmup_steps,\n",
    "    output_path='./sbert_test_mnr2_Tier1',\n",
    "    show_progress_bar=True\n",
    ")  \n"
   ]
  },
  {
   "cell_type": "code",
   "execution_count": null,
   "metadata": {},
   "outputs": [],
   "source": []
  }
 ],
 "metadata": {
  "kernelspec": {
   "display_name": "Python 3.9.12 ('base')",
   "language": "python",
   "name": "python3"
  },
  "language_info": {
   "codemirror_mode": {
    "name": "ipython",
    "version": 3
   },
   "file_extension": ".py",
   "mimetype": "text/x-python",
   "name": "python",
   "nbconvert_exporter": "python",
   "pygments_lexer": "ipython3",
   "version": "3.10.4"
  },
  "orig_nbformat": 4,
  "vscode": {
   "interpreter": {
    "hash": "4f8fa3e926face00369008f823e0a800506eaa9d6c726ba0fbe6c8d0f6896eaa"
   }
  }
 },
 "nbformat": 4,
 "nbformat_minor": 2
}
